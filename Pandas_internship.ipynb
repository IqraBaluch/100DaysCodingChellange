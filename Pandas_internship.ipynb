{
 "cells": [
  {
   "cell_type": "code",
   "execution_count": 11,
   "metadata": {},
   "outputs": [],
   "source": [
    "import pandas as pd\n",
    "import matplotlib.pyplot as plt\n",
    "import pandas as pd\n"
   ]
  },
  {
   "cell_type": "code",
   "execution_count": 12,
   "metadata": {},
   "outputs": [
    {
     "name": "stdout",
     "output_type": "stream",
     "text": [
      "      RowNumber  CustomerId         Surname  CreditScore Geography  Gender  \\\n",
      "0             1    15634602        Hargrave          619    France  Female   \n",
      "1             2    15647311            Hill          608     Spain  Female   \n",
      "2             3    15619304            Onio          502    France  Female   \n",
      "3             4    15701354            Boni          699    France  Female   \n",
      "4             5    15737888        Mitchell          850     Spain  Female   \n",
      "5             6    15574012             Chu          645     Spain    Male   \n",
      "6             7    15592531        Bartlett          822    France    Male   \n",
      "7             8    15656148          Obinna          376   Germany  Female   \n",
      "8             9    15792365              He          501    France    Male   \n",
      "9            10    15592389              H?          684    France    Male   \n",
      "10           11    15767821          Bearce          528    France    Male   \n",
      "11           12    15737173         Andrews          497     Spain    Male   \n",
      "12           13    15632264             Kay          476    France  Female   \n",
      "13           14    15691483            Chin          549    France  Female   \n",
      "14           15    15600882           Scott          635     Spain  Female   \n",
      "15           16    15643966         Goforth          616   Germany    Male   \n",
      "16           17    15737452           Romeo          653   Germany    Male   \n",
      "17           18    15788218       Henderson          549     Spain  Female   \n",
      "18           19    15661507         Muldrow          587     Spain    Male   \n",
      "19           20    15568982             Hao          726    France  Female   \n",
      "20           21    15577657        McDonald          732    France    Male   \n",
      "21           22    15597945        Dellucci          636     Spain  Female   \n",
      "22           23    15699309       Gerasimov          510     Spain  Female   \n",
      "23           24    15725737          Mosman          669    France    Male   \n",
      "24           25    15625047             Yen          846    France  Female   \n",
      "25           26    15738191         Maclean          577    France    Male   \n",
      "26           27    15736816           Young          756   Germany    Male   \n",
      "27           28    15700772         Nebechi          571    France    Male   \n",
      "28           29    15728693      McWilliams          574   Germany  Female   \n",
      "29           30    15656300        Lucciano          411    France    Male   \n",
      "...         ...         ...             ...          ...       ...     ...   \n",
      "9970       9971    15587133        Thompson          518    France    Male   \n",
      "9971       9972    15721377            Chou          833    France  Female   \n",
      "9972       9973    15747927           Ch'in          758    France    Male   \n",
      "9973       9974    15806455          Miller          611    France    Male   \n",
      "9974       9975    15695474          Barker          583    France    Male   \n",
      "9975       9976    15666295           Smith          610   Germany    Male   \n",
      "9976       9977    15656062         Azikiwe          637    France  Female   \n",
      "9977       9978    15579969         Mancini          683    France  Female   \n",
      "9978       9979    15703563           P'eng          774    France    Male   \n",
      "9979       9980    15692664          Diribe          677    France  Female   \n",
      "9980       9981    15719276            T'ao          741     Spain    Male   \n",
      "9981       9982    15672754        Burbidge          498   Germany    Male   \n",
      "9982       9983    15768163         Griffin          655   Germany  Female   \n",
      "9983       9984    15656710           Cocci          613    France    Male   \n",
      "9984       9985    15696175  Echezonachukwu          602   Germany    Male   \n",
      "9985       9986    15586914          Nepean          659    France    Male   \n",
      "9986       9987    15581736        Bartlett          673   Germany    Male   \n",
      "9987       9988    15588839         Mancini          606     Spain    Male   \n",
      "9988       9989    15589329         Pirozzi          775    France    Male   \n",
      "9989       9990    15605622        McMillan          841     Spain    Male   \n",
      "9990       9991    15798964      Nkemakonam          714   Germany    Male   \n",
      "9991       9992    15769959     Ajuluchukwu          597    France  Female   \n",
      "9992       9993    15657105     Chukwualuka          726     Spain    Male   \n",
      "9993       9994    15569266          Rahman          644    France    Male   \n",
      "9994       9995    15719294            Wood          800    France  Female   \n",
      "9995       9996    15606229        Obijiaku          771    France    Male   \n",
      "9996       9997    15569892       Johnstone          516    France    Male   \n",
      "9997       9998    15584532             Liu          709    France  Female   \n",
      "9998       9999    15682355       Sabbatini          772   Germany    Male   \n",
      "9999      10000    15628319          Walker          792    France  Female   \n",
      "\n",
      "      Age  Tenure    Balance  NumOfProducts  HasCrCard  IsActiveMember  \\\n",
      "0      42       2       0.00              1          1               1   \n",
      "1      41       1   83807.86              1          0               1   \n",
      "2      42       8  159660.80              3          1               0   \n",
      "3      39       1       0.00              2          0               0   \n",
      "4      43       2  125510.82              1          1               1   \n",
      "5      44       8  113755.78              2          1               0   \n",
      "6      50       7       0.00              2          1               1   \n",
      "7      29       4  115046.74              4          1               0   \n",
      "8      44       4  142051.07              2          0               1   \n",
      "9      27       2  134603.88              1          1               1   \n",
      "10     31       6  102016.72              2          0               0   \n",
      "11     24       3       0.00              2          1               0   \n",
      "12     34      10       0.00              2          1               0   \n",
      "13     25       5       0.00              2          0               0   \n",
      "14     35       7       0.00              2          1               1   \n",
      "15     45       3  143129.41              2          0               1   \n",
      "16     58       1  132602.88              1          1               0   \n",
      "17     24       9       0.00              2          1               1   \n",
      "18     45       6       0.00              1          0               0   \n",
      "19     24       6       0.00              2          1               1   \n",
      "20     41       8       0.00              2          1               1   \n",
      "21     32       8       0.00              2          1               0   \n",
      "22     38       4       0.00              1          1               0   \n",
      "23     46       3       0.00              2          0               1   \n",
      "24     38       5       0.00              1          1               1   \n",
      "25     25       3       0.00              2          0               1   \n",
      "26     36       2  136815.64              1          1               1   \n",
      "27     44       9       0.00              2          0               0   \n",
      "28     43       3  141349.43              1          1               1   \n",
      "29     29       0   59697.17              2          1               1   \n",
      "...   ...     ...        ...            ...        ...             ...   \n",
      "9970   42       7  151027.05              2          1               0   \n",
      "9971   34       3  144751.81              1          0               0   \n",
      "9972   26       4  155739.76              1          1               0   \n",
      "9973   27       7       0.00              2          1               1   \n",
      "9974   33       7  122531.86              1          1               0   \n",
      "9975   50       1  113957.01              2          1               0   \n",
      "9976   33       7  103377.81              1          1               0   \n",
      "9977   32       9       0.00              2          1               1   \n",
      "9978   40       9   93017.47              2          1               0   \n",
      "9979   58       1   90022.85              1          0               1   \n",
      "9980   35       6   74371.49              1          0               0   \n",
      "9981   42       3  152039.70              1          1               1   \n",
      "9982   46       7  137145.12              1          1               0   \n",
      "9983   40       4       0.00              1          0               0   \n",
      "9984   35       7   90602.42              2          1               1   \n",
      "9985   36       6  123841.49              2          1               0   \n",
      "9986   47       1  183579.54              2          0               1   \n",
      "9987   30       8  180307.73              2          1               1   \n",
      "9988   30       4       0.00              2          1               0   \n",
      "9989   28       4       0.00              2          1               1   \n",
      "9990   33       3   35016.60              1          1               0   \n",
      "9991   53       4   88381.21              1          1               0   \n",
      "9992   36       2       0.00              1          1               0   \n",
      "9993   28       7  155060.41              1          1               0   \n",
      "9994   29       2       0.00              2          0               0   \n",
      "9995   39       5       0.00              2          1               0   \n",
      "9996   35      10   57369.61              1          1               1   \n",
      "9997   36       7       0.00              1          0               1   \n",
      "9998   42       3   75075.31              2          1               0   \n",
      "9999   28       4  130142.79              1          1               0   \n",
      "\n",
      "      EstimatedSalary  Exited  \n",
      "0           101348.88       1  \n",
      "1           112542.58       0  \n",
      "2           113931.57       1  \n",
      "3            93826.63       0  \n",
      "4            79084.10       0  \n",
      "5           149756.71       1  \n",
      "6            10062.80       0  \n",
      "7           119346.88       1  \n",
      "8            74940.50       0  \n",
      "9            71725.73       0  \n",
      "10           80181.12       0  \n",
      "11           76390.01       0  \n",
      "12           26260.98       0  \n",
      "13          190857.79       0  \n",
      "14           65951.65       0  \n",
      "15           64327.26       0  \n",
      "16            5097.67       1  \n",
      "17           14406.41       0  \n",
      "18          158684.81       0  \n",
      "19           54724.03       0  \n",
      "20          170886.17       0  \n",
      "21          138555.46       0  \n",
      "22          118913.53       1  \n",
      "23            8487.75       0  \n",
      "24          187616.16       0  \n",
      "25          124508.29       0  \n",
      "26          170041.95       0  \n",
      "27           38433.35       0  \n",
      "28          100187.43       0  \n",
      "29           53483.21       0  \n",
      "...               ...     ...  \n",
      "9970        119377.36       0  \n",
      "9971        166472.81       0  \n",
      "9972        171552.02       0  \n",
      "9973        157474.10       0  \n",
      "9974         13549.24       0  \n",
      "9975        196526.55       1  \n",
      "9976         84419.78       0  \n",
      "9977         24991.92       0  \n",
      "9978        191608.97       0  \n",
      "9979          2988.28       0  \n",
      "9980         99595.67       0  \n",
      "9981         53445.17       1  \n",
      "9982        115146.40       1  \n",
      "9983        151325.24       0  \n",
      "9984         51695.41       0  \n",
      "9985         96833.00       0  \n",
      "9986         34047.54       0  \n",
      "9987          1914.41       0  \n",
      "9988         49337.84       0  \n",
      "9989        179436.60       0  \n",
      "9990         53667.08       0  \n",
      "9991         69384.71       1  \n",
      "9992        195192.40       0  \n",
      "9993         29179.52       0  \n",
      "9994        167773.55       0  \n",
      "9995         96270.64       0  \n",
      "9996        101699.77       0  \n",
      "9997         42085.58       1  \n",
      "9998         92888.52       1  \n",
      "9999         38190.78       0  \n",
      "\n",
      "[10000 rows x 14 columns]\n"
     ]
    }
   ],
   "source": [
    "t = pd.read_csv('Desktop/churn.csv')\n",
    "print(t)"
   ]
  },
  {
   "cell_type": "code",
   "execution_count": 13,
   "metadata": {
    "scrolled": true
   },
   "outputs": [
    {
     "name": "stdout",
     "output_type": "stream",
     "text": [
      "   RowNumber  CustomerId   Surname  CreditScore Geography  Gender  Age  \\\n",
      "0          1    15634602  Hargrave          619    France  Female   42   \n",
      "1          2    15647311      Hill          608     Spain  Female   41   \n",
      "2          3    15619304      Onio          502    France  Female   42   \n",
      "3          4    15701354      Boni          699    France  Female   39   \n",
      "4          5    15737888  Mitchell          850     Spain  Female   43   \n",
      "\n",
      "   Tenure    Balance  NumOfProducts  HasCrCard  IsActiveMember  \\\n",
      "0       2       0.00              1          1               1   \n",
      "1       1   83807.86              1          0               1   \n",
      "2       8  159660.80              3          1               0   \n",
      "3       1       0.00              2          0               0   \n",
      "4       2  125510.82              1          1               1   \n",
      "\n",
      "   EstimatedSalary  Exited  \n",
      "0        101348.88       1  \n",
      "1        112542.58       0  \n",
      "2        113931.57       1  \n",
      "3         93826.63       0  \n",
      "4         79084.10       0  \n"
     ]
    }
   ],
   "source": [
    "print(t.head())"
   ]
  },
  {
   "cell_type": "code",
   "execution_count": 14,
   "metadata": {},
   "outputs": [
    {
     "name": "stdout",
     "output_type": "stream",
     "text": [
      "             Surname\n",
      "0           Hargrave\n",
      "1               Hill\n",
      "2               Onio\n",
      "3               Boni\n",
      "4           Mitchell\n",
      "5                Chu\n",
      "6           Bartlett\n",
      "7             Obinna\n",
      "8                 He\n",
      "9                 H?\n",
      "10            Bearce\n",
      "11           Andrews\n",
      "12               Kay\n",
      "13              Chin\n",
      "14             Scott\n",
      "15           Goforth\n",
      "16             Romeo\n",
      "17         Henderson\n",
      "18           Muldrow\n",
      "19               Hao\n",
      "20          McDonald\n",
      "21          Dellucci\n",
      "22         Gerasimov\n",
      "23            Mosman\n",
      "24               Yen\n",
      "25           Maclean\n",
      "26             Young\n",
      "27           Nebechi\n",
      "28        McWilliams\n",
      "29          Lucciano\n",
      "...              ...\n",
      "9970        Thompson\n",
      "9971            Chou\n",
      "9972           Ch'in\n",
      "9973          Miller\n",
      "9974          Barker\n",
      "9975           Smith\n",
      "9976         Azikiwe\n",
      "9977         Mancini\n",
      "9978           P'eng\n",
      "9979          Diribe\n",
      "9980            T'ao\n",
      "9981        Burbidge\n",
      "9982         Griffin\n",
      "9983           Cocci\n",
      "9984  Echezonachukwu\n",
      "9985          Nepean\n",
      "9986        Bartlett\n",
      "9987         Mancini\n",
      "9988         Pirozzi\n",
      "9989        McMillan\n",
      "9990      Nkemakonam\n",
      "9991     Ajuluchukwu\n",
      "9992     Chukwualuka\n",
      "9993          Rahman\n",
      "9994            Wood\n",
      "9995        Obijiaku\n",
      "9996       Johnstone\n",
      "9997             Liu\n",
      "9998       Sabbatini\n",
      "9999          Walker\n",
      "\n",
      "[10000 rows x 1 columns]\n"
     ]
    }
   ],
   "source": [
    "print(t[['Surname']])"
   ]
  },
  {
   "cell_type": "code",
   "execution_count": 15,
   "metadata": {},
   "outputs": [
    {
     "name": "stdout",
     "output_type": "stream",
     "text": [
      "             Surname  NumOfProducts\n",
      "0           Hargrave              1\n",
      "1               Hill              1\n",
      "2               Onio              3\n",
      "3               Boni              2\n",
      "4           Mitchell              1\n",
      "5                Chu              2\n",
      "6           Bartlett              2\n",
      "7             Obinna              4\n",
      "8                 He              2\n",
      "9                 H?              1\n",
      "10            Bearce              2\n",
      "11           Andrews              2\n",
      "12               Kay              2\n",
      "13              Chin              2\n",
      "14             Scott              2\n",
      "15           Goforth              2\n",
      "16             Romeo              1\n",
      "17         Henderson              2\n",
      "18           Muldrow              1\n",
      "19               Hao              2\n",
      "20          McDonald              2\n",
      "21          Dellucci              2\n",
      "22         Gerasimov              1\n",
      "23            Mosman              2\n",
      "24               Yen              1\n",
      "25           Maclean              2\n",
      "26             Young              1\n",
      "27           Nebechi              2\n",
      "28        McWilliams              1\n",
      "29          Lucciano              2\n",
      "...              ...            ...\n",
      "9970        Thompson              2\n",
      "9971            Chou              1\n",
      "9972           Ch'in              1\n",
      "9973          Miller              2\n",
      "9974          Barker              1\n",
      "9975           Smith              2\n",
      "9976         Azikiwe              1\n",
      "9977         Mancini              2\n",
      "9978           P'eng              2\n",
      "9979          Diribe              1\n",
      "9980            T'ao              1\n",
      "9981        Burbidge              1\n",
      "9982         Griffin              1\n",
      "9983           Cocci              1\n",
      "9984  Echezonachukwu              2\n",
      "9985          Nepean              2\n",
      "9986        Bartlett              2\n",
      "9987         Mancini              2\n",
      "9988         Pirozzi              2\n",
      "9989        McMillan              2\n",
      "9990      Nkemakonam              1\n",
      "9991     Ajuluchukwu              1\n",
      "9992     Chukwualuka              1\n",
      "9993          Rahman              1\n",
      "9994            Wood              2\n",
      "9995        Obijiaku              2\n",
      "9996       Johnstone              1\n",
      "9997             Liu              1\n",
      "9998       Sabbatini              2\n",
      "9999          Walker              1\n",
      "\n",
      "[10000 rows x 2 columns]\n"
     ]
    }
   ],
   "source": [
    "print(t[['Surname', 'NumOfProducts']])"
   ]
  },
  {
   "cell_type": "code",
   "execution_count": 16,
   "metadata": {},
   "outputs": [
    {
     "data": {
      "image/png": "[encoded data removed]",
      "text/plain": [
       "<Figure size 432x288 with 1 Axes>"
      ]
     },
     "metadata": {
      "needs_background": "light"
     },
     "output_type": "display_data"
    }
   ],
   "source": [
    "plt.scatter(t.Geography, t.NumOfProducts, marker = 's', alpha = 0.6)\n",
    "plt.show()"
   ]
  },
  {
   "cell_type": "code",
   "execution_count": 17,
   "metadata": {},
   "outputs": [
    {
     "data": {
      "image/png": "[encoded data removed]",
      "text/plain": [
       "<Figure size 432x288 with 1 Axes>"
      ]
     },
     "metadata": {
      "needs_background": "light"
     },
     "output_type": "display_data"
    }
   ],
   "source": [
    "plt.plot(t.Balance, t.NumOfProducts, marker = 's', alpha = 0.6)\n",
    "plt.show()"
   ]
  },
  {
   "cell_type": "markdown",
   "metadata": {},
   "source": [
    "# loc and iloc (1)\n",
    "With loc and iloc you can do practically any data selection operation on DataFrames you can think of. loc is label-based, which means that you have to specify rows and columns based on their row and column labels. iloc is integer index based, so you have to specify rows and columns by their integer index like you did in the previous exercise."
   ]
  },
  {
   "cell_type": "code",
   "execution_count": 18,
   "metadata": {},
   "outputs": [
    {
     "name": "stdout",
     "output_type": "stream",
     "text": [
      "   Age\n",
      "2   42\n",
      "3   39\n",
      "4   43\n",
      "5   44\n",
      "6   50\n"
     ]
    }
   ],
   "source": [
    "print(t.loc[2:6,['Age']])"
   ]
  },
  {
   "cell_type": "code",
   "execution_count": 19,
   "metadata": {},
   "outputs": [
    {
     "name": "stdout",
     "output_type": "stream",
     "text": [
      "2    42\n",
      "3    39\n",
      "4    43\n",
      "5    44\n",
      "6    50\n",
      "Name: Age, dtype: int64\n"
     ]
    }
   ],
   "source": [
    "print(t.loc[2:6,'Age'])"
   ]
  },
  {
   "cell_type": "markdown",
   "metadata": {},
   "source": [
    "# Compairison Operators\n",
    "## Numpy"
   ]
  },
  {
   "cell_type": "code",
   "execution_count": 20,
   "metadata": {},
   "outputs": [
    {
     "data": {
      "text/plain": [
       "True"
      ]
     },
     "execution_count": 20,
     "metadata": {},
     "output_type": "execute_result"
    }
   ],
   "source": [
    "# Comparison of booleans\n",
    "True != False\n",
    "\n"
   ]
  },
  {
   "cell_type": "code",
   "execution_count": 21,
   "metadata": {},
   "outputs": [
    {
     "data": {
      "text/plain": [
       "True"
      ]
     },
     "execution_count": 21,
     "metadata": {},
     "output_type": "execute_result"
    }
   ],
   "source": [
    "# Comparison of integers\n",
    "-5 * 15 != 75\n",
    "\n"
   ]
  },
  {
   "cell_type": "code",
   "execution_count": 22,
   "metadata": {},
   "outputs": [
    {
     "data": {
      "text/plain": [
       "False"
      ]
     },
     "execution_count": 22,
     "metadata": {},
     "output_type": "execute_result"
    }
   ],
   "source": [
    "# Comparison of strings\n",
    "\"pyscript\" == \"PyScript\"\n",
    "\n"
   ]
  },
  {
   "cell_type": "code",
   "execution_count": 23,
   "metadata": {},
   "outputs": [
    {
     "data": {
      "text/plain": [
       "True"
      ]
     },
     "execution_count": 23,
     "metadata": {},
     "output_type": "execute_result"
    }
   ],
   "source": [
    "\n",
    "# Compare a boolean with an integer\n",
    "True == 1"
   ]
  },
  {
   "cell_type": "code",
   "execution_count": 24,
   "metadata": {},
   "outputs": [
    {
     "name": "stdout",
     "output_type": "stream",
     "text": [
      "False\n"
     ]
    }
   ],
   "source": [
    "# Comparison of integers\n",
    "x = -3 * 6\n",
    "print(x >= -10)\n",
    "\n"
   ]
  },
  {
   "cell_type": "code",
   "execution_count": 25,
   "metadata": {},
   "outputs": [
    {
     "name": "stdout",
     "output_type": "stream",
     "text": [
      "True\n"
     ]
    }
   ],
   "source": [
    "# Comparison of strings\n",
    "y = \"test\"\n",
    "print(\"test\" <= y)\n",
    "\n"
   ]
  },
  {
   "cell_type": "code",
   "execution_count": 26,
   "metadata": {},
   "outputs": [
    {
     "name": "stdout",
     "output_type": "stream",
     "text": [
      "True\n"
     ]
    }
   ],
   "source": [
    "# Comparison of booleans\n",
    "print(True > False)"
   ]
  },
  {
   "cell_type": "code",
   "execution_count": 27,
   "metadata": {},
   "outputs": [
    {
     "name": "stdout",
     "output_type": "stream",
     "text": [
      "[ True  True False False]\n",
      "[False  True  True False]\n"
     ]
    }
   ],
   "source": [
    "# Create arrays\n",
    "import numpy as np\n",
    "my_house = np.array([18.0, 20.0, 10.75, 9.50])\n",
    "your_house = np.array([14.0, 24.0, 14.25, 9.0])\n",
    "\n",
    "# my_house greater than or equal to 18\n",
    "print(my_house >= 18)\n",
    "\n",
    "# my_house less than your_house\n",
    "print(my_house < your_house)"
   ]
  },
  {
   "cell_type": "markdown",
   "metadata": {},
   "source": []
  },
  {
   "cell_type": "code",
   "execution_count": null,
   "metadata": {},
   "outputs": [],
   "source": []
  },
  {
   "cell_type": "code",
   "execution_count": null,
   "metadata": {},
   "outputs": [],
   "source": []
  }
 ],
 "metadata": {
  "kernelspec": {
   "display_name": "Python 3",
   "language": "python",
   "name": "python3"
  },
  "language_info": {
   "codemirror_mode": {
    "name": "ipython",
    "version": 3
   },
   "file_extension": ".py",
   "mimetype": "text/x-python",
   "name": "python",
   "nbconvert_exporter": "python",
   "pygments_lexer": "ipython3",
   "version": "3.7.0"
  }
 },
 "nbformat": 4,
 "nbformat_minor": 2
}
