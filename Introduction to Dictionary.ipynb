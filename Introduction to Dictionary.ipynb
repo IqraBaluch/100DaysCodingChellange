{
 "cells": [
  {
   "cell_type": "markdown",
   "metadata": {},
   "source": [
    "#  DICTIONARIES\n",
    "### Introduction to Dictionary\n",
    "A dictionary is an unordered set of key: value pairs.\n",
    "<br>\n",
    "It provides us with a way to map pieces of data to each other so that we can quickly find values that are associated with one another.\n",
    "### Notice that:\n",
    "\n",
    "1. A dictionary begins and ends with curly braces { and }.\n",
    "2. Each item consists of a key  and a value.\n",
    "3. Each key: value pair is separated by a comma.\n",
    "# Ex!\n",
    "Suppose we have a dictionary of temperature sensors in the house and what temperatures they read."
   ]
  },
  {
   "cell_type": "code",
   "execution_count": 4,
   "metadata": {},
   "outputs": [],
   "source": [
    "# Dictionary of temprature sesnsors\n",
    "sensors =  {\"living room\": 21, \"kitchen\": 23, \"bedroom\": 20}"
   ]
  },
  {
   "cell_type": "markdown",
   "metadata": {},
   "source": [
    "adde a sensor to the \"pantry\", and it reads 22 degrees."
   ]
  },
  {
   "cell_type": "code",
   "execution_count": 7,
   "metadata": {},
   "outputs": [],
   "source": [
    "sensors = {\"living room\": 21, \"kitchen\": 23, \"bedroom\": 20, 'pantry':22}"
   ]
  },
  {
   "cell_type": "code",
   "execution_count": 8,
   "metadata": {},
   "outputs": [
    {
     "data": {
      "text/plain": [
       "{'living room': 21, 'kitchen': 23, 'bedroom': 20, 'pantry': 22}"
      ]
     },
     "execution_count": 8,
     "metadata": {},
     "output_type": "execute_result"
    }
   ],
   "source": [
    "sensors"
   ]
  },
  {
   "attachments": {
    "image.png": {
     "image/png": "[encoded data removed]"
    }
   },
   "cell_type": "markdown",
   "metadata": {},
   "source": [
    "# Make a Dictionary\n",
    "Create a dictionary called translations that maps the following words in English to their definitions in Sindarin (the language of the elves):\n",
    "![image.png](attachment:image.png)"
   ]
  },
  {
   "cell_type": "code",
   "execution_count": 11,
   "metadata": {},
   "outputs": [],
   "source": [
    "translations = {'mountain':'orod', 'bread':'bass', 'friend':'mellon', 'horse':'roch'}"
   ]
  },
  {
   "cell_type": "code",
   "execution_count": 12,
   "metadata": {},
   "outputs": [
    {
     "data": {
      "text/plain": [
       "{'mountain': 'orod', 'bread': 'bass', 'friend': 'mellon', 'horse': 'roch'}"
      ]
     },
     "execution_count": 12,
     "metadata": {},
     "output_type": "execute_result"
    }
   ],
   "source": [
    "translations"
   ]
  },
  {
   "cell_type": "markdown",
   "metadata": {},
   "source": [
    "# Invalid Keys\n",
    "We can have a list or a dictionary as a value of an item in a dictionary, but we cannot use these data types as keys of the dictionary. If we try to, we will get a TypeError.\n",
    "<br>\n",
    "For example:\n",
    "<br>\n",
    "powers = {[1, 2, 4, 8, 16]: 2, [1, 3, 9, 27, 81]: 3}<br>\n",
    "This code will yield:\n",
    "<br>\n",
    "TypeError: unhashable type: 'list\n",
    "<br>\n",
    "#  Task\n",
    "Run the code inside script.py. You should get an error:\n",
    "<br>\n",
    "TypeError: unhashable type<br>\n",
    "Make the code run without errors by flipping the items in the dictionary so that the strings are the keys and the lists are the values"
   ]
  },
  {
   "cell_type": "code",
   "execution_count": 1,
   "metadata": {},
   "outputs": [
    {
     "ename": "SyntaxError",
     "evalue": "invalid syntax (<ipython-input-1-d42348eb9657>, line 1)",
     "output_type": "error",
     "traceback": [
      "\u001b[1;36m  File \u001b[1;32m\"<ipython-input-1-d42348eb9657>\"\u001b[1;36m, line \u001b[1;32m1\u001b[0m\n\u001b[1;33m    children = {[\"Johannes\", \"Rosmarie\", \"Eleonore\"]: , [\"Sonny\", \"Fredo\", \"Michael\"]: \"Corleone\"}\u001b[0m\n\u001b[1;37m                                                      ^\u001b[0m\n\u001b[1;31mSyntaxError\u001b[0m\u001b[1;31m:\u001b[0m invalid syntax\n"
     ]
    }
   ],
   "source": [
    "children = {[\"Johannes\", \"Rosmarie\", \"Eleonore\"]: , [\"Sonny\", \"Fredo\", \"Michael\"]: \"Corleone\"}"
   ]
  },
  {
   "cell_type": "code",
   "execution_count": 3,
   "metadata": {},
   "outputs": [
    {
     "data": {
      "text/plain": [
       "{'von Trapp': ['Johannes', 'Rosmarie', 'Eleonore'],\n",
       " 'Corleone': ['Sonny', 'Fredo', 'Michael']}"
      ]
     },
     "execution_count": 3,
     "metadata": {},
     "output_type": "execute_result"
    }
   ],
   "source": [
    "children = {\"von Trapp\":[\"Johannes\", \"Rosmarie\", \"Eleonore\"], \"Corleone\": [\"Sonny\", \"Fredo\", \"Michael\"]}\n",
    "children"
   ]
  },
  {
   "cell_type": "markdown",
   "metadata": {},
   "source": [
    "# Empty Dictionary\n",
    "A dictionary doesn’t have to contain anything. Sometimes we need to create an empty dictionary when we plan to fill it later based on some other input.\n",
    "<br>\n",
    "We can create an empty dictionary like this:\n",
    "<br>\n",
    "empty_dict = {}\n",
    "# Task\n",
    "Create an empty dictionary called my_empty_dictionary"
   ]
  },
  {
   "cell_type": "code",
   "execution_count": 5,
   "metadata": {},
   "outputs": [
    {
     "data": {
      "text/plain": [
       "{}"
      ]
     },
     "execution_count": 5,
     "metadata": {},
     "output_type": "execute_result"
    }
   ],
   "source": [
    "my_empty_dictionary = {}\n",
    "my_empty_dictionary"
   ]
  },
  {
   "cell_type": "markdown",
   "metadata": {},
   "source": [
    "# Add A Key\n",
    "To add a single key: value pair to a dictionary, we can use the syntax:\n",
    "<br>\n",
    "dictionary[key] = value<br>\n",
    "For example, if we had our menu dictionary from the first exercise:\n",
    "<br>\n",
    "menu = {\"oatmeal\": 3, \"avocado toast\": 6, \"carrot juice\": 5, \"blueberry muffin\": 2}<br>\n",
    "And we wanted to add a new item, \"cheesecake\" for 8 dollars, we could use:<br>\n",
    "\n",
    "menu[\"cheesecake\"] = 8<br>\n",
    "Now, menu looks like:<br>\n",
    "<br>\n",
    "{\"oatmeal\": 3, \"avocado toast\": 6, \"carrot juice\": 5, \"blueberry muffin\": 2, \"cheesecake\": 8}"
   ]
  },
  {
   "cell_type": "code",
   "execution_count": 1,
   "metadata": {},
   "outputs": [
    {
     "name": "stdout",
     "output_type": "stream",
     "text": [
      "{'zebras': 8, 'monkeys': 12, 'dinosaurs': 0}\n"
     ]
    }
   ],
   "source": [
    "animals_in_zoo = {}\n",
    "animals_in_zoo['zebras'] = 8\n",
    "animals_in_zoo['monkeys'] = 12\n",
    "animals_in_zoo['dinosaurs'] = 0\n",
    "print(animals_in_zoo)"
   ]
  },
  {
   "cell_type": "code",
   "execution_count": null,
   "metadata": {},
   "outputs": [],
   "source": []
  }
 ],
 "metadata": {
  "kernelspec": {
   "display_name": "Python 3",
   "language": "python",
   "name": "python3"
  },
  "language_info": {
   "codemirror_mode": {
    "name": "ipython",
    "version": 3
   },
   "file_extension": ".py",
   "mimetype": "text/x-python",
   "name": "python",
   "nbconvert_exporter": "python",
   "pygments_lexer": "ipython3",
   "version": "3.7.0"
  }
 },
 "nbformat": 4,
 "nbformat_minor": 2
}
