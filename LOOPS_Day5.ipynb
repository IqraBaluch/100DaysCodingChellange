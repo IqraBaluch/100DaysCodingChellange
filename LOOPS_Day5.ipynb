{
 "cells": [
  {
   "cell_type": "markdown",
   "metadata": {},
   "source": [
    "# LOOPS \n",
    "\n",
    "###### The process of using an initialization, repetitions, and an ending condition is called a loop. In a loop, we perform a process of iteration (repeating tasks)."
   ]
  },
  {
   "cell_type": "code",
   "execution_count": 1,
   "metadata": {},
   "outputs": [
    {
     "name": "stdout",
     "output_type": "stream",
     "text": [
      "This can be so much easier with loops!\n",
      "This can be so much easier with loops!\n",
      "This can be so much easier with loops!\n",
      "This can be so much easier with loops!\n",
      "This can be so much easier with loops!\n",
      "This can be so much easier with loops!\n",
      "This can be so much easier with loops!\n",
      "This can be so much easier with loops!\n",
      "This can be so much easier with loops!\n",
      "This can be so much easier with loops!\n"
     ]
    }
   ],
   "source": [
    "#Using 10 print() statements, print out: \"This can be so much easier with loops!\"\n",
    "print(\"This can be so much easier with loops!\")\n",
    "print(\"This can be so much easier with loops!\")\n",
    "print(\"This can be so much easier with loops!\")\n",
    "print(\"This can be so much easier with loops!\")\n",
    "print(\"This can be so much easier with loops!\")\n",
    "print(\"This can be so much easier with loops!\")\n",
    "print(\"This can be so much easier with loops!\")\n",
    "print(\"This can be so much easier with loops!\")\n",
    "print(\"This can be so much easier with loops!\")\n",
    "print(\"This can be so much easier with loops!\")"
   ]
  },
  {
   "cell_type": "markdown",
   "metadata": {},
   "source": [
    "## For Loop"
   ]
  },
  {
   "cell_type": "code",
   "execution_count": null,
   "metadata": {},
   "outputs": [],
   "source": []
  }
 ],
 "metadata": {
  "kernelspec": {
   "display_name": "Python 3",
   "language": "python",
   "name": "python3"
  },
  "language_info": {
   "codemirror_mode": {
    "name": "ipython",
    "version": 3
   },
   "file_extension": ".py",
   "mimetype": "text/x-python",
   "name": "python",
   "nbconvert_exporter": "python",
   "pygments_lexer": "ipython3",
   "version": "3.7.0"
  }
 },
 "nbformat": 4,
 "nbformat_minor": 2
}
