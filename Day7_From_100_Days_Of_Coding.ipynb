{
 "cells": [
  {
   "cell_type": "markdown",
   "metadata": {},
   "source": [
    "# Python Loops: Medical Insurance Project"
   ]
  },
  {
   "cell_type": "markdown",
   "metadata": {},
   "source": [
    "***"
   ]
  },
  {
   "cell_type": "code",
   "execution_count": 10,
   "metadata": {},
   "outputs": [
    {
     "name": "stdout",
     "output_type": "stream",
     "text": [
      "157.14285714285714\n",
      "471.42857142857144\n",
      "942.8571428571429\n",
      "1571.4285714285713\n",
      "2357.1428571428573\n",
      "3300.0\n",
      "4400.0\n"
     ]
    }
   ],
   "source": [
    "#create a list of names\n",
    "names = [\"Judith\", \"Abel\", \"Tyson\", \"Martha\", \"Beverley\", \"David\", \"Anabel\"]\n",
    "\n",
    "#create estimated insurance cost for every name\n",
    "estimated_insurance_costs = [1000.0, 2000.0, 3000.0, 4000.0, 5000.0, 6000.0, 7000.0]\n",
    "\n",
    "#actual insurance cost list\n",
    "actual_insurance_costs = [1100.0, 2200.0, 3300.0, 4400.0, 5500.0, 6600.0, 7700.0]\n",
    "\n",
    "#Create a variable total_cost and initialize it to 0.\n",
    "total_cost = 0\n",
    "\n",
    "#Use a for loop to iterate through actual_insurance_costs and add each insurance cost to the variable total_cost.\n",
    "for actual_cost in actual_insurance_costs:\n",
    "    total_cost += actual_cost\n",
    "    #After the for loop, create a variable called average_cost\n",
    "    #that stores the total_cost divided by the length of the actual_insurance_costs list.\n",
    "    average_cost = total_cost / len(actual_insurance_costs)\n",
    "    #print it\n",
    "    print(average_cost)\n",
    "    \n",
    "\n"
   ]
  },
  {
   "cell_type": "markdown",
   "metadata": {},
   "source": [
    "\n",
    "For each individual in names, we want to determine whether their insurance cost is above or below average."
   ]
  },
  {
   "cell_type": "code",
   "execution_count": 18,
   "metadata": {},
   "outputs": [
    {
     "name": "stdout",
     "output_type": "stream",
     "text": [
      "The insurance cost for Judith is 1100.0 dollars.\n",
      "The insurance cost for Judith is below average\n",
      "The insurance cost for Abel is 2200.0 dollars.\n",
      "The insurance cost for Abel is below average\n",
      "The insurance cost for Tyson is 3300.0 dollars.\n",
      "The insurance cost for Tyson is below average\n",
      "The insurance cost for Martha is 4400.0 dollars.\n",
      "The insurance cost for Martha is equal to average\n",
      "The insurance cost for Beverley is 5500.0 dollars.\n",
      "The insurance cost for Beverley is above average\n",
      "The insurance cost for David is 6600.0 dollars.\n",
      "The insurance cost for David is above average\n",
      "The insurance cost for Anabel is 7700.0 dollars.\n",
      "The insurance cost for Anabel is above average\n",
      "[1100.0, 2200.0, 3300.0, 4400.0, 5500.0, 6600.0, 7700.0]\n"
     ]
    }
   ],
   "source": [
    "#Write a for loop with variable i that goes from 0 to len(names).\n",
    "for i in range(len(names)):\n",
    "    #Inside of the for loop, do the following:\n",
    "    #Create a variable (name), which (stores names[i]).\n",
    "    #Create a variable (insurance_cost), which stores (actual_insurance_costs[i]).\n",
    "    name = names[i]\n",
    "    insurance_cost = actual_insurance_costs[i]\n",
    "    print(\"The insurance cost for \" +str(name) + \" is \" + str(insurance_cost) + \" dollars.\")\n",
    "    \n",
    "    \n",
    "    \n",
    "    # Conditions inside a Loop\n",
    "    if insurance_cost > average_cost:\n",
    "        print(\"The insurance cost for \"+ str(name)+ \" is above average\")\n",
    "    elif insurance_cost < average_cost:\n",
    "        print(\"The insurance cost for \"+str(name)+ \" is below average\")\n",
    "    else:\n",
    "        print(\"The insurance cost for \"+str(name)+ \" is equal to average\")\n",
    "        \n",
    "        \n",
    "        \n",
    "        \n",
    "        #Creating a List Comprehension\n",
    "        #Using a list comprehension, create a new list called( updated_estimated_costs),\n",
    "        #which has each element in estimated_insurance_costs multiplied by 11/10.\n",
    "updated_estimated_costs = [costs* 11/10 for costs in estimated_insurance_costs]\n",
    "print(updated_estimated_costs)"
   ]
  },
  {
   "cell_type": "markdown",
   "metadata": {},
   "source": []
  },
  {
   "cell_type": "code",
   "execution_count": null,
   "metadata": {},
   "outputs": [],
   "source": []
  }
 ],
 "metadata": {
  "kernelspec": {
   "display_name": "Python 3",
   "language": "python",
   "name": "python3"
  },
  "language_info": {
   "codemirror_mode": {
    "name": "ipython",
    "version": 3
   },
   "file_extension": ".py",
   "mimetype": "text/x-python",
   "name": "python",
   "nbconvert_exporter": "python",
   "pygments_lexer": "ipython3",
   "version": "3.7.0"
  }
 },
 "nbformat": 4,
 "nbformat_minor": 2
}
