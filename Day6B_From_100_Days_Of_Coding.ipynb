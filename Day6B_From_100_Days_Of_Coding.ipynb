{
 "cells": [
  {
   "cell_type": "markdown",
   "metadata": {},
   "source": [
    "# LIST COMPREHENSION - CODE CHALLENGE"
   ]
  },
  {
   "cell_type": "markdown",
   "metadata": {},
   "source": [
    "***"
   ]
  },
  {
   "cell_type": "markdown",
   "metadata": {},
   "source": [
    "### Double\n"
   ]
  },
  {
   "cell_type": "code",
   "execution_count": 4,
   "metadata": {},
   "outputs": [
    {
     "data": {
      "text/plain": [
       "[4, 10, 6, 12, 14, 178, 68, 112]"
      ]
     },
     "execution_count": 4,
     "metadata": {},
     "output_type": "execute_result"
    }
   ],
   "source": [
    "# Create a new list named double_nums by multiplying each number in nums by two.\n",
    "nums =[2,5,3,6,7,89,34,56]\n",
    "double_nums = [num*2 for num in nums]\n",
    "double_nums"
   ]
  },
  {
   "cell_type": "code",
   "execution_count": 5,
   "metadata": {},
   "outputs": [
    {
     "data": {
      "text/plain": [
       "[44, 68, 24, 112]"
      ]
     },
     "execution_count": 5,
     "metadata": {},
     "output_type": "execute_result"
    }
   ],
   "source": [
    "marks = [22,34,12,56]\n",
    "extra_marks = [mark*2 for mark in marks]\n",
    "extra_marks"
   ]
  },
  {
   "cell_type": "markdown",
   "metadata": {},
   "source": [
    "### Squares\n",
    "For this list comprehension, you will need to make use of range and number squaring."
   ]
  },
  {
   "cell_type": "code",
   "execution_count": 6,
   "metadata": {},
   "outputs": [
    {
     "name": "stdout",
     "output_type": "stream",
     "text": [
      "[0, 1, 4, 9, 16, 25, 36, 49, 64, 81, 100]\n"
     ]
    }
   ],
   "source": [
    "nums = range(11)\n",
    "squares = [square*square for square in nums ]\n",
    "print(squares)"
   ]
  },
  {
   "cell_type": "markdown",
   "metadata": {},
   "source": [
    "### Add Ten\n"
   ]
  },
  {
   "cell_type": "code",
   "execution_count": 7,
   "metadata": {},
   "outputs": [
    {
     "name": "stdout",
     "output_type": "stream",
     "text": [
      "[14, 18, 25, 26, 33, 52]\n"
     ]
    }
   ],
   "source": [
    "nums = [4, 8, 15, 16, 23, 42]\n",
    "add_ten = [num+10 for num in nums]\n",
    "print(add_ten)"
   ]
  },
  {
   "cell_type": "markdown",
   "metadata": {},
   "source": [
    "### Divide By Two"
   ]
  },
  {
   "cell_type": "code",
   "execution_count": 11,
   "metadata": {},
   "outputs": [
    {
     "name": "stdout",
     "output_type": "stream",
     "text": [
      "[1.0, 2.5, 3.0, 3.5, 4.0, 4.5, 6.0, 17.0, 28.0, 39.0]\n"
     ]
    }
   ],
   "source": [
    "num = [2,5,6,7,8,9,12,34,56,78]\n",
    "devided_by_two = [nums/2 for nums in num]\n",
    "print(devided_by_two)"
   ]
  },
  {
   "cell_type": "markdown",
   "metadata": {},
   "source": [
    "### Parity\n",
    "In Python, %, or the modulo function, returns a remainder after a division.\n",
    "\n"
   ]
  },
  {
   "cell_type": "code",
   "execution_count": 13,
   "metadata": {},
   "outputs": [
    {
     "name": "stdout",
     "output_type": "stream",
     "text": [
      "[0, 0, 1, 0, 1, 0]\n"
     ]
    }
   ],
   "source": [
    "nums = [4, 8, 15, 16, 23, 42]\n",
    "parity = [num%2 for num in nums]\n",
    "print(parity)"
   ]
  },
  {
   "cell_type": "markdown",
   "metadata": {},
   "source": [
    "### Add Hello"
   ]
  },
  {
   "cell_type": "code",
   "execution_count": 14,
   "metadata": {},
   "outputs": [
    {
     "name": "stdout",
     "output_type": "stream",
     "text": [
      "['Hello, Elaine', 'Hello, George', 'Hello, Jerry', 'Hello, Cosmo']\n"
     ]
    }
   ],
   "source": [
    "names = [\"Elaine\", \"George\", \"Jerry\", \"Cosmo\"]\n",
    "\n",
    "greetings = [\"Hello, \"+name for name in names]\n",
    "print(greetings)"
   ]
  },
  {
   "cell_type": "markdown",
   "metadata": {},
   "source": [
    "### First Character"
   ]
  },
  {
   "cell_type": "code",
   "execution_count": 15,
   "metadata": {},
   "outputs": [
    {
     "name": "stdout",
     "output_type": "stream",
     "text": [
      "['E', 'G', 'J', 'C']\n"
     ]
    }
   ],
   "source": [
    "names = [\"Elaine\", \"George\", \"Jerry\", \"Cosmo\"]\n",
    "\n",
    "first_character = [name[0] for name in names]\n",
    "print(first_character)"
   ]
  },
  {
   "cell_type": "code",
   "execution_count": 16,
   "metadata": {},
   "outputs": [
    {
     "name": "stdout",
     "output_type": "stream",
     "text": [
      "['l', 'e', 'e', 'o']\n"
     ]
    }
   ],
   "source": [
    "names = [\"Elaine\", \"George\", \"Jerry\", \"Cosmo\"]\n",
    "\n",
    "first_character = [name[1] for name in names]\n",
    "print(first_character)"
   ]
  },
  {
   "cell_type": "code",
   "execution_count": 17,
   "metadata": {},
   "outputs": [
    {
     "name": "stdout",
     "output_type": "stream",
     "text": [
      "['i', 'r', 'r', 'm']\n"
     ]
    }
   ],
   "source": [
    "names = [\"Elaine\", \"George\", \"Jerry\", \"Cosmo\"]\n",
    "\n",
    "first_character = [name[3] for name in names]\n",
    "print(first_character)"
   ]
  },
  {
   "cell_type": "markdown",
   "metadata": {},
   "source": [
    "### Size"
   ]
  },
  {
   "cell_type": "code",
   "execution_count": 18,
   "metadata": {},
   "outputs": [
    {
     "name": "stdout",
     "output_type": "stream",
     "text": [
      "[6, 6, 5, 5]\n"
     ]
    }
   ],
   "source": [
    "  names = [\"Elaine\", \"George\", \"Jerry\", \"Cosmo\"]\n",
    "lenghts = [len(name) for name in names]\n",
    "print(lenghts)"
   ]
  },
  {
   "cell_type": "markdown",
   "metadata": {},
   "source": [
    "### Opposite "
   ]
  },
  {
   "cell_type": "code",
   "execution_count": 19,
   "metadata": {},
   "outputs": [
    {
     "name": "stdout",
     "output_type": "stream",
     "text": [
      "[False, True, False]\n"
     ]
    }
   ],
   "source": [
    "booleans = [True, False, True]\n",
    "opposite = [not bool for bool in booleans]\n",
    "print(opposite)"
   ]
  },
  {
   "cell_type": "markdown",
   "metadata": {},
   "source": [
    "### Same String"
   ]
  },
  {
   "cell_type": "code",
   "execution_count": 22,
   "metadata": {},
   "outputs": [
    {
     "name": "stdout",
     "output_type": "stream",
     "text": [
      "[True, False, False, True, False, False, True]\n"
     ]
    }
   ],
   "source": [
    "names = [\"iqra\",\"Elaine\", \"George\", \"iqra\", \"Jerry\", \"Cosmo\", \"iqra\"]\n",
    "is_iqra = [name == \"iqra\" for name in names]\n",
    "print(is_iqra)"
   ]
  },
  {
   "cell_type": "markdown",
   "metadata": {},
   "source": [
    "### Greater Than Two"
   ]
  },
  {
   "cell_type": "code",
   "execution_count": 23,
   "metadata": {},
   "outputs": [
    {
     "name": "stdout",
     "output_type": "stream",
     "text": [
      "[5, -10, 40, 20, 0]\n"
     ]
    }
   ],
   "source": [
    "nums = [5, -10, 40, 20, 0]\n",
    "greater_than_two = [num > 2 for num in nums]\n",
    "print(nums)"
   ]
  },
  {
   "cell_type": "markdown",
   "metadata": {},
   "source": [
    "### product"
   ]
  },
  {
   "cell_type": "code",
   "execution_count": 25,
   "metadata": {},
   "outputs": [
    {
     "name": "stdout",
     "output_type": "stream",
     "text": [
      "[32, 240, 966]\n"
     ]
    }
   ],
   "source": [
    "nested_lists = [[4, 8], [15, 16], [23, 42]]\n",
    "\n",
    "product  = [num1*num2 for(num1, num2) in nested_lists]\n",
    "\n",
    "print(product)"
   ]
  },
  {
   "cell_type": "markdown",
   "metadata": {},
   "source": [
    "### Greater Than"
   ]
  },
  {
   "cell_type": "code",
   "execution_count": 26,
   "metadata": {},
   "outputs": [
    {
     "name": "stdout",
     "output_type": "stream",
     "text": [
      "[False, True, False]\n"
     ]
    }
   ],
   "source": [
    "nested_lists = [[4, 8], [16, 15], [23, 42]]\n",
    "greater_than = [num1 > num2 for(num1, num2) in nested_lists]\n",
    "print(greater_than)"
   ]
  },
  {
   "cell_type": "markdown",
   "metadata": {},
   "source": [
    "### First Only"
   ]
  },
  {
   "cell_type": "code",
   "execution_count": 27,
   "metadata": {},
   "outputs": [
    {
     "name": "stdout",
     "output_type": "stream",
     "text": [
      "[4, 16, 23]\n"
     ]
    }
   ],
   "source": [
    "nested_lists = [[4, 8], [16, 15], [23, 42]]\n",
    "first_only = [num[0] for num in nested_lists]\n",
    "print(first_only)"
   ]
  },
  {
   "cell_type": "markdown",
   "metadata": {},
   "source": [
    "### Add With Zip"
   ]
  },
  {
   "cell_type": "code",
   "execution_count": 28,
   "metadata": {},
   "outputs": [
    {
     "name": "stdout",
     "output_type": "stream",
     "text": [
      "[5.0, 7.0, 9.0]\n"
     ]
    }
   ],
   "source": [
    "a = [1.0, 2.0, 3.0]\n",
    "b = [4.0, 5.0, 6.0]\n",
    "sums = [c+d for(c,d) in zip(a,b)]\n",
    "print(sums)"
   ]
  },
  {
   "cell_type": "markdown",
   "metadata": {},
   "source": [
    "### Divide With Zip"
   ]
  },
  {
   "cell_type": "code",
   "execution_count": 39,
   "metadata": {},
   "outputs": [
    {
     "name": "stdout",
     "output_type": "stream",
     "text": [
      "[4.0, 2.5, 2.0]\n"
     ]
    }
   ],
   "source": [
    "a = [1.0, 2.0, 3.0]\n",
    "b = [4.0, 5.0, 6.0]\n",
    "quotients = [c / d for (d, c)  in zip(a, b)]\n",
    "\n",
    "print(quotients)"
   ]
  },
  {
   "cell_type": "markdown",
   "metadata": {},
   "source": [
    "### Capitals"
   ]
  },
  {
   "cell_type": "code",
   "execution_count": 40,
   "metadata": {},
   "outputs": [
    {
     "name": "stdout",
     "output_type": "stream",
     "text": [
      "['Santiago, Chile', 'Paris, France', 'Copenhagen, Denmark']\n"
     ]
    }
   ],
   "source": [
    "capitals = [\"Santiago\", \"Paris\", \"Copenhagen\"]\n",
    "countries = [\"Chile\", \"France\", \"Denmark\"]\n",
    "locations = [capital + \", \" + country for (capital, country) in zip(capitals, countries)]\n",
    "print(locations)"
   ]
  },
  {
   "cell_type": "markdown",
   "metadata": {},
   "source": [
    "### Ages"
   ]
  },
  {
   "cell_type": "code",
   "execution_count": 42,
   "metadata": {},
   "outputs": [
    {
     "data": {
      "text/plain": [
       "['Name: Shilah, Age: 14', 'Name: Arya, Age: 9', 'Name: Kele, Age: 35']"
      ]
     },
     "execution_count": 42,
     "metadata": {},
     "output_type": "execute_result"
    }
   ],
   "source": [
    "names = [\"Shilah\", \"Arya\", \"Kele\"]\n",
    "ages = [14, 9, 35]\n",
    "users = [\"Name: \" + name + \", Age: \" + str(age) for (name, age) in zip(names, ages) ]\n",
    "users"
   ]
  },
  {
   "cell_type": "markdown",
   "metadata": {},
   "source": [
    "### Greater Than With Zip "
   ]
  },
  {
   "cell_type": "code",
   "execution_count": 43,
   "metadata": {},
   "outputs": [
    {
     "name": "stdout",
     "output_type": "stream",
     "text": [
      "[True, True, False]\n"
     ]
    }
   ],
   "source": [
    "a = [30, 42, 10]\n",
    "b = [15, 16, 17]\n",
    "greater_than = [a1 > b1 for(a1, b1) in zip(a,b)  ]\n",
    "print(greater_than)"
   ]
  },
  {
   "cell_type": "markdown",
   "metadata": {},
   "source": [
    "# Python Loops: Medical Insurance Project"
   ]
  },
  {
   "cell_type": "markdown",
   "metadata": {},
   "source": [
    "***"
   ]
  },
  {
   "cell_type": "code",
   "execution_count": 46,
   "metadata": {},
   "outputs": [
    {
     "ename": "NameError",
     "evalue": "name 'actualt_cost' is not defined",
     "output_type": "error",
     "traceback": [
      "\u001b[1;31m---------------------------------------------------------------------------\u001b[0m",
      "\u001b[1;31mNameError\u001b[0m                                 Traceback (most recent call last)",
      "\u001b[1;32m<ipython-input-46-3d727aa1c855>\u001b[0m in \u001b[0;36m<module>\u001b[1;34m()\u001b[0m\n\u001b[0;32m     13\u001b[0m \u001b[1;31m#Use a for loop to iterate through actual_insurance_costs and add each insurance cost to the variable total_cost.\u001b[0m\u001b[1;33m\u001b[0m\u001b[1;33m\u001b[0m\u001b[0m\n\u001b[0;32m     14\u001b[0m \u001b[1;32mfor\u001b[0m \u001b[0mactual_cost\u001b[0m \u001b[1;32min\u001b[0m \u001b[0mactual_insurance_costs\u001b[0m\u001b[1;33m:\u001b[0m\u001b[1;33m\u001b[0m\u001b[0m\n\u001b[1;32m---> 15\u001b[1;33m     \u001b[0mprint\u001b[0m\u001b[1;33m(\u001b[0m\u001b[0mactualt_cost\u001b[0m\u001b[1;33m)\u001b[0m\u001b[1;33m\u001b[0m\u001b[0m\n\u001b[0m\u001b[0;32m     16\u001b[0m     \u001b[0mtotal_cost\u001b[0m \u001b[1;33m+=\u001b[0m \u001b[0mactual_cost\u001b[0m\u001b[1;33m\u001b[0m\u001b[0m\n",
      "\u001b[1;31mNameError\u001b[0m: name 'actualt_cost' is not defined"
     ]
    }
   ],
   "source": [
    "#create a list of names\n",
    "names = [\"Judith\", \"Abel\", \"Tyson\", \"Martha\", \"Beverley\", \"David\", \"Anabel\"]\n",
    "\n",
    "#create estimated insurance cost for every name\n",
    "estimated_insurance_costs = [1000.0, 2000.0, 3000.0, 4000.0, 5000.0, 6000.0, 7000.0]\n",
    "\n",
    "#actual insurance cost list\n",
    "actual_insurance_costs = [1100.0, 2200.0, 3300.0, 4400.0, 5500.0, 6600.0, 7700.0]\n",
    "\n",
    "#Create a variable total_cost and initialize it to 0.\n",
    "total_cost = 0\n",
    "\n",
    "#Use a for loop to iterate through actual_insurance_costs and add each insurance cost to the variable total_cost.\n",
    "for actual_cost in actual_insurance_costs:\n",
    "    print(actualt_cost)\n",
    "    total_cost += actual_cost"
   ]
  },
  {
   "cell_type": "code",
   "execution_count": null,
   "metadata": {},
   "outputs": [],
   "source": [
    "\n"
   ]
  }
 ],
 "metadata": {
  "kernelspec": {
   "display_name": "Python 3",
   "language": "python",
   "name": "python3"
  },
  "language_info": {
   "codemirror_mode": {
    "name": "ipython",
    "version": 3
   },
   "file_extension": ".py",
   "mimetype": "text/x-python",
   "name": "python",
   "nbconvert_exporter": "python",
   "pygments_lexer": "ipython3",
   "version": "3.7.0"
  }
 },
 "nbformat": 4,
 "nbformat_minor": 2
}
