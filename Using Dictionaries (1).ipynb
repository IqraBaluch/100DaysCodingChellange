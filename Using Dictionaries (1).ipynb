{
 "cells": [
  {
   "cell_type": "markdown",
   "metadata": {},
   "source": [
    "# Using Dictionaries\n",
    "### how to:\n",
    "\n",
    "1. Use a key to get a value from a dictionary\n",
    "2. Check for existence of keys\n",
    "3. Find the length of a dictionary\n",
    "4. Iterate through keys and values in dictionaries\n",
    "\n",
    "# Get A Key\n",
    "Once you have a dictionary, you can access the values in it by providing the key."
   ]
  },
  {
   "cell_type": "code",
   "execution_count": 2,
   "metadata": {},
   "outputs": [
    {
     "data": {
      "text/plain": [
       "{'water': ['Cancer', 'Scorpio', 'Pisces'],\n",
       " 'fire': ['Aries', 'Leo', 'Sagittarius'],\n",
       " 'earth': ['Taurus', 'Virgo', 'Capricorn'],\n",
       " 'air': ['Gemini', 'Libra', 'Aquarius']}"
      ]
     },
     "execution_count": 2,
     "metadata": {},
     "output_type": "execute_result"
    }
   ],
   "source": [
    "# create a dictionary \n",
    "zodiac_elements = {\"water\": [\"Cancer\", \"Scorpio\", \"Pisces\"], \"fire\": [\"Aries\", \"Leo\", \"Sagittarius\"], \"earth\": [\"Taurus\", \"Virgo\", \"Capricorn\"], \"air\":[\"Gemini\", \"Libra\", \"Aquarius\"]}\n",
    "zodiac_elements"
   ]
  },
  {
   "cell_type": "code",
   "execution_count": 3,
   "metadata": {},
   "outputs": [
    {
     "name": "stdout",
     "output_type": "stream",
     "text": [
      "['Taurus', 'Virgo', 'Capricorn']\n"
     ]
    }
   ],
   "source": [
    "# Print out the list of zodiac signs associated with the \"earth\" element.\n",
    "print(zodiac_elements['earth'])\n"
   ]
  },
  {
   "cell_type": "code",
   "execution_count": 4,
   "metadata": {},
   "outputs": [
    {
     "name": "stdout",
     "output_type": "stream",
     "text": [
      "['Aries', 'Leo', 'Sagittarius']\n"
     ]
    }
   ],
   "source": [
    "#Print out the list of the \"fire\" signs.\n",
    "print(zodiac_elements['fire'])"
   ]
  },
  {
   "cell_type": "markdown",
   "metadata": {},
   "source": [
    "# Get an Invalid Key"
   ]
  },
  {
   "cell_type": "code",
   "execution_count": 8,
   "metadata": {},
   "outputs": [
    {
     "ename": "KeyError",
     "evalue": "'energy'",
     "output_type": "error",
     "traceback": [
      "\u001b[1;31m---------------------------------------------------------------------------\u001b[0m",
      "\u001b[1;31mKeyError\u001b[0m                                  Traceback (most recent call last)",
      "\u001b[1;32m<ipython-input-8-4ddeb4d09902>\u001b[0m in \u001b[0;36m<module>\u001b[1;34m()\u001b[0m\n\u001b[0;32m      2\u001b[0m \u001b[1;33m\u001b[0m\u001b[0m\n\u001b[0;32m      3\u001b[0m \u001b[1;33m\u001b[0m\u001b[0m\n\u001b[1;32m----> 4\u001b[1;33m \u001b[0mprint\u001b[0m\u001b[1;33m(\u001b[0m\u001b[0mzodiac_elements\u001b[0m\u001b[1;33m[\u001b[0m\u001b[1;34m\"energy\"\u001b[0m\u001b[1;33m]\u001b[0m\u001b[1;33m)\u001b[0m\u001b[1;33m\u001b[0m\u001b[0m\n\u001b[0m",
      "\u001b[1;31mKeyError\u001b[0m: 'energy'"
     ]
    }
   ],
   "source": [
    "zodiac_elements = {\"water\": [\"Cancer\", \"Scorpio\", \"Pisces\"], \"fire\": [\"Aries\", \"Leo\", \"Sagittarius\"], \"earth\": [\"Taurus\", \"Virgo\", \"Capricorn\"], \"air\":[\"Gemini\", \"Libra\", \"Aquarius\"]}\n",
    "\n",
    "\n",
    "print(zodiac_elements[\"energy\"])"
   ]
  },
  {
   "cell_type": "code",
   "execution_count": 9,
   "metadata": {},
   "outputs": [
    {
     "name": "stdout",
     "output_type": "stream",
     "text": [
      "Not a Zodiac element\n"
     ]
    }
   ],
   "source": [
    "zodiac_elements = {\"water\": [\"Cancer\", \"Scorpio\", \"Pisces\"], \"fire\": [\"Aries\", \"Leo\", \"Sagittarius\"], \"earth\": [\"Taurus\", \"Virgo\", \"Capricorn\"], \"air\":[\"Gemini\", \"Libra\", \"Aquarius\"], \"energy\" : \"Not a Zodiac element\"}\n",
    "\n",
    "print(zodiac_elements[\"energy\"])"
   ]
  },
  {
   "cell_type": "markdown",
   "metadata": {},
   "source": [
    "# Try/Except to Get a Key\n",
    "We saw that we can avoid KeyErrors by checking if a key is in a dictionary first. Another method we could use is a try/except:"
   ]
  },
  {
   "cell_type": "code",
   "execution_count": 5,
   "metadata": {},
   "outputs": [],
   "source": [
    "caffeine_level = {\"espresso\": 64, \"chai\": 40, \"decaf\": 0, \"drip\": 120}"
   ]
  },
  {
   "cell_type": "markdown",
   "metadata": {},
   "source": [
    "1. Use a try block to try to print the caffeine level of \"matcha\". If there is a KeyError, print \"Unknown Caffeine Level\".\n",
    "<br>\n",
    "2. Above the try block, add \"matcha\" to the dictionary with a value of 30.\n"
   ]
  },
  {
   "cell_type": "code",
   "execution_count": 6,
   "metadata": {},
   "outputs": [
    {
     "name": "stdout",
     "output_type": "stream",
     "text": [
      "30\n"
     ]
    }
   ],
   "source": [
    "caffeine_level['matcha'] = 30\n",
    "try:\n",
    "  print(caffeine_level['matcha'])\n",
    "except KeyError:\n",
    "  print(\"Unknown Caffeine Level\")"
   ]
  },
  {
   "cell_type": "markdown",
   "metadata": {},
   "source": [
    "# Example"
   ]
  },
  {
   "cell_type": "code",
   "execution_count": 8,
   "metadata": {},
   "outputs": [
    {
     "name": "stdout",
     "output_type": "stream",
     "text": [
      "No data availble\n"
     ]
    }
   ],
   "source": [
    "name_age = {'ali':20, 'anas': 22, 'umer':12, 'abubakar':10}\n",
    "try:\n",
    "    print(name_age['ans'])\n",
    "except KeyError: \n",
    "    print('No data availble')"
   ]
  },
  {
   "cell_type": "markdown",
   "metadata": {},
   "source": [
    "# Safely Get a Key\n",
    "Dictionaries have a .get() method to search for a value instead of the my_dict[key] notation we have been using. If the key you are trying to .get() does not exist, it will return None by default:"
   ]
  },
  {
   "cell_type": "markdown",
   "metadata": {},
   "source": [
    "1.\n",
    "Use .get() to get the value of \"teraCoder\"‘s user ID, with 100000 as a default value if the user doesn’t exist. Store it in a variable called tc_id. Print tc_id to the console.\n",
    "\n",
    "<br>\n",
    "2.\n",
    "Use .get() to get the value of \"superStackSmash\"‘s user ID, with 100000 as a default value if the user doesn’t exist. Store it in a variable called stack_id. Print stack_id to the console."
   ]
  },
  {
   "cell_type": "code",
   "execution_count": 9,
   "metadata": {},
   "outputs": [
    {
     "name": "stdout",
     "output_type": "stream",
     "text": [
      "100019\n",
      "100000\n"
     ]
    }
   ],
   "source": [
    "user_ids = {\"teraCoder\": 100019, \"pythonGuy\": 182921, \"samTheJavaMaam\": 123112, \"lyleLoop\": 102931, \"keysmithKeith\": 129384}\n",
    "tc_id = user_ids.get('teraCoder', 100000)\n",
    "print(tc_id)\n",
    "\n",
    "stack_id = user_ids.get('superStackSmash', 100000)\n",
    "print(stack_id)"
   ]
  },
  {
   "cell_type": "markdown",
   "metadata": {},
   "source": [
    "# Delete a Key\n",
    "Sometimes we want to get a key and remove it from the dictionary.\n",
    "## Example:\n",
    "You are designing the video game Big Rock Adventure. We have provided a dictionary of items that are in the player’s inventory which add points to their health meter. In one line, add the corresponding value of the key \"stamina grains\" to the health_points variable and remove the item \"stamina grains\" from the dictionary. If the key does not exist, add 0 to health_points."
   ]
  },
  {
   "cell_type": "code",
   "execution_count": 10,
   "metadata": {},
   "outputs": [],
   "source": [
    "available_items = {\"health potion\": 10, \"cake of the cure\": 5, \"green elixir\": 20, \"strength sandwich\": 25, \"stamina grains\": 15, \"power stew\": 30}\n",
    "health_points = 20\n",
    "\n",
    "health_points += available_items.pop(\"stamina grains\", 0)"
   ]
  },
  {
   "cell_type": "markdown",
   "metadata": {},
   "source": [
    "\n",
    "In one line, add the value of \"power stew\" to health_points and remove the item from the dictionary. If the key does not exist, add 0 to health_points.\n"
   ]
  },
  {
   "cell_type": "code",
   "execution_count": 15,
   "metadata": {},
   "outputs": [],
   "source": [
    "health_points += available_items.pop(\"power stew\",0)"
   ]
  },
  {
   "cell_type": "markdown",
   "metadata": {},
   "source": [
    "In one line, add the value of \"mystic bread\" to health_points and remove the item from the dictionary. If the key does not exist, add 0 to health_points."
   ]
  },
  {
   "cell_type": "code",
   "execution_count": 16,
   "metadata": {},
   "outputs": [],
   "source": [
    "\n",
    "health_points += available_items.pop(\"mystic bread\", 0)"
   ]
  },
  {
   "cell_type": "markdown",
   "metadata": {},
   "source": [
    "Print available_items and health_points."
   ]
  },
  {
   "cell_type": "code",
   "execution_count": 17,
   "metadata": {},
   "outputs": [
    {
     "name": "stdout",
     "output_type": "stream",
     "text": [
      "{'health potion': 10, 'cake of the cure': 5, 'green elixir': 20, 'strength sandwich': 25}\n"
     ]
    }
   ],
   "source": [
    "print(available_items)"
   ]
  },
  {
   "cell_type": "code",
   "execution_count": 18,
   "metadata": {},
   "outputs": [
    {
     "name": "stdout",
     "output_type": "stream",
     "text": [
      "65\n"
     ]
    }
   ],
   "source": [
    "print(health_points)"
   ]
  },
  {
   "cell_type": "code",
   "execution_count": 19,
   "metadata": {},
   "outputs": [
    {
     "name": "stdout",
     "output_type": "stream",
     "text": [
      "{'health potion': 10, 'cake of the cure': 5, 'green elixir': 20, 'strength sandwich': 25}\n",
      "65\n"
     ]
    }
   ],
   "source": [
    "available_items = {\"health potion\": 10, \"cake of the cure\": 5, \"green elixir\": 20, \"strength sandwich\": 25, \"stamina grains\": 15, \"power stew\": 30}\n",
    "health_points = 20\n",
    "\n",
    "health_points += available_items.pop(\"stamina grains\", 0)\n",
    "health_points += available_items.pop(\"power stew\", 0)\n",
    "health_points += available_items.pop(\"mystic bread\", 0)\n",
    "\n",
    "print(available_items)\n",
    "print(health_points)"
   ]
  },
  {
   "cell_type": "markdown",
   "metadata": {},
   "source": [
    "# Get All Keys\n",
    "Sometimes we want to operate on all of the keys in a dictionary. For example, if we have a dictionary of students in a math class and their grades:\n",
    "<br>\n",
    "test_scores = {\"Grace\":[80, 72, 90], \"Jeffrey\":[88, 68, 81], \"Sylvia\":[80, 82, 84], \"Pedro\":[98, 96, 95], \"Martin\":[78, 80, 78], \"Dina\":[64, 60, 75]}\n",
    "We want to get a roster of the students in the class, without including their grades. We can do this with the built-in list() function:\n",
    "<br>\n",
    ">>> list(test_scores)\n",
    "[\"Grace\", \"Jeffrey\", \"Sylvia\", \"Pedro\", \"Martin\", \"Dina\"]\n",
    "Dictionaries also have a .keys() method that returns a dict_keys object. A dict_keys object is a view object, which provides a look at the current state of the dictionary, without the user being able to modify anything. The dict_keys object returned by .keys() is a set of the keys in the dictionary. You cannot add or remove elements from a dict_keys object, but it can be used in the place of a list for iteration:\n",
    "<br>\n",
    "for student in test_scores.keys():\n",
    "  print(student) <br>\n",
    "will yield:<br>\n",
    "<br>\n",
    "\"Grace\"\n",
    "\"Jeffrey\"\n",
    "\"Sylvia\"\n",
    "\"Pedro\"\n",
    "\"Martin\"\n",
    "\"Dina"
   ]
  },
  {
   "cell_type": "code",
   "execution_count": 20,
   "metadata": {},
   "outputs": [],
   "source": [
    "user_ids = {\"teraCoder\": 100019, \"pythonGuy\": 182921, \"samTheJavaMaam\": 123112, \"lyleLoop\": 102931, \"keysmithKeith\": 129384}\n",
    "num_exercises = {\"functions\": 10, \"syntax\": 13, \"control flow\": 15, \"loops\": 22, \"lists\": 19, \"classes\": 18, \"dictionaries\": 18}"
   ]
  },
  {
   "cell_type": "markdown",
   "metadata": {},
   "source": [
    "Create a variable called users and assign it to be a dict_keys object of all of the keys of the user_ids dictionary.\n",
    "\n"
   ]
  },
  {
   "cell_type": "code",
   "execution_count": 21,
   "metadata": {},
   "outputs": [],
   "source": [
    "users = user_ids.keys()"
   ]
  },
  {
   "cell_type": "markdown",
   "metadata": {},
   "source": [
    ".\n",
    "Create a variable called lessons and assign it to be a dict_keys object of all of the keys of the num_exercises dictionary"
   ]
  },
  {
   "cell_type": "code",
   "execution_count": 22,
   "metadata": {},
   "outputs": [],
   "source": [
    "lessons = num_exercises.keys()"
   ]
  },
  {
   "cell_type": "code",
   "execution_count": 23,
   "metadata": {},
   "outputs": [
    {
     "name": "stdout",
     "output_type": "stream",
     "text": [
      "dict_keys(['teraCoder', 'pythonGuy', 'samTheJavaMaam', 'lyleLoop', 'keysmithKeith'])\n"
     ]
    }
   ],
   "source": [
    "# Print users to the console.\n",
    "print(users)"
   ]
  },
  {
   "cell_type": "code",
   "execution_count": 24,
   "metadata": {},
   "outputs": [
    {
     "data": {
      "text/plain": [
       "dict_keys(['functions', 'syntax', 'control flow', 'loops', 'lists', 'classes', 'dictionaries'])"
      ]
     },
     "execution_count": 24,
     "metadata": {},
     "output_type": "execute_result"
    }
   ],
   "source": [
    "#Print lessons to the console.\n",
    "lessons"
   ]
  },
  {
   "cell_type": "code",
   "execution_count": 25,
   "metadata": {},
   "outputs": [
    {
     "name": "stdout",
     "output_type": "stream",
     "text": [
      "dict_keys(['teraCoder', 'pythonGuy', 'samTheJavaMaam', 'lyleLoop', 'keysmithKeith'])\n",
      "dict_keys(['functions', 'syntax', 'control flow', 'loops', 'lists', 'classes', 'dictionaries'])\n"
     ]
    }
   ],
   "source": [
    "# entire code\n",
    "user_ids = {\"teraCoder\": 100019, \"pythonGuy\": 182921, \"samTheJavaMaam\": 123112, \"lyleLoop\": 102931, \"keysmithKeith\": 129384}\n",
    "num_exercises = {\"functions\": 10, \"syntax\": 13, \"control flow\": 15, \"loops\": 22, \"lists\": 19, \"classes\": 18, \"dictionaries\": 18}\n",
    "\n",
    "users = user_ids.keys()\n",
    "lessons = num_exercises.keys()\n",
    "print(users)\n",
    "print(lessons)"
   ]
  },
  {
   "cell_type": "markdown",
   "metadata": {},
   "source": [
    "# Get All Values\n",
    "Dictionaries have a .values() method that returns a dict_values object (just like a dict_keys object but for values!) with all of the values in the dictionary."
   ]
  },
  {
   "cell_type": "code",
   "execution_count": 26,
   "metadata": {},
   "outputs": [],
   "source": [
    "num_exercises = {\"functions\": 10, \"syntax\": 13, \"control flow\": 15, \"loops\": 22, \"lists\": 19, \"classes\": 18, \"dictionaries\": 18}\n"
   ]
  },
  {
   "cell_type": "code",
   "execution_count": 30,
   "metadata": {},
   "outputs": [
    {
     "name": "stdout",
     "output_type": "stream",
     "text": [
      "10\n",
      "23\n",
      "38\n",
      "60\n",
      "79\n",
      "97\n",
      "115\n"
     ]
    }
   ],
   "source": [
    "# Create a variable called total_exercises and set it equal to 0.\n",
    "total_exercises = 0\n",
    "# Iterate through the values in the num_exercises list and add each value to the total_exercises variable.\n",
    "for values in num_exercises.values():\n",
    "    total_exercises += values\n",
    "    # Print the total_exercises variable to the console.\n",
    "    print(total_exercises)"
   ]
  },
  {
   "cell_type": "markdown",
   "metadata": {},
   "source": [
    "# Get All Items\n",
    "You can get both the keys and the values with the .items() method. Like .keys() and .values(), it returns a dict_list object. Each element of the dict_list returned by .items() is a tuple consisting of:\n",
    "\n",
    "(key, value)\n",
    "## Example\n",
    "Use a for loop to iterate through the items of pct_women_in_occupation. For each key : value pair, print out a string that looks like:\n",
    "\n",
    "Women make up [value] percent of [key]s."
   ]
  },
  {
   "cell_type": "code",
   "execution_count": 32,
   "metadata": {},
   "outputs": [],
   "source": [
    "pct_women_in_occupation = {\"CEO\": 28, \"Engineering Manager\": 9, \"Pharmacist\": 58, \"Physician\": 40, \"Lawyer\": 37, \"Aerospace Engineer\": 9}"
   ]
  },
  {
   "cell_type": "code",
   "execution_count": 34,
   "metadata": {},
   "outputs": [
    {
     "name": "stdout",
     "output_type": "stream",
     "text": [
      "Women make up 28 % of CEOs\n",
      "Women make up 9 % of Engineering Managers\n",
      "Women make up 58 % of Pharmacists\n",
      "Women make up 40 % of Physicians\n",
      "Women make up 37 % of Lawyers\n",
      "Women make up 9 % of Aerospace Engineers\n"
     ]
    }
   ],
   "source": [
    "for key, value in pct_women_in_occupation.items():\n",
    "    print(\"Women make up \"+ str(value)+ \" % of \" + str(key)+'s')"
   ]
  },
  {
   "cell_type": "markdown",
   "metadata": {},
   "source": [
    "# Review\n",
    "In this lesson, you’ve learned how to go through dictionaries and access keys and values in different ways. Specifically you have seen how to:\n",
    "\n",
    "Use a key to get a value from a dictionary\n",
    "Check for existence of keys\n",
    "Find the length of a dictionary\n",
    "Remove a key: value pair from a dictionary\n",
    "Iterate through keys and values in dictionaries\n",
    "\n",
    "# Example\n",
    "We have provided a pack of tarot cards, tarot. You are going to do a three card spread of your past, present, and future.\n",
    "\n",
    "Create an empty dictionary called spread."
   ]
  },
  {
   "cell_type": "code",
   "execution_count": 38,
   "metadata": {},
   "outputs": [],
   "source": [
    "tarot = { 1:\"The Magician\", 2:\"The High Priestess\", 3:\"The Empress\", 4:\"The Emperor\", 5:\"The Hierophant\", 6:\"The Lovers\", 7:\"The Chariot\", 8:\"Strength\", 9:\"The Hermit\", 10:\"Wheel of Fortune\", 11:\"Justice\", 12:\"The Hanged Man\", 13:\"Death\", 14:\"Temperance\", 15:\"The Devil\", 16:\"The Tower\", 17:\"The Star\", 18:\"The Moon\", 19:\"The Sun\", 20:\"Judgement\", 21:\"The World\", 22: \"The Fool\"}"
   ]
  },
  {
   "cell_type": "code",
   "execution_count": 39,
   "metadata": {},
   "outputs": [
    {
     "data": {
      "text/plain": [
       "{1: 'The Magician',\n",
       " 2: 'The High Priestess',\n",
       " 3: 'The Empress',\n",
       " 4: 'The Emperor',\n",
       " 5: 'The Hierophant',\n",
       " 6: 'The Lovers',\n",
       " 7: 'The Chariot',\n",
       " 8: 'Strength',\n",
       " 9: 'The Hermit',\n",
       " 10: 'Wheel of Fortune',\n",
       " 11: 'Justice',\n",
       " 12: 'The Hanged Man',\n",
       " 13: 'Death',\n",
       " 14: 'Temperance',\n",
       " 15: 'The Devil',\n",
       " 16: 'The Tower',\n",
       " 17: 'The Star',\n",
       " 18: 'The Moon',\n",
       " 19: 'The Sun',\n",
       " 20: 'Judgement',\n",
       " 21: 'The World',\n",
       " 22: 'The Fool'}"
      ]
     },
     "execution_count": 39,
     "metadata": {},
     "output_type": "execute_result"
    }
   ],
   "source": [
    "tarot"
   ]
  },
  {
   "cell_type": "code",
   "execution_count": 41,
   "metadata": {},
   "outputs": [],
   "source": [
    "# Create an empty dictionary called spread.\n",
    "spread = {}"
   ]
  },
  {
   "cell_type": "code",
   "execution_count": 43,
   "metadata": {},
   "outputs": [],
   "source": [
    "# The first card you draw is card 13. Pop the value assigned to the key 13 out of the tarot dictionary \n",
    "#assign it as the value of the \"past\" key of spread.\n",
    "\n",
    "spread['past'] = tarot[13]"
   ]
  },
  {
   "cell_type": "code",
   "execution_count": 44,
   "metadata": {},
   "outputs": [],
   "source": [
    "# The second card you draw is card 22. Pop the value assigned to the key 22 out of the tarot dictionary \n",
    "#assign it as the value of the \"present\" key of spread.\n",
    "spread['present'] = tarot[22]"
   ]
  },
  {
   "cell_type": "code",
   "execution_count": 45,
   "metadata": {},
   "outputs": [],
   "source": [
    "# The third card you draw is card 10. Pop the value assigned to the key 10 out of the tarot dictionary\n",
    "# assign it as the value of the \"future\" key of spread.\n",
    "\n",
    "spread['future'] = tarot[10]"
   ]
  },
  {
   "cell_type": "code",
   "execution_count": 46,
   "metadata": {},
   "outputs": [
    {
     "name": "stdout",
     "output_type": "stream",
     "text": [
      "Your past is the Death card \n",
      "Your present is the The Fool card \n",
      "Your future is the Wheel of Fortune card \n"
     ]
    }
   ],
   "source": [
    "# Iterate through the items in the spread dictionary and for each key: value pair, print out a string that says:\n",
    "#Your {key} is the {value} card.\n",
    "\n",
    "for key, value in spread.items():\n",
    "    print(\"Your \"+key+ \" is the \"+value+ ' card ')"
   ]
  },
  {
   "cell_type": "code",
   "execution_count": null,
   "metadata": {},
   "outputs": [],
   "source": []
  }
 ],
 "metadata": {
  "kernelspec": {
   "display_name": "Python 3",
   "language": "python",
   "name": "python3"
  },
  "language_info": {
   "codemirror_mode": {
    "name": "ipython",
    "version": 3
   },
   "file_extension": ".py",
   "mimetype": "text/x-python",
   "name": "python",
   "nbconvert_exporter": "python",
   "pygments_lexer": "ipython3",
   "version": "3.7.0"
  }
 },
 "nbformat": 4,
 "nbformat_minor": 2
}
