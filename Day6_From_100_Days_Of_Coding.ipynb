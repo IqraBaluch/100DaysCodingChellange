{
 "cells": [
  {
   "cell_type": "markdown",
   "metadata": {},
   "source": [
    "# Day6_From_100_Days_Of_Coding"
   ]
  },
  {
   "cell_type": "markdown",
   "metadata": {},
   "source": [
    "## Loop Cont..."
   ]
  },
  {
   "cell_type": "markdown",
   "metadata": {},
   "source": [
    "***"
   ]
  },
  {
   "cell_type": "markdown",
   "metadata": {},
   "source": [
    "### Loop Control: Break"
   ]
  },
  {
   "cell_type": "code",
   "execution_count": 17,
   "metadata": {},
   "outputs": [
    {
     "name": "stdout",
     "output_type": "stream",
     "text": [
      "french_bulldog\n",
      "dalmatian\n",
      "shihtzu\n",
      "poodle\n",
      "They have the dog I want!\n"
     ]
    }
   ],
   "source": [
    "dog_breeds_available_for_adoption = [\"french_bulldog\", \"dalmatian\", \"shihtzu\", \"poodle\", \"collie\"]\n",
    "dog_breed_I_want = \"poodle\"\n",
    "\n",
    "for dog_breed in dog_breeds_available_for_adoption:\n",
    "    print(dog_breed)\n",
    "   \n",
    "    if dog_breed == dog_breed_I_want:\n",
    "        print(\"They have the dog I want!\")\n",
    "        break\n",
    "    "
   ]
  },
  {
   "cell_type": "markdown",
   "metadata": {},
   "source": [
    "### Loop Control: Continue"
   ]
  },
  {
   "cell_type": "code",
   "execution_count": 18,
   "metadata": {},
   "outputs": [
    {
     "name": "stdout",
     "output_type": "stream",
     "text": [
      "38\n",
      "34\n",
      "26\n",
      "21\n",
      "67\n",
      "41\n"
     ]
    }
   ],
   "source": [
    "#Your computer is the doorman at a bar in a country where the drinking age is 21.\n",
    "#Loop through the ages list. If an entry is less than 21, skip it and move to the next entry. Otherwise, print() the age\n",
    "\n",
    "ages = [12, 38, 34, 26, 21, 19, 67, 41, 17]\n",
    "\n",
    "for age in ages:\n",
    "    if age < 21:\n",
    "        continue\n",
    "    print(age)"
   ]
  },
  {
   "cell_type": "markdown",
   "metadata": {},
   "source": [
    "### Nested Loops"
   ]
  },
  {
   "cell_type": "code",
   "execution_count": 19,
   "metadata": {},
   "outputs": [
    {
     "name": "stdout",
     "output_type": "stream",
     "text": [
      "[12, 17, 22]\n",
      "[2, 10, 3]\n",
      "[5, 12, 13]\n",
      "96\n"
     ]
    }
   ],
   "source": [
    "sales_data = [[12, 17, 22], [2, 10, 3], [5, 12, 13]]\n",
    "scoops_sold = 0\n",
    "\n",
    "for location in sales_data:\n",
    "    print(location)\n",
    "    for element in location:\n",
    "        scoops_sold += element\n",
    "print(scoops_sold)\n"
   ]
  },
  {
   "cell_type": "markdown",
   "metadata": {},
   "source": [
    "### List Comprehensions: Introduction"
   ]
  },
  {
   "cell_type": "code",
   "execution_count": 20,
   "metadata": {},
   "outputs": [
    {
     "name": "stdout",
     "output_type": "stream",
     "text": [
      "[100, 98, 72, 86, 84, 99, 58, 67]\n"
     ]
    }
   ],
   "source": [
    "grades = [90, 88, 62, 76, 74, 89, 48, 57]\n",
    "scaled_grades = [grade + 10 for grade in grades]\n",
    "print(scaled_grades)"
   ]
  },
  {
   "cell_type": "markdown",
   "metadata": {},
   "source": [
    "### List Comprehensions: Conditionals"
   ]
  },
  {
   "cell_type": "code",
   "execution_count": 21,
   "metadata": {},
   "outputs": [
    {
     "name": "stdout",
     "output_type": "stream",
     "text": [
      "[164, 170, 163, 163]\n"
     ]
    }
   ],
   "source": [
    "heights = [161, 164, 156, 144, 158, 170, 163, 163, 157]\n",
    "can_ride_coaster  = [height for height in heights if height > 161]\n",
    "print(can_ride_coaster)"
   ]
  },
  {
   "cell_type": "markdown",
   "metadata": {},
   "source": [
    "## List Revision"
   ]
  },
  {
   "cell_type": "code",
   "execution_count": 26,
   "metadata": {},
   "outputs": [
    {
     "name": "stdout",
     "output_type": "stream",
     "text": [
      "0\n",
      "1\n",
      "2\n",
      "3\n",
      "4\n",
      "5\n",
      "6\n",
      "7\n",
      "8\n",
      "9\n",
      "[0, 2, 4, 6, 8, 10, 12, 14, 16, 18]\n",
      "[0, 3, 6, 9, 12, 15, 18, 21, 24, 27]\n"
     ]
    }
   ],
   "source": [
    "#Create a list called single_digits that consists of the numbers 0-9 (inclusive).\n",
    "single_digits = [0,1,2,3,4,5,6,7,8,9]\n",
    "#Before the loop, create a list called squares. Assign it to be an empty list to begin with.\n",
    "square = []\n",
    "cube = []\n",
    "\n",
    "#Create a for loop that goes through single_digits and prints out each one.\n",
    "for digit in single_digits:\n",
    "    print(digit)\n",
    "    #Inside the loop that iterates through single_digits, append the squared value of each element of single_digits to the list squares.  \n",
    "    #You can do this before or after printing the element.\n",
    "    square.append(digit*2)\n",
    "    cube.append(digit*3)\n",
    "print(square)\n",
    "print(cube)\n",
    "\n"
   ]
  },
  {
   "cell_type": "code",
   "execution_count": 27,
   "metadata": {},
   "outputs": [
    {
     "name": "stdout",
     "output_type": "stream",
     "text": [
      "0\n",
      "1\n",
      "2\n",
      "3\n",
      "4\n",
      "5\n",
      "6\n",
      "7\n",
      "8\n",
      "9\n",
      "[0, 1, 4, 9, 16, 25, 36, 49, 64, 81]\n",
      "[0, 1, 8, 27, 64, 125, 216, 343, 512, 729]\n"
     ]
    }
   ],
   "source": [
    "# Your code below:\n",
    "single_digits = [0,1,2,3,4,5,6,7,8,9]\n",
    "squares = []\n",
    "cubes = []\n",
    "for digits in single_digits:\n",
    "  print(digits)\n",
    "  squares.append(digits**2)\n",
    "  cubes = [item**3 for item in single_digits]\n",
    "print(squares)\n",
    "print(cubes)"
   ]
  },
  {
   "cell_type": "code",
   "execution_count": 30,
   "metadata": {},
   "outputs": [
    {
     "name": "stdout",
     "output_type": "stream",
     "text": [
      "1\n",
      "1\n"
     ]
    }
   ],
   "source": [
    "numbers = [1, 1, 2, 3,11,4,5,6,7]\n",
    "for number in numbers:\n",
    "  if number % 2 == 0:\n",
    "    break\n",
    "  print(number)"
   ]
  },
  {
   "cell_type": "code",
   "execution_count": 2,
   "metadata": {},
   "outputs": [
    {
     "name": "stdout",
     "output_type": "stream",
     "text": [
      "[-5, 29, 26, -7, 1, 18, 12, 31]\n"
     ]
    }
   ],
   "source": [
    "temperatures = [-5, 29, 26, -7, 1, 18, 12, 31]\n",
    "temperatures_new = [temp for temp in temperatures]\n",
    "print(temperatures_new)"
   ]
  },
  {
   "cell_type": "code",
   "execution_count": 4,
   "metadata": {},
   "outputs": [
    {
     "name": "stdout",
     "output_type": "stream",
     "text": [
      "[23.0, 84.2, 78.80000000000001, 19.4, 33.8, 64.4, 53.6, 87.80000000000001]\n"
     ]
    }
   ],
   "source": [
    "temperatures = [-5, 29, 26, -7, 1, 18, 12, 31]\n",
    "temperatures_F = [(9.0/5.0)*temp + 32 for temp in temperatures]\n",
    "print(temperatures_F)"
   ]
  },
  {
   "cell_type": "code",
   "execution_count": null,
   "metadata": {},
   "outputs": [],
   "source": []
  }
 ],
 "metadata": {
  "kernelspec": {
   "display_name": "Python 3",
   "language": "python",
   "name": "python3"
  },
  "language_info": {
   "codemirror_mode": {
    "name": "ipython",
    "version": 3
   },
   "file_extension": ".py",
   "mimetype": "text/x-python",
   "name": "python",
   "nbconvert_exporter": "python",
   "pygments_lexer": "ipython3",
   "version": "3.7.0"
  }
 },
 "nbformat": 4,
 "nbformat_minor": 2
}
