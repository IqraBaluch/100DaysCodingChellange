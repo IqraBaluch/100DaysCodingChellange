{
 "cells": [
  {
   "cell_type": "markdown",
   "metadata": {},
   "source": [
    "#  DICTIONARIES_2\n",
    "### Introduction to Dictionary\n",
    "A dictionary is an unordered set of key: value pairs.\n",
    "<br>\n",
    "It provides us with a way to map pieces of data to each other so that we can quickly find values that are associated with one another.\n",
    "### Notice that:\n",
    "\n",
    "1. A dictionary begins and ends with curly braces { and }.\n",
    "2. Each item consists of a key  and a value.\n",
    "3. Each key: value pair is separated by a comma.\n"
   ]
  },
  {
   "cell_type": "markdown",
   "metadata": {},
   "source": [
    "# Overwrite Values\n",
    "We know that we can add a key by using syntax like:\n",
    "\n",
    "menu[\"avocado toast\"] = 7"
   ]
  },
  {
   "cell_type": "code",
   "execution_count": 3,
   "metadata": {},
   "outputs": [
    {
     "data": {
      "text/plain": [
       "{'Best Picture': 'La La Land',\n",
       " 'Best Actor': 'Casey Affleck',\n",
       " 'Best Actress': 'Emma Stone',\n",
       " 'Animated Feature': 'Zootopia'}"
      ]
     },
     "execution_count": 3,
     "metadata": {},
     "output_type": "execute_result"
    }
   ],
   "source": [
    "oscar_winners = {\"Best Picture\": \"La La Land\", \"Best Actor\": \"Casey Affleck\", \"Best Actress\": \"Emma Stone\", \"Animated Feature\": \"Zootopia\"}\n",
    "oscar_winners"
   ]
  },
  {
   "cell_type": "code",
   "execution_count": 4,
   "metadata": {},
   "outputs": [],
   "source": [
    "# Add the key \"Supporting Actress\" and set the value to \"Viola Davis\".\n",
    "oscar_winners['Supporting Actress']=\"Viola Davis\"\n"
   ]
  },
  {
   "cell_type": "code",
   "execution_count": 5,
   "metadata": {},
   "outputs": [],
   "source": [
    "# Without changing the definition of the dictionary oscar_winners, change the value associated with the key \"Best Picture\" to \"Moonlight\".\n",
    "oscar_winners['Best Picture'] = \"Moonlight\""
   ]
  },
  {
   "cell_type": "code",
   "execution_count": 6,
   "metadata": {},
   "outputs": [
    {
     "data": {
      "text/plain": [
       "{'Best Picture': 'Moonlight',\n",
       " 'Best Actor': 'Casey Affleck',\n",
       " 'Best Actress': 'Emma Stone',\n",
       " 'Animated Feature': 'Zootopia',\n",
       " 'Supporting Actress': 'Viola Davis'}"
      ]
     },
     "execution_count": 6,
     "metadata": {},
     "output_type": "execute_result"
    }
   ],
   "source": [
    "oscar_winners"
   ]
  },
  {
   "cell_type": "markdown",
   "metadata": {},
   "source": [
    "# List Comprehensions to Dictionaries\n",
    "Let’s say we have two lists that we want to combine into a dictionary, like a list of students and a list of their heights, in inches:\n",
    "\n",
    "names = ['Jenny', 'Alexus', 'Sam', 'Grace'] <br>\n",
    "heights = [61, 70, 67, 64]<br>\n",
    "Python allows you to create a dictionary using a list comprehension, with this syntax:\n",
    "<br>\n",
    "students = {key:value for key, value in zip(names, heights)}<br>\n",
    "#students is now {'Jenny': 61, 'Alexus': 70, 'Sam': 67, 'Grace': 64}<br>\n",
    "Remember that zip() combines two lists into a zipped list of pairs. This list comprehension:\n",
    "<br>\n",
    "1. Takes a pair from the zipped list of pairs from names and heights\n",
    "2. Names the elements in the pair key (the one originally from the names list) and value (the one originally from the heights list)\n",
    "3. Creates a key : value item in the students dictionary\n",
    "4. Repeats steps 1-3 for the entire list of pairs"
   ]
  },
  {
   "cell_type": "code",
   "execution_count": 7,
   "metadata": {},
   "outputs": [],
   "source": [
    "# create two lists\n",
    "drinks = [\"espresso\", \"chai\", \"decaf\", \"drip\"]\n",
    "caffeine = [64, 40, 0, 120]"
   ]
  },
  {
   "cell_type": "code",
   "execution_count": 11,
   "metadata": {},
   "outputs": [
    {
     "data": {
      "text/plain": [
       "[('espresso', 64), ('chai', 40), ('decaf', 0), ('drip', 120)]"
      ]
     },
     "execution_count": 11,
     "metadata": {},
     "output_type": "execute_result"
    }
   ],
   "source": [
    "# You have two lists, representing some drinks sold at a coffee shop and the milligrams of caffeine in each. First, create a variable called zipped_drinks that is a zipped list of pairs between the drinks list and the caffeine list.\n",
    "zipped_drinks = list(zip(drinks,caffeine))\n",
    "zipped_drinks"
   ]
  },
  {
   "cell_type": "code",
   "execution_count": 12,
   "metadata": {},
   "outputs": [
    {
     "name": "stdout",
     "output_type": "stream",
     "text": [
      "{'espresso': 64, 'chai': 40, 'decaf': 0, 'drip': 120}\n"
     ]
    }
   ],
   "source": [
    "# Create a dictionary called drinks_to_caffeine by using a list comprehension that goes through the zipped_drinks list and turns each pair into a key:value item.\n",
    "drinks_to_caffeine = {key:value for key, value in(zipped_drinks)}\n",
    "print(drinks_to_caffeine)"
   ]
  },
  {
   "cell_type": "markdown",
   "metadata": {},
   "source": [
    "# Example_2"
   ]
  },
  {
   "cell_type": "code",
   "execution_count": 13,
   "metadata": {},
   "outputs": [],
   "source": [
    "names = ['iqra', 'zarlish', 'Anusha', 'Hajra', 'Tehreem']\n",
    "\n",
    "age = [30,29,28,27,26,25]\n"
   ]
  },
  {
   "cell_type": "code",
   "execution_count": 15,
   "metadata": {},
   "outputs": [
    {
     "data": {
      "text/plain": [
       "[('iqra', 30), ('zarlish', 29), ('Anusha', 28), ('Hajra', 27), ('Tehreem', 26)]"
      ]
     },
     "execution_count": 15,
     "metadata": {},
     "output_type": "execute_result"
    }
   ],
   "source": [
    "zip_lis = list(zip(names, age))\n",
    "zip_lis"
   ]
  },
  {
   "cell_type": "code",
   "execution_count": 17,
   "metadata": {},
   "outputs": [
    {
     "data": {
      "text/plain": [
       "{'iqra': 30, 'zarlish': 29, 'Anusha': 28, 'Hajra': 27, 'Tehreem': 26}"
      ]
     },
     "execution_count": 17,
     "metadata": {},
     "output_type": "execute_result"
    }
   ],
   "source": [
    "name_age = {key:value for key, value in(zip_lis)}\n",
    "name_age"
   ]
  },
  {
   "cell_type": "markdown",
   "metadata": {},
   "source": [
    "# Example_3\n",
    "1.\n",
    "We are building a music streaming service. We have provided two lists, representing songs in a user’s library and the amount of times each song has been played.\n",
    "\n",
    "Using a list comprehension, create a dictionary called plays that goes through zip(songs, playcounts) and creates a song:playcount pair for each song in songs and each playcount in playcounts.\n",
    "\n",
    "Checkpoint 2 Passed\n",
    "\n",
    "Hint\n",
    "To create a dictionary from a list comprehension use this syntax:\n",
    "\n",
    "new_dict = {key:value for key, value in zip(key_list, value_list)}\n",
    "2.\n",
    "Print plays.\n",
    "\n",
    "Checkpoint 3 Passed\n",
    "3.\n",
    "After printing plays, add a new entry to it. The entry should be for the song \"Purple Haze\" and the playcount is 1.\n",
    "\n",
    "Checkpoint 4 Passed\n",
    "4.\n",
    "This user has caught Aretha Franklin fever and listened to “Respect” 5 more times. Update the value for \"Respect\" to be 94 in the plays dictionary.\n",
    "\n",
    "Checkpoint 5 Passed\n",
    "5.\n",
    "Create a dictionary called library that has two key: value pairs:\n",
    "\n",
    "key \"The Best Songs\" with a value of plays, the dictionary you created\n",
    "key \"Sunday Feelings\" with a value of an empty dictionary\n",
    "Checkpoint 6 Passed\n",
    "6.\n",
    "Print library."
   ]
  },
  {
   "cell_type": "code",
   "execution_count": 18,
   "metadata": {},
   "outputs": [],
   "source": [
    "songs = [\"Like a Rolling Stone\", \"Satisfaction\", \"Imagine\", \"What's Going On\", \"Respect\", \"Good Vibrations\"]\n",
    "playcounts = [78, 29, 44, 21, 89, 5]"
   ]
  },
  {
   "cell_type": "code",
   "execution_count": 19,
   "metadata": {},
   "outputs": [
    {
     "name": "stdout",
     "output_type": "stream",
     "text": [
      "{'Like a Rolling Stone': 78, 'Satisfaction': 29, 'Imagine': 44, \"What's Going On\": 21, 'Respect': 89, 'Good Vibrations': 5}\n",
      "{'The Best Songs': {'Like a Rolling Stone': 78, 'Satisfaction': 29, 'Imagine': 44, \"What's Going On\": 21, 'Respect': 94, 'Good Vibrations': 5, 'Purple Haze': 1}, 'Sunday Feelings': {}}\n"
     ]
    }
   ],
   "source": [
    "songs = [\"Like a Rolling Stone\", \"Satisfaction\", \"Imagine\", \"What's Going On\", \"Respect\", \"Good Vibrations\"]\n",
    "playcounts = [78, 29, 44, 21, 89, 5]\n",
    "\n",
    "plays = {key:value for key, value in zip( songs, playcounts)}\n",
    "print(plays)\n",
    "\n",
    "plays[\"Purple Haze\"] = 1\n",
    "plays['Respect'] = 94\n",
    "\n",
    "library = {\"The Best Songs\":plays, \"Sunday Feelings\":{}}\n",
    "print(library)"
   ]
  },
  {
   "cell_type": "markdown",
   "metadata": {},
   "source": [
    "# Futher Study material "
   ]
  },
  {
   "cell_type": "code",
   "execution_count": 26,
   "metadata": {},
   "outputs": [],
   "source": [
    "url = 'https://docs.python.org/3/tutorial/datastructures.html#dictionaries'"
   ]
  },
  {
   "cell_type": "code",
   "execution_count": null,
   "metadata": {},
   "outputs": [],
   "source": []
  },
  {
   "cell_type": "code",
   "execution_count": null,
   "metadata": {},
   "outputs": [],
   "source": []
  }
 ],
 "metadata": {
  "kernelspec": {
   "display_name": "Python 3",
   "language": "python",
   "name": "python3"
  },
  "language_info": {
   "codemirror_mode": {
    "name": "ipython",
    "version": 3
   },
   "file_extension": ".py",
   "mimetype": "text/x-python",
   "name": "python",
   "nbconvert_exporter": "python",
   "pygments_lexer": "ipython3",
   "version": "3.7.0"
  }
 },
 "nbformat": 4,
 "nbformat_minor": 2
}
