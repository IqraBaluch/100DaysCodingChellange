{
 "cells": [
  {
   "cell_type": "markdown",
   "metadata": {},
   "source": [
    " # 100 Days Of Coding Challange | DAY 03"
   ]
  },
  {
   "cell_type": "markdown",
   "metadata": {},
   "source": [
    "***"
   ]
  },
  {
   "cell_type": "markdown",
   "metadata": {},
   "source": [
    "## Slicing and dicing (2)"
   ]
  },
  {
   "cell_type": "code",
   "execution_count": 4,
   "metadata": {},
   "outputs": [
    {
     "name": "stdout",
     "output_type": "stream",
     "text": [
      "['hallway', 11.25, 'kitchen', 18.0, 'living room', 20.0]\n",
      "['bedroom', 10.75, 'bathroom', 9.5]\n"
     ]
    }
   ],
   "source": [
    "# Create the areas list\n",
    "areas = [\"hallway\", 11.25, \"kitchen\", 18.0, \"living room\", 20.0, \"bedroom\", 10.75, \"bathroom\", 9.50]\n",
    "#Create downstairs again, as the first 6 elements of areas. This time, simplify the slicing by omitting the begin index.\n",
    "\n",
    "downstairs = areas[:6]\n",
    "print(downstairs)\n",
    "\n",
    "#Create upstairs again, as the last 4 elements of areas. This time, simplify the slicing by omitting the end index.\n",
    "upstairs = areas[6:]\n",
    "print(upstairs)"
   ]
  },
  {
   "cell_type": "markdown",
   "metadata": {},
   "source": [
    "## List Manipulation"
   ]
  },
  {
   "cell_type": "markdown",
   "metadata": {},
   "source": [
    "Change list elemants <br>\n",
    "Remove elemants From list <br>\n",
    "Add new elemants in list."
   ]
  },
  {
   "cell_type": "markdown",
   "metadata": {},
   "source": [
    "#### Replace list elements"
   ]
  },
  {
   "cell_type": "code",
   "execution_count": 11,
   "metadata": {},
   "outputs": [],
   "source": [
    "# Create the areas list\n",
    "areas = [\"hallway\", 11.25, \"kitchen\", 18.0, \"living room\", 20.0, \"bedroom\", 10.75, \"bathroom\", 9.50]\n",
    "\n",
    "# Correct the bathroom area\n",
    "areas[-1] = 10.50\n",
    "\n",
    "# Change \"living room\" to \"chill zone\"\n",
    "areas[4] = \"chill zone\"\n",
    "\n",
    "#more practice\n",
    "\n",
    "areas[2] = \"Room\"\n",
    "areas[3] = 10.24\n",
    "areas[-2] = \"Bath\""
   ]
  },
  {
   "cell_type": "code",
   "execution_count": 12,
   "metadata": {},
   "outputs": [
    {
     "name": "stdout",
     "output_type": "stream",
     "text": [
      "['hallway', 11.25, 'Room', 10.24, 'chill zone', 20.0, 'bedroom', 10.75, 'Bath', 10.5]\n"
     ]
    }
   ],
   "source": [
    "print(areas)"
   ]
  },
  {
   "cell_type": "markdown",
   "metadata": {},
   "source": [
    "#### Extend a list"
   ]
  },
  {
   "cell_type": "code",
   "execution_count": 14,
   "metadata": {},
   "outputs": [
    {
     "name": "stdout",
     "output_type": "stream",
     "text": [
      "['hallway', 11.25, 'kitchen', 18.0, 'chill zone', 20.0, 'bedroom', 10.75, 'bathroom', 10.5, 'poolhouse', 24.5, 'garage', 15.45, 'Drawing rooom', 20.12]\n"
     ]
    }
   ],
   "source": [
    "# Create the areas list and make some changes\n",
    "areas = [\"hallway\", 11.25, \"kitchen\", 18.0, \"chill zone\", 20.0,\n",
    "         \"bedroom\", 10.75, \"bathroom\", 10.50]\n",
    "\n",
    "# Add poolhouse data to areas, new list is areas_1\n",
    "areas_1 = areas + [\"poolhouse\", 24.5]\n",
    "\n",
    "# Add garage data to areas_1, new list is areas_2\n",
    "areas_2 = areas_1 + [\"garage\", 15.45]\n",
    "\n",
    "#more practice\n",
    "\n",
    "areas_3 = areas_2 + [\"Drawing rooom\", 20.12]\n",
    "\n",
    "print(areas_3)"
   ]
  },
  {
   "cell_type": "code",
   "execution_count": 20,
   "metadata": {},
   "outputs": [
    {
     "name": "stdout",
     "output_type": "stream",
     "text": [
      "[11.25, 18.0, 20.0, 10.75, 9.5]\n",
      "[5.0, 18.0, 20.0, 10.75, 9.5]\n"
     ]
    }
   ],
   "source": [
    "# Create list areas\n",
    "areas = [11.25, 18.0, 20.0, 10.75, 9.50]\n",
    "\n",
    "# Create areas_copy\n",
    "areas_copy = list(areas)\n",
    "\n",
    "# Change areas_copy\n",
    "areas_copy[0] = 5.0\n",
    "\n",
    "# Print areas\n",
    "print(areas)\n",
    "\n",
    "print(areas_copy)"
   ]
  },
  {
   "cell_type": "markdown",
   "metadata": {},
   "source": [
    "# LIST PROJECT"
   ]
  },
  {
   "cell_type": "markdown",
   "metadata": {},
   "source": [
    "# Medical Insurance"
   ]
  },
  {
   "cell_type": "markdown",
   "metadata": {},
   "source": [
    "##### By working with the data set I'll analyse how different factors contribute to medical insurance costs."
   ]
  },
  {
   "cell_type": "code",
   "execution_count": 94,
   "metadata": {},
   "outputs": [
    {
     "name": "stdout",
     "output_type": "stream",
     "text": [
      "Maria's Estimated Insurance Cost: 4222.0 dollars.\n",
      "Rohan's Estimated Insurance Cost: 5442.0 dollars.\n",
      "Valentina's Estimated Insurance Cost: 36368.0 dollars.\n",
      "Iqra's Estimated Insurance Cost: 650 dollars.\n"
     ]
    }
   ],
   "source": [
    "# Function to estimate insurance cost:\n",
    "def estimate_insurance_cost(name, age, sex, bmi, num_of_children, smoker):\n",
    "#    formula for estimated cost\n",
    "    estimated_cost = 250*age - 128*sex + 370*bmi + 425*num_of_children + 24000*smoker - 12500\n",
    "#    print statment used for everyone whos insurance cost we want to know, \n",
    "    print(name + \"'s Estimated Insurance Cost: \" + str(estimated_cost) + \" dollars.\")\n",
    "    return estimated_cost\n",
    " \n",
    "# Estimate Maria's insurance cost\n",
    "maria_insurance_cost = estimate_insurance_cost(name = \"Maria\", age = 31, sex = 0, bmi = 23.1, num_of_children = 1, smoker = 0)\n",
    "\n",
    "# Estimate Rohan's insurance cost\n",
    "rohan_insurance_cost = estimate_insurance_cost(name = \"Rohan\", age = 25, sex = 1, bmi = 28.5, num_of_children = 3, smoker = 0)\n",
    "\n",
    "# Estimate Valentina's insurance cost\n",
    "valentina_insurance_cost = estimate_insurance_cost(name = \"Valentina\", age = 53, sex = 0, bmi = 31.4, num_of_children = 0, smoker = 1)\n",
    "\n",
    "# Estimate Iqra's insurance cost \n",
    "iqra_insurance_cost = estimate_insurance_cost(name = 'Iqra', age = 23, sex = 0, bmi = 20, num_of_children = 0, smoker = 0)"
   ]
  },
  {
   "cell_type": "markdown",
   "metadata": {},
   "source": [
    "###### We want to compare the estimated insurance costs (as calculated by our function) to the actual amounts that Maria, Rohan, and Valentina paid."
   ]
  },
  {
   "cell_type": "code",
   "execution_count": 95,
   "metadata": {},
   "outputs": [
    {
     "name": "stdout",
     "output_type": "stream",
     "text": [
      "[('Maria', 4150.0), ('Rohan', 5320.0), ('Valentina', 35210.0), ('Iqra', 650.0)]\n"
     ]
    }
   ],
   "source": [
    "#Create a list called names and fill it with the names of the individuals you are estimating insurance costs for\n",
    "#Maria, Rohan, Valrntina and Iqra\n",
    "\n",
    "names = [\"Maria\", \"Rohan\", \"Valentina\", \"Iqra\"]\n",
    "\n",
    "#Next, create a list called insurance_costs and fill it with the actual amounts that Maria, Rohan, and Valentina paid for insurance:\n",
    "#4150.0, 5320.0, 35210.0 nd 650.0\n",
    "\n",
    "insurance_cost = [4150.0, 5320.0, 35210.0, 650.0]\n",
    "\n",
    "#Create a new variable called insurance_data that combines names and insurance_costs using the zip() function.\n",
    "insurance_data =list(zip(names, insurance_cost))\n",
    "\n",
    "#print new list\n",
    "print(insurance_data)"
   ]
  },
  {
   "cell_type": "markdown",
   "metadata": {},
   "source": [
    "### Appending to a List"
   ]
  },
  {
   "cell_type": "code",
   "execution_count": 96,
   "metadata": {},
   "outputs": [
    {
     "name": "stdout",
     "output_type": "stream",
     "text": [
      "[('Maria', 4222.0), ('Rohan', 5442.0), ('Valentina', 36368.0), ('Iqra', 650)]\n"
     ]
    }
   ],
   "source": [
    "#Next, create an empty list called estimated_insurance_data.\n",
    "estimated_insurance_data = []\n",
    "\n",
    "#want to add our estimated insurance data for Maria, Rohan, Valentina and Iqra to the estimated_insurance_data list.\n",
    "#use list.append() function\n",
    "\n",
    "estimated_insurance_data.append((\"Maria\",maria_insurance_cost))\n",
    "estimated_insurance_data.append((\"Rohan\",rohan_insurance_cost))\n",
    "estimated_insurance_data.append((\"Valentina\",valentina_insurance_cost))\n",
    "estimated_insurance_data.append((\"Iqra\",iqra_insurance_cost))\n",
    "\n",
    "#print teh empty list\n",
    "\n",
    "print(estimated_insurance_data)"
   ]
  },
  {
   "cell_type": "markdown",
   "metadata": {},
   "source": [
    "### Inspecting the data"
   ]
  },
  {
   "cell_type": "code",
   "execution_count": 98,
   "metadata": {},
   "outputs": [
    {
     "name": "stdout",
     "output_type": "stream",
     "text": [
      "This is the actual insurance cost[('Maria', 4150.0), ('Rohan', 5320.0), ('Valentina', 35210.0), ('Iqra', 650.0)]\n",
      "This is the estimated Insurance Cost[('Maria', 4222.0), ('Rohan', 5442.0), ('Valentina', 36368.0), ('Iqra', 650)]\n"
     ]
    }
   ],
   "source": [
    "# Add to the print statement for insurance_data\n",
    "#Actual insurance\n",
    "print(\"This is the actual insurance cost\" + str(insurance_data))\n",
    "\n",
    "#estimated insurance cost\n",
    "print(\"This is the estimated Insurance Cost\"+ str(estimated_insurance_data))"
   ]
  },
  {
   "cell_type": "markdown",
   "metadata": {},
   "source": [
    "### Difference "
   ]
  },
  {
   "cell_type": "code",
   "execution_count": 100,
   "metadata": {},
   "outputs": [
    {
     "ename": "TypeError",
     "evalue": "unsupported operand type(s) for -: 'list' and 'list'",
     "output_type": "error",
     "traceback": [
      "\u001b[1;31m---------------------------------------------------------------------------\u001b[0m",
      "\u001b[1;31mTypeError\u001b[0m                                 Traceback (most recent call last)",
      "\u001b[1;32m<ipython-input-100-7a18b2c4ab3e>\u001b[0m in \u001b[0;36m<module>\u001b[1;34m()\u001b[0m\n\u001b[0;32m      2\u001b[0m \u001b[1;31m#and store the results in a list called insurance_cost_difference.\u001b[0m\u001b[1;33m\u001b[0m\u001b[1;33m\u001b[0m\u001b[0m\n\u001b[0;32m      3\u001b[0m \u001b[1;33m\u001b[0m\u001b[0m\n\u001b[1;32m----> 4\u001b[1;33m \u001b[0minsurance_cost_difference\u001b[0m \u001b[1;33m=\u001b[0m \u001b[0minsurance_data\u001b[0m \u001b[1;33m-\u001b[0m \u001b[0mestimated_insurance_data\u001b[0m\u001b[1;33m\u001b[0m\u001b[0m\n\u001b[0m",
      "\u001b[1;31mTypeError\u001b[0m: unsupported operand type(s) for -: 'list' and 'list'"
     ]
    }
   ],
   "source": [
    "#Calculate the difference between the actual insurance cost data and the estimated insurance cost data for each individual,\n",
    "#and store the results in a list called insurance_cost_difference.\n",
    "\n",
    "insurance_cost_difference = insurance_data - estimated_insurance_data\n"
   ]
  },
  {
   "cell_type": "markdown",
   "metadata": {},
   "source": [
    "# Working with Python Lists: Medical Insurance Project\n"
   ]
  },
  {
   "cell_type": "markdown",
   "metadata": {},
   "source": [
    "## Suppose You are a doctor sorting through medical insurance cost data for some patients.\n",
    "\n",
    "### Using your knowledge of Python lists, I will store medical data and see what valuable insights you can gain from that data.\n"
   ]
  },
  {
   "cell_type": "code",
   "execution_count": 148,
   "metadata": {},
   "outputs": [
    {
     "name": "stdout",
     "output_type": "stream",
     "text": [
      "Here is the list of medical recorsd [('Mohamed', 4150.0), ('Sara', 5320.0), ('Xia', 35210.0), ('Paul', 650.0)]\n",
      "There are 4 records we wre working with.\n",
      "First medical record is [('Mohamed', 4150.0)]\n",
      "Highiest insurance is ('Xia', 35210.0)\n",
      "lowest insurance is ('Mohamed', 4150.0)\n"
     ]
    }
   ],
   "source": [
    "## create two lists names and insurance_cost put some random values \n",
    "\n",
    "names = [\"Mohamed\", \"Sara\", \"Xia\", \"Paul\", \"Valentina\", \"Jide\", \"Aaron\", \"Emily\", \"Nikita\", \"Paul\"]\n",
    "insurance_costs = [13262.0, 4816.0, 6839.0, 5054.0, 14724.0, 5360.0, 7640.0, 6072.0, 2750.0, 12064.0]\n",
    "\n",
    "#Append a new individual, \"Priscilla\", to names.\n",
    "names.append(\"Priscilla\")\n",
    "\n",
    "#ppend her insurance cost, 8320.0, to\n",
    "insurance_costs.append(8320.0)\n",
    "\n",
    "#Create a new variable called medical_records that combines insurance_costs and names into a list using the zip() function.\n",
    "medical_record = list(zip(names, insurance_cost))\n",
    "\n",
    "#print medical_record\n",
    "print(\"Here is the list of medical recorsd \"+str(medical_record))\n",
    "\n",
    "#want to see how many medical records we’re dealing with. \n",
    "#reate a variable called num_medical_records that stores the length of medical_records.\n",
    "num_medical_records = len(medical_record)\n",
    "\n",
    "#print length of medical records\n",
    "print(\"There are \"+ str(num_medical_records)+\" records we wre working with.\")\n",
    "\n",
    "#Select the first medical record in medical_records, and save it to a variable called first_medical_record\n",
    "first_medical_record = medical_record[:1]\n",
    "print(\"First medical record is \"+ str(first_medical_record))\n",
    "\n",
    "heighest_insurance = max(medical_record)\n",
    "print(\"Highiest insurance is \"+ str(heighest_insurance))\n",
    "lowest = min(medical_record)\n",
    "print(\"lowest insurance is \"+ str(lowest))"
   ]
  },
  {
   "cell_type": "markdown",
   "metadata": {},
   "source": [
    "# Python Tuple"
   ]
  },
  {
   "cell_type": "code",
   "execution_count": 140,
   "metadata": {},
   "outputs": [],
   "source": [
    "my_info = (\"Iqra\" , \"data analyst\")"
   ]
  },
  {
   "cell_type": "code",
   "execution_count": 142,
   "metadata": {},
   "outputs": [
    {
     "name": "stdout",
     "output_type": "stream",
     "text": [
      "('Iqra', 'data analyst')\n"
     ]
    }
   ],
   "source": [
    "print(my_info)"
   ]
  },
  {
   "cell_type": "code",
   "execution_count": 144,
   "metadata": {},
   "outputs": [
    {
     "data": {
      "text/plain": [
       "'Iqra'"
      ]
     },
     "execution_count": 144,
     "metadata": {},
     "output_type": "execute_result"
    }
   ],
   "source": [
    "my_info[0]"
   ]
  },
  {
   "cell_type": "code",
   "execution_count": 145,
   "metadata": {},
   "outputs": [
    {
     "data": {
      "text/plain": [
       "'data analyst'"
      ]
     },
     "execution_count": 145,
     "metadata": {},
     "output_type": "execute_result"
    }
   ],
   "source": [
    "my_info[1]"
   ]
  },
  {
   "cell_type": "markdown",
   "metadata": {},
   "source": [
    "***"
   ]
  },
  {
   "cell_type": "markdown",
   "metadata": {},
   "source": [
    "# Built in Functions "
   ]
  },
  {
   "cell_type": "markdown",
   "metadata": {},
   "source": [
    "***"
   ]
  },
  {
   "cell_type": "code",
   "execution_count": 158,
   "metadata": {},
   "outputs": [
    {
     "name": "stdout",
     "output_type": "stream",
     "text": [
      "<class 'list'>\n",
      "4\n",
      "1\n"
     ]
    }
   ],
   "source": [
    "# Create variables var1 and var2\n",
    "var1 = [1, 2, 3, 4]\n",
    "var2 = True\n",
    "\n",
    "# Print out type of var1\n",
    "print(type(var1))\n",
    "\n",
    "# Print out length of var1\n",
    "print(len(var1))\n",
    "\n",
    "# Convert var2 to an integer: out2\n",
    "print(int(var2))"
   ]
  },
  {
   "cell_type": "markdown",
   "metadata": {},
   "source": [
    "#### Functions\n",
    "\n",
    ".replace <br>\n",
    ".capitalize <br>\n",
    ".max <br>\n",
    ".min <br>\n",
    ".count <br>\n",
    ".append <br>\n",
    "type <br>\n",
    ".index <br>"
   ]
  },
  {
   "cell_type": "code",
   "execution_count": 159,
   "metadata": {},
   "outputs": [
    {
     "name": "stdout",
     "output_type": "stream",
     "text": [
      "None\n"
     ]
    }
   ],
   "source": [
    "# Create lists first and second\n",
    "first = [11.25, 18.0, 20.0]\n",
    "second = [10.75, 9.50]\n",
    "\n",
    "# Paste together first and second: full\n",
    "full = first + second\n",
    "\n",
    "# Sort full in descending order: full_sorted\n",
    "full_sorted = full.sort()\n",
    "\n",
    "# Print out full_sorted\n",
    "print(full_sorted)"
   ]
  },
  {
   "cell_type": "code",
   "execution_count": null,
   "metadata": {},
   "outputs": [],
   "source": [
    "# Methods "
   ]
  },
  {
   "cell_type": "code",
   "execution_count": 3,
   "metadata": {},
   "outputs": [
    {
     "ename": "NameError",
     "evalue": "name 'upper' is not defined",
     "output_type": "error",
     "traceback": [
      "\u001b[1;31m---------------------------------------------------------------------------\u001b[0m",
      "\u001b[1;31mNameError\u001b[0m                                 Traceback (most recent call last)",
      "\u001b[1;32m<ipython-input-3-530389cdf3be>\u001b[0m in \u001b[0;36m<module>\u001b[1;34m()\u001b[0m\n\u001b[0;32m      4\u001b[0m \u001b[1;31m# Use upper() on place: place_up\u001b[0m\u001b[1;33m\u001b[0m\u001b[1;33m\u001b[0m\u001b[0m\n\u001b[0;32m      5\u001b[0m \u001b[1;33m\u001b[0m\u001b[0m\n\u001b[1;32m----> 6\u001b[1;33m \u001b[0mplace_up\u001b[0m \u001b[1;33m=\u001b[0m \u001b[0mupper\u001b[0m\u001b[1;33m.\u001b[0m\u001b[0mplace\u001b[0m\u001b[1;33m(\u001b[0m\u001b[1;33m)\u001b[0m\u001b[1;33m\u001b[0m\u001b[0m\n\u001b[0m\u001b[0;32m      7\u001b[0m \u001b[1;31m# Print out place and place_up\u001b[0m\u001b[1;33m\u001b[0m\u001b[1;33m\u001b[0m\u001b[0m\n\u001b[0;32m      8\u001b[0m \u001b[0mprint\u001b[0m\u001b[1;33m(\u001b[0m\u001b[0mplace_up\u001b[0m\u001b[1;33m)\u001b[0m\u001b[1;33m\u001b[0m\u001b[0m\n",
      "\u001b[1;31mNameError\u001b[0m: name 'upper' is not defined"
     ]
    }
   ],
   "source": [
    "# string to experiment with: place\n",
    "place = \"poolhouse\"\n",
    "\n",
    "# Use upper() on place: place_up\n",
    "\n",
    "place_up = upper.place()\n",
    "# Print out place and place_up\n",
    "print(place_up)\n",
    "\n",
    "# Print out the number of o's in place\n",
    "print(count(o))"
   ]
  },
  {
   "cell_type": "code",
   "execution_count": null,
   "metadata": {},
   "outputs": [],
   "source": []
  }
 ],
 "metadata": {
  "kernelspec": {
   "display_name": "Python 3",
   "language": "python",
   "name": "python3"
  },
  "language_info": {
   "codemirror_mode": {
    "name": "ipython",
    "version": 3
   },
   "file_extension": ".py",
   "mimetype": "text/x-python",
   "name": "python",
   "nbconvert_exporter": "python",
   "pygments_lexer": "ipython3",
   "version": "3.7.0"
  }
 },
 "nbformat": 4,
 "nbformat_minor": 2
}
