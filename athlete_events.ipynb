{
 "cells": [
  {
   "cell_type": "markdown",
   "metadata": {},
   "source": [
    "# Import Dataset through Pandas"
   ]
  },
  {
   "cell_type": "code",
   "execution_count": 1,
   "metadata": {},
   "outputs": [],
   "source": [
    "import pandas as pd"
   ]
  },
  {
   "cell_type": "code",
   "execution_count": 2,
   "metadata": {},
   "outputs": [
    {
     "data": {
      "text/html": [
       "<div>\n",
       "<style scoped>\n",
       "    .dataframe tbody tr th:only-of-type {\n",
       "        vertical-align: middle;\n",
       "    }\n",
       "\n",
       "    .dataframe tbody tr th {\n",
       "        vertical-align: top;\n",
       "    }\n",
       "\n",
       "    .dataframe thead th {\n",
       "        text-align: right;\n",
       "    }\n",
       "</style>\n",
       "<table border=\"1\" class=\"dataframe\">\n",
       "  <thead>\n",
       "    <tr style=\"text-align: right;\">\n",
       "      <th></th>\n",
       "      <th>ID</th>\n",
       "      <th>Name</th>\n",
       "      <th>Sex</th>\n",
       "      <th>Age</th>\n",
       "      <th>Height</th>\n",
       "      <th>Weight</th>\n",
       "      <th>Team</th>\n",
       "      <th>NOC</th>\n",
       "      <th>Games</th>\n",
       "      <th>Year</th>\n",
       "      <th>Season</th>\n",
       "      <th>City</th>\n",
       "      <th>Sport</th>\n",
       "      <th>Event</th>\n",
       "      <th>Medal</th>\n",
       "    </tr>\n",
       "  </thead>\n",
       "  <tbody>\n",
       "    <tr>\n",
       "      <th>0</th>\n",
       "      <td>1</td>\n",
       "      <td>A Dijiang</td>\n",
       "      <td>M</td>\n",
       "      <td>24.0</td>\n",
       "      <td>180.0</td>\n",
       "      <td>80.0</td>\n",
       "      <td>China</td>\n",
       "      <td>CHN</td>\n",
       "      <td>1992 Summer</td>\n",
       "      <td>1992</td>\n",
       "      <td>Summer</td>\n",
       "      <td>Barcelona</td>\n",
       "      <td>Basketball</td>\n",
       "      <td>Basketball Men's Basketball</td>\n",
       "      <td>NaN</td>\n",
       "    </tr>\n",
       "    <tr>\n",
       "      <th>1</th>\n",
       "      <td>2</td>\n",
       "      <td>A Lamusi</td>\n",
       "      <td>M</td>\n",
       "      <td>23.0</td>\n",
       "      <td>170.0</td>\n",
       "      <td>60.0</td>\n",
       "      <td>China</td>\n",
       "      <td>CHN</td>\n",
       "      <td>2012 Summer</td>\n",
       "      <td>2012</td>\n",
       "      <td>Summer</td>\n",
       "      <td>London</td>\n",
       "      <td>Judo</td>\n",
       "      <td>Judo Men's Extra-Lightweight</td>\n",
       "      <td>NaN</td>\n",
       "    </tr>\n",
       "    <tr>\n",
       "      <th>2</th>\n",
       "      <td>3</td>\n",
       "      <td>Gunnar Nielsen Aaby</td>\n",
       "      <td>M</td>\n",
       "      <td>24.0</td>\n",
       "      <td>NaN</td>\n",
       "      <td>NaN</td>\n",
       "      <td>Denmark</td>\n",
       "      <td>DEN</td>\n",
       "      <td>1920 Summer</td>\n",
       "      <td>1920</td>\n",
       "      <td>Summer</td>\n",
       "      <td>Antwerpen</td>\n",
       "      <td>Football</td>\n",
       "      <td>Football Men's Football</td>\n",
       "      <td>NaN</td>\n",
       "    </tr>\n",
       "    <tr>\n",
       "      <th>3</th>\n",
       "      <td>4</td>\n",
       "      <td>Edgar Lindenau Aabye</td>\n",
       "      <td>M</td>\n",
       "      <td>34.0</td>\n",
       "      <td>NaN</td>\n",
       "      <td>NaN</td>\n",
       "      <td>Denmark/Sweden</td>\n",
       "      <td>DEN</td>\n",
       "      <td>1900 Summer</td>\n",
       "      <td>1900</td>\n",
       "      <td>Summer</td>\n",
       "      <td>Paris</td>\n",
       "      <td>Tug-Of-War</td>\n",
       "      <td>Tug-Of-War Men's Tug-Of-War</td>\n",
       "      <td>Gold</td>\n",
       "    </tr>\n",
       "    <tr>\n",
       "      <th>4</th>\n",
       "      <td>5</td>\n",
       "      <td>Christine Jacoba Aaftink</td>\n",
       "      <td>F</td>\n",
       "      <td>21.0</td>\n",
       "      <td>185.0</td>\n",
       "      <td>82.0</td>\n",
       "      <td>Netherlands</td>\n",
       "      <td>NED</td>\n",
       "      <td>1988 Winter</td>\n",
       "      <td>1988</td>\n",
       "      <td>Winter</td>\n",
       "      <td>Calgary</td>\n",
       "      <td>Speed Skating</td>\n",
       "      <td>Speed Skating Women's 500 metres</td>\n",
       "      <td>NaN</td>\n",
       "    </tr>\n",
       "    <tr>\n",
       "      <th>...</th>\n",
       "      <td>...</td>\n",
       "      <td>...</td>\n",
       "      <td>...</td>\n",
       "      <td>...</td>\n",
       "      <td>...</td>\n",
       "      <td>...</td>\n",
       "      <td>...</td>\n",
       "      <td>...</td>\n",
       "      <td>...</td>\n",
       "      <td>...</td>\n",
       "      <td>...</td>\n",
       "      <td>...</td>\n",
       "      <td>...</td>\n",
       "      <td>...</td>\n",
       "      <td>...</td>\n",
       "    </tr>\n",
       "    <tr>\n",
       "      <th>271111</th>\n",
       "      <td>135569</td>\n",
       "      <td>Andrzej ya</td>\n",
       "      <td>M</td>\n",
       "      <td>29.0</td>\n",
       "      <td>179.0</td>\n",
       "      <td>89.0</td>\n",
       "      <td>Poland-1</td>\n",
       "      <td>POL</td>\n",
       "      <td>1976 Winter</td>\n",
       "      <td>1976</td>\n",
       "      <td>Winter</td>\n",
       "      <td>Innsbruck</td>\n",
       "      <td>Luge</td>\n",
       "      <td>Luge Mixed (Men)'s Doubles</td>\n",
       "      <td>NaN</td>\n",
       "    </tr>\n",
       "    <tr>\n",
       "      <th>271112</th>\n",
       "      <td>135570</td>\n",
       "      <td>Piotr ya</td>\n",
       "      <td>M</td>\n",
       "      <td>27.0</td>\n",
       "      <td>176.0</td>\n",
       "      <td>59.0</td>\n",
       "      <td>Poland</td>\n",
       "      <td>POL</td>\n",
       "      <td>2014 Winter</td>\n",
       "      <td>2014</td>\n",
       "      <td>Winter</td>\n",
       "      <td>Sochi</td>\n",
       "      <td>Ski Jumping</td>\n",
       "      <td>Ski Jumping Men's Large Hill, Individual</td>\n",
       "      <td>NaN</td>\n",
       "    </tr>\n",
       "    <tr>\n",
       "      <th>271113</th>\n",
       "      <td>135570</td>\n",
       "      <td>Piotr ya</td>\n",
       "      <td>M</td>\n",
       "      <td>27.0</td>\n",
       "      <td>176.0</td>\n",
       "      <td>59.0</td>\n",
       "      <td>Poland</td>\n",
       "      <td>POL</td>\n",
       "      <td>2014 Winter</td>\n",
       "      <td>2014</td>\n",
       "      <td>Winter</td>\n",
       "      <td>Sochi</td>\n",
       "      <td>Ski Jumping</td>\n",
       "      <td>Ski Jumping Men's Large Hill, Team</td>\n",
       "      <td>NaN</td>\n",
       "    </tr>\n",
       "    <tr>\n",
       "      <th>271114</th>\n",
       "      <td>135571</td>\n",
       "      <td>Tomasz Ireneusz ya</td>\n",
       "      <td>M</td>\n",
       "      <td>30.0</td>\n",
       "      <td>185.0</td>\n",
       "      <td>96.0</td>\n",
       "      <td>Poland</td>\n",
       "      <td>POL</td>\n",
       "      <td>1998 Winter</td>\n",
       "      <td>1998</td>\n",
       "      <td>Winter</td>\n",
       "      <td>Nagano</td>\n",
       "      <td>Bobsleigh</td>\n",
       "      <td>Bobsleigh Men's Four</td>\n",
       "      <td>NaN</td>\n",
       "    </tr>\n",
       "    <tr>\n",
       "      <th>271115</th>\n",
       "      <td>135571</td>\n",
       "      <td>Tomasz Ireneusz ya</td>\n",
       "      <td>M</td>\n",
       "      <td>34.0</td>\n",
       "      <td>185.0</td>\n",
       "      <td>96.0</td>\n",
       "      <td>Poland</td>\n",
       "      <td>POL</td>\n",
       "      <td>2002 Winter</td>\n",
       "      <td>2002</td>\n",
       "      <td>Winter</td>\n",
       "      <td>Salt Lake City</td>\n",
       "      <td>Bobsleigh</td>\n",
       "      <td>Bobsleigh Men's Four</td>\n",
       "      <td>NaN</td>\n",
       "    </tr>\n",
       "  </tbody>\n",
       "</table>\n",
       "<p>271116 rows × 15 columns</p>\n",
       "</div>"
      ],
      "text/plain": [
       "            ID                      Name Sex   Age  Height  Weight  \\\n",
       "0            1                 A Dijiang   M  24.0   180.0    80.0   \n",
       "1            2                  A Lamusi   M  23.0   170.0    60.0   \n",
       "2            3       Gunnar Nielsen Aaby   M  24.0     NaN     NaN   \n",
       "3            4      Edgar Lindenau Aabye   M  34.0     NaN     NaN   \n",
       "4            5  Christine Jacoba Aaftink   F  21.0   185.0    82.0   \n",
       "...        ...                       ...  ..   ...     ...     ...   \n",
       "271111  135569                Andrzej ya   M  29.0   179.0    89.0   \n",
       "271112  135570                  Piotr ya   M  27.0   176.0    59.0   \n",
       "271113  135570                  Piotr ya   M  27.0   176.0    59.0   \n",
       "271114  135571        Tomasz Ireneusz ya   M  30.0   185.0    96.0   \n",
       "271115  135571        Tomasz Ireneusz ya   M  34.0   185.0    96.0   \n",
       "\n",
       "                  Team  NOC        Games  Year  Season            City  \\\n",
       "0                China  CHN  1992 Summer  1992  Summer       Barcelona   \n",
       "1                China  CHN  2012 Summer  2012  Summer          London   \n",
       "2              Denmark  DEN  1920 Summer  1920  Summer       Antwerpen   \n",
       "3       Denmark/Sweden  DEN  1900 Summer  1900  Summer           Paris   \n",
       "4          Netherlands  NED  1988 Winter  1988  Winter         Calgary   \n",
       "...                ...  ...          ...   ...     ...             ...   \n",
       "271111        Poland-1  POL  1976 Winter  1976  Winter       Innsbruck   \n",
       "271112          Poland  POL  2014 Winter  2014  Winter           Sochi   \n",
       "271113          Poland  POL  2014 Winter  2014  Winter           Sochi   \n",
       "271114          Poland  POL  1998 Winter  1998  Winter          Nagano   \n",
       "271115          Poland  POL  2002 Winter  2002  Winter  Salt Lake City   \n",
       "\n",
       "                Sport                                     Event Medal  \n",
       "0          Basketball               Basketball Men's Basketball   NaN  \n",
       "1                Judo              Judo Men's Extra-Lightweight   NaN  \n",
       "2            Football                   Football Men's Football   NaN  \n",
       "3          Tug-Of-War               Tug-Of-War Men's Tug-Of-War  Gold  \n",
       "4       Speed Skating          Speed Skating Women's 500 metres   NaN  \n",
       "...               ...                                       ...   ...  \n",
       "271111           Luge                Luge Mixed (Men)'s Doubles   NaN  \n",
       "271112    Ski Jumping  Ski Jumping Men's Large Hill, Individual   NaN  \n",
       "271113    Ski Jumping        Ski Jumping Men's Large Hill, Team   NaN  \n",
       "271114      Bobsleigh                      Bobsleigh Men's Four   NaN  \n",
       "271115      Bobsleigh                      Bobsleigh Men's Four   NaN  \n",
       "\n",
       "[271116 rows x 15 columns]"
      ]
     },
     "execution_count": 2,
     "metadata": {},
     "output_type": "execute_result"
    }
   ],
   "source": [
    "df = pd.read_csv('Desktop/athlete_events.csv')\n",
    "df"
   ]
  },
  {
   "cell_type": "markdown",
   "metadata": {},
   "source": [
    "# Cities"
   ]
  },
  {
   "cell_type": "code",
   "execution_count": 3,
   "metadata": {},
   "outputs": [
    {
     "data": {
      "text/plain": [
       "0              Barcelona\n",
       "1                 London\n",
       "2              Antwerpen\n",
       "3                  Paris\n",
       "4                Calgary\n",
       "               ...      \n",
       "271111         Innsbruck\n",
       "271112             Sochi\n",
       "271113             Sochi\n",
       "271114            Nagano\n",
       "271115    Salt Lake City\n",
       "Name: City, Length: 271116, dtype: object"
      ]
     },
     "execution_count": 3,
     "metadata": {},
     "output_type": "execute_result"
    }
   ],
   "source": [
    "cities = df['City']\n",
    "cities"
   ]
  },
  {
   "cell_type": "code",
   "execution_count": 4,
   "metadata": {},
   "outputs": [
    {
     "data": {
      "text/plain": [
       "array(['Barcelona', 'London', 'Antwerpen', 'Paris', 'Calgary',\n",
       "       'Albertville', 'Lillehammer', 'Los Angeles', 'Salt Lake City',\n",
       "       'Helsinki', 'Lake Placid', 'Sydney', 'Atlanta', 'Stockholm',\n",
       "       'Sochi', 'Nagano', 'Torino', 'Beijing', 'Rio de Janeiro', 'Athina',\n",
       "       'Squaw Valley', 'Innsbruck', 'Sarajevo', 'Mexico City', 'Munich',\n",
       "       'Seoul', 'Berlin', 'Oslo', \"Cortina d'Ampezzo\", 'Melbourne',\n",
       "       'Roma', 'Amsterdam', 'Montreal', 'Moskva', 'Tokyo', 'Vancouver',\n",
       "       'Grenoble', 'Sapporo', 'Chamonix', 'St. Louis', 'Sankt Moritz',\n",
       "       'Garmisch-Partenkirchen'], dtype=object)"
      ]
     },
     "execution_count": 4,
     "metadata": {},
     "output_type": "execute_result"
    }
   ],
   "source": [
    "cities = df['City'].unique()\n",
    "cities"
   ]
  },
  {
   "cell_type": "code",
   "execution_count": 5,
   "metadata": {},
   "outputs": [
    {
     "data": {
      "text/plain": [
       "42"
      ]
     },
     "execution_count": 5,
     "metadata": {},
     "output_type": "execute_result"
    }
   ],
   "source": [
    "cities = df['City'].nunique()\n",
    "cities"
   ]
  },
  {
   "cell_type": "code",
   "execution_count": 6,
   "metadata": {},
   "outputs": [
    {
     "data": {
      "text/plain": [
       "array(['Barcelona', 'London', 'Antwerpen', 'Paris', 'Calgary',\n",
       "       'Albertville', 'Lillehammer', 'Los Angeles', 'Salt Lake City',\n",
       "       'Helsinki', 'Lake Placid', 'Sydney', 'Atlanta', 'Stockholm',\n",
       "       'Sochi', 'Nagano', 'Torino', 'Beijing', 'Rio de Janeiro', 'Athina',\n",
       "       'Squaw Valley', 'Innsbruck', 'Sarajevo', 'Mexico City', 'Munich',\n",
       "       'Seoul', 'Berlin', 'Oslo', \"Cortina d'Ampezzo\", 'Melbourne',\n",
       "       'Roma', 'Amsterdam', 'Montreal', 'Moskva', 'Tokyo', 'Vancouver',\n",
       "       'Grenoble', 'Sapporo', 'Chamonix', 'St. Louis', 'Sankt Moritz',\n",
       "       'Garmisch-Partenkirchen'], dtype=object)"
      ]
     },
     "execution_count": 6,
     "metadata": {},
     "output_type": "execute_result"
    }
   ],
   "source": []
  },
  {
   "cell_type": "markdown",
   "metadata": {},
   "source": [
    "# Year"
   ]
  },
  {
   "cell_type": "code",
   "execution_count": 7,
   "metadata": {},
   "outputs": [
    {
     "data": {
      "text/plain": [
       "0         1992\n",
       "1         2012\n",
       "2         1920\n",
       "3         1900\n",
       "4         1988\n",
       "          ... \n",
       "271111    1976\n",
       "271112    2014\n",
       "271113    2014\n",
       "271114    1998\n",
       "271115    2002\n",
       "Name: Year, Length: 271116, dtype: int64"
      ]
     },
     "execution_count": 7,
     "metadata": {},
     "output_type": "execute_result"
    }
   ],
   "source": [
    "year = df['Year']\n",
    "year"
   ]
  },
  {
   "cell_type": "code",
   "execution_count": 9,
   "metadata": {},
   "outputs": [
    {
     "data": {
      "text/plain": [
       "array([1992, 2012, 1920, 1900, 1988, 1994, 1932, 2002, 1952, 1980, 2000,\n",
       "       1996, 1912, 1924, 2014, 1948, 1998, 2006, 2008, 2016, 2004, 1960,\n",
       "       1964, 1984, 1968, 1972, 1936, 1956, 1928, 1976, 2010, 1906, 1904,\n",
       "       1908, 1896], dtype=int64)"
      ]
     },
     "execution_count": 9,
     "metadata": {},
     "output_type": "execute_result"
    }
   ],
   "source": [
    "year = df['Year'].unique()\n",
    "year"
   ]
  },
  {
   "cell_type": "code",
   "execution_count": 10,
   "metadata": {},
   "outputs": [
    {
     "data": {
      "text/plain": [
       "35"
      ]
     },
     "execution_count": 10,
     "metadata": {},
     "output_type": "execute_result"
    }
   ],
   "source": [
    "year = df['Year'].nunique()\n",
    "year"
   ]
  },
  {
   "cell_type": "markdown",
   "metadata": {},
   "source": [
    "# ID"
   ]
  },
  {
   "cell_type": "code",
   "execution_count": 12,
   "metadata": {},
   "outputs": [
    {
     "data": {
      "text/plain": [
       "0              1\n",
       "1              2\n",
       "2              3\n",
       "3              4\n",
       "4              5\n",
       "           ...  \n",
       "271111    135569\n",
       "271112    135570\n",
       "271113    135570\n",
       "271114    135571\n",
       "271115    135571\n",
       "Name: ID, Length: 271116, dtype: int64"
      ]
     },
     "execution_count": 12,
     "metadata": {},
     "output_type": "execute_result"
    }
   ],
   "source": [
    "Id = df['ID']\n",
    "Id"
   ]
  },
  {
   "cell_type": "markdown",
   "metadata": {},
   "source": [
    "# Names"
   ]
  },
  {
   "cell_type": "code",
   "execution_count": 14,
   "metadata": {},
   "outputs": [
    {
     "data": {
      "text/plain": [
       "0                        A Dijiang\n",
       "1                         A Lamusi\n",
       "2              Gunnar Nielsen Aaby\n",
       "3             Edgar Lindenau Aabye\n",
       "4         Christine Jacoba Aaftink\n",
       "                    ...           \n",
       "271111                  Andrzej ya\n",
       "271112                    Piotr ya\n",
       "271113                    Piotr ya\n",
       "271114          Tomasz Ireneusz ya\n",
       "271115          Tomasz Ireneusz ya\n",
       "Name: Name, Length: 271116, dtype: object"
      ]
     },
     "execution_count": 14,
     "metadata": {},
     "output_type": "execute_result"
    }
   ],
   "source": [
    "names = df['Name']\n",
    "names"
   ]
  },
  {
   "cell_type": "code",
   "execution_count": 15,
   "metadata": {},
   "outputs": [
    {
     "data": {
      "text/plain": [
       "array(['A Dijiang', 'A Lamusi', 'Gunnar Nielsen Aaby', ..., 'Andrzej ya',\n",
       "       'Piotr ya', 'Tomasz Ireneusz ya'], dtype=object)"
      ]
     },
     "execution_count": 15,
     "metadata": {},
     "output_type": "execute_result"
    }
   ],
   "source": [
    "names.unique()"
   ]
  },
  {
   "cell_type": "code",
   "execution_count": 16,
   "metadata": {},
   "outputs": [
    {
     "data": {
      "text/plain": [
       "134732"
      ]
     },
     "execution_count": 16,
     "metadata": {},
     "output_type": "execute_result"
    }
   ],
   "source": [
    "names.nunique()"
   ]
  },
  {
   "cell_type": "markdown",
   "metadata": {},
   "source": [
    "# Gender"
   ]
  },
  {
   "cell_type": "code",
   "execution_count": 17,
   "metadata": {},
   "outputs": [
    {
     "data": {
      "text/plain": [
       "0         M\n",
       "1         M\n",
       "2         M\n",
       "3         M\n",
       "4         F\n",
       "         ..\n",
       "271111    M\n",
       "271112    M\n",
       "271113    M\n",
       "271114    M\n",
       "271115    M\n",
       "Name: Sex, Length: 271116, dtype: object"
      ]
     },
     "execution_count": 17,
     "metadata": {},
     "output_type": "execute_result"
    }
   ],
   "source": [
    "gender = df['Sex']\n",
    "gender"
   ]
  },
  {
   "cell_type": "code",
   "execution_count": 18,
   "metadata": {},
   "outputs": [
    {
     "data": {
      "text/html": [
       "<div>\n",
       "<style scoped>\n",
       "    .dataframe tbody tr th:only-of-type {\n",
       "        vertical-align: middle;\n",
       "    }\n",
       "\n",
       "    .dataframe tbody tr th {\n",
       "        vertical-align: top;\n",
       "    }\n",
       "\n",
       "    .dataframe thead th {\n",
       "        text-align: right;\n",
       "    }\n",
       "</style>\n",
       "<table border=\"1\" class=\"dataframe\">\n",
       "  <thead>\n",
       "    <tr style=\"text-align: right;\">\n",
       "      <th></th>\n",
       "      <th>ID</th>\n",
       "      <th>Name</th>\n",
       "      <th>Sex</th>\n",
       "      <th>Age</th>\n",
       "      <th>Height</th>\n",
       "      <th>Weight</th>\n",
       "      <th>Team</th>\n",
       "      <th>NOC</th>\n",
       "      <th>Games</th>\n",
       "      <th>Year</th>\n",
       "      <th>Season</th>\n",
       "      <th>City</th>\n",
       "      <th>Sport</th>\n",
       "      <th>Event</th>\n",
       "      <th>Medal</th>\n",
       "    </tr>\n",
       "  </thead>\n",
       "  <tbody>\n",
       "    <tr>\n",
       "      <th>0</th>\n",
       "      <td>1</td>\n",
       "      <td>A Dijiang</td>\n",
       "      <td>M</td>\n",
       "      <td>24.0</td>\n",
       "      <td>180.0</td>\n",
       "      <td>80.0</td>\n",
       "      <td>China</td>\n",
       "      <td>CHN</td>\n",
       "      <td>1992 Summer</td>\n",
       "      <td>1992</td>\n",
       "      <td>Summer</td>\n",
       "      <td>Barcelona</td>\n",
       "      <td>Basketball</td>\n",
       "      <td>Basketball Men's Basketball</td>\n",
       "      <td>NaN</td>\n",
       "    </tr>\n",
       "    <tr>\n",
       "      <th>1</th>\n",
       "      <td>2</td>\n",
       "      <td>A Lamusi</td>\n",
       "      <td>M</td>\n",
       "      <td>23.0</td>\n",
       "      <td>170.0</td>\n",
       "      <td>60.0</td>\n",
       "      <td>China</td>\n",
       "      <td>CHN</td>\n",
       "      <td>2012 Summer</td>\n",
       "      <td>2012</td>\n",
       "      <td>Summer</td>\n",
       "      <td>London</td>\n",
       "      <td>Judo</td>\n",
       "      <td>Judo Men's Extra-Lightweight</td>\n",
       "      <td>NaN</td>\n",
       "    </tr>\n",
       "    <tr>\n",
       "      <th>2</th>\n",
       "      <td>3</td>\n",
       "      <td>Gunnar Nielsen Aaby</td>\n",
       "      <td>M</td>\n",
       "      <td>24.0</td>\n",
       "      <td>NaN</td>\n",
       "      <td>NaN</td>\n",
       "      <td>Denmark</td>\n",
       "      <td>DEN</td>\n",
       "      <td>1920 Summer</td>\n",
       "      <td>1920</td>\n",
       "      <td>Summer</td>\n",
       "      <td>Antwerpen</td>\n",
       "      <td>Football</td>\n",
       "      <td>Football Men's Football</td>\n",
       "      <td>NaN</td>\n",
       "    </tr>\n",
       "    <tr>\n",
       "      <th>3</th>\n",
       "      <td>4</td>\n",
       "      <td>Edgar Lindenau Aabye</td>\n",
       "      <td>M</td>\n",
       "      <td>34.0</td>\n",
       "      <td>NaN</td>\n",
       "      <td>NaN</td>\n",
       "      <td>Denmark/Sweden</td>\n",
       "      <td>DEN</td>\n",
       "      <td>1900 Summer</td>\n",
       "      <td>1900</td>\n",
       "      <td>Summer</td>\n",
       "      <td>Paris</td>\n",
       "      <td>Tug-Of-War</td>\n",
       "      <td>Tug-Of-War Men's Tug-Of-War</td>\n",
       "      <td>Gold</td>\n",
       "    </tr>\n",
       "    <tr>\n",
       "      <th>10</th>\n",
       "      <td>6</td>\n",
       "      <td>Per Knut Aaland</td>\n",
       "      <td>M</td>\n",
       "      <td>31.0</td>\n",
       "      <td>188.0</td>\n",
       "      <td>75.0</td>\n",
       "      <td>United States</td>\n",
       "      <td>USA</td>\n",
       "      <td>1992 Winter</td>\n",
       "      <td>1992</td>\n",
       "      <td>Winter</td>\n",
       "      <td>Albertville</td>\n",
       "      <td>Cross Country Skiing</td>\n",
       "      <td>Cross Country Skiing Men's 10 kilometres</td>\n",
       "      <td>NaN</td>\n",
       "    </tr>\n",
       "    <tr>\n",
       "      <th>...</th>\n",
       "      <td>...</td>\n",
       "      <td>...</td>\n",
       "      <td>...</td>\n",
       "      <td>...</td>\n",
       "      <td>...</td>\n",
       "      <td>...</td>\n",
       "      <td>...</td>\n",
       "      <td>...</td>\n",
       "      <td>...</td>\n",
       "      <td>...</td>\n",
       "      <td>...</td>\n",
       "      <td>...</td>\n",
       "      <td>...</td>\n",
       "      <td>...</td>\n",
       "      <td>...</td>\n",
       "    </tr>\n",
       "    <tr>\n",
       "      <th>271111</th>\n",
       "      <td>135569</td>\n",
       "      <td>Andrzej ya</td>\n",
       "      <td>M</td>\n",
       "      <td>29.0</td>\n",
       "      <td>179.0</td>\n",
       "      <td>89.0</td>\n",
       "      <td>Poland-1</td>\n",
       "      <td>POL</td>\n",
       "      <td>1976 Winter</td>\n",
       "      <td>1976</td>\n",
       "      <td>Winter</td>\n",
       "      <td>Innsbruck</td>\n",
       "      <td>Luge</td>\n",
       "      <td>Luge Mixed (Men)'s Doubles</td>\n",
       "      <td>NaN</td>\n",
       "    </tr>\n",
       "    <tr>\n",
       "      <th>271112</th>\n",
       "      <td>135570</td>\n",
       "      <td>Piotr ya</td>\n",
       "      <td>M</td>\n",
       "      <td>27.0</td>\n",
       "      <td>176.0</td>\n",
       "      <td>59.0</td>\n",
       "      <td>Poland</td>\n",
       "      <td>POL</td>\n",
       "      <td>2014 Winter</td>\n",
       "      <td>2014</td>\n",
       "      <td>Winter</td>\n",
       "      <td>Sochi</td>\n",
       "      <td>Ski Jumping</td>\n",
       "      <td>Ski Jumping Men's Large Hill, Individual</td>\n",
       "      <td>NaN</td>\n",
       "    </tr>\n",
       "    <tr>\n",
       "      <th>271113</th>\n",
       "      <td>135570</td>\n",
       "      <td>Piotr ya</td>\n",
       "      <td>M</td>\n",
       "      <td>27.0</td>\n",
       "      <td>176.0</td>\n",
       "      <td>59.0</td>\n",
       "      <td>Poland</td>\n",
       "      <td>POL</td>\n",
       "      <td>2014 Winter</td>\n",
       "      <td>2014</td>\n",
       "      <td>Winter</td>\n",
       "      <td>Sochi</td>\n",
       "      <td>Ski Jumping</td>\n",
       "      <td>Ski Jumping Men's Large Hill, Team</td>\n",
       "      <td>NaN</td>\n",
       "    </tr>\n",
       "    <tr>\n",
       "      <th>271114</th>\n",
       "      <td>135571</td>\n",
       "      <td>Tomasz Ireneusz ya</td>\n",
       "      <td>M</td>\n",
       "      <td>30.0</td>\n",
       "      <td>185.0</td>\n",
       "      <td>96.0</td>\n",
       "      <td>Poland</td>\n",
       "      <td>POL</td>\n",
       "      <td>1998 Winter</td>\n",
       "      <td>1998</td>\n",
       "      <td>Winter</td>\n",
       "      <td>Nagano</td>\n",
       "      <td>Bobsleigh</td>\n",
       "      <td>Bobsleigh Men's Four</td>\n",
       "      <td>NaN</td>\n",
       "    </tr>\n",
       "    <tr>\n",
       "      <th>271115</th>\n",
       "      <td>135571</td>\n",
       "      <td>Tomasz Ireneusz ya</td>\n",
       "      <td>M</td>\n",
       "      <td>34.0</td>\n",
       "      <td>185.0</td>\n",
       "      <td>96.0</td>\n",
       "      <td>Poland</td>\n",
       "      <td>POL</td>\n",
       "      <td>2002 Winter</td>\n",
       "      <td>2002</td>\n",
       "      <td>Winter</td>\n",
       "      <td>Salt Lake City</td>\n",
       "      <td>Bobsleigh</td>\n",
       "      <td>Bobsleigh Men's Four</td>\n",
       "      <td>NaN</td>\n",
       "    </tr>\n",
       "  </tbody>\n",
       "</table>\n",
       "<p>196594 rows × 15 columns</p>\n",
       "</div>"
      ],
      "text/plain": [
       "            ID                  Name Sex   Age  Height  Weight  \\\n",
       "0            1             A Dijiang   M  24.0   180.0    80.0   \n",
       "1            2              A Lamusi   M  23.0   170.0    60.0   \n",
       "2            3   Gunnar Nielsen Aaby   M  24.0     NaN     NaN   \n",
       "3            4  Edgar Lindenau Aabye   M  34.0     NaN     NaN   \n",
       "10           6       Per Knut Aaland   M  31.0   188.0    75.0   \n",
       "...        ...                   ...  ..   ...     ...     ...   \n",
       "271111  135569            Andrzej ya   M  29.0   179.0    89.0   \n",
       "271112  135570              Piotr ya   M  27.0   176.0    59.0   \n",
       "271113  135570              Piotr ya   M  27.0   176.0    59.0   \n",
       "271114  135571    Tomasz Ireneusz ya   M  30.0   185.0    96.0   \n",
       "271115  135571    Tomasz Ireneusz ya   M  34.0   185.0    96.0   \n",
       "\n",
       "                  Team  NOC        Games  Year  Season            City  \\\n",
       "0                China  CHN  1992 Summer  1992  Summer       Barcelona   \n",
       "1                China  CHN  2012 Summer  2012  Summer          London   \n",
       "2              Denmark  DEN  1920 Summer  1920  Summer       Antwerpen   \n",
       "3       Denmark/Sweden  DEN  1900 Summer  1900  Summer           Paris   \n",
       "10       United States  USA  1992 Winter  1992  Winter     Albertville   \n",
       "...                ...  ...          ...   ...     ...             ...   \n",
       "271111        Poland-1  POL  1976 Winter  1976  Winter       Innsbruck   \n",
       "271112          Poland  POL  2014 Winter  2014  Winter           Sochi   \n",
       "271113          Poland  POL  2014 Winter  2014  Winter           Sochi   \n",
       "271114          Poland  POL  1998 Winter  1998  Winter          Nagano   \n",
       "271115          Poland  POL  2002 Winter  2002  Winter  Salt Lake City   \n",
       "\n",
       "                       Sport                                     Event Medal  \n",
       "0                 Basketball               Basketball Men's Basketball   NaN  \n",
       "1                       Judo              Judo Men's Extra-Lightweight   NaN  \n",
       "2                   Football                   Football Men's Football   NaN  \n",
       "3                 Tug-Of-War               Tug-Of-War Men's Tug-Of-War  Gold  \n",
       "10      Cross Country Skiing  Cross Country Skiing Men's 10 kilometres   NaN  \n",
       "...                      ...                                       ...   ...  \n",
       "271111                  Luge                Luge Mixed (Men)'s Doubles   NaN  \n",
       "271112           Ski Jumping  Ski Jumping Men's Large Hill, Individual   NaN  \n",
       "271113           Ski Jumping        Ski Jumping Men's Large Hill, Team   NaN  \n",
       "271114             Bobsleigh                      Bobsleigh Men's Four   NaN  \n",
       "271115             Bobsleigh                      Bobsleigh Men's Four   NaN  \n",
       "\n",
       "[196594 rows x 15 columns]"
      ]
     },
     "execution_count": 18,
     "metadata": {},
     "output_type": "execute_result"
    }
   ],
   "source": [
    "male = df[df['Sex']=='M']\n",
    "male"
   ]
  },
  {
   "cell_type": "code",
   "execution_count": 20,
   "metadata": {},
   "outputs": [
    {
     "data": {
      "text/plain": [
       "ID        101590\n",
       "Name      100979\n",
       "Sex            1\n",
       "Age           74\n",
       "Height        92\n",
       "Weight       206\n",
       "Team        1154\n",
       "NOC          230\n",
       "Games         51\n",
       "Year          35\n",
       "Season         2\n",
       "City          42\n",
       "Sport         63\n",
       "Event        554\n",
       "Medal          3\n",
       "dtype: int64"
      ]
     },
     "execution_count": 20,
     "metadata": {},
     "output_type": "execute_result"
    }
   ],
   "source": [
    "male.nunique()"
   ]
  },
  {
   "cell_type": "code",
   "execution_count": 22,
   "metadata": {},
   "outputs": [
    {
     "data": {
      "text/plain": [
       "196594"
      ]
     },
     "execution_count": 22,
     "metadata": {},
     "output_type": "execute_result"
    }
   ],
   "source": [
    "male = len(df[df['Sex']=='M'])\n",
    "male"
   ]
  },
  {
   "cell_type": "code",
   "execution_count": 23,
   "metadata": {},
   "outputs": [
    {
     "data": {
      "text/html": [
       "<div>\n",
       "<style scoped>\n",
       "    .dataframe tbody tr th:only-of-type {\n",
       "        vertical-align: middle;\n",
       "    }\n",
       "\n",
       "    .dataframe tbody tr th {\n",
       "        vertical-align: top;\n",
       "    }\n",
       "\n",
       "    .dataframe thead th {\n",
       "        text-align: right;\n",
       "    }\n",
       "</style>\n",
       "<table border=\"1\" class=\"dataframe\">\n",
       "  <thead>\n",
       "    <tr style=\"text-align: right;\">\n",
       "      <th></th>\n",
       "      <th>ID</th>\n",
       "      <th>Name</th>\n",
       "      <th>Sex</th>\n",
       "      <th>Age</th>\n",
       "      <th>Height</th>\n",
       "      <th>Weight</th>\n",
       "      <th>Team</th>\n",
       "      <th>NOC</th>\n",
       "      <th>Games</th>\n",
       "      <th>Year</th>\n",
       "      <th>Season</th>\n",
       "      <th>City</th>\n",
       "      <th>Sport</th>\n",
       "      <th>Event</th>\n",
       "      <th>Medal</th>\n",
       "    </tr>\n",
       "  </thead>\n",
       "  <tbody>\n",
       "    <tr>\n",
       "      <th>4</th>\n",
       "      <td>5</td>\n",
       "      <td>Christine Jacoba Aaftink</td>\n",
       "      <td>F</td>\n",
       "      <td>21.0</td>\n",
       "      <td>185.0</td>\n",
       "      <td>82.0</td>\n",
       "      <td>Netherlands</td>\n",
       "      <td>NED</td>\n",
       "      <td>1988 Winter</td>\n",
       "      <td>1988</td>\n",
       "      <td>Winter</td>\n",
       "      <td>Calgary</td>\n",
       "      <td>Speed Skating</td>\n",
       "      <td>Speed Skating Women's 500 metres</td>\n",
       "      <td>NaN</td>\n",
       "    </tr>\n",
       "    <tr>\n",
       "      <th>5</th>\n",
       "      <td>5</td>\n",
       "      <td>Christine Jacoba Aaftink</td>\n",
       "      <td>F</td>\n",
       "      <td>21.0</td>\n",
       "      <td>185.0</td>\n",
       "      <td>82.0</td>\n",
       "      <td>Netherlands</td>\n",
       "      <td>NED</td>\n",
       "      <td>1988 Winter</td>\n",
       "      <td>1988</td>\n",
       "      <td>Winter</td>\n",
       "      <td>Calgary</td>\n",
       "      <td>Speed Skating</td>\n",
       "      <td>Speed Skating Women's 1,000 metres</td>\n",
       "      <td>NaN</td>\n",
       "    </tr>\n",
       "    <tr>\n",
       "      <th>6</th>\n",
       "      <td>5</td>\n",
       "      <td>Christine Jacoba Aaftink</td>\n",
       "      <td>F</td>\n",
       "      <td>25.0</td>\n",
       "      <td>185.0</td>\n",
       "      <td>82.0</td>\n",
       "      <td>Netherlands</td>\n",
       "      <td>NED</td>\n",
       "      <td>1992 Winter</td>\n",
       "      <td>1992</td>\n",
       "      <td>Winter</td>\n",
       "      <td>Albertville</td>\n",
       "      <td>Speed Skating</td>\n",
       "      <td>Speed Skating Women's 500 metres</td>\n",
       "      <td>NaN</td>\n",
       "    </tr>\n",
       "    <tr>\n",
       "      <th>7</th>\n",
       "      <td>5</td>\n",
       "      <td>Christine Jacoba Aaftink</td>\n",
       "      <td>F</td>\n",
       "      <td>25.0</td>\n",
       "      <td>185.0</td>\n",
       "      <td>82.0</td>\n",
       "      <td>Netherlands</td>\n",
       "      <td>NED</td>\n",
       "      <td>1992 Winter</td>\n",
       "      <td>1992</td>\n",
       "      <td>Winter</td>\n",
       "      <td>Albertville</td>\n",
       "      <td>Speed Skating</td>\n",
       "      <td>Speed Skating Women's 1,000 metres</td>\n",
       "      <td>NaN</td>\n",
       "    </tr>\n",
       "    <tr>\n",
       "      <th>8</th>\n",
       "      <td>5</td>\n",
       "      <td>Christine Jacoba Aaftink</td>\n",
       "      <td>F</td>\n",
       "      <td>27.0</td>\n",
       "      <td>185.0</td>\n",
       "      <td>82.0</td>\n",
       "      <td>Netherlands</td>\n",
       "      <td>NED</td>\n",
       "      <td>1994 Winter</td>\n",
       "      <td>1994</td>\n",
       "      <td>Winter</td>\n",
       "      <td>Lillehammer</td>\n",
       "      <td>Speed Skating</td>\n",
       "      <td>Speed Skating Women's 500 metres</td>\n",
       "      <td>NaN</td>\n",
       "    </tr>\n",
       "    <tr>\n",
       "      <th>...</th>\n",
       "      <td>...</td>\n",
       "      <td>...</td>\n",
       "      <td>...</td>\n",
       "      <td>...</td>\n",
       "      <td>...</td>\n",
       "      <td>...</td>\n",
       "      <td>...</td>\n",
       "      <td>...</td>\n",
       "      <td>...</td>\n",
       "      <td>...</td>\n",
       "      <td>...</td>\n",
       "      <td>...</td>\n",
       "      <td>...</td>\n",
       "      <td>...</td>\n",
       "      <td>...</td>\n",
       "    </tr>\n",
       "    <tr>\n",
       "      <th>271080</th>\n",
       "      <td>135553</td>\n",
       "      <td>Galina Ivanovna Zybina (-Fyodorova)</td>\n",
       "      <td>F</td>\n",
       "      <td>33.0</td>\n",
       "      <td>168.0</td>\n",
       "      <td>80.0</td>\n",
       "      <td>Soviet Union</td>\n",
       "      <td>URS</td>\n",
       "      <td>1964 Summer</td>\n",
       "      <td>1964</td>\n",
       "      <td>Summer</td>\n",
       "      <td>Tokyo</td>\n",
       "      <td>Athletics</td>\n",
       "      <td>Athletics Women's Shot Put</td>\n",
       "      <td>Bronze</td>\n",
       "    </tr>\n",
       "    <tr>\n",
       "      <th>271099</th>\n",
       "      <td>135560</td>\n",
       "      <td>Stavroula Zygouri</td>\n",
       "      <td>F</td>\n",
       "      <td>36.0</td>\n",
       "      <td>171.0</td>\n",
       "      <td>63.0</td>\n",
       "      <td>Greece</td>\n",
       "      <td>GRE</td>\n",
       "      <td>2004 Summer</td>\n",
       "      <td>2004</td>\n",
       "      <td>Summer</td>\n",
       "      <td>Athina</td>\n",
       "      <td>Wrestling</td>\n",
       "      <td>Wrestling Women's Middleweight, Freestyle</td>\n",
       "      <td>NaN</td>\n",
       "    </tr>\n",
       "    <tr>\n",
       "      <th>271102</th>\n",
       "      <td>135563</td>\n",
       "      <td>Olesya Nikolayevna Zykina</td>\n",
       "      <td>F</td>\n",
       "      <td>19.0</td>\n",
       "      <td>171.0</td>\n",
       "      <td>64.0</td>\n",
       "      <td>Russia</td>\n",
       "      <td>RUS</td>\n",
       "      <td>2000 Summer</td>\n",
       "      <td>2000</td>\n",
       "      <td>Summer</td>\n",
       "      <td>Sydney</td>\n",
       "      <td>Athletics</td>\n",
       "      <td>Athletics Women's 4 x 400 metres Relay</td>\n",
       "      <td>Bronze</td>\n",
       "    </tr>\n",
       "    <tr>\n",
       "      <th>271103</th>\n",
       "      <td>135563</td>\n",
       "      <td>Olesya Nikolayevna Zykina</td>\n",
       "      <td>F</td>\n",
       "      <td>23.0</td>\n",
       "      <td>171.0</td>\n",
       "      <td>64.0</td>\n",
       "      <td>Russia</td>\n",
       "      <td>RUS</td>\n",
       "      <td>2004 Summer</td>\n",
       "      <td>2004</td>\n",
       "      <td>Summer</td>\n",
       "      <td>Athina</td>\n",
       "      <td>Athletics</td>\n",
       "      <td>Athletics Women's 4 x 400 metres Relay</td>\n",
       "      <td>Silver</td>\n",
       "    </tr>\n",
       "    <tr>\n",
       "      <th>271110</th>\n",
       "      <td>135568</td>\n",
       "      <td>Olga Igorevna Zyuzkova</td>\n",
       "      <td>F</td>\n",
       "      <td>33.0</td>\n",
       "      <td>171.0</td>\n",
       "      <td>69.0</td>\n",
       "      <td>Belarus</td>\n",
       "      <td>BLR</td>\n",
       "      <td>2016 Summer</td>\n",
       "      <td>2016</td>\n",
       "      <td>Summer</td>\n",
       "      <td>Rio de Janeiro</td>\n",
       "      <td>Basketball</td>\n",
       "      <td>Basketball Women's Basketball</td>\n",
       "      <td>NaN</td>\n",
       "    </tr>\n",
       "  </tbody>\n",
       "</table>\n",
       "<p>74522 rows × 15 columns</p>\n",
       "</div>"
      ],
      "text/plain": [
       "            ID                                 Name Sex   Age  Height  Weight  \\\n",
       "4            5             Christine Jacoba Aaftink   F  21.0   185.0    82.0   \n",
       "5            5             Christine Jacoba Aaftink   F  21.0   185.0    82.0   \n",
       "6            5             Christine Jacoba Aaftink   F  25.0   185.0    82.0   \n",
       "7            5             Christine Jacoba Aaftink   F  25.0   185.0    82.0   \n",
       "8            5             Christine Jacoba Aaftink   F  27.0   185.0    82.0   \n",
       "...        ...                                  ...  ..   ...     ...     ...   \n",
       "271080  135553  Galina Ivanovna Zybina (-Fyodorova)   F  33.0   168.0    80.0   \n",
       "271099  135560                    Stavroula Zygouri   F  36.0   171.0    63.0   \n",
       "271102  135563            Olesya Nikolayevna Zykina   F  19.0   171.0    64.0   \n",
       "271103  135563            Olesya Nikolayevna Zykina   F  23.0   171.0    64.0   \n",
       "271110  135568               Olga Igorevna Zyuzkova   F  33.0   171.0    69.0   \n",
       "\n",
       "                Team  NOC        Games  Year  Season            City  \\\n",
       "4        Netherlands  NED  1988 Winter  1988  Winter         Calgary   \n",
       "5        Netherlands  NED  1988 Winter  1988  Winter         Calgary   \n",
       "6        Netherlands  NED  1992 Winter  1992  Winter     Albertville   \n",
       "7        Netherlands  NED  1992 Winter  1992  Winter     Albertville   \n",
       "8        Netherlands  NED  1994 Winter  1994  Winter     Lillehammer   \n",
       "...              ...  ...          ...   ...     ...             ...   \n",
       "271080  Soviet Union  URS  1964 Summer  1964  Summer           Tokyo   \n",
       "271099        Greece  GRE  2004 Summer  2004  Summer          Athina   \n",
       "271102        Russia  RUS  2000 Summer  2000  Summer          Sydney   \n",
       "271103        Russia  RUS  2004 Summer  2004  Summer          Athina   \n",
       "271110       Belarus  BLR  2016 Summer  2016  Summer  Rio de Janeiro   \n",
       "\n",
       "                Sport                                      Event   Medal  \n",
       "4       Speed Skating           Speed Skating Women's 500 metres     NaN  \n",
       "5       Speed Skating         Speed Skating Women's 1,000 metres     NaN  \n",
       "6       Speed Skating           Speed Skating Women's 500 metres     NaN  \n",
       "7       Speed Skating         Speed Skating Women's 1,000 metres     NaN  \n",
       "8       Speed Skating           Speed Skating Women's 500 metres     NaN  \n",
       "...               ...                                        ...     ...  \n",
       "271080      Athletics                 Athletics Women's Shot Put  Bronze  \n",
       "271099      Wrestling  Wrestling Women's Middleweight, Freestyle     NaN  \n",
       "271102      Athletics     Athletics Women's 4 x 400 metres Relay  Bronze  \n",
       "271103      Athletics     Athletics Women's 4 x 400 metres Relay  Silver  \n",
       "271110     Basketball              Basketball Women's Basketball     NaN  \n",
       "\n",
       "[74522 rows x 15 columns]"
      ]
     },
     "execution_count": 23,
     "metadata": {},
     "output_type": "execute_result"
    }
   ],
   "source": [
    "female = df[df['Sex']=='F']\n",
    "female"
   ]
  },
  {
   "cell_type": "code",
   "execution_count": 24,
   "metadata": {},
   "outputs": [
    {
     "data": {
      "text/plain": [
       "ID        33981\n",
       "Name      33808\n",
       "Sex           1\n",
       "Age          62\n",
       "Height       77\n",
       "Weight      140\n",
       "Team        374\n",
       "NOC         222\n",
       "Games        50\n",
       "Year         34\n",
       "Season        2\n",
       "City         42\n",
       "Sport        53\n",
       "Event       269\n",
       "Medal         3\n",
       "dtype: int64"
      ]
     },
     "execution_count": 24,
     "metadata": {},
     "output_type": "execute_result"
    }
   ],
   "source": [
    "female.nunique()"
   ]
  },
  {
   "cell_type": "code",
   "execution_count": 25,
   "metadata": {},
   "outputs": [
    {
     "data": {
      "text/plain": [
       "74522"
      ]
     },
     "execution_count": 25,
     "metadata": {},
     "output_type": "execute_result"
    }
   ],
   "source": [
    "female = len(df[df['Sex']=='F'])\n",
    "female"
   ]
  },
  {
   "cell_type": "markdown",
   "metadata": {},
   "source": [
    "# Age"
   ]
  },
  {
   "cell_type": "code",
   "execution_count": 28,
   "metadata": {},
   "outputs": [
    {
     "data": {
      "text/plain": [
       "0         24.0\n",
       "1         23.0\n",
       "2         24.0\n",
       "3         34.0\n",
       "4         21.0\n",
       "          ... \n",
       "271111    29.0\n",
       "271112    27.0\n",
       "271113    27.0\n",
       "271114    30.0\n",
       "271115    34.0\n",
       "Name: Age, Length: 271116, dtype: float64"
      ]
     },
     "execution_count": 28,
     "metadata": {},
     "output_type": "execute_result"
    }
   ],
   "source": [
    "age = df['Age']\n",
    "age"
   ]
  },
  {
   "cell_type": "code",
   "execution_count": 29,
   "metadata": {},
   "outputs": [
    {
     "data": {
      "text/plain": [
       "array([24., 23., 34., 21., 25., 27., 31., 33., 18., 26., 22., 30., 32.,\n",
       "       28., 54., 20., 17., 43., 47., 29., 41., 45., 49., 53., 57., nan,\n",
       "       19., 38., 35., 16., 37., 15., 42., 46., 40., 36., 14., 39., 48.,\n",
       "       52., 44., 55., 50., 71., 63., 51., 58., 13., 60., 75., 65., 56.,\n",
       "       64., 68., 84., 12., 72., 59., 61., 70., 74., 62., 67., 69., 73.,\n",
       "       66., 11., 76., 88., 96., 80., 10., 81., 77., 97.])"
      ]
     },
     "execution_count": 29,
     "metadata": {},
     "output_type": "execute_result"
    }
   ],
   "source": [
    "age.unique()"
   ]
  },
  {
   "cell_type": "code",
   "execution_count": 30,
   "metadata": {},
   "outputs": [
    {
     "data": {
      "text/plain": [
       "74"
      ]
     },
     "execution_count": 30,
     "metadata": {},
     "output_type": "execute_result"
    }
   ],
   "source": [
    "age.nunique()"
   ]
  },
  {
   "cell_type": "code",
   "execution_count": 93,
   "metadata": {},
   "outputs": [
    {
     "data": {
      "text/plain": [
       "97.0"
      ]
     },
     "execution_count": 93,
     "metadata": {},
     "output_type": "execute_result"
    }
   ],
   "source": [
    "Max = age[age.argmax()]\n",
    "Max"
   ]
  },
  {
   "cell_type": "code",
   "execution_count": 94,
   "metadata": {},
   "outputs": [
    {
     "data": {
      "text/plain": [
       "10.0"
      ]
     },
     "execution_count": 94,
     "metadata": {},
     "output_type": "execute_result"
    }
   ],
   "source": [
    "Min = age[age.argmin()]\n",
    "Min"
   ]
  },
  {
   "cell_type": "code",
   "execution_count": 34,
   "metadata": {},
   "outputs": [
    {
     "data": {
      "text/html": [
       "<div>\n",
       "<style scoped>\n",
       "    .dataframe tbody tr th:only-of-type {\n",
       "        vertical-align: middle;\n",
       "    }\n",
       "\n",
       "    .dataframe tbody tr th {\n",
       "        vertical-align: top;\n",
       "    }\n",
       "\n",
       "    .dataframe thead th {\n",
       "        text-align: right;\n",
       "    }\n",
       "</style>\n",
       "<table border=\"1\" class=\"dataframe\">\n",
       "  <thead>\n",
       "    <tr style=\"text-align: right;\">\n",
       "      <th></th>\n",
       "      <th>ID</th>\n",
       "      <th>Name</th>\n",
       "      <th>Sex</th>\n",
       "      <th>Age</th>\n",
       "      <th>Height</th>\n",
       "      <th>Weight</th>\n",
       "      <th>Team</th>\n",
       "      <th>NOC</th>\n",
       "      <th>Games</th>\n",
       "      <th>Year</th>\n",
       "      <th>Season</th>\n",
       "      <th>City</th>\n",
       "      <th>Sport</th>\n",
       "      <th>Event</th>\n",
       "      <th>Medal</th>\n",
       "    </tr>\n",
       "  </thead>\n",
       "  <tbody>\n",
       "    <tr>\n",
       "      <th>142882</th>\n",
       "      <td>71691</td>\n",
       "      <td>Dimitrios Loundras</td>\n",
       "      <td>M</td>\n",
       "      <td>10.0</td>\n",
       "      <td>NaN</td>\n",
       "      <td>NaN</td>\n",
       "      <td>Ethnikos Gymnastikos Syllogos</td>\n",
       "      <td>GRE</td>\n",
       "      <td>1896 Summer</td>\n",
       "      <td>1896</td>\n",
       "      <td>Summer</td>\n",
       "      <td>Athina</td>\n",
       "      <td>Gymnastics</td>\n",
       "      <td>Gymnastics Men's Parallel Bars, Teams</td>\n",
       "      <td>Bronze</td>\n",
       "    </tr>\n",
       "  </tbody>\n",
       "</table>\n",
       "</div>"
      ],
      "text/plain": [
       "           ID                Name Sex   Age  Height  Weight  \\\n",
       "142882  71691  Dimitrios Loundras   M  10.0     NaN     NaN   \n",
       "\n",
       "                                 Team  NOC        Games  Year  Season    City  \\\n",
       "142882  Ethnikos Gymnastikos Syllogos  GRE  1896 Summer  1896  Summer  Athina   \n",
       "\n",
       "             Sport                                  Event   Medal  \n",
       "142882  Gymnastics  Gymnastics Men's Parallel Bars, Teams  Bronze  "
      ]
     },
     "execution_count": 34,
     "metadata": {},
     "output_type": "execute_result"
    }
   ],
   "source": [
    "df[df.Age==10]"
   ]
  },
  {
   "cell_type": "markdown",
   "metadata": {},
   "source": [
    "# Height"
   ]
  },
  {
   "cell_type": "code",
   "execution_count": 35,
   "metadata": {},
   "outputs": [],
   "source": [
    "height=df[\"Height\"]"
   ]
  },
  {
   "cell_type": "code",
   "execution_count": 36,
   "metadata": {},
   "outputs": [
    {
     "data": {
      "text/plain": [
       "0         180.0\n",
       "1         170.0\n",
       "2           NaN\n",
       "3           NaN\n",
       "4         185.0\n",
       "          ...  \n",
       "271111    179.0\n",
       "271112    176.0\n",
       "271113    176.0\n",
       "271114    185.0\n",
       "271115    185.0\n",
       "Name: Height, Length: 271116, dtype: float64"
      ]
     },
     "execution_count": 36,
     "metadata": {},
     "output_type": "execute_result"
    }
   ],
   "source": [
    "height"
   ]
  },
  {
   "cell_type": "code",
   "execution_count": 37,
   "metadata": {},
   "outputs": [
    {
     "data": {
      "text/plain": [
       "array([180., 170.,  nan, 185., 188., 183., 168., 186., 182., 172., 159.,\n",
       "       171., 184., 175., 189., 176., 163., 187., 169., 174., 190., 194.,\n",
       "       177., 167., 164., 198., 165., 156., 179., 178., 166., 181., 155.,\n",
       "       160., 173., 192., 195., 191., 203., 158., 154., 153., 152., 193.,\n",
       "       162., 197., 157., 207., 147., 150., 202., 161., 210., 205., 200.,\n",
       "       148., 208., 140., 213., 204., 151., 196., 146., 201., 132., 149.,\n",
       "       199., 211., 215., 139., 206., 135., 142., 217., 209., 145., 221.,\n",
       "       144., 214., 143., 218., 127., 223., 216., 141., 212., 131., 136.,\n",
       "       137., 138., 220., 130., 219., 133., 128., 226.])"
      ]
     },
     "execution_count": 37,
     "metadata": {},
     "output_type": "execute_result"
    }
   ],
   "source": [
    "height.unique()"
   ]
  },
  {
   "cell_type": "code",
   "execution_count": 39,
   "metadata": {},
   "outputs": [
    {
     "data": {
      "text/plain": [
       "95"
      ]
     },
     "execution_count": 39,
     "metadata": {},
     "output_type": "execute_result"
    }
   ],
   "source": [
    "height.nunique()"
   ]
  },
  {
   "cell_type": "code",
   "execution_count": 40,
   "metadata": {},
   "outputs": [
    {
     "data": {
      "text/plain": [
       "226.0"
      ]
     },
     "execution_count": 40,
     "metadata": {},
     "output_type": "execute_result"
    }
   ],
   "source": [
    "height[height.argmax()]"
   ]
  },
  {
   "cell_type": "code",
   "execution_count": 41,
   "metadata": {},
   "outputs": [
    {
     "data": {
      "text/plain": [
       "127.0"
      ]
     },
     "execution_count": 41,
     "metadata": {},
     "output_type": "execute_result"
    }
   ],
   "source": [
    "height[height.argmin()]"
   ]
  },
  {
   "cell_type": "code",
   "execution_count": 42,
   "metadata": {},
   "outputs": [
    {
     "data": {
      "text/html": [
       "<div>\n",
       "<style scoped>\n",
       "    .dataframe tbody tr th:only-of-type {\n",
       "        vertical-align: middle;\n",
       "    }\n",
       "\n",
       "    .dataframe tbody tr th {\n",
       "        vertical-align: top;\n",
       "    }\n",
       "\n",
       "    .dataframe thead th {\n",
       "        text-align: right;\n",
       "    }\n",
       "</style>\n",
       "<table border=\"1\" class=\"dataframe\">\n",
       "  <thead>\n",
       "    <tr style=\"text-align: right;\">\n",
       "      <th></th>\n",
       "      <th>ID</th>\n",
       "      <th>Name</th>\n",
       "      <th>Sex</th>\n",
       "      <th>Age</th>\n",
       "      <th>Height</th>\n",
       "      <th>Weight</th>\n",
       "      <th>Team</th>\n",
       "      <th>NOC</th>\n",
       "      <th>Games</th>\n",
       "      <th>Year</th>\n",
       "      <th>Season</th>\n",
       "      <th>City</th>\n",
       "      <th>Sport</th>\n",
       "      <th>Event</th>\n",
       "      <th>Medal</th>\n",
       "    </tr>\n",
       "  </thead>\n",
       "  <tbody>\n",
       "    <tr>\n",
       "      <th>154</th>\n",
       "      <td>59</td>\n",
       "      <td>Ivan Nikolov Abadzhiev</td>\n",
       "      <td>M</td>\n",
       "      <td>24.0</td>\n",
       "      <td>164.0</td>\n",
       "      <td>71.0</td>\n",
       "      <td>Bulgaria</td>\n",
       "      <td>BUL</td>\n",
       "      <td>1956 Summer</td>\n",
       "      <td>1956</td>\n",
       "      <td>Summer</td>\n",
       "      <td>Melbourne</td>\n",
       "      <td>Weightlifting</td>\n",
       "      <td>Weightlifting Men's Lightweight</td>\n",
       "      <td>NaN</td>\n",
       "    </tr>\n",
       "    <tr>\n",
       "      <th>155</th>\n",
       "      <td>59</td>\n",
       "      <td>Ivan Nikolov Abadzhiev</td>\n",
       "      <td>M</td>\n",
       "      <td>28.0</td>\n",
       "      <td>164.0</td>\n",
       "      <td>71.0</td>\n",
       "      <td>Bulgaria</td>\n",
       "      <td>BUL</td>\n",
       "      <td>1960 Summer</td>\n",
       "      <td>1960</td>\n",
       "      <td>Summer</td>\n",
       "      <td>Roma</td>\n",
       "      <td>Weightlifting</td>\n",
       "      <td>Weightlifting Men's Middleweight</td>\n",
       "      <td>NaN</td>\n",
       "    </tr>\n",
       "    <tr>\n",
       "      <th>252</th>\n",
       "      <td>126</td>\n",
       "      <td>Forough Abbasi</td>\n",
       "      <td>F</td>\n",
       "      <td>20.0</td>\n",
       "      <td>164.0</td>\n",
       "      <td>58.0</td>\n",
       "      <td>Iran</td>\n",
       "      <td>IRI</td>\n",
       "      <td>2014 Winter</td>\n",
       "      <td>2014</td>\n",
       "      <td>Winter</td>\n",
       "      <td>Sochi</td>\n",
       "      <td>Alpine Skiing</td>\n",
       "      <td>Alpine Skiing Women's Slalom</td>\n",
       "      <td>NaN</td>\n",
       "    </tr>\n",
       "    <tr>\n",
       "      <th>281</th>\n",
       "      <td>148</td>\n",
       "      <td>Kathryn \"Katie\" Abbott</td>\n",
       "      <td>F</td>\n",
       "      <td>21.0</td>\n",
       "      <td>164.0</td>\n",
       "      <td>63.0</td>\n",
       "      <td>Canada</td>\n",
       "      <td>CAN</td>\n",
       "      <td>2008 Summer</td>\n",
       "      <td>2008</td>\n",
       "      <td>Summer</td>\n",
       "      <td>Beijing</td>\n",
       "      <td>Sailing</td>\n",
       "      <td>Sailing Women's Three Person Keelboat</td>\n",
       "      <td>NaN</td>\n",
       "    </tr>\n",
       "    <tr>\n",
       "      <th>559</th>\n",
       "      <td>321</td>\n",
       "      <td>Ahmad Hassan Abdullah</td>\n",
       "      <td>M</td>\n",
       "      <td>27.0</td>\n",
       "      <td>164.0</td>\n",
       "      <td>55.0</td>\n",
       "      <td>Qatar</td>\n",
       "      <td>QAT</td>\n",
       "      <td>2008 Summer</td>\n",
       "      <td>2008</td>\n",
       "      <td>Summer</td>\n",
       "      <td>Beijing</td>\n",
       "      <td>Athletics</td>\n",
       "      <td>Athletics Men's 10,000 metres</td>\n",
       "      <td>NaN</td>\n",
       "    </tr>\n",
       "    <tr>\n",
       "      <th>...</th>\n",
       "      <td>...</td>\n",
       "      <td>...</td>\n",
       "      <td>...</td>\n",
       "      <td>...</td>\n",
       "      <td>...</td>\n",
       "      <td>...</td>\n",
       "      <td>...</td>\n",
       "      <td>...</td>\n",
       "      <td>...</td>\n",
       "      <td>...</td>\n",
       "      <td>...</td>\n",
       "      <td>...</td>\n",
       "      <td>...</td>\n",
       "      <td>...</td>\n",
       "      <td>...</td>\n",
       "    </tr>\n",
       "    <tr>\n",
       "      <th>270494</th>\n",
       "      <td>135291</td>\n",
       "      <td>Roman Volodymyrovych Zozulia</td>\n",
       "      <td>M</td>\n",
       "      <td>25.0</td>\n",
       "      <td>164.0</td>\n",
       "      <td>59.0</td>\n",
       "      <td>Ukraine</td>\n",
       "      <td>UKR</td>\n",
       "      <td>2004 Summer</td>\n",
       "      <td>2004</td>\n",
       "      <td>Summer</td>\n",
       "      <td>Athina</td>\n",
       "      <td>Gymnastics</td>\n",
       "      <td>Gymnastics Men's Parallel Bars</td>\n",
       "      <td>NaN</td>\n",
       "    </tr>\n",
       "    <tr>\n",
       "      <th>270495</th>\n",
       "      <td>135291</td>\n",
       "      <td>Roman Volodymyrovych Zozulia</td>\n",
       "      <td>M</td>\n",
       "      <td>25.0</td>\n",
       "      <td>164.0</td>\n",
       "      <td>59.0</td>\n",
       "      <td>Ukraine</td>\n",
       "      <td>UKR</td>\n",
       "      <td>2004 Summer</td>\n",
       "      <td>2004</td>\n",
       "      <td>Summer</td>\n",
       "      <td>Athina</td>\n",
       "      <td>Gymnastics</td>\n",
       "      <td>Gymnastics Men's Horizontal Bar</td>\n",
       "      <td>NaN</td>\n",
       "    </tr>\n",
       "    <tr>\n",
       "      <th>270496</th>\n",
       "      <td>135291</td>\n",
       "      <td>Roman Volodymyrovych Zozulia</td>\n",
       "      <td>M</td>\n",
       "      <td>25.0</td>\n",
       "      <td>164.0</td>\n",
       "      <td>59.0</td>\n",
       "      <td>Ukraine</td>\n",
       "      <td>UKR</td>\n",
       "      <td>2004 Summer</td>\n",
       "      <td>2004</td>\n",
       "      <td>Summer</td>\n",
       "      <td>Athina</td>\n",
       "      <td>Gymnastics</td>\n",
       "      <td>Gymnastics Men's Rings</td>\n",
       "      <td>NaN</td>\n",
       "    </tr>\n",
       "    <tr>\n",
       "      <th>270497</th>\n",
       "      <td>135291</td>\n",
       "      <td>Roman Volodymyrovych Zozulia</td>\n",
       "      <td>M</td>\n",
       "      <td>25.0</td>\n",
       "      <td>164.0</td>\n",
       "      <td>59.0</td>\n",
       "      <td>Ukraine</td>\n",
       "      <td>UKR</td>\n",
       "      <td>2004 Summer</td>\n",
       "      <td>2004</td>\n",
       "      <td>Summer</td>\n",
       "      <td>Athina</td>\n",
       "      <td>Gymnastics</td>\n",
       "      <td>Gymnastics Men's Pommelled Horse</td>\n",
       "      <td>NaN</td>\n",
       "    </tr>\n",
       "    <tr>\n",
       "      <th>270855</th>\n",
       "      <td>135461</td>\n",
       "      <td>Jan urawski</td>\n",
       "      <td>M</td>\n",
       "      <td>28.0</td>\n",
       "      <td>164.0</td>\n",
       "      <td>66.0</td>\n",
       "      <td>Poland</td>\n",
       "      <td>POL</td>\n",
       "      <td>1960 Summer</td>\n",
       "      <td>1960</td>\n",
       "      <td>Summer</td>\n",
       "      <td>Roma</td>\n",
       "      <td>Wrestling</td>\n",
       "      <td>Wrestling Men's Featherweight, Freestyle</td>\n",
       "      <td>NaN</td>\n",
       "    </tr>\n",
       "  </tbody>\n",
       "</table>\n",
       "<p>3911 rows × 15 columns</p>\n",
       "</div>"
      ],
      "text/plain": [
       "            ID                          Name Sex   Age  Height  Weight  \\\n",
       "154         59        Ivan Nikolov Abadzhiev   M  24.0   164.0    71.0   \n",
       "155         59        Ivan Nikolov Abadzhiev   M  28.0   164.0    71.0   \n",
       "252        126                Forough Abbasi   F  20.0   164.0    58.0   \n",
       "281        148        Kathryn \"Katie\" Abbott   F  21.0   164.0    63.0   \n",
       "559        321         Ahmad Hassan Abdullah   M  27.0   164.0    55.0   \n",
       "...        ...                           ...  ..   ...     ...     ...   \n",
       "270494  135291  Roman Volodymyrovych Zozulia   M  25.0   164.0    59.0   \n",
       "270495  135291  Roman Volodymyrovych Zozulia   M  25.0   164.0    59.0   \n",
       "270496  135291  Roman Volodymyrovych Zozulia   M  25.0   164.0    59.0   \n",
       "270497  135291  Roman Volodymyrovych Zozulia   M  25.0   164.0    59.0   \n",
       "270855  135461                   Jan urawski   M  28.0   164.0    66.0   \n",
       "\n",
       "            Team  NOC        Games  Year  Season       City          Sport  \\\n",
       "154     Bulgaria  BUL  1956 Summer  1956  Summer  Melbourne  Weightlifting   \n",
       "155     Bulgaria  BUL  1960 Summer  1960  Summer       Roma  Weightlifting   \n",
       "252         Iran  IRI  2014 Winter  2014  Winter      Sochi  Alpine Skiing   \n",
       "281       Canada  CAN  2008 Summer  2008  Summer    Beijing        Sailing   \n",
       "559        Qatar  QAT  2008 Summer  2008  Summer    Beijing      Athletics   \n",
       "...          ...  ...          ...   ...     ...        ...            ...   \n",
       "270494   Ukraine  UKR  2004 Summer  2004  Summer     Athina     Gymnastics   \n",
       "270495   Ukraine  UKR  2004 Summer  2004  Summer     Athina     Gymnastics   \n",
       "270496   Ukraine  UKR  2004 Summer  2004  Summer     Athina     Gymnastics   \n",
       "270497   Ukraine  UKR  2004 Summer  2004  Summer     Athina     Gymnastics   \n",
       "270855    Poland  POL  1960 Summer  1960  Summer       Roma      Wrestling   \n",
       "\n",
       "                                           Event Medal  \n",
       "154              Weightlifting Men's Lightweight   NaN  \n",
       "155             Weightlifting Men's Middleweight   NaN  \n",
       "252                 Alpine Skiing Women's Slalom   NaN  \n",
       "281        Sailing Women's Three Person Keelboat   NaN  \n",
       "559                Athletics Men's 10,000 metres   NaN  \n",
       "...                                          ...   ...  \n",
       "270494            Gymnastics Men's Parallel Bars   NaN  \n",
       "270495           Gymnastics Men's Horizontal Bar   NaN  \n",
       "270496                    Gymnastics Men's Rings   NaN  \n",
       "270497          Gymnastics Men's Pommelled Horse   NaN  \n",
       "270855  Wrestling Men's Featherweight, Freestyle   NaN  \n",
       "\n",
       "[3911 rows x 15 columns]"
      ]
     },
     "execution_count": 42,
     "metadata": {},
     "output_type": "execute_result"
    }
   ],
   "source": [
    "df[df.Height==164]"
   ]
  },
  {
   "cell_type": "code",
   "execution_count": 43,
   "metadata": {},
   "outputs": [
    {
     "data": {
      "text/plain": [
       "154        True\n",
       "155        True\n",
       "252       False\n",
       "281       False\n",
       "559        True\n",
       "          ...  \n",
       "270494     True\n",
       "270495     True\n",
       "270496     True\n",
       "270497     True\n",
       "270855     True\n",
       "Name: Sex, Length: 3911, dtype: bool"
      ]
     },
     "execution_count": 43,
     "metadata": {},
     "output_type": "execute_result"
    }
   ],
   "source": [
    "hgt=df[df.Height==164]\n",
    "hgt.Sex==\"M\""
   ]
  },
  {
   "cell_type": "code",
   "execution_count": 44,
   "metadata": {},
   "outputs": [
    {
     "data": {
      "text/plain": [
       "154       False\n",
       "155       False\n",
       "252        True\n",
       "281        True\n",
       "559       False\n",
       "          ...  \n",
       "270494    False\n",
       "270495    False\n",
       "270496    False\n",
       "270497    False\n",
       "270855    False\n",
       "Name: Sex, Length: 3911, dtype: bool"
      ]
     },
     "execution_count": 44,
     "metadata": {},
     "output_type": "execute_result"
    }
   ],
   "source": [
    "hgt.Sex=='F'"
   ]
  },
  {
   "cell_type": "markdown",
   "metadata": {},
   "source": [
    "# Weight"
   ]
  },
  {
   "cell_type": "code",
   "execution_count": 46,
   "metadata": {},
   "outputs": [
    {
     "data": {
      "text/plain": [
       "0         80.0\n",
       "1         60.0\n",
       "2          NaN\n",
       "3          NaN\n",
       "4         82.0\n",
       "          ... \n",
       "271111    89.0\n",
       "271112    59.0\n",
       "271113    59.0\n",
       "271114    96.0\n",
       "271115    96.0\n",
       "Name: Weight, Length: 271116, dtype: float64"
      ]
     },
     "execution_count": 46,
     "metadata": {},
     "output_type": "execute_result"
    }
   ],
   "source": [
    "weight=df[\"Weight\"]\n",
    "weight"
   ]
  },
  {
   "cell_type": "code",
   "execution_count": 47,
   "metadata": {},
   "outputs": [
    {
     "data": {
      "text/plain": [
       "array([ 80.        ,  60.        ,          nan,  82.        ,\n",
       "        75.        ,  72.        ,  96.        ,  76.5       ,\n",
       "        70.        ,  55.5       ,  65.        ,  85.        ,\n",
       "        64.        , 130.        , 125.        ,  89.        ,\n",
       "        77.        ,  76.        ,  98.        ,  78.        ,\n",
       "        73.        ,  93.        ,  74.        , 106.        ,\n",
       "        58.        ,  66.        ,  71.        ,  90.        ,\n",
       "        87.        ,  49.        ,  48.        ,  83.        ,\n",
       "        86.        ,  55.        ,  67.        ,  97.        ,\n",
       "       105.        ,  43.        ,  79.        ,  51.        ,\n",
       "        88.        ,  62.        ,  53.        , 104.        ,\n",
       "        57.        ,  63.        ,  52.        ,  91.        ,\n",
       "        94.        ,  56.        ,  68.        ,  61.        ,\n",
       "        69.        ,  46.        , 100.        ,  81.        ,\n",
       "        92.        , 120.        ,  95.        ,  59.        ,\n",
       "        50.        , 117.5       ,  54.        ,  47.        ,\n",
       "       117.        ,  84.        , 102.        ,  40.        ,\n",
       "       115.        , 110.        ,  45.        ,  99.        ,\n",
       "       109.        ,  69.5       , 135.        ,  38.        ,\n",
       "        77.5       , 103.        , 163.        , 113.        ,\n",
       "        42.        ,  91.5       ,  82.5       ,  68.5       ,\n",
       "       116.        , 107.        ,  96.5       ,  83.5       ,\n",
       "        44.        , 122.        , 102.5       ,  71.5       ,\n",
       "       156.        , 150.        , 160.        ,  95.5       ,\n",
       "       101.        , 146.        , 138.        , 112.        ,\n",
       "       108.        , 140.        , 141.        ,  63.5       ,\n",
       "       114.        , 118.        ,  52.5       , 127.        ,\n",
       "        39.        ,  73.5       , 155.        ,  74.5       ,\n",
       "        32.        , 143.        , 133.        ,  70.5       ,\n",
       "       126.        ,  53.5       , 121.        ,  67.5       ,\n",
       "       111.        , 123.5       ,  41.        ,  36.        ,\n",
       "       132.        , 128.        ,  65.5       ,  98.5       ,\n",
       "       124.        ,  59.5       ,  66.5       , 127.5       ,\n",
       "        35.        , 144.        ,  58.5       , 214.        ,\n",
       "        81.5       ,  37.        , 146.5       , 116.5       ,\n",
       "       148.        , 123.        ,  89.5       , 133.5       ,\n",
       "        86.5       ,  85.5       , 101.5       , 154.        ,\n",
       "       139.        ,  57.5       , 136.        ,  54.5       ,\n",
       "       137.        , 170.        ,  30.        ,  25.        ,\n",
       "        77.33333333, 131.        ,  79.5       ,  34.        ,\n",
       "       119.        , 134.        ,  33.        , 109.5       ,\n",
       "        90.5       , 129.        , 147.        ,  56.5       ,\n",
       "        78.5       , 165.        ,  88.5       ,  62.5       ,\n",
       "        60.5       , 158.        ,  75.5       , 190.        ,\n",
       "        64.5       , 145.        , 121.5       ,  61.5       ,\n",
       "       161.        , 176.5       ,  87.5       , 100.5       ,\n",
       "       149.        , 152.        , 108.5       ,  28.        ,\n",
       "        48.5       , 138.5       ,  72.5       , 129.5       ,\n",
       "       131.5       , 167.        ,  84.5       ,  49.5       ,\n",
       "        51.5       , 112.5       , 118.5       , 142.        ,\n",
       "        80.5       , 106.5       , 107.5       ,  31.        ,\n",
       "       135.5       , 137.5       ,  93.5       ,  97.5       ,\n",
       "       103.5       , 175.        , 151.        , 198.        ,\n",
       "       178.        ,  92.5       , 180.        , 104.5       ,\n",
       "       105.5       , 122.5       , 182.        ,  74.66666667,\n",
       "       130.5       ])"
      ]
     },
     "execution_count": 47,
     "metadata": {},
     "output_type": "execute_result"
    }
   ],
   "source": [
    "weight.unique()"
   ]
  },
  {
   "cell_type": "code",
   "execution_count": 48,
   "metadata": {},
   "outputs": [
    {
     "data": {
      "text/plain": [
       "220"
      ]
     },
     "execution_count": 48,
     "metadata": {},
     "output_type": "execute_result"
    }
   ],
   "source": [
    "weight.nunique()"
   ]
  },
  {
   "cell_type": "code",
   "execution_count": 49,
   "metadata": {},
   "outputs": [
    {
     "data": {
      "text/plain": [
       "214.0"
      ]
     },
     "execution_count": 49,
     "metadata": {},
     "output_type": "execute_result"
    }
   ],
   "source": [
    "weight[weight.argmax()]"
   ]
  },
  {
   "cell_type": "code",
   "execution_count": 50,
   "metadata": {},
   "outputs": [
    {
     "data": {
      "text/plain": [
       "25.0"
      ]
     },
     "execution_count": 50,
     "metadata": {},
     "output_type": "execute_result"
    }
   ],
   "source": [
    "weight[weight.argmin()]"
   ]
  },
  {
   "cell_type": "markdown",
   "metadata": {},
   "source": [
    "# Teams"
   ]
  },
  {
   "cell_type": "code",
   "execution_count": 51,
   "metadata": {},
   "outputs": [
    {
     "data": {
      "text/plain": [
       "0                  China\n",
       "1                  China\n",
       "2                Denmark\n",
       "3         Denmark/Sweden\n",
       "4            Netherlands\n",
       "               ...      \n",
       "271111          Poland-1\n",
       "271112            Poland\n",
       "271113            Poland\n",
       "271114            Poland\n",
       "271115            Poland\n",
       "Name: Team, Length: 271116, dtype: object"
      ]
     },
     "execution_count": 51,
     "metadata": {},
     "output_type": "execute_result"
    }
   ],
   "source": [
    "team=df[\"Team\"]\n",
    "team"
   ]
  },
  {
   "cell_type": "code",
   "execution_count": 52,
   "metadata": {},
   "outputs": [
    {
     "data": {
      "text/plain": [
       "array(['China', 'Denmark', 'Denmark/Sweden', ..., 'Solos Carex',\n",
       "       'Dow Jones', 'Digby'], dtype=object)"
      ]
     },
     "execution_count": 52,
     "metadata": {},
     "output_type": "execute_result"
    }
   ],
   "source": [
    "team.unique()"
   ]
  },
  {
   "cell_type": "code",
   "execution_count": 53,
   "metadata": {},
   "outputs": [
    {
     "data": {
      "text/plain": [
       "1184"
      ]
     },
     "execution_count": 53,
     "metadata": {},
     "output_type": "execute_result"
    }
   ],
   "source": [
    "team.nunique()"
   ]
  },
  {
   "cell_type": "markdown",
   "metadata": {},
   "source": [
    "# Games"
   ]
  },
  {
   "cell_type": "code",
   "execution_count": 55,
   "metadata": {},
   "outputs": [
    {
     "data": {
      "text/plain": [
       "0         1992 Summer\n",
       "1         2012 Summer\n",
       "2         1920 Summer\n",
       "3         1900 Summer\n",
       "4         1988 Winter\n",
       "             ...     \n",
       "271111    1976 Winter\n",
       "271112    2014 Winter\n",
       "271113    2014 Winter\n",
       "271114    1998 Winter\n",
       "271115    2002 Winter\n",
       "Name: Games, Length: 271116, dtype: object"
      ]
     },
     "execution_count": 55,
     "metadata": {},
     "output_type": "execute_result"
    }
   ],
   "source": [
    "games=df[\"Games\"]\n",
    "games"
   ]
  },
  {
   "cell_type": "code",
   "execution_count": 56,
   "metadata": {},
   "outputs": [
    {
     "data": {
      "text/plain": [
       "array(['1992 Summer', '2012 Summer', '1920 Summer', '1900 Summer',\n",
       "       '1988 Winter', '1992 Winter', '1994 Winter', '1932 Summer',\n",
       "       '2002 Winter', '1952 Summer', '1980 Winter', '2000 Summer',\n",
       "       '1996 Summer', '1912 Summer', '1924 Summer', '2014 Winter',\n",
       "       '1948 Summer', '1998 Winter', '2006 Winter', '2008 Summer',\n",
       "       '2016 Summer', '2004 Summer', '1960 Winter', '1964 Winter',\n",
       "       '1984 Winter', '1984 Summer', '1968 Summer', '1972 Summer',\n",
       "       '1988 Summer', '1936 Summer', '1952 Winter', '1956 Winter',\n",
       "       '1956 Summer', '1960 Summer', '1928 Summer', '1976 Summer',\n",
       "       '1980 Summer', '1964 Summer', '2010 Winter', '1968 Winter',\n",
       "       '1906 Summer', '1972 Winter', '1976 Winter', '1924 Winter',\n",
       "       '1904 Summer', '1928 Winter', '1908 Summer', '1948 Winter',\n",
       "       '1932 Winter', '1936 Winter', '1896 Summer'], dtype=object)"
      ]
     },
     "execution_count": 56,
     "metadata": {},
     "output_type": "execute_result"
    }
   ],
   "source": [
    "games.unique()"
   ]
  },
  {
   "cell_type": "code",
   "execution_count": 57,
   "metadata": {},
   "outputs": [
    {
     "data": {
      "text/plain": [
       "51"
      ]
     },
     "execution_count": 57,
     "metadata": {},
     "output_type": "execute_result"
    }
   ],
   "source": [
    "games.nunique()"
   ]
  },
  {
   "cell_type": "markdown",
   "metadata": {},
   "source": [
    "# NOC"
   ]
  },
  {
   "cell_type": "code",
   "execution_count": 58,
   "metadata": {},
   "outputs": [
    {
     "data": {
      "text/plain": [
       "0         CHN\n",
       "1         CHN\n",
       "2         DEN\n",
       "3         DEN\n",
       "4         NED\n",
       "         ... \n",
       "271111    POL\n",
       "271112    POL\n",
       "271113    POL\n",
       "271114    POL\n",
       "271115    POL\n",
       "Name: NOC, Length: 271116, dtype: object"
      ]
     },
     "execution_count": 58,
     "metadata": {},
     "output_type": "execute_result"
    }
   ],
   "source": [
    "noc=df[\"NOC\"]\n",
    "noc"
   ]
  },
  {
   "cell_type": "code",
   "execution_count": 59,
   "metadata": {},
   "outputs": [
    {
     "data": {
      "text/plain": [
       "array(['CHN', 'DEN', 'NED', 'USA', 'FIN', 'NOR', 'ROU', 'EST', 'FRA',\n",
       "       'MAR', 'ESP', 'EGY', 'IRI', 'BUL', 'ITA', 'CHA', 'AZE', 'SUD',\n",
       "       'RUS', 'ARG', 'CUB', 'BLR', 'GRE', 'CMR', 'TUR', 'CHI', 'MEX',\n",
       "       'URS', 'NCA', 'HUN', 'NGR', 'ALG', 'KUW', 'BRN', 'PAK', 'IRQ',\n",
       "       'UAR', 'LIB', 'QAT', 'MAS', 'GER', 'CAN', 'IRL', 'AUS', 'RSA',\n",
       "       'ERI', 'TAN', 'JOR', 'TUN', 'LBA', 'BEL', 'DJI', 'PLE', 'COM',\n",
       "       'KAZ', 'BRU', 'IND', 'KSA', 'SYR', 'MDV', 'ETH', 'UAE', 'YAR',\n",
       "       'INA', 'PHI', 'SGP', 'UZB', 'KGZ', 'TJK', 'EUN', 'JPN', 'CGO',\n",
       "       'SUI', 'BRA', 'FRG', 'GDR', 'MON', 'ISR', 'URU', 'SWE', 'ISV',\n",
       "       'SRI', 'ARM', 'CIV', 'KEN', 'BEN', 'UKR', 'GBR', 'GHA', 'SOM',\n",
       "       'LAT', 'NIG', 'MLI', 'AFG', 'POL', 'CRC', 'PAN', 'GEO', 'SLO',\n",
       "       'CRO', 'GUY', 'NZL', 'POR', 'PAR', 'ANG', 'VEN', 'COL', 'BAN',\n",
       "       'PER', 'ESA', 'PUR', 'UGA', 'HON', 'ECU', 'TKM', 'MRI', 'SEY',\n",
       "       'TCH', 'LUX', 'MTN', 'CZE', 'SKN', 'TTO', 'DOM', 'VIN', 'JAM',\n",
       "       'LBR', 'SUR', 'NEP', 'MGL', 'AUT', 'PLW', 'LTU', 'TOG', 'NAM',\n",
       "       'AHO', 'ISL', 'ASA', 'SAM', 'RWA', 'DMA', 'HAI', 'MLT', 'CYP',\n",
       "       'GUI', 'BIZ', 'YMD', 'KOR', 'THA', 'BER', 'ANZ', 'SCG', 'SLE',\n",
       "       'PNG', 'YEM', 'IOA', 'OMA', 'FIJ', 'VAN', 'MDA', 'YUG', 'BAH',\n",
       "       'GUA', 'SRB', 'IVB', 'MOZ', 'CAF', 'MAD', 'MAL', 'BIH', 'GUM',\n",
       "       'CAY', 'SVK', 'BAR', 'GBS', 'TLS', 'COD', 'GAB', 'SMR', 'LAO',\n",
       "       'BOT', 'ROT', 'CAM', 'PRK', 'SOL', 'SEN', 'CPV', 'CRT', 'GEQ',\n",
       "       'BOL', 'SAA', 'AND', 'ANT', 'ZIM', 'GRN', 'HKG', 'LCA', 'FSM',\n",
       "       'MYA', 'MAW', 'ZAM', 'RHO', 'TPE', 'STP', 'MKD', 'BOH', 'TGA',\n",
       "       'LIE', 'MNE', 'GAM', 'COK', 'ALB', 'WIF', 'SWZ', 'BUR', 'NBO',\n",
       "       'BDI', 'ARU', 'NRU', 'VNM', 'VIE', 'BHU', 'MHL', 'KIR', 'UNK',\n",
       "       'TUV', 'NFL', 'KOS', 'SSD', 'LES'], dtype=object)"
      ]
     },
     "execution_count": 59,
     "metadata": {},
     "output_type": "execute_result"
    }
   ],
   "source": [
    "noc.unique()"
   ]
  },
  {
   "cell_type": "code",
   "execution_count": 60,
   "metadata": {},
   "outputs": [
    {
     "data": {
      "text/plain": [
       "230"
      ]
     },
     "execution_count": 60,
     "metadata": {},
     "output_type": "execute_result"
    }
   ],
   "source": [
    "noc.nunique()"
   ]
  },
  {
   "cell_type": "markdown",
   "metadata": {},
   "source": [
    "# Sport"
   ]
  },
  {
   "cell_type": "code",
   "execution_count": 62,
   "metadata": {},
   "outputs": [
    {
     "data": {
      "text/plain": [
       "0            Basketball\n",
       "1                  Judo\n",
       "2              Football\n",
       "3            Tug-Of-War\n",
       "4         Speed Skating\n",
       "              ...      \n",
       "271111             Luge\n",
       "271112      Ski Jumping\n",
       "271113      Ski Jumping\n",
       "271114        Bobsleigh\n",
       "271115        Bobsleigh\n",
       "Name: Sport, Length: 271116, dtype: object"
      ]
     },
     "execution_count": 62,
     "metadata": {},
     "output_type": "execute_result"
    }
   ],
   "source": [
    "sports=df[\"Sport\"]\n",
    "sports"
   ]
  },
  {
   "cell_type": "code",
   "execution_count": 63,
   "metadata": {},
   "outputs": [
    {
     "data": {
      "text/plain": [
       "array(['Basketball', 'Judo', 'Football', 'Tug-Of-War', 'Speed Skating',\n",
       "       'Cross Country Skiing', 'Athletics', 'Ice Hockey', 'Swimming',\n",
       "       'Badminton', 'Sailing', 'Biathlon', 'Gymnastics',\n",
       "       'Art Competitions', 'Alpine Skiing', 'Handball', 'Weightlifting',\n",
       "       'Wrestling', 'Luge', 'Water Polo', 'Hockey', 'Rowing', 'Bobsleigh',\n",
       "       'Fencing', 'Equestrianism', 'Shooting', 'Boxing', 'Taekwondo',\n",
       "       'Cycling', 'Diving', 'Canoeing', 'Tennis', 'Modern Pentathlon',\n",
       "       'Figure Skating', 'Golf', 'Softball', 'Archery', 'Volleyball',\n",
       "       'Synchronized Swimming', 'Table Tennis', 'Nordic Combined',\n",
       "       'Baseball', 'Rhythmic Gymnastics', 'Freestyle Skiing',\n",
       "       'Rugby Sevens', 'Trampolining', 'Beach Volleyball', 'Triathlon',\n",
       "       'Ski Jumping', 'Curling', 'Snowboarding', 'Rugby',\n",
       "       'Short Track Speed Skating', 'Skeleton', 'Lacrosse', 'Polo',\n",
       "       'Cricket', 'Racquets', 'Motorboating', 'Military Ski Patrol',\n",
       "       'Croquet', 'Jeu De Paume', 'Roque', 'Alpinism', 'Basque Pelota',\n",
       "       'Aeronautics'], dtype=object)"
      ]
     },
     "execution_count": 63,
     "metadata": {},
     "output_type": "execute_result"
    }
   ],
   "source": [
    "sports.unique()"
   ]
  },
  {
   "cell_type": "code",
   "execution_count": 64,
   "metadata": {},
   "outputs": [
    {
     "data": {
      "text/plain": [
       "66"
      ]
     },
     "execution_count": 64,
     "metadata": {},
     "output_type": "execute_result"
    }
   ],
   "source": [
    "sports.nunique()"
   ]
  },
  {
   "cell_type": "markdown",
   "metadata": {},
   "source": [
    "# Event"
   ]
  },
  {
   "cell_type": "code",
   "execution_count": 65,
   "metadata": {},
   "outputs": [
    {
     "data": {
      "text/plain": [
       "0                      Basketball Men's Basketball\n",
       "1                     Judo Men's Extra-Lightweight\n",
       "2                          Football Men's Football\n",
       "3                      Tug-Of-War Men's Tug-Of-War\n",
       "4                 Speed Skating Women's 500 metres\n",
       "                            ...                   \n",
       "271111                  Luge Mixed (Men)'s Doubles\n",
       "271112    Ski Jumping Men's Large Hill, Individual\n",
       "271113          Ski Jumping Men's Large Hill, Team\n",
       "271114                        Bobsleigh Men's Four\n",
       "271115                        Bobsleigh Men's Four\n",
       "Name: Event, Length: 271116, dtype: object"
      ]
     },
     "execution_count": 65,
     "metadata": {},
     "output_type": "execute_result"
    }
   ],
   "source": [
    "event=df[\"Event\"]\n",
    "event"
   ]
  },
  {
   "cell_type": "code",
   "execution_count": 66,
   "metadata": {},
   "outputs": [
    {
     "data": {
      "text/plain": [
       "array([\"Basketball Men's Basketball\", \"Judo Men's Extra-Lightweight\",\n",
       "       \"Football Men's Football\", \"Tug-Of-War Men's Tug-Of-War\",\n",
       "       \"Speed Skating Women's 500 metres\",\n",
       "       \"Speed Skating Women's 1,000 metres\",\n",
       "       \"Cross Country Skiing Men's 10 kilometres\",\n",
       "       \"Cross Country Skiing Men's 50 kilometres\",\n",
       "       \"Cross Country Skiing Men's 10/15 kilometres Pursuit\",\n",
       "       \"Cross Country Skiing Men's 4 x 10 kilometres Relay\",\n",
       "       \"Cross Country Skiing Men's 30 kilometres\",\n",
       "       \"Athletics Women's 100 metres\",\n",
       "       \"Athletics Women's 4 x 100 metres Relay\",\n",
       "       \"Ice Hockey Men's Ice Hockey\",\n",
       "       \"Swimming Men's 400 metres Freestyle\", \"Badminton Men's Singles\",\n",
       "       \"Sailing Women's Windsurfer\",\n",
       "       \"Biathlon Women's 7.5 kilometres Sprint\",\n",
       "       \"Swimming Men's 200 metres Breaststroke\",\n",
       "       \"Swimming Men's 400 metres Breaststroke\",\n",
       "       \"Gymnastics Men's Individual All-Around\",\n",
       "       \"Gymnastics Men's Team All-Around\",\n",
       "       \"Gymnastics Men's Floor Exercise\", \"Gymnastics Men's Horse Vault\",\n",
       "       \"Gymnastics Men's Parallel Bars\",\n",
       "       \"Gymnastics Men's Horizontal Bar\", \"Gymnastics Men's Rings\",\n",
       "       \"Gymnastics Men's Pommelled Horse\", \"Athletics Men's Shot Put\",\n",
       "       'Art Competitions Mixed Sculpturing, Unknown Event',\n",
       "       \"Alpine Skiing Men's Downhill\", \"Alpine Skiing Men's Super G\",\n",
       "       \"Alpine Skiing Men's Giant Slalom\", \"Alpine Skiing Men's Slalom\",\n",
       "       \"Alpine Skiing Men's Combined\", \"Handball Women's Handball\",\n",
       "       \"Weightlifting Women's Super-Heavyweight\",\n",
       "       \"Wrestling Men's Light-Heavyweight, Greco-Roman\",\n",
       "       \"Speed Skating Men's 500 metres\",\n",
       "       \"Speed Skating Men's 1,500 metres\",\n",
       "       \"Gymnastics Men's Team All-Around, Free System\",\n",
       "       \"Luge Women's Singles\", \"Water Polo Men's Water Polo\",\n",
       "       'Sailing Mixed Three Person Keelboat', \"Hockey Women's Hockey\",\n",
       "       \"Rowing Men's Lightweight Double Sculls\",\n",
       "       \"Athletics Men's Pole Vault\", \"Athletics Men's High Jump\",\n",
       "       \"Sailing Men's Two Person Dinghy\", \"Athletics Men's 1,500 metres\",\n",
       "       \"Bobsleigh Men's Four\", \"Swimming Men's 100 metres Butterfly\",\n",
       "       \"Swimming Men's 200 metres Butterfly\",\n",
       "       \"Swimming Men's 4 x 100 metres Medley Relay\",\n",
       "       \"Football Women's Football\", \"Fencing Men's Foil, Individual\",\n",
       "       \"Fencing Men's epee, Individual\", \"Fencing Men's epee, Team\",\n",
       "       \"Speed Skating Men's 5,000 metres\",\n",
       "       \"Speed Skating Men's 10,000 metres\", 'Sailing Mixed 8 metres',\n",
       "       'Equestrianism Mixed Jumping, Individual',\n",
       "       \"Cross Country Skiing Men's 15 kilometres\",\n",
       "       \"Shooting Men's Small-Bore Rifle, Prone, 50 metres\",\n",
       "       \"Shooting Men's Rapid-Fire Pistol, 25 metres\",\n",
       "       \"Shooting Men's Trap\", \"Athletics Men's 4 x 100 metres Relay\",\n",
       "       \"Athletics Men's Long Jump\", \"Boxing Men's Light-Welterweight\",\n",
       "       \"Athletics Women's Javelin Throw\",\n",
       "       \"Wrestling Men's Heavyweight, Freestyle\",\n",
       "       \"Taekwondo Men's Flyweight\", \"Boxing Men's Heavyweight\",\n",
       "       \"Athletics Men's 5,000 metres\",\n",
       "       \"Cycling Men's Road Race, Individual\",\n",
       "       \"Cycling Men's Road Race, Team\", \"Weightlifting Men's Lightweight\",\n",
       "       \"Weightlifting Men's Middleweight\", \"Rowing Men's Coxless Pairs\",\n",
       "       \"Judo Men's Half-Middleweight\", \"Taekwondo Women's Flyweight\",\n",
       "       \"Boxing Men's Flyweight\", \"Basketball Women's Basketball\",\n",
       "       \"Diving Men's Platform\",\n",
       "       \"Canoeing Men's Canadian Doubles, 500 metres\",\n",
       "       \"Canoeing Men's Canadian Doubles, 1,000 metres\",\n",
       "       \"Canoeing Men's Kayak Fours, 1,000 metres\",\n",
       "       \"Handball Men's Handball\", \"Rowing Women's Coxless Pairs\",\n",
       "       \"Boxing Men's Middleweight\", \"Judo Men's Lightweight\",\n",
       "       \"Boxing Men's Featherweight\", \"Tennis Men's Doubles\",\n",
       "       'Shooting Mixed Skeet', \"Wrestling Men's Featherweight, Freestyle\",\n",
       "       'Sailing Mixed Two Person Heavyweight Dinghy',\n",
       "       \"Athletics Women's Shot Put\", \"Rowing Men's Coxed Eights\",\n",
       "       \"Cycling Women's Sprint\", \"Cycling Women's 500 metres Time Trial\",\n",
       "       \"Athletics Men's 110 metres Hurdles\", 'Shooting Mixed Trap',\n",
       "       \"Athletics Women's Marathon\", \"Athletics Men's 100 metres\",\n",
       "       \"Fencing Men's Foil, Team\", \"Fencing Men's Sabre, Team\",\n",
       "       \"Swimming Men's 100 metres Freestyle\",\n",
       "       \"Swimming Men's 4 x 200 metres Freestyle Relay\",\n",
       "       \"Boxing Men's Lightweight\", \"Modern Pentathlon Men's Individual\",\n",
       "       \"Boxing Men's Welterweight\", \"Rowing Men's Quadruple Sculls\",\n",
       "       \"Rowing Men's Double Sculls\", \"Rowing Men's Coxed Pairs\",\n",
       "       \"Athletics Men's 400 metres Hurdles\", \"Athletics Men's 400 metres\",\n",
       "       \"Athletics Men's Hammer Throw\",\n",
       "       \"Weightlifting Men's Featherweight\", \"Athletics Men's 800 metres\",\n",
       "       \"Hockey Men's Hockey\", \"Alpine Skiing Women's Slalom\",\n",
       "       \"Rowing Women's Single Sculls\",\n",
       "       \"Swimming Men's 50 metres Freestyle\",\n",
       "       \"Weightlifting Women's Featherweight\",\n",
       "       \"Water Polo Women's Water Polo\", \"Figure Skating Men's Singles\",\n",
       "       \"Weightlifting Men's Heavyweight\",\n",
       "       'Equestrianism Mixed Three-Day Event, Individual',\n",
       "       'Equestrianism Mixed Three-Day Event, Team',\n",
       "       'Figure Skating Mixed Team',\n",
       "       \"Sailing Women's Three Person Keelboat\",\n",
       "       \"Cycling Women's Road Race, Individual\", \"Golf Women's Individual\",\n",
       "       \"Softball Women's Softball\", \"Archery Women's Individual\",\n",
       "       \"Wrestling Men's Heavyweight, Greco-Roman\",\n",
       "       \"Volleyball Men's Volleyball\", \"Taekwondo Women's Heavyweight\",\n",
       "       \"Synchronized Swimming Women's Duet\",\n",
       "       \"Synchronized Swimming Women's Team\",\n",
       "       \"Taekwondo Women's Featherweight\", \"Athletics Men's Marathon\",\n",
       "       \"Athletics Men's 4 x 400 metres Relay\",\n",
       "       \"Athletics Men's 10,000 metres\", \"Athletics Women's 3,000 metres\",\n",
       "       \"Diving Women's Platform\", \"Shooting Men's Air Rifle, 10 metres\",\n",
       "       \"Athletics Men's 200 metres\", \"Weightlifting Men's Flyweight\",\n",
       "       \"Swimming Men's 100 metres Backstroke\",\n",
       "       \"Weightlifting Men's Light-Heavyweight\",\n",
       "       \"Wrestling Men's Lightweight, Greco-Roman\",\n",
       "       \"Fencing Men's Sabre, Individual\",\n",
       "       \"Wrestling Men's Super-Heavyweight, Greco-Roman\",\n",
       "       \"Shooting Men's Free Pistol, 50 metres\",\n",
       "       \"Shooting Men's Air Pistol, 10 metres\",\n",
       "       \"Rowing Men's Coxless Fours\", \"Boxing Men's Light-Flyweight\",\n",
       "       \"Boxing Men's Super-Heavyweight\",\n",
       "       \"Wrestling Men's Flyweight, Greco-Roman\",\n",
       "       \"Shooting Women's Air Rifle, 10 metres\",\n",
       "       \"Weightlifting Men's Middle-Heavyweight\",\n",
       "       \"Athletics Men's Javelin Throw\", \"Volleyball Women's Volleyball\",\n",
       "       \"Wrestling Men's Welterweight, Greco-Roman\",\n",
       "       \"Wrestling Men's Middleweight, Greco-Roman\",\n",
       "       \"Athletics Men's 3,000 metres Steeplechase\",\n",
       "       \"Wrestling Men's Middleweight, Freestyle\",\n",
       "       \"Swimming Women's 100 metres Backstroke\",\n",
       "       \"Swimming Women's 200 metres Backstroke\",\n",
       "       \"Swimming Women's 4 x 100 metres Medley Relay\",\n",
       "       \"Wrestling Men's Light-Heavyweight, Freestyle\",\n",
       "       \"Modern Pentathlon Men's Team\", \"Boxing Men's Bantamweight\",\n",
       "       \"Athletics Women's 200 metres\", \"Table Tennis Women's Singles\",\n",
       "       \"Table Tennis Women's Doubles\", \"Shooting Men's Skeet\",\n",
       "       \"Swimming Women's 50 metres Freestyle\",\n",
       "       \"Shooting Men's Small-Bore Rifle, Three Positions, 50 metres\",\n",
       "       \"Athletics Men's Triple Jump\", \"Weightlifting Women's Lightweight\",\n",
       "       \"Athletics Women's Long Jump\", \"Fencing Women's epee, Individual\",\n",
       "       \"Swimming Men's 200 metres Freestyle\",\n",
       "       \"Swimming Men's 4 x 100 metres Freestyle Relay\",\n",
       "       \"Swimming Men's 200 metres Backstroke\",\n",
       "       \"Swimming Men's 200 metres Individual Medley\",\n",
       "       \"Swimming Men's 400 metres Individual Medley\",\n",
       "       \"Badminton Women's Singles\", \"Boxing Men's Light-Middleweight\",\n",
       "       \"Tennis Men's Singles\", \"Wrestling Men's Bantamweight, Freestyle\",\n",
       "       \"Wrestling Men's Flyweight, Freestyle\",\n",
       "       \"Athletics Women's 5,000 metres\",\n",
       "       \"Weightlifting Women's Light-Heavyweight\",\n",
       "       \"Weightlifting Women's Heavyweight\",\n",
       "       \"Athletics Men's Discus Throw\", \"Taekwondo Men's Featherweight\",\n",
       "       \"Taekwondo Men's Welterweight\", \"Judo Men's Heavyweight\",\n",
       "       \"Cycling Men's Sprint\", \"Bobsleigh Men's Two\",\n",
       "       \"Wrestling Men's Lightweight, Freestyle\",\n",
       "       \"Nordic Combined Men's Team\", \"Nordic Combined Men's Individual\",\n",
       "       \"Baseball Men's Baseball\", \"Rowing Men's Coxed Fours\",\n",
       "       \"Cycling Men's 100 kilometres Team Time Trial\",\n",
       "       \"Rhythmic Gymnastics Women's Group\",\n",
       "       'Art Competitions Mixed Architecture, Designs For Town Planning',\n",
       "       'Art Competitions Mixed Architecture, Architectural Designs',\n",
       "       \"Gymnastics Women's Individual All-Around\",\n",
       "       \"Gymnastics Women's Team All-Around\",\n",
       "       \"Gymnastics Women's Floor Exercise\",\n",
       "       \"Gymnastics Women's Horse Vault\", \"Gymnastics Women's Uneven Bars\",\n",
       "       \"Gymnastics Women's Balance Beam\", \"Diving Women's Springboard\",\n",
       "       \"Diving Women's Synchronized Springboard\",\n",
       "       \"Athletics Women's 10,000 metres\", 'Sailing Mixed 7 metres',\n",
       "       \"Judo Women's Half-Middleweight\", \"Athletics Men's Decathlon\",\n",
       "       \"Biathlon Men's 10 kilometres Sprint\",\n",
       "       \"Biathlon Men's 20 kilometres\",\n",
       "       \"Biathlon Men's 4 x 7.5 kilometres Relay\",\n",
       "       \"Freestyle Skiing Men's Moguls\",\n",
       "       \"Wrestling Men's Middleweight A, Greco-Roman\",\n",
       "       \"Athletics Women's Discus Throw\",\n",
       "       \"Swimming Women's 4 x 100 metres Freestyle Relay\",\n",
       "       \"Athletics Women's 1,500 metres\",\n",
       "       \"Shooting Women's Air Pistol, 10 metres\",\n",
       "       \"Shooting Women's Sporting Pistol, 25 metres\",\n",
       "       \"Canoeing Men's Kayak Doubles, 500 metres\",\n",
       "       \"Canoeing Men's Kayak Singles, 500 metres\",\n",
       "       \"Canoeing Men's Kayak Singles, 1,000 metres\",\n",
       "       \"Shooting Men's Running Target, 50 metres\",\n",
       "       \"Judo Women's Half-Heavyweight\", \"Athletics Women's Pole Vault\",\n",
       "       \"Rugby Sevens Women's Rugby Sevens\", \"Table Tennis Men's Team\",\n",
       "       'Figure Skating Mixed Pairs', \"Freestyle Skiing Men's Aerials\",\n",
       "       \"Rowing Women's Coxed Eights\",\n",
       "       \"Athletics Women's 4 x 400 metres Relay\",\n",
       "       \"Alpine Skiing Women's Giant Slalom\",\n",
       "       \"Alpine Skiing Women's Super G\",\n",
       "       \"Cross Country Skiing Women's 5 kilometres\",\n",
       "       \"Cross Country Skiing Women's 10 kilometres\",\n",
       "       \"Cross Country Skiing Women's 20 kilometres\",\n",
       "       \"Cycling Men's 1,000 metres Time Trial\",\n",
       "       \"Cycling Men's Individual Pursuit, 4,000 metres\",\n",
       "       \"Wrestling Men's Welterweight, Freestyle\",\n",
       "       \"Wrestling Men's Bantamweight, Greco-Roman\",\n",
       "       \"Rowing Women's Lightweight Double Sculls\",\n",
       "       \"Athletics Women's 800 metres\",\n",
       "       \"Rowing Women's Coxed Quadruple Sculls\",\n",
       "       \"Biathlon Men's 12.5 kilometres Pursuit\",\n",
       "       'Biathlon Mixed 2 x 6 kilometres and 2 x 7.5 kilometres Relay',\n",
       "       \"Rhythmic Gymnastics Women's Individual\",\n",
       "       \"Canoeing Men's Kayak Singles, Slalom\", \"Archery Men's Individual\",\n",
       "       \"Archery Men's Team\", \"Speed Skating Women's 1,500 metres\",\n",
       "       \"Speed Skating Women's Team Pursuit (6 laps)\",\n",
       "       \"Cross Country Skiing Men's Sprint\",\n",
       "       \"Athletics Women's 400 metres\", \"Figure Skating Women's Singles\",\n",
       "       \"Speed Skating Men's 1,000 metres\",\n",
       "       \"Trampolining Men's Individual\",\n",
       "       \"Beach Volleyball Men's Beach Volleyball\",\n",
       "       \"Cycling Women's Mountainbike, Cross-Country\",\n",
       "       \"Athletics Men's Javelin Throw, Both Hands\",\n",
       "       \"Triathlon Women's Olympic Distance\",\n",
       "       \"Gymnastics Women's Team Portable Apparatus\",\n",
       "       \"Cycling Men's Mountainbike, Cross-Country\",\n",
       "       \"Athletics Women's 400 metres Hurdles\", \"Diving Men's Springboard\",\n",
       "       \"Wrestling Men's Featherweight, Greco-Roman\",\n",
       "       \"Table Tennis Men's Singles\", 'Art Competitions Mixed Painting',\n",
       "       \"Cross Country Skiing Women's 3 x 5 kilometres Relay\",\n",
       "       \"Judo Men's Open Class\", \"Rowing Women's Quadruple Sculls\",\n",
       "       \"Gymnastics Men's Team All-Around, Swedish System\",\n",
       "       \"Nordic Combined Men's Sprint\", \"Athletics Women's Pentathlon\",\n",
       "       'Art Competitions Mixed Painting, Unknown Event',\n",
       "       \"Cycling Men's Team Pursuit, 4,000 metres\",\n",
       "       \"Weightlifting Women's Middleweight\",\n",
       "       \"Swimming Men's 1,500 metres Freestyle\",\n",
       "       \"Wrestling Women's Light-Heavyweight, Freestyle\",\n",
       "       \"Swimming Women's 100 metres Freestyle\",\n",
       "       \"Equestrianism Men's Jumping, Individual\",\n",
       "       \"Equestrianism Men's Jumping, Team\",\n",
       "       \"Equestrianism Men's Three-Day Event, Individual\",\n",
       "       \"Equestrianism Men's Three-Day Event, Team\",\n",
       "       \"Alpine Skiing Women's Combined\", \"Athletics Women's High Jump\",\n",
       "       \"Ski Jumping Men's Normal Hill, Individual\",\n",
       "       \"Canoeing Women's Kayak Fours, 500 metres\",\n",
       "       \"Ice Hockey Women's Ice Hockey\", \"Sailing Men's One Person Dinghy\",\n",
       "       \"Trampolining Women's Individual\", \"Curling Men's Curling\",\n",
       "       'Art Competitions Mixed Literature', \"Judo Men's Middleweight\",\n",
       "       \"Biathlon Women's 15 kilometres\",\n",
       "       \"Biathlon Women's 3 x 7.5 kilometres Relay\",\n",
       "       \"Biathlon Women's 4 x 7.5 kilometres Relay\",\n",
       "       \"Judo Men's Half-Lightweight\", \"Fencing Women's Foil, Team\",\n",
       "       \"Swimming Women's 200 metres Butterfly\",\n",
       "       \"Swimming Women's 400 metres Individual Medley\",\n",
       "       \"Golf Men's Individual\", \"Athletics Men's Standing High Jump\",\n",
       "       \"Athletics Men's Standing Long Jump\",\n",
       "       \"Athletics Men's 20 kilometres Walk\",\n",
       "       \"Swimming Men's 220 yard Freestyle\",\n",
       "       \"Swimming Men's 880 yard Freestyle\",\n",
       "       \"Swimming Men's One Mile Freestyle\",\n",
       "       \"Swimming Men's 4 x 50 Yard Freestyle Relay\",\n",
       "       \"Swimming Men's Plunge For Distance\",\n",
       "       \"Shooting Men's Free Rifle, Three Positions, 300 metres\",\n",
       "       \"Shooting Men's Military Rifle, Three Positions, 300 metres\",\n",
       "       \"Shooting Men's Military Rifle, Any Position, 600 metres\",\n",
       "       \"Shooting Men's Military Rifle, 200, 400, 500 and 600 metres, Team\",\n",
       "       \"Shooting Men's Military Rifle, Prone, 300 metres\",\n",
       "       \"Judo Men's Half-Heavyweight\", \"Archery Women's Team\",\n",
       "       \"Athletics Men's 50 kilometres Walk\",\n",
       "       \"Rowing Women's Double Sculls\", 'Sailing Mixed 6 metres',\n",
       "       \"Boxing Men's Light-Heavyweight\", \"Boxing Women's Flyweight\",\n",
       "       \"Athletics Women's 100 metres Hurdles\",\n",
       "       \"Athletics Men's Discus Throw, Greek Style\",\n",
       "       \"Curling Women's Curling\", 'Sailing Mixed One Person Dinghy',\n",
       "       \"Wrestling Women's Heavyweight, Freestyle\",\n",
       "       'Badminton Mixed Doubles', \"Fencing Women's Foil, Individual\",\n",
       "       'Sailing Mixed Two Person Keelboat',\n",
       "       \"Shooting Men's Military Rifle, 300 metres and 600 metres, Prone, Team\",\n",
       "       \"Table Tennis Men's Doubles\",\n",
       "       \"Wrestling Men's Light-Flyweight, Freestyle\",\n",
       "       \"Wrestling Women's Featherweight, Freestyle\",\n",
       "       \"Swimming Women's 200 metres Freestyle\",\n",
       "       \"Swimming Women's 400 metres Freestyle\",\n",
       "       \"Swimming Women's 200 metres Individual Medley\",\n",
       "       \"Sailing Men's Windsurfer\", \"Freestyle Skiing Men's Slopestyle\",\n",
       "       \"Shooting Men's Running Target, Single Shot\",\n",
       "       \"Shooting Men's Running Target, Double Shot\",\n",
       "       \"Rugby Sevens Men's Rugby Sevens\",\n",
       "       \"Wrestling Women's Lightweight, Freestyle\",\n",
       "       \"Modern Pentathlon Women's Individual\",\n",
       "       \"Canoeing Men's Canadian Doubles, Slalom\",\n",
       "       \"Judo Women's Half-Lightweight\", \"Diving Women's Plain High\",\n",
       "       \"Equestrianism Men's Dressage, Individual\",\n",
       "       \"Equestrianism Men's Dressage, Team\",\n",
       "       \"Tennis Women's Singles, Covered Courts\",\n",
       "       \"Diving Men's Plain High\",\n",
       "       'Shooting Mixed Small-Bore Rifle, Three Positions, 50 metres',\n",
       "       'Shooting Mixed Small-Bore Rifle, Prone, 50 metres',\n",
       "       \"Swimming Women's 800 metres Freestyle\",\n",
       "       \"Sailing Women's Two Person Dinghy\",\n",
       "       \"Alpine Skiing Women's Downhill\",\n",
       "       \"Shooting Men's Free Pistol, 50 metres, Team\",\n",
       "       \"Shooting Men's Free Rifle, Three Positions, 300 metres, Team\",\n",
       "       \"Shooting Men's Military Rifle, Prone, 300 metres, Team\",\n",
       "       \"Shooting Men's Military Rifle, Prone, 600 metres, Team\",\n",
       "       \"Shooting Men's Military Rifle, Standing, 300 metres, Team\",\n",
       "       \"Shooting Men's Free Rifle, Prone, 600 metres\",\n",
       "       \"Shooting Men's Free Rifle, 400, 600 and 800 metres, Team\",\n",
       "       \"Rowing Men's Single Sculls\",\n",
       "       \"Cycling Men's Tandem Sprint, 2,000 metres\",\n",
       "       \"Freestyle Skiing Women's Halfpipe\",\n",
       "       \"Athletics Women's Heptathlon\", \"Cycling Men's Points Race\",\n",
       "       \"Synchronized Swimming Women's Solo\",\n",
       "       'Equestrianism Mixed Dressage, Individual',\n",
       "       'Equestrianism Mixed Dressage, Team',\n",
       "       \"Cross Country Skiing Men's 18 kilometres\",\n",
       "       \"Swimming Men's 100 metres Breaststroke\",\n",
       "       'Figure Skating Mixed Ice Dancing',\n",
       "       'Shooting Mixed Free Pistol, 50 metres', \"Sailing Women's Skiff\",\n",
       "       \"Canoeing Men's Kayak Doubles, 10,000 metres\",\n",
       "       \"Triathlon Men's Olympic Distance\",\n",
       "       \"Sailing Women's One Person Dinghy\",\n",
       "       \"Cross Country Skiing Women's 30 kilometres\",\n",
       "       \"Cross Country Skiing Women's 15 km Skiathlon\",\n",
       "       \"Rowing Men's 17-Man Naval Rowing Boats\",\n",
       "       \"Beach Volleyball Women's Beach Volleyball\",\n",
       "       \"Weightlifting Men's Super-Heavyweight\",\n",
       "       \"Rowing Men's Lightweight Coxless Fours\",\n",
       "       \"Wrestling Men's Light-Flyweight, Greco-Roman\",\n",
       "       \"Canoeing Men's Canadian Singles, 1,000 metres\",\n",
       "       'Sailing Mixed 5.5 metres', 'Equestrianism Mixed Jumping, Team',\n",
       "       \"Diving Men's Synchronized Platform\",\n",
       "       \"Snowboarding Men's Halfpipe\",\n",
       "       \"Canoeing Women's Kayak Singles, Slalom\",\n",
       "       \"Weightlifting Women's Flyweight\",\n",
       "       \"Swimming Women's 100 metres Breaststroke\",\n",
       "       \"Swimming Women's 200 metres Breaststroke\",\n",
       "       \"Wrestling Men's Middleweight B, Greco-Roman\",\n",
       "       \"Athletics Men's Stone Throw\",\n",
       "       \"Athletics Men's Javelin Throw, Freestyle\",\n",
       "       \"Athletics Men's Pentathlon (Ancient)\",\n",
       "       \"Shooting Women's Small-Bore Rifle, Three Positions, 50 metres\",\n",
       "       \"Swimming Women's 100 metres Butterfly\",\n",
       "       \"Weightlifting Men's Heavyweight I\",\n",
       "       \"Athletics Women's 3,000 metres Steeplechase\",\n",
       "       \"Athletics Men's Shot Put, Both Hands\",\n",
       "       \"Ski Jumping Men's Large Hill, Individual\",\n",
       "       \"Ski Jumping Men's Large Hill, Team\", \"Shooting Women's Trap\",\n",
       "       \"Badminton Men's Doubles\",\n",
       "       \"Swimming Women's 4 x 200 metres Freestyle Relay\",\n",
       "       \"Athletics Men's 10 kilometres Walk\",\n",
       "       \"Athletics Women's 20 kilometres Walk\",\n",
       "       \"Athletics Women's 80 metres Hurdles\",\n",
       "       \"Sailing Men's One Person Heavyweight Dinghy\",\n",
       "       \"Freestyle Skiing Women's Aerials\",\n",
       "       'Art Competitions Mixed Painting, Paintings',\n",
       "       'Tennis Mixed Doubles, Covered Courts', \"Cycling Men's Madison\",\n",
       "       'Art Competitions Mixed Sculpturing, Statues', \"Rugby Men's Rugby\",\n",
       "       \"Weightlifting Men's Heavyweight II\",\n",
       "       \"Canoeing Women's Kayak Doubles, 500 metres\",\n",
       "       \"Short Track Speed Skating Men's 5,000 metres Relay\",\n",
       "       \"Cycling Men's Individual Time Trial\", \"Judo Women's Heavyweight\",\n",
       "       \"Canoeing Men's Kayak Doubles, 1,000 metres\",\n",
       "       \"Gymnastics Men's Individual All-Around, 5 Events\",\n",
       "       \"Wrestling Men's Super-Heavyweight, Freestyle\",\n",
       "       \"Biathlon Women's 10 kilometres Pursuit\",\n",
       "       \"Biathlon Women's 12.5 kilometres Mass Start\",\n",
       "       \"Biathlon Women's 4 x 6 kilometres Relay\",\n",
       "       \"Fencing Women's Sabre, Team\", \"Shooting Men's Double Trap\",\n",
       "       \"Weightlifting Men's Bantamweight\", \"Taekwondo Men's Heavyweight\",\n",
       "       'Sailing Mixed Windsurfer', \"Taekwondo Women's Welterweight\",\n",
       "       'Shooting Mixed Free Rifle, Three Positions, 300 metres',\n",
       "       \"Skeleton Men's Skeleton\", \"Cycling Men's 50 kilometres\",\n",
       "       'Shooting Mixed Rapid-Fire Pistol, 25 metres',\n",
       "       \"Cycling Men's 333 metres Time Trial\",\n",
       "       \"Cycling Men's 20 kilometres\",\n",
       "       \"Canoeing Men's Kayak Singles, 10,000 metres\",\n",
       "       'Sailing Mixed Open', 'Sailing Mixed 1-2 Ton',\n",
       "       \"Canoeing Men's Canadian Singles, Slalom\", \"Luge Men's Singles\",\n",
       "       \"Luge Mixed (Men)'s Doubles\", 'Sailing Mixed Multihull',\n",
       "       \"Badminton Women's Doubles\", \"Speed Skating Women's 3,000 metres\",\n",
       "       \"Cross Country Skiing Women's 5/10 kilometres Pursuit\",\n",
       "       \"Cross Country Skiing Women's 4 x 5 kilometres Relay\",\n",
       "       \"Cross Country Skiing Women's 15 kilometres\",\n",
       "       \"Cross Country Skiing Women's 5/5 kilometres Pursuit\",\n",
       "       \"Diving Women's Synchronized Platform\",\n",
       "       \"Athletics Women's Triple Jump\", \"Skeleton Women's Skeleton\",\n",
       "       \"Bobsleigh Men's Four/Five\",\n",
       "       'Art Competitions Mixed Painting, Drawings And Water Colors',\n",
       "       \"Shooting Men's Dueling Pistol, 30 metres\",\n",
       "       \"Boxing Women's Lightweight\", \"Cycling Women's BMX\",\n",
       "       \"Canoeing Men's Kayak Doubles, 200 metres\",\n",
       "       \"Fencing Men's Sabre, Masters, Individual\",\n",
       "       \"Lacrosse Men's Lacrosse\",\n",
       "       \"Canoeing Women's Kayak Singles, 500 metres\",\n",
       "       \"Athletics Women's 10 kilometres Walk\", 'Sailing Mixed 12 metres',\n",
       "       \"Judo Women's Extra-Lightweight\",\n",
       "       \"Diving Men's Synchronized Springboard\",\n",
       "       \"Rowing Men's Coxed Fours, Outriggers\",\n",
       "       \"Gymnastics Men's Rope Climbing\",\n",
       "       'Sailing Mixed Two Person Dinghy',\n",
       "       'Art Competitions Mixed Architecture, Unknown Event',\n",
       "       \"Archery Men's Target Archery, 28 metres, Team\",\n",
       "       \"Archery Men's Target Archery, 33 metres, Team\",\n",
       "       \"Archery Men's Target Archery, 50 metres, Team\",\n",
       "       \"Short Track Speed Skating Women's 3,000 metres Relay\",\n",
       "       \"Freestyle Skiing Women's Moguls\",\n",
       "       \"Short Track Speed Skating Men's 500 metres\",\n",
       "       \"Shooting Men's Running Target, 10 metres\", \"Polo Men's Polo\",\n",
       "       \"Rowing Men's Coxed Fours, Inriggers\", \"Cycling Men's BMX\",\n",
       "       'Art Competitions Mixed Sculpturing',\n",
       "       \"Athletics Men's Cross-Country, Individual\",\n",
       "       \"Athletics Men's Cross-Country, Team\", 'Sailing Mixed 40 metres',\n",
       "       \"Cross Country Skiing Men's 10/10 kilometres Pursuit\",\n",
       "       \"Ski Jumping Women's Normal Hill, Individual\",\n",
       "       \"Short Track Speed Skating Men's 1,000 metres\",\n",
       "       \"Short Track Speed Skating Men's 1,500 metres\",\n",
       "       \"Gymnastics Men's Club Swinging\", \"Tennis Women's Singles\",\n",
       "       'Tennis Mixed Doubles', \"Tennis Women's Doubles\",\n",
       "       \"Judo Women's Middleweight\", \"Judo Women's Lightweight\",\n",
       "       \"Cross Country Skiing Men's Team Sprint\",\n",
       "       \"Snowboarding Women's Halfpipe\",\n",
       "       \"Canoeing Women's Kayak Singles, 200 metres\",\n",
       "       \"Canoeing Men's Kayak Relay 4 x 500 metres\",\n",
       "       \"Athletics Men's 3,000 metres, Team\",\n",
       "       \"Cross Country Skiing Women's Sprint\",\n",
       "       \"Shooting Men's Small-Bore Rifle, Prone, 50 and 100 yards\",\n",
       "       \"Shooting Men's Small-Bore Rifle, 50 and 100 yards, Team\",\n",
       "       \"Shooting Men's Small-Bore Rifle, Disappearing Target, 25 yards\",\n",
       "       \"Shooting Men's Small-Bore Rifle, Moving Target, 25 yards\",\n",
       "       \"Shooting Men's Military Pistol, Team\",\n",
       "       \"Rowing Women's Coxed Fours\",\n",
       "       \"Weightlifting Men's Unlimited, One Hand\",\n",
       "       \"Canoeing Men's Canadian Singles, 500 metres\",\n",
       "       \"Fencing Men's Foil, Masters, Individual\",\n",
       "       \"Fencing Men's epee, Masters, Individual\",\n",
       "       \"Gymnastics Men's Individual All-Around, Field Sports\",\n",
       "       \"Gymnastics Men's Individual All-Around, Apparatus Work\",\n",
       "       'Art Competitions Mixed Music, Compositions For Solo Or Chorus',\n",
       "       \"Fencing Women's epee, Team\",\n",
       "       \"Swimming Men's 4,000 metres Freestyle\",\n",
       "       \"Swimming Men's Underwater Swimming\", 'Sailing Mixed Skiff',\n",
       "       \"Shooting Men's Military Rifle, 200/500/600/800/900/1,000 Yards, Team\",\n",
       "       \"Shooting Men's Running Target, Single And Double Shot\",\n",
       "       \"Shooting Men's Small-Bore Rifle, Any Position, 50 metres\",\n",
       "       \"Shooting Men's Small-Bore Rifle, Disappearing Target, 25 metres\",\n",
       "       \"Swimming Women's 10 kilometres Open Water\",\n",
       "       \"Snowboarding Women's Slopestyle\",\n",
       "       \"Snowboarding Men's Giant Slalom\",\n",
       "       \"Snowboarding Men's Parallel Giant Slalom\",\n",
       "       \"Snowboarding Men's Boardercross\",\n",
       "       \"Snowboarding Men's Parallel Slalom\",\n",
       "       \"Cycling Men's Team Pursuit, 1,980 yards\",\n",
       "       \"Cycling Men's 5,000 metres\", \"Cycling Men's 100 kilometres\",\n",
       "       \"Cricket Men's Cricket\",\n",
       "       \"Canoeing Men's Canadian Singles, 10,000 metres\",\n",
       "       \"Cross Country Skiing Women's Team Sprint\",\n",
       "       \"Boxing Women's Middleweight\", \"Sailing Men's Skiff\",\n",
       "       \"Athletics Men's Pentathlon\",\n",
       "       \"Swimming Men's 1,200 metres Freestyle\", \"Shooting Women's Skeet\",\n",
       "       \"Biathlon Men's 15 kilometres Mass Start\",\n",
       "       \"Cross Country Skiing Men's 30 km Skiathlon\",\n",
       "       \"Cycling Men's 1/4 mile\", \"Cycling Men's 1/2 mile\",\n",
       "       \"Cycling Men's 5 mile\", \"Cycling Men's 25 mile\",\n",
       "       \"Shooting Men's Small-Bore Rifle, Standing, 50 metres\",\n",
       "       \"Shooting Men's Small Bore-Rifle, Standing, 50 metres, Team\",\n",
       "       \"Speed Skating Men's Team Pursuit (8 laps)\",\n",
       "       \"Shooting Men's Free Rifle, 1,000 Yards\",\n",
       "       \"Cycling Women's Team Pursuit\",\n",
       "       \"Speed Skating Women's 5,000 metres\",\n",
       "       \"Athletics Men's 3,000 metres Walk\",\n",
       "       \"Snowboarding Women's Boardercross\",\n",
       "       'Shooting Mixed Running Target, 50 metres',\n",
       "       'Luge Mixed Team Relay', \"Cycling Women's Individual Time Trial\",\n",
       "       \"Fencing Women's Sabre, Individual\",\n",
       "       \"Fencing Men's Sabre, Individual, Three Hits\",\n",
       "       \"Archery Women's Double National Round\", \"Cycling Men's Omnium\",\n",
       "       'Equestrianism Mixed Hacks And Hunter Combined',\n",
       "       'Sailing Mixed 10 metres', \"Shooting Men's Trap, Team\",\n",
       "       \"Cycling Women's Individual Pursuit, 3,000 metres\",\n",
       "       \"Cycling Women's Points Race\", \"Sailing Men's Two Person Keelboat\",\n",
       "       \"Cycling Men's Keirin\", \"Cycling Men's Team Sprint\",\n",
       "       \"Athletics Men's 5 mile\",\n",
       "       \"Shooting Men's Running Target, Single Shot, Team\",\n",
       "       \"Bobsleigh Women's Two\", \"Racquets Men's Singles\",\n",
       "       \"Racquets Men's Doubles\",\n",
       "       'Art Competitions Mixed Literature, Lyric Works',\n",
       "       'Motorboating Mixed A-Class (Open)',\n",
       "       \"Archery Men's Continental Style\",\n",
       "       \"Military Ski Patrol Men's Military Ski Patrol\",\n",
       "       'Art Competitions Mixed Painting, Graphic Arts',\n",
       "       \"Wrestling Women's Flyweight, Freestyle\",\n",
       "       'Art Competitions Mixed Literature, Unknown Event',\n",
       "       'Sailing Mixed 0.5-1 Ton',\n",
       "       'Art Competitions Mixed Painting, Applied Arts',\n",
       "       'Croquet Mixed Singles, One Ball', 'Croquet Mixed Doubles',\n",
       "       \"Shooting Men's Running Target, Double Shot, Team\",\n",
       "       \"Shooting Men's Free Pistol, 50 yards\",\n",
       "       \"Shooting Men's Free Pistol, 50 yards, Team\",\n",
       "       \"Fencing Men's epee, Masters and Amateurs, Individual\",\n",
       "       \"Swimming Men's 10 kilometres Open Water\",\n",
       "       'Art Competitions Mixed Music, Compositions For Orchestra',\n",
       "       \"Archery Men's Double York Round\",\n",
       "       \"Wrestling Women's Middleweight, Freestyle\",\n",
       "       \"Equestrianism Men's Vaulting, Individual\",\n",
       "       \"Swimming Men's 4 x 250 metres Freestyle Relay\",\n",
       "       \"Freestyle Skiing Women's Slopestyle\", \"Table Tennis Women's Team\",\n",
       "       \"Athletics Women's Hammer Throw\",\n",
       "       \"Canoeing Men's Kayak Singles, 200 metres\",\n",
       "       \"Short Track Speed Skating Women's 500 metres\",\n",
       "       \"Shooting Women's Double Trap\",\n",
       "       \"Rowing Men's 6-Man Naval Rowing Boats\",\n",
       "       'Art Competitions Mixed Music',\n",
       "       \"Shooting Men's Free Rifle, Kneeling, 300 metres\",\n",
       "       \"Shooting Men's Free Rifle, Prone, 300 metres\",\n",
       "       \"Shooting Men's Free Rifle, Standing, 300 metres\",\n",
       "       \"Short Track Speed Skating Women's 1,000 metres\",\n",
       "       \"Athletics Men's 3,200 metres Steeplechase\",\n",
       "       \"Rowing Women's Coxless Fours\",\n",
       "       \"Freestyle Skiing Women's Ski Cross\",\n",
       "       \"Freestyle Skiing Men's Ski Cross\",\n",
       "       \"Tennis Men's Doubles, Covered Courts\",\n",
       "       \"Tennis Men's Singles, Covered Courts\",\n",
       "       \"Cycling Men's 25 kilometres\",\n",
       "       \"Nordic Combined Men's Normal Hill / 10 km, Individual\",\n",
       "       \"Nordic Combined Men's Large Hill / 10 km, Individual\",\n",
       "       \"Shooting Men's Military Rifle, 200 metres\",\n",
       "       \"Short Track Speed Skating Women's 1,500 metres\",\n",
       "       \"Athletics Men's Standing Triple Jump\",\n",
       "       \"Rowing Men's Coxed Pairs (1 kilometres)\",\n",
       "       \"Shooting Men's Military Pistol, 30 metres\",\n",
       "       \"Cycling Women's Keirin\",\n",
       "       \"Archery Men's Au Cordon Dore, 50 metres\",\n",
       "       \"Swimming Women's 300 metres Freestyle\",\n",
       "       \"Snowboarding Women's Giant Slalom\",\n",
       "       \"Canoeing Men's Canadian Singles, 200 metres\",\n",
       "       'Sailing Mixed 30 metres',\n",
       "       \"Athletics Men's 4,000 metres Steeplechase\",\n",
       "       \"Athletics Men's 5,000 metres, Team\",\n",
       "       \"Snowboarding Men's Slopestyle\",\n",
       "       \"Rowing Men's Coxed Pairs (1 mile)\",\n",
       "       'Art Competitions Mixed Unknown Event', \"Cycling Women's Omnium\",\n",
       "       \"Freestyle Skiing Men's Halfpipe\",\n",
       "       \"Swimming Men's 200 metres Obstacle Course\",\n",
       "       \"Swimming Men's 200 metres Team Swimming\", 'Sailing Mixed 12 foot',\n",
       "       'Art Competitions Mixed Music, Instrumental And Chamber',\n",
       "       'Art Competitions Mixed Music, Vocals',\n",
       "       'Art Competitions Mixed Literature, Dramatic Works',\n",
       "       \"Jeu De Paume Men's Singles\", 'Sailing Mixed 10-20 Ton',\n",
       "       \"Cycling Men's 1/3 mile\", \"Cycling Men's 1 mile\",\n",
       "       \"Cycling Men's 2 mile\",\n",
       "       'Art Competitions Mixed Sculpturing, Medals And Plaques',\n",
       "       \"Athletics Men's 1,600 metres Medley Relay\",\n",
       "       'Croquet Mixed Singles, Two Balls',\n",
       "       \"Canoeing Men's Folding Kayak Doubles, 10 kilometres\",\n",
       "       \"Athletics Men's 60 metres\",\n",
       "       \"Snowboarding Women's Parallel Giant Slalom\",\n",
       "       'Sailing Mixed 2-3 Ton', \"Speed Skating Men's Allround\",\n",
       "       \"Shooting Men's Military Rifle, Prone, 600 metres\",\n",
       "       \"Canoeing Men's Canadian Doubles, 10,000 metres\",\n",
       "       \"Snowboarding Women's Parallel Slalom\",\n",
       "       \"Shooting Men's Dueling Pistol, 30 metres, Team\",\n",
       "       \"Gymnastics Men's Parallel Bars, Teams\",\n",
       "       \"Gymnastics Men's Horizontal Bar, Teams\",\n",
       "       \"Shooting Men's Small-Bore Rifle, Disappearing Target, 25 metres, Team\",\n",
       "       'Art Competitions Mixed Sculpturing, Medals And Reliefs',\n",
       "       \"Athletics Men's 1,500 metres Walk\",\n",
       "       \"Athletics Men's 3 mile, Team\",\n",
       "       'Art Competitions Mixed Sculpturing, Medals',\n",
       "       \"Shooting Men's Military Rifle, Kneeling Or Standing, 300 metres\",\n",
       "       \"Equestrianism Men's Vaulting, Team\",\n",
       "       \"Shooting Men's Free Rifle, Any Position, 300 metres\",\n",
       "       \"Shooting Men's Military Rifle, 1873-1874 Gras Model, Kneeling Or Standing, 200 metres\",\n",
       "       \"Swimming Men's 100 Yard Backstroke\",\n",
       "       \"Swimming Men's 440 Yard Breaststroke\",\n",
       "       'Art Competitions Mixed Literature, Epic Works',\n",
       "       'Art Competitions Mixed Architecture',\n",
       "       \"Athletics Men's 3,500 metres Walk\", \"Roque Men's Singles\",\n",
       "       \"Gymnastics Men's Side Horse\", 'Alpinism Mixed Alpinism',\n",
       "       \"Archery Men's Double American Round\", \"Archery Men's Team Round\",\n",
       "       \"Archery Men's Target Archery, 33 metres, Individual\",\n",
       "       \"Archery Men's Target Archery, 50 metres, Individual\",\n",
       "       \"Swimming Men's 1,000 metres Freestyle\",\n",
       "       \"Athletics Men's 10 mile Walk\",\n",
       "       \"Athletics Men's Discus Throw, Both Hands\", \"Golf Men's Team\",\n",
       "       'Sailing Mixed 0-0.5 Ton', 'Sailing Mixed 20+ Ton',\n",
       "       \"Cycling Women's Team Sprint\",\n",
       "       \"Weightlifting Men's Unlimited, Two Hands\",\n",
       "       \"Shooting Men's Free Pistol, 25 metres\",\n",
       "       \"Shooting Men's Military Revolver, 1873-1874 Gras Model, 20 metres\",\n",
       "       \"Shooting Men's Military Revolver, 20 metres\",\n",
       "       \"Shooting Men's Dueling Pistol Au Vise 20 metres\",\n",
       "       \"Shooting Men's Dueling Pistol Au Commandement, 25 metres\",\n",
       "       \"Shooting Men's Small-Bore Rifle, Prone, 50 metres, Team\",\n",
       "       'Sailing Mixed 6.5 metres', \"Athletics Men's 200 metres Hurdles\",\n",
       "       \"Athletics Men's 56-pound Weight Throw\",\n",
       "       'Equestrianism Mixed Four-In-Hand Competition',\n",
       "       \"Athletics Men's 2,500 metres Steeplechase\",\n",
       "       'Art Competitions Mixed Music, Unknown Event',\n",
       "       \"Athletics Men's All-Around Championship\",\n",
       "       \"Archery Men's Pole Archery, Small Birds, Individual\",\n",
       "       \"Archery Men's Pole Archery, Large Birds, Individual\",\n",
       "       \"Archery Men's Pole Archery, Small Birds, Team\",\n",
       "       \"Archery Men's Pole Archery, Large Birds, Team\",\n",
       "       \"Athletics Men's 2,590 metres Steeplechase\",\n",
       "       \"Archery Women's Double Columbia Round\",\n",
       "       \"Athletics Men's 4 mile, Team\",\n",
       "       \"Figure Skating Men's Special Figures\",\n",
       "       \"Shooting Men's Military Rifle, Standing, 300 metres\",\n",
       "       \"Swimming Men's 50 yard Freestyle\",\n",
       "       \"Swimming Men's 100 yard Freestyle\",\n",
       "       \"Swimming Men's 440 yard Freestyle\",\n",
       "       \"Basque Pelota Men's Two-Man Teams With Cesta\",\n",
       "       \"Shooting Men's Trap, Single Shot, 16 metres\",\n",
       "       \"Shooting Men's Trap, Double Shot, 14 metres\",\n",
       "       'Equestrianism Mixed Long Jump',\n",
       "       \"Canoeing Men's Folding Kayak Singles, 10 kilometres\",\n",
       "       \"Shooting Men's Free Pistol, 30 metres\",\n",
       "       \"Shooting Men's Military Pistol, 25 metres\",\n",
       "       \"Swimming Men's 100 metres Freestyle For Sailors\",\n",
       "       \"Archery Men's Sur La Perche a La Herse\", 'Sailing Mixed 3-10 Ton',\n",
       "       \"Gymnastics Men's Individual All-Around, 4 Events\",\n",
       "       \"Wrestling Men's Unlimited Class, Greco-Roman\",\n",
       "       'Motorboating Mixed B-Class (Under 60 Feet)',\n",
       "       'Motorboating Mixed C-Class', \"Cycling Men's 10,000 metres\",\n",
       "       'Art Competitions Mixed Sculpturing, Reliefs',\n",
       "       \"Shooting Men's Muzzle-Loading Pistol, 25 metres\",\n",
       "       'Equestrianism Mixed High Jump',\n",
       "       \"Archery Men's Sur La Perche a La Pyramide\",\n",
       "       \"Fencing Men's Single Sticks, Individual\",\n",
       "       \"Gymnastics Men's Tumbling\", \"Shooting Men's Unknown Event\",\n",
       "       'Sailing Mixed 18 foot', \"Archery Men's Unknown Event\",\n",
       "       \"Archery Men's Au Chapelet, 50 metres\",\n",
       "       \"Archery Men's Championnat Du Monde\", \"Archery Women's Team Round\",\n",
       "       \"Wrestling Men's All-Around, Greco-Roman\",\n",
       "       \"Cycling Men's 12-Hours Race\",\n",
       "       \"Swimming Men's 500 metres Freestyle\",\n",
       "       \"Weightlifting Men's All-Around Dumbbell Contest\",\n",
       "       \"Archery Men's Au Chapelet, 33 metres\",\n",
       "       \"Archery Men's Au Cordon Dore, 33 metres\",\n",
       "       \"Archery Men's Target Archery, 28 metres, Individual\",\n",
       "       'Aeronautics Mixed Aeronautics'], dtype=object)"
      ]
     },
     "execution_count": 66,
     "metadata": {},
     "output_type": "execute_result"
    }
   ],
   "source": [
    "event.unique()"
   ]
  },
  {
   "cell_type": "code",
   "execution_count": 67,
   "metadata": {},
   "outputs": [
    {
     "data": {
      "text/plain": [
       "765"
      ]
     },
     "execution_count": 67,
     "metadata": {},
     "output_type": "execute_result"
    }
   ],
   "source": [
    "event.nunique()"
   ]
  },
  {
   "cell_type": "markdown",
   "metadata": {},
   "source": [
    "# Medals"
   ]
  },
  {
   "cell_type": "code",
   "execution_count": 68,
   "metadata": {},
   "outputs": [
    {
     "data": {
      "text/plain": [
       "0          NaN\n",
       "1          NaN\n",
       "2          NaN\n",
       "3         Gold\n",
       "4          NaN\n",
       "          ... \n",
       "271111     NaN\n",
       "271112     NaN\n",
       "271113     NaN\n",
       "271114     NaN\n",
       "271115     NaN\n",
       "Name: Medal, Length: 271116, dtype: object"
      ]
     },
     "execution_count": 68,
     "metadata": {},
     "output_type": "execute_result"
    }
   ],
   "source": [
    "medal=df[\"Medal\"]\n",
    "medal"
   ]
  },
  {
   "cell_type": "code",
   "execution_count": 69,
   "metadata": {},
   "outputs": [
    {
     "data": {
      "text/plain": [
       "array([nan, 'Gold', 'Bronze', 'Silver'], dtype=object)"
      ]
     },
     "execution_count": 69,
     "metadata": {},
     "output_type": "execute_result"
    }
   ],
   "source": [
    "medal.unique()"
   ]
  },
  {
   "cell_type": "code",
   "execution_count": 70,
   "metadata": {},
   "outputs": [
    {
     "data": {
      "text/plain": [
       "3"
      ]
     },
     "execution_count": 70,
     "metadata": {},
     "output_type": "execute_result"
    }
   ],
   "source": [
    "medal.nunique()"
   ]
  },
  {
   "cell_type": "markdown",
   "metadata": {},
   "source": [
    "# Seasons"
   ]
  },
  {
   "cell_type": "code",
   "execution_count": 71,
   "metadata": {},
   "outputs": [
    {
     "data": {
      "text/plain": [
       "0         Summer\n",
       "1         Summer\n",
       "2         Summer\n",
       "3         Summer\n",
       "4         Winter\n",
       "           ...  \n",
       "271111    Winter\n",
       "271112    Winter\n",
       "271113    Winter\n",
       "271114    Winter\n",
       "271115    Winter\n",
       "Name: Season, Length: 271116, dtype: object"
      ]
     },
     "execution_count": 71,
     "metadata": {},
     "output_type": "execute_result"
    }
   ],
   "source": [
    "season=df[\"Season\"]\n",
    "season"
   ]
  },
  {
   "cell_type": "code",
   "execution_count": 72,
   "metadata": {},
   "outputs": [
    {
     "data": {
      "text/plain": [
       "array(['Summer', 'Winter'], dtype=object)"
      ]
     },
     "execution_count": 72,
     "metadata": {},
     "output_type": "execute_result"
    }
   ],
   "source": [
    "season.unique()"
   ]
  },
  {
   "cell_type": "code",
   "execution_count": 73,
   "metadata": {},
   "outputs": [
    {
     "data": {
      "text/plain": [
       "2"
      ]
     },
     "execution_count": 73,
     "metadata": {},
     "output_type": "execute_result"
    }
   ],
   "source": [
    "season.nunique()"
   ]
  },
  {
   "cell_type": "code",
   "execution_count": 77,
   "metadata": {},
   "outputs": [
    {
     "data": {
      "text/html": [
       "<div>\n",
       "<style scoped>\n",
       "    .dataframe tbody tr th:only-of-type {\n",
       "        vertical-align: middle;\n",
       "    }\n",
       "\n",
       "    .dataframe tbody tr th {\n",
       "        vertical-align: top;\n",
       "    }\n",
       "\n",
       "    .dataframe thead th {\n",
       "        text-align: right;\n",
       "    }\n",
       "</style>\n",
       "<table border=\"1\" class=\"dataframe\">\n",
       "  <thead>\n",
       "    <tr style=\"text-align: right;\">\n",
       "      <th></th>\n",
       "      <th>ID</th>\n",
       "      <th>Name</th>\n",
       "      <th>Sex</th>\n",
       "      <th>Age</th>\n",
       "      <th>Height</th>\n",
       "      <th>Weight</th>\n",
       "      <th>Team</th>\n",
       "      <th>NOC</th>\n",
       "      <th>Games</th>\n",
       "      <th>Year</th>\n",
       "      <th>Season</th>\n",
       "      <th>City</th>\n",
       "      <th>Sport</th>\n",
       "      <th>Event</th>\n",
       "      <th>Medal</th>\n",
       "    </tr>\n",
       "  </thead>\n",
       "  <tbody>\n",
       "    <tr>\n",
       "      <th>0</th>\n",
       "      <td>1</td>\n",
       "      <td>A Dijiang</td>\n",
       "      <td>M</td>\n",
       "      <td>24.0</td>\n",
       "      <td>180.0</td>\n",
       "      <td>80.0</td>\n",
       "      <td>China</td>\n",
       "      <td>CHN</td>\n",
       "      <td>1992 Summer</td>\n",
       "      <td>1992</td>\n",
       "      <td>Summer</td>\n",
       "      <td>Barcelona</td>\n",
       "      <td>Basketball</td>\n",
       "      <td>Basketball Men's Basketball</td>\n",
       "      <td>NaN</td>\n",
       "    </tr>\n",
       "    <tr>\n",
       "      <th>1</th>\n",
       "      <td>2</td>\n",
       "      <td>A Lamusi</td>\n",
       "      <td>M</td>\n",
       "      <td>23.0</td>\n",
       "      <td>170.0</td>\n",
       "      <td>60.0</td>\n",
       "      <td>China</td>\n",
       "      <td>CHN</td>\n",
       "      <td>2012 Summer</td>\n",
       "      <td>2012</td>\n",
       "      <td>Summer</td>\n",
       "      <td>London</td>\n",
       "      <td>Judo</td>\n",
       "      <td>Judo Men's Extra-Lightweight</td>\n",
       "      <td>NaN</td>\n",
       "    </tr>\n",
       "    <tr>\n",
       "      <th>2</th>\n",
       "      <td>3</td>\n",
       "      <td>Gunnar Nielsen Aaby</td>\n",
       "      <td>M</td>\n",
       "      <td>24.0</td>\n",
       "      <td>NaN</td>\n",
       "      <td>NaN</td>\n",
       "      <td>Denmark</td>\n",
       "      <td>DEN</td>\n",
       "      <td>1920 Summer</td>\n",
       "      <td>1920</td>\n",
       "      <td>Summer</td>\n",
       "      <td>Antwerpen</td>\n",
       "      <td>Football</td>\n",
       "      <td>Football Men's Football</td>\n",
       "      <td>NaN</td>\n",
       "    </tr>\n",
       "    <tr>\n",
       "      <th>3</th>\n",
       "      <td>4</td>\n",
       "      <td>Edgar Lindenau Aabye</td>\n",
       "      <td>M</td>\n",
       "      <td>34.0</td>\n",
       "      <td>NaN</td>\n",
       "      <td>NaN</td>\n",
       "      <td>Denmark/Sweden</td>\n",
       "      <td>DEN</td>\n",
       "      <td>1900 Summer</td>\n",
       "      <td>1900</td>\n",
       "      <td>Summer</td>\n",
       "      <td>Paris</td>\n",
       "      <td>Tug-Of-War</td>\n",
       "      <td>Tug-Of-War Men's Tug-Of-War</td>\n",
       "      <td>Gold</td>\n",
       "    </tr>\n",
       "    <tr>\n",
       "      <th>26</th>\n",
       "      <td>8</td>\n",
       "      <td>Cornelia \"Cor\" Aalten (-Strannood)</td>\n",
       "      <td>F</td>\n",
       "      <td>18.0</td>\n",
       "      <td>168.0</td>\n",
       "      <td>NaN</td>\n",
       "      <td>Netherlands</td>\n",
       "      <td>NED</td>\n",
       "      <td>1932 Summer</td>\n",
       "      <td>1932</td>\n",
       "      <td>Summer</td>\n",
       "      <td>Los Angeles</td>\n",
       "      <td>Athletics</td>\n",
       "      <td>Athletics Women's 100 metres</td>\n",
       "      <td>NaN</td>\n",
       "    </tr>\n",
       "    <tr>\n",
       "      <th>...</th>\n",
       "      <td>...</td>\n",
       "      <td>...</td>\n",
       "      <td>...</td>\n",
       "      <td>...</td>\n",
       "      <td>...</td>\n",
       "      <td>...</td>\n",
       "      <td>...</td>\n",
       "      <td>...</td>\n",
       "      <td>...</td>\n",
       "      <td>...</td>\n",
       "      <td>...</td>\n",
       "      <td>...</td>\n",
       "      <td>...</td>\n",
       "      <td>...</td>\n",
       "      <td>...</td>\n",
       "    </tr>\n",
       "    <tr>\n",
       "      <th>271106</th>\n",
       "      <td>135565</td>\n",
       "      <td>Fernando scar Zylberberg</td>\n",
       "      <td>M</td>\n",
       "      <td>27.0</td>\n",
       "      <td>168.0</td>\n",
       "      <td>76.0</td>\n",
       "      <td>Argentina</td>\n",
       "      <td>ARG</td>\n",
       "      <td>2004 Summer</td>\n",
       "      <td>2004</td>\n",
       "      <td>Summer</td>\n",
       "      <td>Athina</td>\n",
       "      <td>Hockey</td>\n",
       "      <td>Hockey Men's Hockey</td>\n",
       "      <td>NaN</td>\n",
       "    </tr>\n",
       "    <tr>\n",
       "      <th>271107</th>\n",
       "      <td>135566</td>\n",
       "      <td>James Francis \"Jim\" Zylker</td>\n",
       "      <td>M</td>\n",
       "      <td>21.0</td>\n",
       "      <td>175.0</td>\n",
       "      <td>75.0</td>\n",
       "      <td>United States</td>\n",
       "      <td>USA</td>\n",
       "      <td>1972 Summer</td>\n",
       "      <td>1972</td>\n",
       "      <td>Summer</td>\n",
       "      <td>Munich</td>\n",
       "      <td>Football</td>\n",
       "      <td>Football Men's Football</td>\n",
       "      <td>NaN</td>\n",
       "    </tr>\n",
       "    <tr>\n",
       "      <th>271108</th>\n",
       "      <td>135567</td>\n",
       "      <td>Aleksandr Viktorovich Zyuzin</td>\n",
       "      <td>M</td>\n",
       "      <td>24.0</td>\n",
       "      <td>183.0</td>\n",
       "      <td>72.0</td>\n",
       "      <td>Russia</td>\n",
       "      <td>RUS</td>\n",
       "      <td>2000 Summer</td>\n",
       "      <td>2000</td>\n",
       "      <td>Summer</td>\n",
       "      <td>Sydney</td>\n",
       "      <td>Rowing</td>\n",
       "      <td>Rowing Men's Lightweight Coxless Fours</td>\n",
       "      <td>NaN</td>\n",
       "    </tr>\n",
       "    <tr>\n",
       "      <th>271109</th>\n",
       "      <td>135567</td>\n",
       "      <td>Aleksandr Viktorovich Zyuzin</td>\n",
       "      <td>M</td>\n",
       "      <td>28.0</td>\n",
       "      <td>183.0</td>\n",
       "      <td>72.0</td>\n",
       "      <td>Russia</td>\n",
       "      <td>RUS</td>\n",
       "      <td>2004 Summer</td>\n",
       "      <td>2004</td>\n",
       "      <td>Summer</td>\n",
       "      <td>Athina</td>\n",
       "      <td>Rowing</td>\n",
       "      <td>Rowing Men's Lightweight Coxless Fours</td>\n",
       "      <td>NaN</td>\n",
       "    </tr>\n",
       "    <tr>\n",
       "      <th>271110</th>\n",
       "      <td>135568</td>\n",
       "      <td>Olga Igorevna Zyuzkova</td>\n",
       "      <td>F</td>\n",
       "      <td>33.0</td>\n",
       "      <td>171.0</td>\n",
       "      <td>69.0</td>\n",
       "      <td>Belarus</td>\n",
       "      <td>BLR</td>\n",
       "      <td>2016 Summer</td>\n",
       "      <td>2016</td>\n",
       "      <td>Summer</td>\n",
       "      <td>Rio de Janeiro</td>\n",
       "      <td>Basketball</td>\n",
       "      <td>Basketball Women's Basketball</td>\n",
       "      <td>NaN</td>\n",
       "    </tr>\n",
       "  </tbody>\n",
       "</table>\n",
       "<p>222552 rows × 15 columns</p>\n",
       "</div>"
      ],
      "text/plain": [
       "            ID                                Name Sex   Age  Height  Weight  \\\n",
       "0            1                           A Dijiang   M  24.0   180.0    80.0   \n",
       "1            2                            A Lamusi   M  23.0   170.0    60.0   \n",
       "2            3                 Gunnar Nielsen Aaby   M  24.0     NaN     NaN   \n",
       "3            4                Edgar Lindenau Aabye   M  34.0     NaN     NaN   \n",
       "26           8  Cornelia \"Cor\" Aalten (-Strannood)   F  18.0   168.0     NaN   \n",
       "...        ...                                 ...  ..   ...     ...     ...   \n",
       "271106  135565            Fernando scar Zylberberg   M  27.0   168.0    76.0   \n",
       "271107  135566          James Francis \"Jim\" Zylker   M  21.0   175.0    75.0   \n",
       "271108  135567        Aleksandr Viktorovich Zyuzin   M  24.0   183.0    72.0   \n",
       "271109  135567        Aleksandr Viktorovich Zyuzin   M  28.0   183.0    72.0   \n",
       "271110  135568              Olga Igorevna Zyuzkova   F  33.0   171.0    69.0   \n",
       "\n",
       "                  Team  NOC        Games  Year  Season            City  \\\n",
       "0                China  CHN  1992 Summer  1992  Summer       Barcelona   \n",
       "1                China  CHN  2012 Summer  2012  Summer          London   \n",
       "2              Denmark  DEN  1920 Summer  1920  Summer       Antwerpen   \n",
       "3       Denmark/Sweden  DEN  1900 Summer  1900  Summer           Paris   \n",
       "26         Netherlands  NED  1932 Summer  1932  Summer     Los Angeles   \n",
       "...                ...  ...          ...   ...     ...             ...   \n",
       "271106       Argentina  ARG  2004 Summer  2004  Summer          Athina   \n",
       "271107   United States  USA  1972 Summer  1972  Summer          Munich   \n",
       "271108          Russia  RUS  2000 Summer  2000  Summer          Sydney   \n",
       "271109          Russia  RUS  2004 Summer  2004  Summer          Athina   \n",
       "271110         Belarus  BLR  2016 Summer  2016  Summer  Rio de Janeiro   \n",
       "\n",
       "             Sport                                   Event Medal  \n",
       "0       Basketball             Basketball Men's Basketball   NaN  \n",
       "1             Judo            Judo Men's Extra-Lightweight   NaN  \n",
       "2         Football                 Football Men's Football   NaN  \n",
       "3       Tug-Of-War             Tug-Of-War Men's Tug-Of-War  Gold  \n",
       "26       Athletics            Athletics Women's 100 metres   NaN  \n",
       "...            ...                                     ...   ...  \n",
       "271106      Hockey                     Hockey Men's Hockey   NaN  \n",
       "271107    Football                 Football Men's Football   NaN  \n",
       "271108      Rowing  Rowing Men's Lightweight Coxless Fours   NaN  \n",
       "271109      Rowing  Rowing Men's Lightweight Coxless Fours   NaN  \n",
       "271110  Basketball           Basketball Women's Basketball   NaN  \n",
       "\n",
       "[222552 rows x 15 columns]"
      ]
     },
     "execution_count": 77,
     "metadata": {},
     "output_type": "execute_result"
    }
   ],
   "source": [
    "summer = df[df.Season==\"Summer\"]\n",
    "summer"
   ]
  },
  {
   "cell_type": "code",
   "execution_count": 78,
   "metadata": {},
   "outputs": [
    {
     "data": {
      "text/html": [
       "<div>\n",
       "<style scoped>\n",
       "    .dataframe tbody tr th:only-of-type {\n",
       "        vertical-align: middle;\n",
       "    }\n",
       "\n",
       "    .dataframe tbody tr th {\n",
       "        vertical-align: top;\n",
       "    }\n",
       "\n",
       "    .dataframe thead th {\n",
       "        text-align: right;\n",
       "    }\n",
       "</style>\n",
       "<table border=\"1\" class=\"dataframe\">\n",
       "  <thead>\n",
       "    <tr style=\"text-align: right;\">\n",
       "      <th></th>\n",
       "      <th>ID</th>\n",
       "      <th>Name</th>\n",
       "      <th>Sex</th>\n",
       "      <th>Age</th>\n",
       "      <th>Height</th>\n",
       "      <th>Weight</th>\n",
       "      <th>Team</th>\n",
       "      <th>NOC</th>\n",
       "      <th>Games</th>\n",
       "      <th>Year</th>\n",
       "      <th>Season</th>\n",
       "      <th>City</th>\n",
       "      <th>Sport</th>\n",
       "      <th>Event</th>\n",
       "      <th>Medal</th>\n",
       "    </tr>\n",
       "  </thead>\n",
       "  <tbody>\n",
       "    <tr>\n",
       "      <th>4</th>\n",
       "      <td>5</td>\n",
       "      <td>Christine Jacoba Aaftink</td>\n",
       "      <td>F</td>\n",
       "      <td>21.0</td>\n",
       "      <td>185.0</td>\n",
       "      <td>82.0</td>\n",
       "      <td>Netherlands</td>\n",
       "      <td>NED</td>\n",
       "      <td>1988 Winter</td>\n",
       "      <td>1988</td>\n",
       "      <td>Winter</td>\n",
       "      <td>Calgary</td>\n",
       "      <td>Speed Skating</td>\n",
       "      <td>Speed Skating Women's 500 metres</td>\n",
       "      <td>NaN</td>\n",
       "    </tr>\n",
       "    <tr>\n",
       "      <th>5</th>\n",
       "      <td>5</td>\n",
       "      <td>Christine Jacoba Aaftink</td>\n",
       "      <td>F</td>\n",
       "      <td>21.0</td>\n",
       "      <td>185.0</td>\n",
       "      <td>82.0</td>\n",
       "      <td>Netherlands</td>\n",
       "      <td>NED</td>\n",
       "      <td>1988 Winter</td>\n",
       "      <td>1988</td>\n",
       "      <td>Winter</td>\n",
       "      <td>Calgary</td>\n",
       "      <td>Speed Skating</td>\n",
       "      <td>Speed Skating Women's 1,000 metres</td>\n",
       "      <td>NaN</td>\n",
       "    </tr>\n",
       "    <tr>\n",
       "      <th>6</th>\n",
       "      <td>5</td>\n",
       "      <td>Christine Jacoba Aaftink</td>\n",
       "      <td>F</td>\n",
       "      <td>25.0</td>\n",
       "      <td>185.0</td>\n",
       "      <td>82.0</td>\n",
       "      <td>Netherlands</td>\n",
       "      <td>NED</td>\n",
       "      <td>1992 Winter</td>\n",
       "      <td>1992</td>\n",
       "      <td>Winter</td>\n",
       "      <td>Albertville</td>\n",
       "      <td>Speed Skating</td>\n",
       "      <td>Speed Skating Women's 500 metres</td>\n",
       "      <td>NaN</td>\n",
       "    </tr>\n",
       "    <tr>\n",
       "      <th>7</th>\n",
       "      <td>5</td>\n",
       "      <td>Christine Jacoba Aaftink</td>\n",
       "      <td>F</td>\n",
       "      <td>25.0</td>\n",
       "      <td>185.0</td>\n",
       "      <td>82.0</td>\n",
       "      <td>Netherlands</td>\n",
       "      <td>NED</td>\n",
       "      <td>1992 Winter</td>\n",
       "      <td>1992</td>\n",
       "      <td>Winter</td>\n",
       "      <td>Albertville</td>\n",
       "      <td>Speed Skating</td>\n",
       "      <td>Speed Skating Women's 1,000 metres</td>\n",
       "      <td>NaN</td>\n",
       "    </tr>\n",
       "    <tr>\n",
       "      <th>8</th>\n",
       "      <td>5</td>\n",
       "      <td>Christine Jacoba Aaftink</td>\n",
       "      <td>F</td>\n",
       "      <td>27.0</td>\n",
       "      <td>185.0</td>\n",
       "      <td>82.0</td>\n",
       "      <td>Netherlands</td>\n",
       "      <td>NED</td>\n",
       "      <td>1994 Winter</td>\n",
       "      <td>1994</td>\n",
       "      <td>Winter</td>\n",
       "      <td>Lillehammer</td>\n",
       "      <td>Speed Skating</td>\n",
       "      <td>Speed Skating Women's 500 metres</td>\n",
       "      <td>NaN</td>\n",
       "    </tr>\n",
       "    <tr>\n",
       "      <th>...</th>\n",
       "      <td>...</td>\n",
       "      <td>...</td>\n",
       "      <td>...</td>\n",
       "      <td>...</td>\n",
       "      <td>...</td>\n",
       "      <td>...</td>\n",
       "      <td>...</td>\n",
       "      <td>...</td>\n",
       "      <td>...</td>\n",
       "      <td>...</td>\n",
       "      <td>...</td>\n",
       "      <td>...</td>\n",
       "      <td>...</td>\n",
       "      <td>...</td>\n",
       "      <td>...</td>\n",
       "    </tr>\n",
       "    <tr>\n",
       "      <th>271111</th>\n",
       "      <td>135569</td>\n",
       "      <td>Andrzej ya</td>\n",
       "      <td>M</td>\n",
       "      <td>29.0</td>\n",
       "      <td>179.0</td>\n",
       "      <td>89.0</td>\n",
       "      <td>Poland-1</td>\n",
       "      <td>POL</td>\n",
       "      <td>1976 Winter</td>\n",
       "      <td>1976</td>\n",
       "      <td>Winter</td>\n",
       "      <td>Innsbruck</td>\n",
       "      <td>Luge</td>\n",
       "      <td>Luge Mixed (Men)'s Doubles</td>\n",
       "      <td>NaN</td>\n",
       "    </tr>\n",
       "    <tr>\n",
       "      <th>271112</th>\n",
       "      <td>135570</td>\n",
       "      <td>Piotr ya</td>\n",
       "      <td>M</td>\n",
       "      <td>27.0</td>\n",
       "      <td>176.0</td>\n",
       "      <td>59.0</td>\n",
       "      <td>Poland</td>\n",
       "      <td>POL</td>\n",
       "      <td>2014 Winter</td>\n",
       "      <td>2014</td>\n",
       "      <td>Winter</td>\n",
       "      <td>Sochi</td>\n",
       "      <td>Ski Jumping</td>\n",
       "      <td>Ski Jumping Men's Large Hill, Individual</td>\n",
       "      <td>NaN</td>\n",
       "    </tr>\n",
       "    <tr>\n",
       "      <th>271113</th>\n",
       "      <td>135570</td>\n",
       "      <td>Piotr ya</td>\n",
       "      <td>M</td>\n",
       "      <td>27.0</td>\n",
       "      <td>176.0</td>\n",
       "      <td>59.0</td>\n",
       "      <td>Poland</td>\n",
       "      <td>POL</td>\n",
       "      <td>2014 Winter</td>\n",
       "      <td>2014</td>\n",
       "      <td>Winter</td>\n",
       "      <td>Sochi</td>\n",
       "      <td>Ski Jumping</td>\n",
       "      <td>Ski Jumping Men's Large Hill, Team</td>\n",
       "      <td>NaN</td>\n",
       "    </tr>\n",
       "    <tr>\n",
       "      <th>271114</th>\n",
       "      <td>135571</td>\n",
       "      <td>Tomasz Ireneusz ya</td>\n",
       "      <td>M</td>\n",
       "      <td>30.0</td>\n",
       "      <td>185.0</td>\n",
       "      <td>96.0</td>\n",
       "      <td>Poland</td>\n",
       "      <td>POL</td>\n",
       "      <td>1998 Winter</td>\n",
       "      <td>1998</td>\n",
       "      <td>Winter</td>\n",
       "      <td>Nagano</td>\n",
       "      <td>Bobsleigh</td>\n",
       "      <td>Bobsleigh Men's Four</td>\n",
       "      <td>NaN</td>\n",
       "    </tr>\n",
       "    <tr>\n",
       "      <th>271115</th>\n",
       "      <td>135571</td>\n",
       "      <td>Tomasz Ireneusz ya</td>\n",
       "      <td>M</td>\n",
       "      <td>34.0</td>\n",
       "      <td>185.0</td>\n",
       "      <td>96.0</td>\n",
       "      <td>Poland</td>\n",
       "      <td>POL</td>\n",
       "      <td>2002 Winter</td>\n",
       "      <td>2002</td>\n",
       "      <td>Winter</td>\n",
       "      <td>Salt Lake City</td>\n",
       "      <td>Bobsleigh</td>\n",
       "      <td>Bobsleigh Men's Four</td>\n",
       "      <td>NaN</td>\n",
       "    </tr>\n",
       "  </tbody>\n",
       "</table>\n",
       "<p>48564 rows × 15 columns</p>\n",
       "</div>"
      ],
      "text/plain": [
       "            ID                      Name Sex   Age  Height  Weight  \\\n",
       "4            5  Christine Jacoba Aaftink   F  21.0   185.0    82.0   \n",
       "5            5  Christine Jacoba Aaftink   F  21.0   185.0    82.0   \n",
       "6            5  Christine Jacoba Aaftink   F  25.0   185.0    82.0   \n",
       "7            5  Christine Jacoba Aaftink   F  25.0   185.0    82.0   \n",
       "8            5  Christine Jacoba Aaftink   F  27.0   185.0    82.0   \n",
       "...        ...                       ...  ..   ...     ...     ...   \n",
       "271111  135569                Andrzej ya   M  29.0   179.0    89.0   \n",
       "271112  135570                  Piotr ya   M  27.0   176.0    59.0   \n",
       "271113  135570                  Piotr ya   M  27.0   176.0    59.0   \n",
       "271114  135571        Tomasz Ireneusz ya   M  30.0   185.0    96.0   \n",
       "271115  135571        Tomasz Ireneusz ya   M  34.0   185.0    96.0   \n",
       "\n",
       "               Team  NOC        Games  Year  Season            City  \\\n",
       "4       Netherlands  NED  1988 Winter  1988  Winter         Calgary   \n",
       "5       Netherlands  NED  1988 Winter  1988  Winter         Calgary   \n",
       "6       Netherlands  NED  1992 Winter  1992  Winter     Albertville   \n",
       "7       Netherlands  NED  1992 Winter  1992  Winter     Albertville   \n",
       "8       Netherlands  NED  1994 Winter  1994  Winter     Lillehammer   \n",
       "...             ...  ...          ...   ...     ...             ...   \n",
       "271111     Poland-1  POL  1976 Winter  1976  Winter       Innsbruck   \n",
       "271112       Poland  POL  2014 Winter  2014  Winter           Sochi   \n",
       "271113       Poland  POL  2014 Winter  2014  Winter           Sochi   \n",
       "271114       Poland  POL  1998 Winter  1998  Winter          Nagano   \n",
       "271115       Poland  POL  2002 Winter  2002  Winter  Salt Lake City   \n",
       "\n",
       "                Sport                                     Event Medal  \n",
       "4       Speed Skating          Speed Skating Women's 500 metres   NaN  \n",
       "5       Speed Skating        Speed Skating Women's 1,000 metres   NaN  \n",
       "6       Speed Skating          Speed Skating Women's 500 metres   NaN  \n",
       "7       Speed Skating        Speed Skating Women's 1,000 metres   NaN  \n",
       "8       Speed Skating          Speed Skating Women's 500 metres   NaN  \n",
       "...               ...                                       ...   ...  \n",
       "271111           Luge                Luge Mixed (Men)'s Doubles   NaN  \n",
       "271112    Ski Jumping  Ski Jumping Men's Large Hill, Individual   NaN  \n",
       "271113    Ski Jumping        Ski Jumping Men's Large Hill, Team   NaN  \n",
       "271114      Bobsleigh                      Bobsleigh Men's Four   NaN  \n",
       "271115      Bobsleigh                      Bobsleigh Men's Four   NaN  \n",
       "\n",
       "[48564 rows x 15 columns]"
      ]
     },
     "execution_count": 78,
     "metadata": {},
     "output_type": "execute_result"
    }
   ],
   "source": [
    "winter = df[df.Season==\"Winter\"]\n",
    "winter"
   ]
  },
  {
   "cell_type": "code",
   "execution_count": 80,
   "metadata": {},
   "outputs": [
    {
     "data": {
      "text/plain": [
       "ID        116776\n",
       "Name      116122\n",
       "Sex            2\n",
       "Age           74\n",
       "Height        95\n",
       "Weight       219\n",
       "Team        1157\n",
       "NOC          230\n",
       "Games         29\n",
       "Year          29\n",
       "Season         1\n",
       "City          23\n",
       "Sport         52\n",
       "Event        651\n",
       "Medal          3\n",
       "dtype: int64"
      ]
     },
     "execution_count": 80,
     "metadata": {},
     "output_type": "execute_result"
    }
   ],
   "source": [
    "summer.nunique()"
   ]
  },
  {
   "cell_type": "code",
   "execution_count": 82,
   "metadata": {},
   "outputs": [
    {
     "data": {
      "text/plain": [
       "ID        18958\n",
       "Name      18923\n",
       "Sex           2\n",
       "Age          47\n",
       "Height       64\n",
       "Weight      125\n",
       "Team        221\n",
       "NOC         119\n",
       "Games        22\n",
       "Year         22\n",
       "Season        1\n",
       "City         19\n",
       "Sport        17\n",
       "Event       119\n",
       "Medal         3\n",
       "dtype: int64"
      ]
     },
     "execution_count": 82,
     "metadata": {},
     "output_type": "execute_result"
    }
   ],
   "source": [
    "winter.nunique()"
   ]
  },
  {
   "cell_type": "markdown",
   "metadata": {},
   "source": [
    "# Summer Data"
   ]
  },
  {
   "cell_type": "code",
   "execution_count": 83,
   "metadata": {},
   "outputs": [
    {
     "data": {
      "text/html": [
       "<div>\n",
       "<style scoped>\n",
       "    .dataframe tbody tr th:only-of-type {\n",
       "        vertical-align: middle;\n",
       "    }\n",
       "\n",
       "    .dataframe tbody tr th {\n",
       "        vertical-align: top;\n",
       "    }\n",
       "\n",
       "    .dataframe thead th {\n",
       "        text-align: right;\n",
       "    }\n",
       "</style>\n",
       "<table border=\"1\" class=\"dataframe\">\n",
       "  <thead>\n",
       "    <tr style=\"text-align: right;\">\n",
       "      <th></th>\n",
       "      <th>ID</th>\n",
       "      <th>Name</th>\n",
       "      <th>Sex</th>\n",
       "      <th>Age</th>\n",
       "      <th>Height</th>\n",
       "      <th>Weight</th>\n",
       "      <th>Team</th>\n",
       "      <th>NOC</th>\n",
       "      <th>Games</th>\n",
       "      <th>Year</th>\n",
       "      <th>Season</th>\n",
       "      <th>City</th>\n",
       "      <th>Sport</th>\n",
       "      <th>Event</th>\n",
       "      <th>Medal</th>\n",
       "    </tr>\n",
       "  </thead>\n",
       "  <tbody>\n",
       "    <tr>\n",
       "      <th>0</th>\n",
       "      <td>1</td>\n",
       "      <td>A Dijiang</td>\n",
       "      <td>M</td>\n",
       "      <td>24.0</td>\n",
       "      <td>180.0</td>\n",
       "      <td>80.0</td>\n",
       "      <td>China</td>\n",
       "      <td>CHN</td>\n",
       "      <td>1992 Summer</td>\n",
       "      <td>1992</td>\n",
       "      <td>Summer</td>\n",
       "      <td>Barcelona</td>\n",
       "      <td>Basketball</td>\n",
       "      <td>Basketball Men's Basketball</td>\n",
       "      <td>NaN</td>\n",
       "    </tr>\n",
       "    <tr>\n",
       "      <th>1</th>\n",
       "      <td>2</td>\n",
       "      <td>A Lamusi</td>\n",
       "      <td>M</td>\n",
       "      <td>23.0</td>\n",
       "      <td>170.0</td>\n",
       "      <td>60.0</td>\n",
       "      <td>China</td>\n",
       "      <td>CHN</td>\n",
       "      <td>2012 Summer</td>\n",
       "      <td>2012</td>\n",
       "      <td>Summer</td>\n",
       "      <td>London</td>\n",
       "      <td>Judo</td>\n",
       "      <td>Judo Men's Extra-Lightweight</td>\n",
       "      <td>NaN</td>\n",
       "    </tr>\n",
       "    <tr>\n",
       "      <th>2</th>\n",
       "      <td>3</td>\n",
       "      <td>Gunnar Nielsen Aaby</td>\n",
       "      <td>M</td>\n",
       "      <td>24.0</td>\n",
       "      <td>NaN</td>\n",
       "      <td>NaN</td>\n",
       "      <td>Denmark</td>\n",
       "      <td>DEN</td>\n",
       "      <td>1920 Summer</td>\n",
       "      <td>1920</td>\n",
       "      <td>Summer</td>\n",
       "      <td>Antwerpen</td>\n",
       "      <td>Football</td>\n",
       "      <td>Football Men's Football</td>\n",
       "      <td>NaN</td>\n",
       "    </tr>\n",
       "    <tr>\n",
       "      <th>3</th>\n",
       "      <td>4</td>\n",
       "      <td>Edgar Lindenau Aabye</td>\n",
       "      <td>M</td>\n",
       "      <td>34.0</td>\n",
       "      <td>NaN</td>\n",
       "      <td>NaN</td>\n",
       "      <td>Denmark/Sweden</td>\n",
       "      <td>DEN</td>\n",
       "      <td>1900 Summer</td>\n",
       "      <td>1900</td>\n",
       "      <td>Summer</td>\n",
       "      <td>Paris</td>\n",
       "      <td>Tug-Of-War</td>\n",
       "      <td>Tug-Of-War Men's Tug-Of-War</td>\n",
       "      <td>Gold</td>\n",
       "    </tr>\n",
       "    <tr>\n",
       "      <th>26</th>\n",
       "      <td>8</td>\n",
       "      <td>Cornelia \"Cor\" Aalten (-Strannood)</td>\n",
       "      <td>F</td>\n",
       "      <td>18.0</td>\n",
       "      <td>168.0</td>\n",
       "      <td>NaN</td>\n",
       "      <td>Netherlands</td>\n",
       "      <td>NED</td>\n",
       "      <td>1932 Summer</td>\n",
       "      <td>1932</td>\n",
       "      <td>Summer</td>\n",
       "      <td>Los Angeles</td>\n",
       "      <td>Athletics</td>\n",
       "      <td>Athletics Women's 100 metres</td>\n",
       "      <td>NaN</td>\n",
       "    </tr>\n",
       "    <tr>\n",
       "      <th>...</th>\n",
       "      <td>...</td>\n",
       "      <td>...</td>\n",
       "      <td>...</td>\n",
       "      <td>...</td>\n",
       "      <td>...</td>\n",
       "      <td>...</td>\n",
       "      <td>...</td>\n",
       "      <td>...</td>\n",
       "      <td>...</td>\n",
       "      <td>...</td>\n",
       "      <td>...</td>\n",
       "      <td>...</td>\n",
       "      <td>...</td>\n",
       "      <td>...</td>\n",
       "      <td>...</td>\n",
       "    </tr>\n",
       "    <tr>\n",
       "      <th>271106</th>\n",
       "      <td>135565</td>\n",
       "      <td>Fernando scar Zylberberg</td>\n",
       "      <td>M</td>\n",
       "      <td>27.0</td>\n",
       "      <td>168.0</td>\n",
       "      <td>76.0</td>\n",
       "      <td>Argentina</td>\n",
       "      <td>ARG</td>\n",
       "      <td>2004 Summer</td>\n",
       "      <td>2004</td>\n",
       "      <td>Summer</td>\n",
       "      <td>Athina</td>\n",
       "      <td>Hockey</td>\n",
       "      <td>Hockey Men's Hockey</td>\n",
       "      <td>NaN</td>\n",
       "    </tr>\n",
       "    <tr>\n",
       "      <th>271107</th>\n",
       "      <td>135566</td>\n",
       "      <td>James Francis \"Jim\" Zylker</td>\n",
       "      <td>M</td>\n",
       "      <td>21.0</td>\n",
       "      <td>175.0</td>\n",
       "      <td>75.0</td>\n",
       "      <td>United States</td>\n",
       "      <td>USA</td>\n",
       "      <td>1972 Summer</td>\n",
       "      <td>1972</td>\n",
       "      <td>Summer</td>\n",
       "      <td>Munich</td>\n",
       "      <td>Football</td>\n",
       "      <td>Football Men's Football</td>\n",
       "      <td>NaN</td>\n",
       "    </tr>\n",
       "    <tr>\n",
       "      <th>271108</th>\n",
       "      <td>135567</td>\n",
       "      <td>Aleksandr Viktorovich Zyuzin</td>\n",
       "      <td>M</td>\n",
       "      <td>24.0</td>\n",
       "      <td>183.0</td>\n",
       "      <td>72.0</td>\n",
       "      <td>Russia</td>\n",
       "      <td>RUS</td>\n",
       "      <td>2000 Summer</td>\n",
       "      <td>2000</td>\n",
       "      <td>Summer</td>\n",
       "      <td>Sydney</td>\n",
       "      <td>Rowing</td>\n",
       "      <td>Rowing Men's Lightweight Coxless Fours</td>\n",
       "      <td>NaN</td>\n",
       "    </tr>\n",
       "    <tr>\n",
       "      <th>271109</th>\n",
       "      <td>135567</td>\n",
       "      <td>Aleksandr Viktorovich Zyuzin</td>\n",
       "      <td>M</td>\n",
       "      <td>28.0</td>\n",
       "      <td>183.0</td>\n",
       "      <td>72.0</td>\n",
       "      <td>Russia</td>\n",
       "      <td>RUS</td>\n",
       "      <td>2004 Summer</td>\n",
       "      <td>2004</td>\n",
       "      <td>Summer</td>\n",
       "      <td>Athina</td>\n",
       "      <td>Rowing</td>\n",
       "      <td>Rowing Men's Lightweight Coxless Fours</td>\n",
       "      <td>NaN</td>\n",
       "    </tr>\n",
       "    <tr>\n",
       "      <th>271110</th>\n",
       "      <td>135568</td>\n",
       "      <td>Olga Igorevna Zyuzkova</td>\n",
       "      <td>F</td>\n",
       "      <td>33.0</td>\n",
       "      <td>171.0</td>\n",
       "      <td>69.0</td>\n",
       "      <td>Belarus</td>\n",
       "      <td>BLR</td>\n",
       "      <td>2016 Summer</td>\n",
       "      <td>2016</td>\n",
       "      <td>Summer</td>\n",
       "      <td>Rio de Janeiro</td>\n",
       "      <td>Basketball</td>\n",
       "      <td>Basketball Women's Basketball</td>\n",
       "      <td>NaN</td>\n",
       "    </tr>\n",
       "  </tbody>\n",
       "</table>\n",
       "<p>222552 rows × 15 columns</p>\n",
       "</div>"
      ],
      "text/plain": [
       "            ID                                Name Sex   Age  Height  Weight  \\\n",
       "0            1                           A Dijiang   M  24.0   180.0    80.0   \n",
       "1            2                            A Lamusi   M  23.0   170.0    60.0   \n",
       "2            3                 Gunnar Nielsen Aaby   M  24.0     NaN     NaN   \n",
       "3            4                Edgar Lindenau Aabye   M  34.0     NaN     NaN   \n",
       "26           8  Cornelia \"Cor\" Aalten (-Strannood)   F  18.0   168.0     NaN   \n",
       "...        ...                                 ...  ..   ...     ...     ...   \n",
       "271106  135565            Fernando scar Zylberberg   M  27.0   168.0    76.0   \n",
       "271107  135566          James Francis \"Jim\" Zylker   M  21.0   175.0    75.0   \n",
       "271108  135567        Aleksandr Viktorovich Zyuzin   M  24.0   183.0    72.0   \n",
       "271109  135567        Aleksandr Viktorovich Zyuzin   M  28.0   183.0    72.0   \n",
       "271110  135568              Olga Igorevna Zyuzkova   F  33.0   171.0    69.0   \n",
       "\n",
       "                  Team  NOC        Games  Year  Season            City  \\\n",
       "0                China  CHN  1992 Summer  1992  Summer       Barcelona   \n",
       "1                China  CHN  2012 Summer  2012  Summer          London   \n",
       "2              Denmark  DEN  1920 Summer  1920  Summer       Antwerpen   \n",
       "3       Denmark/Sweden  DEN  1900 Summer  1900  Summer           Paris   \n",
       "26         Netherlands  NED  1932 Summer  1932  Summer     Los Angeles   \n",
       "...                ...  ...          ...   ...     ...             ...   \n",
       "271106       Argentina  ARG  2004 Summer  2004  Summer          Athina   \n",
       "271107   United States  USA  1972 Summer  1972  Summer          Munich   \n",
       "271108          Russia  RUS  2000 Summer  2000  Summer          Sydney   \n",
       "271109          Russia  RUS  2004 Summer  2004  Summer          Athina   \n",
       "271110         Belarus  BLR  2016 Summer  2016  Summer  Rio de Janeiro   \n",
       "\n",
       "             Sport                                   Event Medal  \n",
       "0       Basketball             Basketball Men's Basketball   NaN  \n",
       "1             Judo            Judo Men's Extra-Lightweight   NaN  \n",
       "2         Football                 Football Men's Football   NaN  \n",
       "3       Tug-Of-War             Tug-Of-War Men's Tug-Of-War  Gold  \n",
       "26       Athletics            Athletics Women's 100 metres   NaN  \n",
       "...            ...                                     ...   ...  \n",
       "271106      Hockey                     Hockey Men's Hockey   NaN  \n",
       "271107    Football                 Football Men's Football   NaN  \n",
       "271108      Rowing  Rowing Men's Lightweight Coxless Fours   NaN  \n",
       "271109      Rowing  Rowing Men's Lightweight Coxless Fours   NaN  \n",
       "271110  Basketball           Basketball Women's Basketball   NaN  \n",
       "\n",
       "[222552 rows x 15 columns]"
      ]
     },
     "execution_count": 83,
     "metadata": {},
     "output_type": "execute_result"
    }
   ],
   "source": [
    "summer"
   ]
  },
  {
   "cell_type": "code",
   "execution_count": 84,
   "metadata": {},
   "outputs": [
    {
     "data": {
      "text/plain": [
       "array([1992, 2012, 1920, 1900, 1932, 1952, 2000, 1996, 1912, 1924, 1948,\n",
       "       2008, 2016, 2004, 1984, 1968, 1972, 1988, 1936, 1956, 1960, 1928,\n",
       "       1976, 1980, 1964, 1906, 1904, 1908, 1896], dtype=int64)"
      ]
     },
     "execution_count": 84,
     "metadata": {},
     "output_type": "execute_result"
    }
   ],
   "source": [
    "summer.Year.unique()"
   ]
  },
  {
   "cell_type": "code",
   "execution_count": 87,
   "metadata": {},
   "outputs": [
    {
     "data": {
      "text/plain": [
       "29"
      ]
     },
     "execution_count": 87,
     "metadata": {},
     "output_type": "execute_result"
    }
   ],
   "source": [
    "summer.Year.nunique()"
   ]
  },
  {
   "cell_type": "code",
   "execution_count": 85,
   "metadata": {},
   "outputs": [
    {
     "data": {
      "text/plain": [
       "array([     1,      2,      3, ..., 135566, 135567, 135568], dtype=int64)"
      ]
     },
     "execution_count": 85,
     "metadata": {},
     "output_type": "execute_result"
    }
   ],
   "source": [
    "summer.ID.unique()"
   ]
  },
  {
   "cell_type": "code",
   "execution_count": 88,
   "metadata": {},
   "outputs": [
    {
     "data": {
      "text/plain": [
       "116776"
      ]
     },
     "execution_count": 88,
     "metadata": {},
     "output_type": "execute_result"
    }
   ],
   "source": [
    "summer.ID.nunique()"
   ]
  },
  {
   "cell_type": "code",
   "execution_count": 86,
   "metadata": {},
   "outputs": [
    {
     "data": {
      "text/plain": [
       "array(['A Dijiang', 'A Lamusi', 'Gunnar Nielsen Aaby', ...,\n",
       "       'James Francis \"Jim\" Zylker', 'Aleksandr Viktorovich Zyuzin',\n",
       "       'Olga Igorevna Zyuzkova'], dtype=object)"
      ]
     },
     "execution_count": 86,
     "metadata": {},
     "output_type": "execute_result"
    }
   ],
   "source": [
    "summer.Name.unique()"
   ]
  },
  {
   "cell_type": "code",
   "execution_count": 89,
   "metadata": {},
   "outputs": [
    {
     "data": {
      "text/plain": [
       "116122"
      ]
     },
     "execution_count": 89,
     "metadata": {},
     "output_type": "execute_result"
    }
   ],
   "source": [
    "summer.Name.nunique()"
   ]
  },
  {
   "cell_type": "code",
   "execution_count": 90,
   "metadata": {},
   "outputs": [
    {
     "data": {
      "text/plain": [
       "array([24., 23., 34., 18., 26., 31., 30., 22., 28., 32., 54., 27., 43.,\n",
       "       47., 21., 25., 20., 33., 41., 45., 49., 53., 57., nan, 19., 29.,\n",
       "       38., 35., 16., 37., 42., 46., 40., 15., 36., 17., 14., 39., 48.,\n",
       "       52., 55., 50., 44., 71., 63., 51., 58., 60., 75., 65., 13., 56.,\n",
       "       64., 68., 84., 12., 72., 59., 61., 70., 74., 62., 67., 69., 73.,\n",
       "       66., 76., 88., 11., 96., 80., 10., 81., 77., 97.])"
      ]
     },
     "execution_count": 90,
     "metadata": {},
     "output_type": "execute_result"
    }
   ],
   "source": [
    "summer.Age.unique()"
   ]
  },
  {
   "cell_type": "code",
   "execution_count": 91,
   "metadata": {},
   "outputs": [
    {
     "data": {
      "text/plain": [
       "74"
      ]
     },
     "execution_count": 91,
     "metadata": {},
     "output_type": "execute_result"
    }
   ],
   "source": [
    "summer.Age.nunique()"
   ]
  },
  {
   "cell_type": "code",
   "execution_count": 98,
   "metadata": {},
   "outputs": [
    {
     "data": {
      "text/plain": [
       "array([180., 170.,  nan, 168., 172., 159., 175., 189., 163., 187., 174.,\n",
       "       194., 182., 185., 177., 167., 176., 164., 198., 165., 156., 179.,\n",
       "       178., 166., 186., 190., 183., 181., 188., 155., 169., 160., 173.,\n",
       "       171., 192., 195., 184., 191., 203., 158., 154., 153., 152., 193.,\n",
       "       162., 197., 157., 207., 147., 150., 202., 161., 210., 205., 200.,\n",
       "       148., 208., 140., 213., 204., 151., 196., 146., 201., 132., 149.,\n",
       "       199., 211., 215., 139., 206., 135., 142., 217., 209., 145., 221.,\n",
       "       144., 214., 143., 218., 127., 223., 216., 141., 212., 131., 136.,\n",
       "       137., 138., 220., 130., 219., 133., 128., 226.])"
      ]
     },
     "execution_count": 98,
     "metadata": {},
     "output_type": "execute_result"
    }
   ],
   "source": [
    "summer.Height.unique()"
   ]
  },
  {
   "cell_type": "code",
   "execution_count": 99,
   "metadata": {},
   "outputs": [
    {
     "data": {
      "text/plain": [
       "95"
      ]
     },
     "execution_count": 99,
     "metadata": {},
     "output_type": "execute_result"
    }
   ],
   "source": [
    "summer.Height.nunique()"
   ]
  },
  {
   "cell_type": "code",
   "execution_count": 100,
   "metadata": {},
   "outputs": [
    {
     "data": {
      "text/plain": [
       "array([ 80.        ,  60.        ,          nan,  70.        ,\n",
       "        55.5       ,  64.        , 130.        , 125.        ,\n",
       "        89.        ,  77.        ,  72.        ,  76.        ,\n",
       "        78.        ,  75.        ,  93.        ,  74.        ,\n",
       "        65.        , 106.        ,  58.        ,  66.        ,\n",
       "        71.        ,  90.        ,  87.        ,  49.        ,\n",
       "        48.        ,  82.        ,  83.        ,  86.        ,\n",
       "        73.        ,  55.        ,  67.        ,  97.        ,\n",
       "       105.        ,  85.        ,  43.        ,  79.        ,\n",
       "        51.        ,  96.        ,  88.        ,  62.        ,\n",
       "        53.        , 104.        ,  57.        ,  63.        ,\n",
       "        52.        ,  91.        ,  98.        ,  94.        ,\n",
       "        56.        ,  68.        ,  61.        ,  69.        ,\n",
       "        46.        , 100.        ,  81.        ,  92.        ,\n",
       "       120.        ,  95.        ,  59.        ,  50.        ,\n",
       "       117.5       ,  54.        ,  47.        , 117.        ,\n",
       "        84.        ,  40.        , 102.        , 115.        ,\n",
       "       110.        ,  45.        , 109.        ,  69.5       ,\n",
       "       135.        ,  38.        ,  77.5       , 103.        ,\n",
       "       163.        , 113.        ,  42.        ,  91.5       ,\n",
       "        82.5       ,  68.5       , 116.        , 107.        ,\n",
       "        96.5       ,  83.5       ,  44.        , 122.        ,\n",
       "       102.5       ,  71.5       , 156.        , 150.        ,\n",
       "       160.        ,  95.5       , 101.        ,  99.        ,\n",
       "       146.        , 138.        , 112.        , 108.        ,\n",
       "       140.        , 141.        ,  63.5       , 114.        ,\n",
       "       118.        ,  52.5       , 127.        ,  39.        ,\n",
       "        73.5       , 155.        ,  74.5       ,  32.        ,\n",
       "       143.        , 133.        ,  70.5       , 126.        ,\n",
       "       121.        ,  67.5       , 111.        , 123.5       ,\n",
       "        36.        , 132.        , 128.        ,  65.5       ,\n",
       "        98.5       , 124.        ,  41.        ,  59.5       ,\n",
       "       127.5       ,  35.        , 144.        ,  58.5       ,\n",
       "       214.        ,  81.5       ,  37.        , 146.5       ,\n",
       "       116.5       , 148.        , 123.        ,  89.5       ,\n",
       "       133.5       ,  86.5       ,  85.5       , 101.5       ,\n",
       "       154.        , 139.        ,  57.5       , 136.        ,\n",
       "        54.5       , 137.        , 170.        ,  30.        ,\n",
       "        25.        ,  77.33333333, 131.        ,  79.5       ,\n",
       "        66.5       ,  34.        , 119.        , 134.        ,\n",
       "        33.        , 109.5       ,  90.5       , 129.        ,\n",
       "       147.        ,  56.5       ,  78.5       , 165.        ,\n",
       "        88.5       ,  60.5       ,  76.5       , 158.        ,\n",
       "        75.5       , 190.        ,  64.5       , 145.        ,\n",
       "       121.5       ,  61.5       ,  53.5       , 161.        ,\n",
       "        62.5       , 176.5       ,  87.5       , 100.5       ,\n",
       "       149.        , 152.        , 108.5       ,  28.        ,\n",
       "        48.5       , 138.5       ,  72.5       , 129.5       ,\n",
       "       131.5       , 167.        ,  84.5       ,  51.5       ,\n",
       "       112.5       , 118.5       , 142.        ,  80.5       ,\n",
       "       106.5       , 107.5       ,  31.        , 135.5       ,\n",
       "       137.5       ,  93.5       , 103.5       , 175.        ,\n",
       "        97.5       , 151.        , 198.        , 178.        ,\n",
       "        92.5       , 180.        , 104.5       , 105.5       ,\n",
       "       122.5       , 182.        ,  74.66666667, 130.5       ])"
      ]
     },
     "execution_count": 100,
     "metadata": {},
     "output_type": "execute_result"
    }
   ],
   "source": [
    "summer.Weight.unique()"
   ]
  },
  {
   "cell_type": "code",
   "execution_count": 101,
   "metadata": {},
   "outputs": [
    {
     "data": {
      "text/plain": [
       "219"
      ]
     },
     "execution_count": 101,
     "metadata": {},
     "output_type": "execute_result"
    }
   ],
   "source": [
    "summer.Weight.nunique()"
   ]
  },
  {
   "cell_type": "code",
   "execution_count": 102,
   "metadata": {},
   "outputs": [
    {
     "data": {
      "text/plain": [
       "array(['China', 'Denmark', 'Denmark/Sweden', ..., 'Dow Jones', 'China-3',\n",
       "       'Digby'], dtype=object)"
      ]
     },
     "execution_count": 102,
     "metadata": {},
     "output_type": "execute_result"
    }
   ],
   "source": [
    "summer.Team.unique()"
   ]
  },
  {
   "cell_type": "code",
   "execution_count": 103,
   "metadata": {},
   "outputs": [
    {
     "data": {
      "text/plain": [
       "1157"
      ]
     },
     "execution_count": 103,
     "metadata": {},
     "output_type": "execute_result"
    }
   ],
   "source": [
    "summer.Team.nunique()"
   ]
  },
  {
   "cell_type": "code",
   "execution_count": 104,
   "metadata": {},
   "outputs": [
    {
     "data": {
      "text/plain": [
       "array(['CHN', 'DEN', 'NED', 'FIN', 'NOR', 'ROU', 'EST', 'FRA', 'MAR',\n",
       "       'ESP', 'EGY', 'IRI', 'BUL', 'ITA', 'CHA', 'AZE', 'SUD', 'RUS',\n",
       "       'ARG', 'CUB', 'BLR', 'GRE', 'CMR', 'TUR', 'CHI', 'MEX', 'USA',\n",
       "       'URS', 'NCA', 'HUN', 'NGR', 'ALG', 'KUW', 'BRN', 'PAK', 'IRQ',\n",
       "       'UAR', 'LIB', 'QAT', 'MAS', 'GER', 'CAN', 'IRL', 'AUS', 'RSA',\n",
       "       'ERI', 'TAN', 'JOR', 'TUN', 'LBA', 'BEL', 'DJI', 'PLE', 'COM',\n",
       "       'KAZ', 'BRU', 'IND', 'KSA', 'SYR', 'MDV', 'ETH', 'UAE', 'YAR',\n",
       "       'INA', 'PHI', 'SGP', 'UZB', 'KGZ', 'TJK', 'EUN', 'JPN', 'CGO',\n",
       "       'SUI', 'BRA', 'GDR', 'MON', 'ISR', 'URU', 'SWE', 'SRI', 'ARM',\n",
       "       'CIV', 'KEN', 'BEN', 'GBR', 'GHA', 'SOM', 'NIG', 'MLI', 'AFG',\n",
       "       'POL', 'CRC', 'PAN', 'GEO', 'SLO', 'GUY', 'NZL', 'POR', 'PAR',\n",
       "       'ANG', 'VEN', 'COL', 'FRG', 'BAN', 'PER', 'ESA', 'PUR', 'UGA',\n",
       "       'HON', 'ECU', 'TKM', 'MRI', 'SEY', 'TCH', 'LUX', 'MTN', 'SKN',\n",
       "       'TTO', 'DOM', 'VIN', 'JAM', 'LBR', 'SUR', 'NEP', 'MGL', 'AUT',\n",
       "       'PLW', 'LTU', 'TOG', 'NAM', 'AHO', 'UKR', 'ISL', 'ASA', 'SAM',\n",
       "       'RWA', 'CRO', 'DMA', 'HAI', 'MLT', 'CYP', 'GUI', 'BIZ', 'YMD',\n",
       "       'THA', 'BER', 'ANZ', 'SCG', 'SLE', 'PNG', 'YEM', 'IOA', 'OMA',\n",
       "       'FIJ', 'VAN', 'MDA', 'BAH', 'GUA', 'YUG', 'LAT', 'SRB', 'IVB',\n",
       "       'MOZ', 'ISV', 'CAF', 'MAD', 'MAL', 'BIH', 'GUM', 'CAY', 'SVK',\n",
       "       'BAR', 'GBS', 'TLS', 'COD', 'GAB', 'SMR', 'LAO', 'BOT', 'ROT',\n",
       "       'KOR', 'CAM', 'PRK', 'SOL', 'SEN', 'CPV', 'CZE', 'CRT', 'GEQ',\n",
       "       'BOL', 'SAA', 'ANT', 'AND', 'ZIM', 'GRN', 'HKG', 'LCA', 'FSM',\n",
       "       'MYA', 'MAW', 'ZAM', 'RHO', 'TPE', 'STP', 'MKD', 'BOH', 'LIE',\n",
       "       'MNE', 'GAM', 'COK', 'ALB', 'WIF', 'SWZ', 'BUR', 'NBO', 'BDI',\n",
       "       'ARU', 'NRU', 'VNM', 'VIE', 'BHU', 'MHL', 'KIR', 'UNK', 'TUV',\n",
       "       'TGA', 'NFL', 'KOS', 'SSD', 'LES'], dtype=object)"
      ]
     },
     "execution_count": 104,
     "metadata": {},
     "output_type": "execute_result"
    }
   ],
   "source": [
    "summer.NOC.unique()"
   ]
  },
  {
   "cell_type": "code",
   "execution_count": 105,
   "metadata": {},
   "outputs": [
    {
     "data": {
      "text/plain": [
       "230"
      ]
     },
     "execution_count": 105,
     "metadata": {},
     "output_type": "execute_result"
    }
   ],
   "source": [
    "summer.NOC.nunique()"
   ]
  },
  {
   "cell_type": "code",
   "execution_count": 106,
   "metadata": {},
   "outputs": [
    {
     "data": {
      "text/plain": [
       "array(['1992 Summer', '2012 Summer', '1920 Summer', '1900 Summer',\n",
       "       '1932 Summer', '1952 Summer', '2000 Summer', '1996 Summer',\n",
       "       '1912 Summer', '1924 Summer', '1948 Summer', '2008 Summer',\n",
       "       '2016 Summer', '2004 Summer', '1984 Summer', '1968 Summer',\n",
       "       '1972 Summer', '1988 Summer', '1936 Summer', '1956 Summer',\n",
       "       '1960 Summer', '1928 Summer', '1976 Summer', '1980 Summer',\n",
       "       '1964 Summer', '1906 Summer', '1904 Summer', '1908 Summer',\n",
       "       '1896 Summer'], dtype=object)"
      ]
     },
     "execution_count": 106,
     "metadata": {},
     "output_type": "execute_result"
    }
   ],
   "source": [
    "summer.Games.unique()"
   ]
  },
  {
   "cell_type": "code",
   "execution_count": 107,
   "metadata": {},
   "outputs": [
    {
     "data": {
      "text/plain": [
       "29"
      ]
     },
     "execution_count": 107,
     "metadata": {},
     "output_type": "execute_result"
    }
   ],
   "source": [
    "summer.Games.nunique()"
   ]
  },
  {
   "cell_type": "code",
   "execution_count": 108,
   "metadata": {},
   "outputs": [
    {
     "data": {
      "text/plain": [
       "array(['Basketball', 'Judo', 'Football', 'Tug-Of-War', 'Athletics',\n",
       "       'Swimming', 'Badminton', 'Sailing', 'Gymnastics',\n",
       "       'Art Competitions', 'Handball', 'Weightlifting', 'Wrestling',\n",
       "       'Water Polo', 'Hockey', 'Rowing', 'Fencing', 'Equestrianism',\n",
       "       'Shooting', 'Boxing', 'Taekwondo', 'Cycling', 'Diving', 'Canoeing',\n",
       "       'Tennis', 'Modern Pentathlon', 'Golf', 'Softball', 'Archery',\n",
       "       'Volleyball', 'Synchronized Swimming', 'Table Tennis', 'Baseball',\n",
       "       'Rhythmic Gymnastics', 'Rugby Sevens', 'Trampolining',\n",
       "       'Beach Volleyball', 'Triathlon', 'Rugby', 'Lacrosse', 'Polo',\n",
       "       'Cricket', 'Ice Hockey', 'Racquets', 'Motorboating', 'Croquet',\n",
       "       'Figure Skating', 'Jeu De Paume', 'Roque', 'Basque Pelota',\n",
       "       'Alpinism', 'Aeronautics'], dtype=object)"
      ]
     },
     "execution_count": 108,
     "metadata": {},
     "output_type": "execute_result"
    }
   ],
   "source": [
    "summer.Sport.unique()"
   ]
  },
  {
   "cell_type": "code",
   "execution_count": 109,
   "metadata": {},
   "outputs": [
    {
     "data": {
      "text/plain": [
       "52"
      ]
     },
     "execution_count": 109,
     "metadata": {},
     "output_type": "execute_result"
    }
   ],
   "source": [
    "summer.Sport.nunique()"
   ]
  },
  {
   "cell_type": "code",
   "execution_count": 111,
   "metadata": {},
   "outputs": [
    {
     "data": {
      "text/plain": [
       "array([\"Basketball Men's Basketball\", \"Judo Men's Extra-Lightweight\",\n",
       "       \"Football Men's Football\", \"Tug-Of-War Men's Tug-Of-War\",\n",
       "       \"Athletics Women's 100 metres\",\n",
       "       \"Athletics Women's 4 x 100 metres Relay\",\n",
       "       \"Swimming Men's 400 metres Freestyle\", \"Badminton Men's Singles\",\n",
       "       \"Sailing Women's Windsurfer\",\n",
       "       \"Swimming Men's 200 metres Breaststroke\",\n",
       "       \"Swimming Men's 400 metres Breaststroke\",\n",
       "       \"Gymnastics Men's Individual All-Around\",\n",
       "       \"Gymnastics Men's Team All-Around\",\n",
       "       \"Gymnastics Men's Floor Exercise\", \"Gymnastics Men's Horse Vault\",\n",
       "       \"Gymnastics Men's Parallel Bars\",\n",
       "       \"Gymnastics Men's Horizontal Bar\", \"Gymnastics Men's Rings\",\n",
       "       \"Gymnastics Men's Pommelled Horse\", \"Athletics Men's Shot Put\",\n",
       "       'Art Competitions Mixed Sculpturing, Unknown Event',\n",
       "       \"Handball Women's Handball\",\n",
       "       \"Weightlifting Women's Super-Heavyweight\",\n",
       "       \"Wrestling Men's Light-Heavyweight, Greco-Roman\",\n",
       "       \"Gymnastics Men's Team All-Around, Free System\",\n",
       "       \"Water Polo Men's Water Polo\",\n",
       "       'Sailing Mixed Three Person Keelboat', \"Hockey Women's Hockey\",\n",
       "       \"Rowing Men's Lightweight Double Sculls\",\n",
       "       \"Athletics Men's Pole Vault\", \"Athletics Men's High Jump\",\n",
       "       \"Sailing Men's Two Person Dinghy\", \"Athletics Men's 1,500 metres\",\n",
       "       \"Swimming Men's 100 metres Butterfly\",\n",
       "       \"Swimming Men's 200 metres Butterfly\",\n",
       "       \"Swimming Men's 4 x 100 metres Medley Relay\",\n",
       "       \"Football Women's Football\", \"Fencing Men's Foil, Individual\",\n",
       "       \"Fencing Men's epee, Individual\", \"Fencing Men's epee, Team\",\n",
       "       'Sailing Mixed 8 metres',\n",
       "       'Equestrianism Mixed Jumping, Individual',\n",
       "       \"Shooting Men's Small-Bore Rifle, Prone, 50 metres\",\n",
       "       \"Shooting Men's Rapid-Fire Pistol, 25 metres\",\n",
       "       \"Shooting Men's Trap\", \"Athletics Men's 4 x 100 metres Relay\",\n",
       "       \"Athletics Men's Long Jump\", \"Boxing Men's Light-Welterweight\",\n",
       "       \"Athletics Women's Javelin Throw\",\n",
       "       \"Wrestling Men's Heavyweight, Freestyle\",\n",
       "       \"Taekwondo Men's Flyweight\", \"Boxing Men's Heavyweight\",\n",
       "       \"Athletics Men's 5,000 metres\",\n",
       "       \"Cycling Men's Road Race, Individual\",\n",
       "       \"Cycling Men's Road Race, Team\", \"Weightlifting Men's Lightweight\",\n",
       "       \"Weightlifting Men's Middleweight\", \"Rowing Men's Coxless Pairs\",\n",
       "       \"Judo Men's Half-Middleweight\", \"Taekwondo Women's Flyweight\",\n",
       "       \"Boxing Men's Flyweight\", \"Basketball Women's Basketball\",\n",
       "       \"Diving Men's Platform\",\n",
       "       \"Canoeing Men's Canadian Doubles, 500 metres\",\n",
       "       \"Canoeing Men's Canadian Doubles, 1,000 metres\",\n",
       "       \"Canoeing Men's Kayak Fours, 1,000 metres\",\n",
       "       \"Handball Men's Handball\", \"Rowing Women's Coxless Pairs\",\n",
       "       \"Boxing Men's Middleweight\", \"Judo Men's Lightweight\",\n",
       "       \"Boxing Men's Featherweight\", \"Tennis Men's Doubles\",\n",
       "       'Shooting Mixed Skeet', \"Wrestling Men's Featherweight, Freestyle\",\n",
       "       'Sailing Mixed Two Person Heavyweight Dinghy',\n",
       "       \"Athletics Women's Shot Put\", \"Rowing Men's Coxed Eights\",\n",
       "       \"Cycling Women's Sprint\", \"Cycling Women's 500 metres Time Trial\",\n",
       "       \"Athletics Men's 110 metres Hurdles\", 'Shooting Mixed Trap',\n",
       "       \"Athletics Women's Marathon\", \"Athletics Men's 100 metres\",\n",
       "       \"Fencing Men's Foil, Team\", \"Fencing Men's Sabre, Team\",\n",
       "       \"Swimming Men's 100 metres Freestyle\",\n",
       "       \"Swimming Men's 4 x 200 metres Freestyle Relay\",\n",
       "       \"Boxing Men's Lightweight\", \"Modern Pentathlon Men's Individual\",\n",
       "       \"Boxing Men's Welterweight\", \"Rowing Men's Quadruple Sculls\",\n",
       "       \"Rowing Men's Double Sculls\", \"Rowing Men's Coxed Pairs\",\n",
       "       \"Athletics Men's 400 metres Hurdles\", \"Athletics Men's 400 metres\",\n",
       "       \"Athletics Men's Hammer Throw\",\n",
       "       \"Weightlifting Men's Featherweight\", \"Athletics Men's 800 metres\",\n",
       "       \"Hockey Men's Hockey\", \"Rowing Women's Single Sculls\",\n",
       "       \"Swimming Men's 50 metres Freestyle\",\n",
       "       \"Weightlifting Women's Featherweight\",\n",
       "       \"Water Polo Women's Water Polo\", \"Weightlifting Men's Heavyweight\",\n",
       "       'Equestrianism Mixed Three-Day Event, Individual',\n",
       "       'Equestrianism Mixed Three-Day Event, Team',\n",
       "       \"Sailing Women's Three Person Keelboat\",\n",
       "       \"Cycling Women's Road Race, Individual\", \"Golf Women's Individual\",\n",
       "       \"Softball Women's Softball\", \"Archery Women's Individual\",\n",
       "       \"Wrestling Men's Heavyweight, Greco-Roman\",\n",
       "       \"Volleyball Men's Volleyball\", \"Taekwondo Women's Heavyweight\",\n",
       "       \"Synchronized Swimming Women's Duet\",\n",
       "       \"Synchronized Swimming Women's Team\",\n",
       "       \"Taekwondo Women's Featherweight\", \"Athletics Men's Marathon\",\n",
       "       \"Athletics Men's 4 x 400 metres Relay\",\n",
       "       \"Athletics Men's 10,000 metres\", \"Athletics Women's 3,000 metres\",\n",
       "       \"Diving Women's Platform\", \"Shooting Men's Air Rifle, 10 metres\",\n",
       "       \"Athletics Men's 200 metres\", \"Weightlifting Men's Flyweight\",\n",
       "       \"Swimming Men's 100 metres Backstroke\",\n",
       "       \"Weightlifting Men's Light-Heavyweight\",\n",
       "       \"Wrestling Men's Lightweight, Greco-Roman\",\n",
       "       \"Fencing Men's Sabre, Individual\",\n",
       "       \"Wrestling Men's Super-Heavyweight, Greco-Roman\",\n",
       "       \"Shooting Men's Free Pistol, 50 metres\",\n",
       "       \"Shooting Men's Air Pistol, 10 metres\",\n",
       "       \"Rowing Men's Coxless Fours\", \"Boxing Men's Light-Flyweight\",\n",
       "       \"Boxing Men's Super-Heavyweight\",\n",
       "       \"Wrestling Men's Flyweight, Greco-Roman\",\n",
       "       \"Shooting Women's Air Rifle, 10 metres\",\n",
       "       \"Weightlifting Men's Middle-Heavyweight\",\n",
       "       \"Athletics Men's Javelin Throw\", \"Volleyball Women's Volleyball\",\n",
       "       \"Wrestling Men's Welterweight, Greco-Roman\",\n",
       "       \"Wrestling Men's Middleweight, Greco-Roman\",\n",
       "       \"Athletics Men's 3,000 metres Steeplechase\",\n",
       "       \"Wrestling Men's Middleweight, Freestyle\",\n",
       "       \"Swimming Women's 100 metres Backstroke\",\n",
       "       \"Swimming Women's 200 metres Backstroke\",\n",
       "       \"Swimming Women's 4 x 100 metres Medley Relay\",\n",
       "       \"Wrestling Men's Light-Heavyweight, Freestyle\",\n",
       "       \"Modern Pentathlon Men's Team\", \"Boxing Men's Bantamweight\",\n",
       "       \"Athletics Women's 200 metres\", \"Table Tennis Women's Singles\",\n",
       "       \"Table Tennis Women's Doubles\", \"Shooting Men's Skeet\",\n",
       "       \"Swimming Women's 50 metres Freestyle\",\n",
       "       \"Shooting Men's Small-Bore Rifle, Three Positions, 50 metres\",\n",
       "       \"Athletics Men's Triple Jump\", \"Weightlifting Women's Lightweight\",\n",
       "       \"Athletics Women's Long Jump\", \"Fencing Women's epee, Individual\",\n",
       "       \"Swimming Men's 200 metres Freestyle\",\n",
       "       \"Swimming Men's 4 x 100 metres Freestyle Relay\",\n",
       "       \"Swimming Men's 200 metres Backstroke\",\n",
       "       \"Swimming Men's 200 metres Individual Medley\",\n",
       "       \"Swimming Men's 400 metres Individual Medley\",\n",
       "       \"Badminton Women's Singles\", \"Boxing Men's Light-Middleweight\",\n",
       "       \"Tennis Men's Singles\", \"Wrestling Men's Bantamweight, Freestyle\",\n",
       "       \"Wrestling Men's Flyweight, Freestyle\",\n",
       "       \"Athletics Women's 5,000 metres\",\n",
       "       \"Weightlifting Women's Light-Heavyweight\",\n",
       "       \"Weightlifting Women's Heavyweight\",\n",
       "       \"Athletics Men's Discus Throw\", \"Taekwondo Men's Featherweight\",\n",
       "       \"Taekwondo Men's Welterweight\", \"Judo Men's Heavyweight\",\n",
       "       \"Cycling Men's Sprint\", \"Wrestling Men's Lightweight, Freestyle\",\n",
       "       \"Baseball Men's Baseball\", \"Rowing Men's Coxed Fours\",\n",
       "       \"Cycling Men's 100 kilometres Team Time Trial\",\n",
       "       \"Rhythmic Gymnastics Women's Group\",\n",
       "       'Art Competitions Mixed Architecture, Designs For Town Planning',\n",
       "       'Art Competitions Mixed Architecture, Architectural Designs',\n",
       "       \"Gymnastics Women's Individual All-Around\",\n",
       "       \"Gymnastics Women's Team All-Around\",\n",
       "       \"Gymnastics Women's Floor Exercise\",\n",
       "       \"Gymnastics Women's Horse Vault\", \"Gymnastics Women's Uneven Bars\",\n",
       "       \"Gymnastics Women's Balance Beam\", \"Diving Women's Springboard\",\n",
       "       \"Diving Women's Synchronized Springboard\",\n",
       "       \"Athletics Women's 10,000 metres\", 'Sailing Mixed 7 metres',\n",
       "       \"Judo Women's Half-Middleweight\", \"Athletics Men's Decathlon\",\n",
       "       \"Wrestling Men's Middleweight A, Greco-Roman\",\n",
       "       \"Athletics Women's Discus Throw\",\n",
       "       \"Swimming Women's 4 x 100 metres Freestyle Relay\",\n",
       "       \"Athletics Women's 1,500 metres\",\n",
       "       \"Shooting Women's Air Pistol, 10 metres\",\n",
       "       \"Shooting Women's Sporting Pistol, 25 metres\",\n",
       "       \"Canoeing Men's Kayak Doubles, 500 metres\",\n",
       "       \"Canoeing Men's Kayak Singles, 500 metres\",\n",
       "       \"Canoeing Men's Kayak Singles, 1,000 metres\",\n",
       "       \"Shooting Men's Running Target, 50 metres\",\n",
       "       \"Judo Women's Half-Heavyweight\", \"Athletics Women's Pole Vault\",\n",
       "       \"Rugby Sevens Women's Rugby Sevens\", \"Table Tennis Men's Team\",\n",
       "       \"Rowing Women's Coxed Eights\",\n",
       "       \"Athletics Women's 4 x 400 metres Relay\",\n",
       "       \"Cycling Men's 1,000 metres Time Trial\",\n",
       "       \"Cycling Men's Individual Pursuit, 4,000 metres\",\n",
       "       \"Wrestling Men's Welterweight, Freestyle\",\n",
       "       \"Wrestling Men's Bantamweight, Greco-Roman\",\n",
       "       \"Rowing Women's Lightweight Double Sculls\",\n",
       "       \"Athletics Women's 800 metres\",\n",
       "       \"Rowing Women's Coxed Quadruple Sculls\",\n",
       "       \"Rhythmic Gymnastics Women's Individual\",\n",
       "       \"Canoeing Men's Kayak Singles, Slalom\", \"Archery Men's Individual\",\n",
       "       \"Archery Men's Team\", \"Athletics Women's 400 metres\",\n",
       "       \"Trampolining Men's Individual\",\n",
       "       \"Beach Volleyball Men's Beach Volleyball\",\n",
       "       \"Cycling Women's Mountainbike, Cross-Country\",\n",
       "       \"Athletics Men's Javelin Throw, Both Hands\",\n",
       "       \"Triathlon Women's Olympic Distance\",\n",
       "       \"Gymnastics Women's Team Portable Apparatus\",\n",
       "       \"Cycling Men's Mountainbike, Cross-Country\",\n",
       "       \"Athletics Women's 400 metres Hurdles\", \"Diving Men's Springboard\",\n",
       "       \"Wrestling Men's Featherweight, Greco-Roman\",\n",
       "       \"Table Tennis Men's Singles\", 'Art Competitions Mixed Painting',\n",
       "       \"Judo Men's Open Class\", \"Rowing Women's Quadruple Sculls\",\n",
       "       \"Gymnastics Men's Team All-Around, Swedish System\",\n",
       "       \"Athletics Women's Pentathlon\",\n",
       "       'Art Competitions Mixed Painting, Unknown Event',\n",
       "       \"Cycling Men's Team Pursuit, 4,000 metres\",\n",
       "       \"Weightlifting Women's Middleweight\",\n",
       "       \"Swimming Men's 1,500 metres Freestyle\",\n",
       "       \"Wrestling Women's Light-Heavyweight, Freestyle\",\n",
       "       \"Swimming Women's 100 metres Freestyle\",\n",
       "       \"Equestrianism Men's Jumping, Individual\",\n",
       "       \"Equestrianism Men's Jumping, Team\",\n",
       "       \"Equestrianism Men's Three-Day Event, Individual\",\n",
       "       \"Equestrianism Men's Three-Day Event, Team\",\n",
       "       \"Athletics Women's High Jump\",\n",
       "       \"Canoeing Women's Kayak Fours, 500 metres\",\n",
       "       \"Sailing Men's One Person Dinghy\",\n",
       "       \"Trampolining Women's Individual\",\n",
       "       'Art Competitions Mixed Literature', \"Judo Men's Middleweight\",\n",
       "       \"Judo Men's Half-Lightweight\", \"Fencing Women's Foil, Team\",\n",
       "       \"Swimming Women's 200 metres Butterfly\",\n",
       "       \"Swimming Women's 400 metres Individual Medley\",\n",
       "       \"Golf Men's Individual\", \"Athletics Men's Standing High Jump\",\n",
       "       \"Athletics Men's Standing Long Jump\",\n",
       "       \"Athletics Men's 20 kilometres Walk\",\n",
       "       \"Swimming Men's 220 yard Freestyle\",\n",
       "       \"Swimming Men's 880 yard Freestyle\",\n",
       "       \"Swimming Men's One Mile Freestyle\",\n",
       "       \"Swimming Men's 4 x 50 Yard Freestyle Relay\",\n",
       "       \"Swimming Men's Plunge For Distance\",\n",
       "       \"Shooting Men's Free Rifle, Three Positions, 300 metres\",\n",
       "       \"Shooting Men's Military Rifle, Three Positions, 300 metres\",\n",
       "       \"Shooting Men's Military Rifle, Any Position, 600 metres\",\n",
       "       \"Shooting Men's Military Rifle, 200, 400, 500 and 600 metres, Team\",\n",
       "       \"Shooting Men's Military Rifle, Prone, 300 metres\",\n",
       "       \"Judo Men's Half-Heavyweight\", \"Archery Women's Team\",\n",
       "       \"Athletics Men's 50 kilometres Walk\",\n",
       "       \"Rowing Women's Double Sculls\", 'Sailing Mixed 6 metres',\n",
       "       \"Boxing Men's Light-Heavyweight\", \"Boxing Women's Flyweight\",\n",
       "       \"Athletics Women's 100 metres Hurdles\",\n",
       "       \"Athletics Men's Discus Throw, Greek Style\",\n",
       "       'Sailing Mixed One Person Dinghy',\n",
       "       \"Wrestling Women's Heavyweight, Freestyle\",\n",
       "       'Badminton Mixed Doubles', \"Fencing Women's Foil, Individual\",\n",
       "       'Sailing Mixed Two Person Keelboat',\n",
       "       \"Shooting Men's Military Rifle, 300 metres and 600 metres, Prone, Team\",\n",
       "       \"Table Tennis Men's Doubles\",\n",
       "       \"Wrestling Men's Light-Flyweight, Freestyle\",\n",
       "       \"Wrestling Women's Featherweight, Freestyle\",\n",
       "       \"Swimming Women's 200 metres Freestyle\",\n",
       "       \"Swimming Women's 400 metres Freestyle\",\n",
       "       \"Swimming Women's 200 metres Individual Medley\",\n",
       "       \"Sailing Men's Windsurfer\",\n",
       "       \"Shooting Men's Running Target, Single Shot\",\n",
       "       \"Shooting Men's Running Target, Double Shot\",\n",
       "       \"Rugby Sevens Men's Rugby Sevens\",\n",
       "       \"Wrestling Women's Lightweight, Freestyle\",\n",
       "       \"Modern Pentathlon Women's Individual\",\n",
       "       \"Canoeing Men's Canadian Doubles, Slalom\",\n",
       "       \"Judo Women's Half-Lightweight\", \"Diving Women's Plain High\",\n",
       "       \"Equestrianism Men's Dressage, Individual\",\n",
       "       \"Equestrianism Men's Dressage, Team\",\n",
       "       \"Tennis Women's Singles, Covered Courts\",\n",
       "       \"Diving Men's Plain High\",\n",
       "       'Shooting Mixed Small-Bore Rifle, Three Positions, 50 metres',\n",
       "       'Shooting Mixed Small-Bore Rifle, Prone, 50 metres',\n",
       "       \"Swimming Women's 800 metres Freestyle\",\n",
       "       \"Sailing Women's Two Person Dinghy\",\n",
       "       \"Shooting Men's Free Pistol, 50 metres, Team\",\n",
       "       \"Shooting Men's Free Rifle, Three Positions, 300 metres, Team\",\n",
       "       \"Shooting Men's Military Rifle, Prone, 300 metres, Team\",\n",
       "       \"Shooting Men's Military Rifle, Prone, 600 metres, Team\",\n",
       "       \"Shooting Men's Military Rifle, Standing, 300 metres, Team\",\n",
       "       \"Shooting Men's Free Rifle, Prone, 600 metres\",\n",
       "       \"Shooting Men's Free Rifle, 400, 600 and 800 metres, Team\",\n",
       "       \"Rowing Men's Single Sculls\",\n",
       "       \"Cycling Men's Tandem Sprint, 2,000 metres\",\n",
       "       \"Athletics Women's Heptathlon\", \"Cycling Men's Points Race\",\n",
       "       \"Synchronized Swimming Women's Solo\",\n",
       "       'Equestrianism Mixed Dressage, Individual',\n",
       "       'Equestrianism Mixed Dressage, Team',\n",
       "       \"Swimming Men's 100 metres Breaststroke\",\n",
       "       'Shooting Mixed Free Pistol, 50 metres', \"Sailing Women's Skiff\",\n",
       "       \"Canoeing Men's Kayak Doubles, 10,000 metres\",\n",
       "       \"Triathlon Men's Olympic Distance\",\n",
       "       \"Sailing Women's One Person Dinghy\",\n",
       "       \"Rowing Men's 17-Man Naval Rowing Boats\",\n",
       "       \"Beach Volleyball Women's Beach Volleyball\",\n",
       "       \"Weightlifting Men's Super-Heavyweight\",\n",
       "       \"Rowing Men's Lightweight Coxless Fours\",\n",
       "       \"Wrestling Men's Light-Flyweight, Greco-Roman\",\n",
       "       \"Canoeing Men's Canadian Singles, 1,000 metres\",\n",
       "       'Sailing Mixed 5.5 metres', 'Equestrianism Mixed Jumping, Team',\n",
       "       \"Diving Men's Synchronized Platform\",\n",
       "       \"Canoeing Women's Kayak Singles, Slalom\",\n",
       "       \"Weightlifting Women's Flyweight\",\n",
       "       \"Swimming Women's 100 metres Breaststroke\",\n",
       "       \"Swimming Women's 200 metres Breaststroke\",\n",
       "       \"Wrestling Men's Middleweight B, Greco-Roman\",\n",
       "       \"Athletics Men's Stone Throw\",\n",
       "       \"Athletics Men's Javelin Throw, Freestyle\",\n",
       "       \"Athletics Men's Pentathlon (Ancient)\",\n",
       "       \"Shooting Women's Small-Bore Rifle, Three Positions, 50 metres\",\n",
       "       \"Swimming Women's 100 metres Butterfly\",\n",
       "       \"Weightlifting Men's Heavyweight I\",\n",
       "       \"Athletics Women's 3,000 metres Steeplechase\",\n",
       "       \"Athletics Men's Shot Put, Both Hands\", \"Shooting Women's Trap\",\n",
       "       \"Badminton Men's Doubles\",\n",
       "       \"Swimming Women's 4 x 200 metres Freestyle Relay\",\n",
       "       \"Athletics Men's 10 kilometres Walk\",\n",
       "       \"Athletics Women's 20 kilometres Walk\",\n",
       "       \"Athletics Women's 80 metres Hurdles\",\n",
       "       \"Sailing Men's One Person Heavyweight Dinghy\",\n",
       "       'Art Competitions Mixed Painting, Paintings',\n",
       "       'Tennis Mixed Doubles, Covered Courts', \"Cycling Men's Madison\",\n",
       "       'Art Competitions Mixed Sculpturing, Statues', \"Rugby Men's Rugby\",\n",
       "       \"Weightlifting Men's Heavyweight II\",\n",
       "       \"Canoeing Women's Kayak Doubles, 500 metres\",\n",
       "       \"Cycling Men's Individual Time Trial\", \"Judo Women's Heavyweight\",\n",
       "       \"Canoeing Men's Kayak Doubles, 1,000 metres\",\n",
       "       \"Gymnastics Men's Individual All-Around, 5 Events\",\n",
       "       \"Wrestling Men's Super-Heavyweight, Freestyle\",\n",
       "       \"Fencing Women's Sabre, Team\", \"Shooting Men's Double Trap\",\n",
       "       \"Weightlifting Men's Bantamweight\", \"Taekwondo Men's Heavyweight\",\n",
       "       'Sailing Mixed Windsurfer', \"Taekwondo Women's Welterweight\",\n",
       "       'Shooting Mixed Free Rifle, Three Positions, 300 metres',\n",
       "       \"Cycling Men's 50 kilometres\",\n",
       "       'Shooting Mixed Rapid-Fire Pistol, 25 metres',\n",
       "       \"Cycling Men's 333 metres Time Trial\",\n",
       "       \"Cycling Men's 20 kilometres\",\n",
       "       \"Canoeing Men's Kayak Singles, 10,000 metres\",\n",
       "       'Sailing Mixed Open', 'Sailing Mixed 1-2 Ton',\n",
       "       \"Canoeing Men's Canadian Singles, Slalom\",\n",
       "       'Sailing Mixed Multihull', \"Badminton Women's Doubles\",\n",
       "       \"Diving Women's Synchronized Platform\",\n",
       "       \"Athletics Women's Triple Jump\",\n",
       "       'Art Competitions Mixed Painting, Drawings And Water Colors',\n",
       "       \"Shooting Men's Dueling Pistol, 30 metres\",\n",
       "       \"Boxing Women's Lightweight\", \"Cycling Women's BMX\",\n",
       "       \"Canoeing Men's Kayak Doubles, 200 metres\",\n",
       "       \"Fencing Men's Sabre, Masters, Individual\",\n",
       "       \"Lacrosse Men's Lacrosse\",\n",
       "       \"Canoeing Women's Kayak Singles, 500 metres\",\n",
       "       \"Athletics Women's 10 kilometres Walk\", 'Sailing Mixed 12 metres',\n",
       "       \"Judo Women's Extra-Lightweight\",\n",
       "       \"Diving Men's Synchronized Springboard\",\n",
       "       \"Rowing Men's Coxed Fours, Outriggers\",\n",
       "       \"Gymnastics Men's Rope Climbing\",\n",
       "       'Sailing Mixed Two Person Dinghy',\n",
       "       'Art Competitions Mixed Architecture, Unknown Event',\n",
       "       \"Archery Men's Target Archery, 28 metres, Team\",\n",
       "       \"Archery Men's Target Archery, 33 metres, Team\",\n",
       "       \"Archery Men's Target Archery, 50 metres, Team\",\n",
       "       \"Shooting Men's Running Target, 10 metres\", \"Polo Men's Polo\",\n",
       "       \"Rowing Men's Coxed Fours, Inriggers\", \"Cycling Men's BMX\",\n",
       "       'Art Competitions Mixed Sculpturing',\n",
       "       \"Athletics Men's Cross-Country, Individual\",\n",
       "       \"Athletics Men's Cross-Country, Team\", 'Sailing Mixed 40 metres',\n",
       "       \"Gymnastics Men's Club Swinging\", \"Tennis Women's Singles\",\n",
       "       'Tennis Mixed Doubles', \"Tennis Women's Doubles\",\n",
       "       \"Judo Women's Middleweight\", \"Judo Women's Lightweight\",\n",
       "       \"Canoeing Women's Kayak Singles, 200 metres\",\n",
       "       \"Canoeing Men's Kayak Relay 4 x 500 metres\",\n",
       "       \"Athletics Men's 3,000 metres, Team\",\n",
       "       \"Shooting Men's Small-Bore Rifle, Prone, 50 and 100 yards\",\n",
       "       \"Shooting Men's Small-Bore Rifle, 50 and 100 yards, Team\",\n",
       "       \"Shooting Men's Small-Bore Rifle, Disappearing Target, 25 yards\",\n",
       "       \"Shooting Men's Small-Bore Rifle, Moving Target, 25 yards\",\n",
       "       \"Shooting Men's Military Pistol, Team\",\n",
       "       \"Rowing Women's Coxed Fours\",\n",
       "       \"Weightlifting Men's Unlimited, One Hand\",\n",
       "       \"Canoeing Men's Canadian Singles, 500 metres\",\n",
       "       \"Fencing Men's Foil, Masters, Individual\",\n",
       "       \"Fencing Men's epee, Masters, Individual\",\n",
       "       \"Gymnastics Men's Individual All-Around, Field Sports\",\n",
       "       \"Gymnastics Men's Individual All-Around, Apparatus Work\",\n",
       "       'Art Competitions Mixed Music, Compositions For Solo Or Chorus',\n",
       "       \"Fencing Women's epee, Team\",\n",
       "       \"Swimming Men's 4,000 metres Freestyle\",\n",
       "       \"Swimming Men's Underwater Swimming\", 'Sailing Mixed Skiff',\n",
       "       \"Shooting Men's Military Rifle, 200/500/600/800/900/1,000 Yards, Team\",\n",
       "       \"Shooting Men's Running Target, Single And Double Shot\",\n",
       "       \"Shooting Men's Small-Bore Rifle, Any Position, 50 metres\",\n",
       "       \"Shooting Men's Small-Bore Rifle, Disappearing Target, 25 metres\",\n",
       "       \"Swimming Women's 10 kilometres Open Water\",\n",
       "       \"Cycling Men's Team Pursuit, 1,980 yards\",\n",
       "       \"Cycling Men's 5,000 metres\", \"Cycling Men's 100 kilometres\",\n",
       "       \"Cricket Men's Cricket\",\n",
       "       \"Canoeing Men's Canadian Singles, 10,000 metres\",\n",
       "       \"Boxing Women's Middleweight\", \"Sailing Men's Skiff\",\n",
       "       \"Athletics Men's Pentathlon\",\n",
       "       \"Swimming Men's 1,200 metres Freestyle\", \"Shooting Women's Skeet\",\n",
       "       \"Cycling Men's 1/4 mile\", \"Cycling Men's 1/2 mile\",\n",
       "       \"Cycling Men's 5 mile\", \"Cycling Men's 25 mile\",\n",
       "       \"Shooting Men's Small-Bore Rifle, Standing, 50 metres\",\n",
       "       \"Shooting Men's Small Bore-Rifle, Standing, 50 metres, Team\",\n",
       "       \"Shooting Men's Free Rifle, 1,000 Yards\",\n",
       "       \"Cycling Women's Team Pursuit\",\n",
       "       \"Athletics Men's 3,000 metres Walk\",\n",
       "       'Shooting Mixed Running Target, 50 metres',\n",
       "       \"Cycling Women's Individual Time Trial\",\n",
       "       \"Fencing Women's Sabre, Individual\",\n",
       "       \"Fencing Men's Sabre, Individual, Three Hits\",\n",
       "       \"Archery Women's Double National Round\", \"Cycling Men's Omnium\",\n",
       "       'Equestrianism Mixed Hacks And Hunter Combined',\n",
       "       'Sailing Mixed 10 metres', \"Shooting Men's Trap, Team\",\n",
       "       \"Cycling Women's Individual Pursuit, 3,000 metres\",\n",
       "       \"Cycling Women's Points Race\", \"Sailing Men's Two Person Keelboat\",\n",
       "       \"Cycling Men's Keirin\", \"Cycling Men's Team Sprint\",\n",
       "       \"Athletics Men's 5 mile\",\n",
       "       \"Shooting Men's Running Target, Single Shot, Team\",\n",
       "       \"Ice Hockey Men's Ice Hockey\", \"Racquets Men's Singles\",\n",
       "       \"Racquets Men's Doubles\",\n",
       "       'Art Competitions Mixed Literature, Lyric Works',\n",
       "       'Motorboating Mixed A-Class (Open)',\n",
       "       \"Archery Men's Continental Style\",\n",
       "       'Art Competitions Mixed Painting, Graphic Arts',\n",
       "       \"Wrestling Women's Flyweight, Freestyle\",\n",
       "       'Art Competitions Mixed Literature, Unknown Event',\n",
       "       'Sailing Mixed 0.5-1 Ton',\n",
       "       'Art Competitions Mixed Painting, Applied Arts',\n",
       "       'Croquet Mixed Singles, One Ball', 'Croquet Mixed Doubles',\n",
       "       \"Shooting Men's Running Target, Double Shot, Team\",\n",
       "       \"Shooting Men's Free Pistol, 50 yards\",\n",
       "       \"Shooting Men's Free Pistol, 50 yards, Team\",\n",
       "       \"Fencing Men's epee, Masters and Amateurs, Individual\",\n",
       "       \"Swimming Men's 10 kilometres Open Water\",\n",
       "       'Art Competitions Mixed Music, Compositions For Orchestra',\n",
       "       \"Archery Men's Double York Round\",\n",
       "       \"Wrestling Women's Middleweight, Freestyle\",\n",
       "       \"Equestrianism Men's Vaulting, Individual\",\n",
       "       \"Swimming Men's 4 x 250 metres Freestyle Relay\",\n",
       "       \"Table Tennis Women's Team\", \"Athletics Women's Hammer Throw\",\n",
       "       \"Canoeing Men's Kayak Singles, 200 metres\",\n",
       "       \"Shooting Women's Double Trap\",\n",
       "       \"Rowing Men's 6-Man Naval Rowing Boats\",\n",
       "       'Art Competitions Mixed Music',\n",
       "       \"Shooting Men's Free Rifle, Kneeling, 300 metres\",\n",
       "       \"Shooting Men's Free Rifle, Prone, 300 metres\",\n",
       "       \"Shooting Men's Free Rifle, Standing, 300 metres\",\n",
       "       \"Athletics Men's 3,200 metres Steeplechase\",\n",
       "       \"Rowing Women's Coxless Fours\",\n",
       "       \"Tennis Men's Doubles, Covered Courts\",\n",
       "       \"Tennis Men's Singles, Covered Courts\",\n",
       "       \"Cycling Men's 25 kilometres\",\n",
       "       \"Shooting Men's Military Rifle, 200 metres\",\n",
       "       \"Athletics Men's Standing Triple Jump\",\n",
       "       \"Rowing Men's Coxed Pairs (1 kilometres)\",\n",
       "       \"Shooting Men's Military Pistol, 30 metres\",\n",
       "       \"Cycling Women's Keirin\",\n",
       "       \"Archery Men's Au Cordon Dore, 50 metres\",\n",
       "       \"Figure Skating Men's Singles\", 'Figure Skating Mixed Pairs',\n",
       "       \"Swimming Women's 300 metres Freestyle\",\n",
       "       \"Canoeing Men's Canadian Singles, 200 metres\",\n",
       "       'Sailing Mixed 30 metres',\n",
       "       \"Athletics Men's 4,000 metres Steeplechase\",\n",
       "       \"Athletics Men's 5,000 metres, Team\",\n",
       "       \"Rowing Men's Coxed Pairs (1 mile)\",\n",
       "       'Art Competitions Mixed Unknown Event', \"Cycling Women's Omnium\",\n",
       "       \"Swimming Men's 200 metres Obstacle Course\",\n",
       "       \"Swimming Men's 200 metres Team Swimming\", 'Sailing Mixed 12 foot',\n",
       "       'Art Competitions Mixed Music, Instrumental And Chamber',\n",
       "       'Art Competitions Mixed Music, Vocals',\n",
       "       'Art Competitions Mixed Literature, Dramatic Works',\n",
       "       \"Jeu De Paume Men's Singles\", 'Sailing Mixed 10-20 Ton',\n",
       "       \"Cycling Men's 1/3 mile\", \"Cycling Men's 1 mile\",\n",
       "       \"Cycling Men's 2 mile\",\n",
       "       'Art Competitions Mixed Sculpturing, Medals And Plaques',\n",
       "       \"Athletics Men's 1,600 metres Medley Relay\",\n",
       "       'Croquet Mixed Singles, Two Balls',\n",
       "       \"Canoeing Men's Folding Kayak Doubles, 10 kilometres\",\n",
       "       \"Athletics Men's 60 metres\", 'Sailing Mixed 2-3 Ton',\n",
       "       \"Shooting Men's Military Rifle, Prone, 600 metres\",\n",
       "       \"Canoeing Men's Canadian Doubles, 10,000 metres\",\n",
       "       \"Shooting Men's Dueling Pistol, 30 metres, Team\",\n",
       "       \"Gymnastics Men's Parallel Bars, Teams\",\n",
       "       \"Gymnastics Men's Horizontal Bar, Teams\",\n",
       "       \"Shooting Men's Small-Bore Rifle, Disappearing Target, 25 metres, Team\",\n",
       "       'Art Competitions Mixed Sculpturing, Medals And Reliefs',\n",
       "       \"Athletics Men's 1,500 metres Walk\",\n",
       "       \"Athletics Men's 3 mile, Team\",\n",
       "       'Art Competitions Mixed Sculpturing, Medals',\n",
       "       \"Shooting Men's Military Rifle, Kneeling Or Standing, 300 metres\",\n",
       "       \"Equestrianism Men's Vaulting, Team\",\n",
       "       \"Shooting Men's Free Rifle, Any Position, 300 metres\",\n",
       "       \"Shooting Men's Military Rifle, 1873-1874 Gras Model, Kneeling Or Standing, 200 metres\",\n",
       "       \"Swimming Men's 100 Yard Backstroke\",\n",
       "       \"Swimming Men's 440 Yard Breaststroke\",\n",
       "       'Art Competitions Mixed Literature, Epic Works',\n",
       "       'Art Competitions Mixed Architecture',\n",
       "       \"Athletics Men's 3,500 metres Walk\", \"Roque Men's Singles\",\n",
       "       \"Gymnastics Men's Side Horse\",\n",
       "       \"Archery Men's Double American Round\", \"Archery Men's Team Round\",\n",
       "       \"Archery Men's Target Archery, 33 metres, Individual\",\n",
       "       \"Archery Men's Target Archery, 50 metres, Individual\",\n",
       "       \"Swimming Men's 1,000 metres Freestyle\",\n",
       "       \"Athletics Men's 10 mile Walk\",\n",
       "       \"Athletics Men's Discus Throw, Both Hands\", \"Golf Men's Team\",\n",
       "       'Sailing Mixed 0-0.5 Ton', 'Sailing Mixed 20+ Ton',\n",
       "       \"Cycling Women's Team Sprint\",\n",
       "       \"Weightlifting Men's Unlimited, Two Hands\",\n",
       "       \"Shooting Men's Free Pistol, 25 metres\",\n",
       "       \"Shooting Men's Military Revolver, 1873-1874 Gras Model, 20 metres\",\n",
       "       \"Shooting Men's Military Revolver, 20 metres\",\n",
       "       \"Shooting Men's Dueling Pistol Au Vise 20 metres\",\n",
       "       \"Shooting Men's Dueling Pistol Au Commandement, 25 metres\",\n",
       "       \"Shooting Men's Small-Bore Rifle, Prone, 50 metres, Team\",\n",
       "       'Sailing Mixed 6.5 metres', \"Athletics Men's 200 metres Hurdles\",\n",
       "       \"Athletics Men's 56-pound Weight Throw\",\n",
       "       'Equestrianism Mixed Four-In-Hand Competition',\n",
       "       \"Athletics Men's 2,500 metres Steeplechase\",\n",
       "       'Art Competitions Mixed Music, Unknown Event',\n",
       "       \"Athletics Men's All-Around Championship\",\n",
       "       \"Archery Men's Pole Archery, Small Birds, Individual\",\n",
       "       \"Archery Men's Pole Archery, Large Birds, Individual\",\n",
       "       \"Archery Men's Pole Archery, Small Birds, Team\",\n",
       "       \"Archery Men's Pole Archery, Large Birds, Team\",\n",
       "       \"Athletics Men's 2,590 metres Steeplechase\",\n",
       "       \"Archery Women's Double Columbia Round\",\n",
       "       \"Athletics Men's 4 mile, Team\",\n",
       "       \"Figure Skating Men's Special Figures\",\n",
       "       \"Shooting Men's Military Rifle, Standing, 300 metres\",\n",
       "       \"Swimming Men's 50 yard Freestyle\",\n",
       "       \"Swimming Men's 100 yard Freestyle\",\n",
       "       \"Swimming Men's 440 yard Freestyle\",\n",
       "       \"Basque Pelota Men's Two-Man Teams With Cesta\",\n",
       "       \"Shooting Men's Trap, Single Shot, 16 metres\",\n",
       "       \"Shooting Men's Trap, Double Shot, 14 metres\",\n",
       "       'Equestrianism Mixed Long Jump',\n",
       "       \"Canoeing Men's Folding Kayak Singles, 10 kilometres\",\n",
       "       \"Shooting Men's Free Pistol, 30 metres\",\n",
       "       \"Shooting Men's Military Pistol, 25 metres\",\n",
       "       \"Swimming Men's 100 metres Freestyle For Sailors\",\n",
       "       \"Archery Men's Sur La Perche a La Herse\", 'Sailing Mixed 3-10 Ton',\n",
       "       \"Gymnastics Men's Individual All-Around, 4 Events\",\n",
       "       'Alpinism Mixed Alpinism',\n",
       "       \"Wrestling Men's Unlimited Class, Greco-Roman\",\n",
       "       'Motorboating Mixed B-Class (Under 60 Feet)',\n",
       "       'Motorboating Mixed C-Class', \"Cycling Men's 10,000 metres\",\n",
       "       'Art Competitions Mixed Sculpturing, Reliefs',\n",
       "       \"Shooting Men's Muzzle-Loading Pistol, 25 metres\",\n",
       "       'Equestrianism Mixed High Jump',\n",
       "       \"Archery Men's Sur La Perche a La Pyramide\",\n",
       "       \"Fencing Men's Single Sticks, Individual\",\n",
       "       \"Figure Skating Women's Singles\", \"Gymnastics Men's Tumbling\",\n",
       "       \"Shooting Men's Unknown Event\", 'Sailing Mixed 18 foot',\n",
       "       \"Archery Men's Unknown Event\",\n",
       "       \"Archery Men's Au Chapelet, 50 metres\",\n",
       "       \"Archery Men's Championnat Du Monde\", \"Archery Women's Team Round\",\n",
       "       \"Wrestling Men's All-Around, Greco-Roman\",\n",
       "       \"Cycling Men's 12-Hours Race\",\n",
       "       \"Swimming Men's 500 metres Freestyle\",\n",
       "       \"Weightlifting Men's All-Around Dumbbell Contest\",\n",
       "       \"Archery Men's Au Chapelet, 33 metres\",\n",
       "       \"Archery Men's Au Cordon Dore, 33 metres\",\n",
       "       \"Archery Men's Target Archery, 28 metres, Individual\",\n",
       "       'Aeronautics Mixed Aeronautics'], dtype=object)"
      ]
     },
     "execution_count": 111,
     "metadata": {},
     "output_type": "execute_result"
    }
   ],
   "source": [
    "summer.Event.unique()"
   ]
  },
  {
   "cell_type": "code",
   "execution_count": 112,
   "metadata": {},
   "outputs": [
    {
     "data": {
      "text/plain": [
       "651"
      ]
     },
     "execution_count": 112,
     "metadata": {},
     "output_type": "execute_result"
    }
   ],
   "source": [
    "summer.Event.nunique()"
   ]
  },
  {
   "cell_type": "code",
   "execution_count": 113,
   "metadata": {},
   "outputs": [
    {
     "data": {
      "text/plain": [
       "array([nan, 'Gold', 'Bronze', 'Silver'], dtype=object)"
      ]
     },
     "execution_count": 113,
     "metadata": {},
     "output_type": "execute_result"
    }
   ],
   "source": [
    "summer.Medal.unique()"
   ]
  },
  {
   "cell_type": "code",
   "execution_count": 114,
   "metadata": {},
   "outputs": [
    {
     "data": {
      "text/plain": [
       "3"
      ]
     },
     "execution_count": 114,
     "metadata": {},
     "output_type": "execute_result"
    }
   ],
   "source": [
    "summer.Medal.nunique()"
   ]
  },
  {
   "cell_type": "code",
   "execution_count": 115,
   "metadata": {},
   "outputs": [
    {
     "data": {
      "text/plain": [
       "array(['Barcelona', 'London', 'Antwerpen', 'Paris', 'Los Angeles',\n",
       "       'Helsinki', 'Sydney', 'Atlanta', 'Stockholm', 'Beijing',\n",
       "       'Rio de Janeiro', 'Athina', 'Mexico City', 'Munich', 'Seoul',\n",
       "       'Berlin', 'Melbourne', 'Roma', 'Amsterdam', 'Montreal', 'Moskva',\n",
       "       'Tokyo', 'St. Louis'], dtype=object)"
      ]
     },
     "execution_count": 115,
     "metadata": {},
     "output_type": "execute_result"
    }
   ],
   "source": [
    "summer.City.unique()"
   ]
  },
  {
   "cell_type": "code",
   "execution_count": 116,
   "metadata": {},
   "outputs": [
    {
     "data": {
      "text/plain": [
       "23"
      ]
     },
     "execution_count": 116,
     "metadata": {},
     "output_type": "execute_result"
    }
   ],
   "source": [
    "summer.City.nunique()"
   ]
  },
  {
   "cell_type": "code",
   "execution_count": 117,
   "metadata": {},
   "outputs": [
    {
     "data": {
      "text/plain": [
       "array(['M', 'F'], dtype=object)"
      ]
     },
     "execution_count": 117,
     "metadata": {},
     "output_type": "execute_result"
    }
   ],
   "source": [
    "summer.Sex.unique()"
   ]
  },
  {
   "cell_type": "code",
   "execution_count": 118,
   "metadata": {},
   "outputs": [
    {
     "data": {
      "text/plain": [
       "2"
      ]
     },
     "execution_count": 118,
     "metadata": {},
     "output_type": "execute_result"
    }
   ],
   "source": [
    "summer.Sex.nunique()"
   ]
  },
  {
   "cell_type": "markdown",
   "metadata": {},
   "source": [
    "# Winter Data"
   ]
  },
  {
   "cell_type": "code",
   "execution_count": 119,
   "metadata": {},
   "outputs": [
    {
     "data": {
      "text/html": [
       "<div>\n",
       "<style scoped>\n",
       "    .dataframe tbody tr th:only-of-type {\n",
       "        vertical-align: middle;\n",
       "    }\n",
       "\n",
       "    .dataframe tbody tr th {\n",
       "        vertical-align: top;\n",
       "    }\n",
       "\n",
       "    .dataframe thead th {\n",
       "        text-align: right;\n",
       "    }\n",
       "</style>\n",
       "<table border=\"1\" class=\"dataframe\">\n",
       "  <thead>\n",
       "    <tr style=\"text-align: right;\">\n",
       "      <th></th>\n",
       "      <th>ID</th>\n",
       "      <th>Name</th>\n",
       "      <th>Sex</th>\n",
       "      <th>Age</th>\n",
       "      <th>Height</th>\n",
       "      <th>Weight</th>\n",
       "      <th>Team</th>\n",
       "      <th>NOC</th>\n",
       "      <th>Games</th>\n",
       "      <th>Year</th>\n",
       "      <th>Season</th>\n",
       "      <th>City</th>\n",
       "      <th>Sport</th>\n",
       "      <th>Event</th>\n",
       "      <th>Medal</th>\n",
       "    </tr>\n",
       "  </thead>\n",
       "  <tbody>\n",
       "    <tr>\n",
       "      <th>4</th>\n",
       "      <td>5</td>\n",
       "      <td>Christine Jacoba Aaftink</td>\n",
       "      <td>F</td>\n",
       "      <td>21.0</td>\n",
       "      <td>185.0</td>\n",
       "      <td>82.0</td>\n",
       "      <td>Netherlands</td>\n",
       "      <td>NED</td>\n",
       "      <td>1988 Winter</td>\n",
       "      <td>1988</td>\n",
       "      <td>Winter</td>\n",
       "      <td>Calgary</td>\n",
       "      <td>Speed Skating</td>\n",
       "      <td>Speed Skating Women's 500 metres</td>\n",
       "      <td>NaN</td>\n",
       "    </tr>\n",
       "    <tr>\n",
       "      <th>5</th>\n",
       "      <td>5</td>\n",
       "      <td>Christine Jacoba Aaftink</td>\n",
       "      <td>F</td>\n",
       "      <td>21.0</td>\n",
       "      <td>185.0</td>\n",
       "      <td>82.0</td>\n",
       "      <td>Netherlands</td>\n",
       "      <td>NED</td>\n",
       "      <td>1988 Winter</td>\n",
       "      <td>1988</td>\n",
       "      <td>Winter</td>\n",
       "      <td>Calgary</td>\n",
       "      <td>Speed Skating</td>\n",
       "      <td>Speed Skating Women's 1,000 metres</td>\n",
       "      <td>NaN</td>\n",
       "    </tr>\n",
       "    <tr>\n",
       "      <th>6</th>\n",
       "      <td>5</td>\n",
       "      <td>Christine Jacoba Aaftink</td>\n",
       "      <td>F</td>\n",
       "      <td>25.0</td>\n",
       "      <td>185.0</td>\n",
       "      <td>82.0</td>\n",
       "      <td>Netherlands</td>\n",
       "      <td>NED</td>\n",
       "      <td>1992 Winter</td>\n",
       "      <td>1992</td>\n",
       "      <td>Winter</td>\n",
       "      <td>Albertville</td>\n",
       "      <td>Speed Skating</td>\n",
       "      <td>Speed Skating Women's 500 metres</td>\n",
       "      <td>NaN</td>\n",
       "    </tr>\n",
       "    <tr>\n",
       "      <th>7</th>\n",
       "      <td>5</td>\n",
       "      <td>Christine Jacoba Aaftink</td>\n",
       "      <td>F</td>\n",
       "      <td>25.0</td>\n",
       "      <td>185.0</td>\n",
       "      <td>82.0</td>\n",
       "      <td>Netherlands</td>\n",
       "      <td>NED</td>\n",
       "      <td>1992 Winter</td>\n",
       "      <td>1992</td>\n",
       "      <td>Winter</td>\n",
       "      <td>Albertville</td>\n",
       "      <td>Speed Skating</td>\n",
       "      <td>Speed Skating Women's 1,000 metres</td>\n",
       "      <td>NaN</td>\n",
       "    </tr>\n",
       "    <tr>\n",
       "      <th>8</th>\n",
       "      <td>5</td>\n",
       "      <td>Christine Jacoba Aaftink</td>\n",
       "      <td>F</td>\n",
       "      <td>27.0</td>\n",
       "      <td>185.0</td>\n",
       "      <td>82.0</td>\n",
       "      <td>Netherlands</td>\n",
       "      <td>NED</td>\n",
       "      <td>1994 Winter</td>\n",
       "      <td>1994</td>\n",
       "      <td>Winter</td>\n",
       "      <td>Lillehammer</td>\n",
       "      <td>Speed Skating</td>\n",
       "      <td>Speed Skating Women's 500 metres</td>\n",
       "      <td>NaN</td>\n",
       "    </tr>\n",
       "    <tr>\n",
       "      <th>...</th>\n",
       "      <td>...</td>\n",
       "      <td>...</td>\n",
       "      <td>...</td>\n",
       "      <td>...</td>\n",
       "      <td>...</td>\n",
       "      <td>...</td>\n",
       "      <td>...</td>\n",
       "      <td>...</td>\n",
       "      <td>...</td>\n",
       "      <td>...</td>\n",
       "      <td>...</td>\n",
       "      <td>...</td>\n",
       "      <td>...</td>\n",
       "      <td>...</td>\n",
       "      <td>...</td>\n",
       "    </tr>\n",
       "    <tr>\n",
       "      <th>271111</th>\n",
       "      <td>135569</td>\n",
       "      <td>Andrzej ya</td>\n",
       "      <td>M</td>\n",
       "      <td>29.0</td>\n",
       "      <td>179.0</td>\n",
       "      <td>89.0</td>\n",
       "      <td>Poland-1</td>\n",
       "      <td>POL</td>\n",
       "      <td>1976 Winter</td>\n",
       "      <td>1976</td>\n",
       "      <td>Winter</td>\n",
       "      <td>Innsbruck</td>\n",
       "      <td>Luge</td>\n",
       "      <td>Luge Mixed (Men)'s Doubles</td>\n",
       "      <td>NaN</td>\n",
       "    </tr>\n",
       "    <tr>\n",
       "      <th>271112</th>\n",
       "      <td>135570</td>\n",
       "      <td>Piotr ya</td>\n",
       "      <td>M</td>\n",
       "      <td>27.0</td>\n",
       "      <td>176.0</td>\n",
       "      <td>59.0</td>\n",
       "      <td>Poland</td>\n",
       "      <td>POL</td>\n",
       "      <td>2014 Winter</td>\n",
       "      <td>2014</td>\n",
       "      <td>Winter</td>\n",
       "      <td>Sochi</td>\n",
       "      <td>Ski Jumping</td>\n",
       "      <td>Ski Jumping Men's Large Hill, Individual</td>\n",
       "      <td>NaN</td>\n",
       "    </tr>\n",
       "    <tr>\n",
       "      <th>271113</th>\n",
       "      <td>135570</td>\n",
       "      <td>Piotr ya</td>\n",
       "      <td>M</td>\n",
       "      <td>27.0</td>\n",
       "      <td>176.0</td>\n",
       "      <td>59.0</td>\n",
       "      <td>Poland</td>\n",
       "      <td>POL</td>\n",
       "      <td>2014 Winter</td>\n",
       "      <td>2014</td>\n",
       "      <td>Winter</td>\n",
       "      <td>Sochi</td>\n",
       "      <td>Ski Jumping</td>\n",
       "      <td>Ski Jumping Men's Large Hill, Team</td>\n",
       "      <td>NaN</td>\n",
       "    </tr>\n",
       "    <tr>\n",
       "      <th>271114</th>\n",
       "      <td>135571</td>\n",
       "      <td>Tomasz Ireneusz ya</td>\n",
       "      <td>M</td>\n",
       "      <td>30.0</td>\n",
       "      <td>185.0</td>\n",
       "      <td>96.0</td>\n",
       "      <td>Poland</td>\n",
       "      <td>POL</td>\n",
       "      <td>1998 Winter</td>\n",
       "      <td>1998</td>\n",
       "      <td>Winter</td>\n",
       "      <td>Nagano</td>\n",
       "      <td>Bobsleigh</td>\n",
       "      <td>Bobsleigh Men's Four</td>\n",
       "      <td>NaN</td>\n",
       "    </tr>\n",
       "    <tr>\n",
       "      <th>271115</th>\n",
       "      <td>135571</td>\n",
       "      <td>Tomasz Ireneusz ya</td>\n",
       "      <td>M</td>\n",
       "      <td>34.0</td>\n",
       "      <td>185.0</td>\n",
       "      <td>96.0</td>\n",
       "      <td>Poland</td>\n",
       "      <td>POL</td>\n",
       "      <td>2002 Winter</td>\n",
       "      <td>2002</td>\n",
       "      <td>Winter</td>\n",
       "      <td>Salt Lake City</td>\n",
       "      <td>Bobsleigh</td>\n",
       "      <td>Bobsleigh Men's Four</td>\n",
       "      <td>NaN</td>\n",
       "    </tr>\n",
       "  </tbody>\n",
       "</table>\n",
       "<p>48564 rows × 15 columns</p>\n",
       "</div>"
      ],
      "text/plain": [
       "            ID                      Name Sex   Age  Height  Weight  \\\n",
       "4            5  Christine Jacoba Aaftink   F  21.0   185.0    82.0   \n",
       "5            5  Christine Jacoba Aaftink   F  21.0   185.0    82.0   \n",
       "6            5  Christine Jacoba Aaftink   F  25.0   185.0    82.0   \n",
       "7            5  Christine Jacoba Aaftink   F  25.0   185.0    82.0   \n",
       "8            5  Christine Jacoba Aaftink   F  27.0   185.0    82.0   \n",
       "...        ...                       ...  ..   ...     ...     ...   \n",
       "271111  135569                Andrzej ya   M  29.0   179.0    89.0   \n",
       "271112  135570                  Piotr ya   M  27.0   176.0    59.0   \n",
       "271113  135570                  Piotr ya   M  27.0   176.0    59.0   \n",
       "271114  135571        Tomasz Ireneusz ya   M  30.0   185.0    96.0   \n",
       "271115  135571        Tomasz Ireneusz ya   M  34.0   185.0    96.0   \n",
       "\n",
       "               Team  NOC        Games  Year  Season            City  \\\n",
       "4       Netherlands  NED  1988 Winter  1988  Winter         Calgary   \n",
       "5       Netherlands  NED  1988 Winter  1988  Winter         Calgary   \n",
       "6       Netherlands  NED  1992 Winter  1992  Winter     Albertville   \n",
       "7       Netherlands  NED  1992 Winter  1992  Winter     Albertville   \n",
       "8       Netherlands  NED  1994 Winter  1994  Winter     Lillehammer   \n",
       "...             ...  ...          ...   ...     ...             ...   \n",
       "271111     Poland-1  POL  1976 Winter  1976  Winter       Innsbruck   \n",
       "271112       Poland  POL  2014 Winter  2014  Winter           Sochi   \n",
       "271113       Poland  POL  2014 Winter  2014  Winter           Sochi   \n",
       "271114       Poland  POL  1998 Winter  1998  Winter          Nagano   \n",
       "271115       Poland  POL  2002 Winter  2002  Winter  Salt Lake City   \n",
       "\n",
       "                Sport                                     Event Medal  \n",
       "4       Speed Skating          Speed Skating Women's 500 metres   NaN  \n",
       "5       Speed Skating        Speed Skating Women's 1,000 metres   NaN  \n",
       "6       Speed Skating          Speed Skating Women's 500 metres   NaN  \n",
       "7       Speed Skating        Speed Skating Women's 1,000 metres   NaN  \n",
       "8       Speed Skating          Speed Skating Women's 500 metres   NaN  \n",
       "...               ...                                       ...   ...  \n",
       "271111           Luge                Luge Mixed (Men)'s Doubles   NaN  \n",
       "271112    Ski Jumping  Ski Jumping Men's Large Hill, Individual   NaN  \n",
       "271113    Ski Jumping        Ski Jumping Men's Large Hill, Team   NaN  \n",
       "271114      Bobsleigh                      Bobsleigh Men's Four   NaN  \n",
       "271115      Bobsleigh                      Bobsleigh Men's Four   NaN  \n",
       "\n",
       "[48564 rows x 15 columns]"
      ]
     },
     "execution_count": 119,
     "metadata": {},
     "output_type": "execute_result"
    }
   ],
   "source": [
    "winter"
   ]
  },
  {
   "cell_type": "code",
   "execution_count": 120,
   "metadata": {},
   "outputs": [
    {
     "data": {
      "text/plain": [
       "array([     5,      6,      7, ..., 135569, 135570, 135571], dtype=int64)"
      ]
     },
     "execution_count": 120,
     "metadata": {},
     "output_type": "execute_result"
    }
   ],
   "source": [
    "winter.ID.unique()"
   ]
  },
  {
   "cell_type": "code",
   "execution_count": 121,
   "metadata": {},
   "outputs": [
    {
     "data": {
      "text/plain": [
       "18958"
      ]
     },
     "execution_count": 121,
     "metadata": {},
     "output_type": "execute_result"
    }
   ],
   "source": [
    "winter.ID.nunique()"
   ]
  },
  {
   "cell_type": "code",
   "execution_count": 122,
   "metadata": {},
   "outputs": [
    {
     "data": {
      "text/plain": [
       "array(['Christine Jacoba Aaftink', 'Per Knut Aaland', 'John Aalberg', ...,\n",
       "       'Andrzej ya', 'Piotr ya', 'Tomasz Ireneusz ya'], dtype=object)"
      ]
     },
     "execution_count": 122,
     "metadata": {},
     "output_type": "execute_result"
    }
   ],
   "source": [
    "winter.Name.unique()"
   ]
  },
  {
   "cell_type": "code",
   "execution_count": 123,
   "metadata": {},
   "outputs": [
    {
     "data": {
      "text/plain": [
       "18923"
      ]
     },
     "execution_count": 123,
     "metadata": {},
     "output_type": "execute_result"
    }
   ],
   "source": [
    "winter.Name.nunique()"
   ]
  },
  {
   "cell_type": "code",
   "execution_count": 124,
   "metadata": {},
   "outputs": [
    {
     "data": {
      "text/plain": [
       "array(['F', 'M'], dtype=object)"
      ]
     },
     "execution_count": 124,
     "metadata": {},
     "output_type": "execute_result"
    }
   ],
   "source": [
    "winter.Sex.unique()"
   ]
  },
  {
   "cell_type": "code",
   "execution_count": 125,
   "metadata": {},
   "outputs": [
    {
     "data": {
      "text/plain": [
       "2"
      ]
     },
     "execution_count": 125,
     "metadata": {},
     "output_type": "execute_result"
    }
   ],
   "source": [
    "winter.Sex.nunique()"
   ]
  },
  {
   "cell_type": "code",
   "execution_count": 126,
   "metadata": {},
   "outputs": [
    {
     "data": {
      "text/plain": [
       "array([21., 25., 27., 31., 33., 26., 22., 32., 28., 20., 30., 34., 24.,\n",
       "       17., 23., 29., 15., 19., 35., 38., 40., 44., 48., 16., 37., 18.,\n",
       "       36., 43., 41., 14., 13., 39., 46., nan, 47., 42., 57., 45., 53.,\n",
       "       11., 50., 12., 49., 52., 58., 51., 54., 55.])"
      ]
     },
     "execution_count": 126,
     "metadata": {},
     "output_type": "execute_result"
    }
   ],
   "source": [
    "winter.Age.unique()"
   ]
  },
  {
   "cell_type": "code",
   "execution_count": 127,
   "metadata": {},
   "outputs": [
    {
     "data": {
      "text/plain": [
       "47"
      ]
     },
     "execution_count": 127,
     "metadata": {},
     "output_type": "execute_result"
    }
   ],
   "source": [
    "winter.Age.nunique()"
   ]
  },
  {
   "cell_type": "code",
   "execution_count": 128,
   "metadata": {},
   "outputs": [
    {
     "data": {
      "text/plain": [
       "array([185., 188., 183., 186., 182., 171., 184., 176.,  nan, 169., 190.,\n",
       "       168., 164., 175., 178., 181., 165., 150., 166., 187., 180., 167.,\n",
       "       179., 170., 200., 156., 173., 177., 163., 160., 162., 158., 174.,\n",
       "       172., 192., 155., 193., 154., 189., 157., 191., 194., 196., 197.,\n",
       "       161., 159., 151., 198., 152., 195., 153., 199., 205., 148., 206.,\n",
       "       149., 211., 201., 145., 142., 137., 143., 147., 203., 146.])"
      ]
     },
     "execution_count": 128,
     "metadata": {},
     "output_type": "execute_result"
    }
   ],
   "source": [
    "winter.Height.unique()"
   ]
  },
  {
   "cell_type": "code",
   "execution_count": 129,
   "metadata": {},
   "outputs": [
    {
     "data": {
      "text/plain": [
       "64"
      ]
     },
     "execution_count": 129,
     "metadata": {},
     "output_type": "execute_result"
    }
   ],
   "source": [
    "winter.Height.nunique()"
   ]
  },
  {
   "cell_type": "code",
   "execution_count": 130,
   "metadata": {},
   "outputs": [
    {
     "data": {
      "text/plain": [
       "array([ 82. ,  75. ,  72. ,  96. ,  76.5,  65. ,  85. ,   nan,  98. ,\n",
       "        73. ,  55. ,  58. ,  64. ,  70. ,  67. , 102. ,  80. ,  76. ,\n",
       "        43. ,  68. ,  60. ,  87. ,  77. ,  81. ,  84. ,  94. ,  62. ,\n",
       "        63. ,  69. ,  99. , 104. ,  56. ,  51. ,  95. ,  74. ,  52. ,\n",
       "       110. ,  86. ,  88. ,  78. ,  90. ,  66. ,  61. ,  54. ,  59. ,\n",
       "        97. ,  47. ,  89. ,  93. ,  57. ,  92. ,  79. , 100. ,  53. ,\n",
       "        83. ,  50. ,  91. ,  48. ,  71. , 103. , 105. , 127. ,  45. ,\n",
       "        49. ,  53.5,  46. , 101. ,  40. , 106. ,  41. , 115. ,  42. ,\n",
       "        66.5, 111. ,  44. , 107. , 109. , 116. , 114. , 108. , 113. ,\n",
       "        73.5,  70.5,  62.5,  74.5,  35. ,  75.5,  56.5,  65.5, 123. ,\n",
       "        38. ,  61.5,  59.5,  63.5,  87.5,  88.5,  68.5,  82.5,  55.5,\n",
       "        81.5,  36. ,  67.5,  69.5,  49.5,  79.5,  34. ,  32. ,  86.5,\n",
       "        83.5, 112. ,  71.5, 130. ,  97.5,  90.5,  77.5,  72.5,  54.5,\n",
       "        52.5,  64.5,  91.5,  84.5,  89.5,  78.5,  93.5,  92.5, 145. ])"
      ]
     },
     "execution_count": 130,
     "metadata": {},
     "output_type": "execute_result"
    }
   ],
   "source": [
    "winter.Weight.unique()"
   ]
  },
  {
   "cell_type": "code",
   "execution_count": 131,
   "metadata": {},
   "outputs": [
    {
     "data": {
      "text/plain": [
       "125"
      ]
     },
     "execution_count": 131,
     "metadata": {},
     "output_type": "execute_result"
    }
   ],
   "source": [
    "winter.Weight.nunique()"
   ]
  },
  {
   "cell_type": "code",
   "execution_count": 132,
   "metadata": {},
   "outputs": [
    {
     "data": {
      "text/plain": [
       "array(['NED', 'USA', 'FIN', 'NOR', 'EST', 'PAK', 'IRI', 'ITA', 'JPN',\n",
       "       'CAN', 'FRG', 'ARG', 'SWE', 'ISV', 'SUI', 'FRA', 'UKR', 'LAT',\n",
       "       'ESP', 'LIB', 'GEO', 'BLR', 'RUS', 'CRO', 'BUL', 'GER', 'POL',\n",
       "       'ROU', 'URS', 'AUS', 'GBR', 'TCH', 'CZE', 'GDR', 'KAZ', 'BEL',\n",
       "       'TOG', 'TUR', 'UZB', 'TTO', 'KOR', 'IND', 'MAR', 'DEN', 'AUT',\n",
       "       'YUG', 'MON', 'GRE', 'ARM', 'EUN', 'HUN', 'MGL', 'MEX', 'PUR',\n",
       "       'PRK', 'CHN', 'CHI', 'AZE', 'AND', 'BRA', 'BOL', 'NZL', 'LTU',\n",
       "       'CYP', 'ISL', 'SVK', 'BIH', 'MDA', 'TGA', 'GUM', 'IRL', 'SMR',\n",
       "       'SLO', 'LIE', 'ISR', 'ALG', 'POR', 'TPE', 'VEN', 'KEN', 'KGZ',\n",
       "       'RSA', 'JAM', 'GUA', 'MNE', 'SRB', 'NEP', 'CRC', 'PER', 'AHO',\n",
       "       'PHI', 'IVB', 'MKD', 'COL', 'DMA', 'SCG', 'TJK', 'EGY', 'SWZ',\n",
       "       'LUX', 'SEN', 'TLS', 'HKG', 'URU', 'IOA', 'ASA', 'PAR', 'ALB',\n",
       "       'CMR', 'BER', 'THA', 'GHA', 'HON', 'MLT', 'MAD', 'FIJ', 'ZIM',\n",
       "       'ETH', 'CAY'], dtype=object)"
      ]
     },
     "execution_count": 132,
     "metadata": {},
     "output_type": "execute_result"
    }
   ],
   "source": [
    "winter.NOC.unique()"
   ]
  },
  {
   "cell_type": "code",
   "execution_count": 133,
   "metadata": {},
   "outputs": [
    {
     "data": {
      "text/plain": [
       "119"
      ]
     },
     "execution_count": 133,
     "metadata": {},
     "output_type": "execute_result"
    }
   ],
   "source": [
    "winter.NOC.nunique()"
   ]
  },
  {
   "cell_type": "code",
   "execution_count": 134,
   "metadata": {},
   "outputs": [
    {
     "data": {
      "text/plain": [
       "array(['Netherlands', 'United States', 'Finland', 'Norway', 'Estonia',\n",
       "       'Pakistan', 'Iran', 'Italy', 'Japan-1', 'Japan', 'Canada',\n",
       "       'West Germany', 'Argentina', 'Sweden',\n",
       "       'United States Virgin Islands', 'Switzerland', 'France-1',\n",
       "       'Ukraine', 'Latvia', 'Spain', 'Lebanon', 'Georgia', 'Belarus',\n",
       "       'Russia', 'Croatia', 'Russia-2', 'Russia-1', 'Bulgaria', 'Germany',\n",
       "       'Poland', 'France-2', 'Romania', 'Soviet Union', 'Switzerland-2',\n",
       "       'Switzerland-1', 'Australia', 'Great Britain-1', 'Czechoslovakia',\n",
       "       'Czech Republic', 'Great Britain', 'East Germany', 'France',\n",
       "       'Germany-2', 'Kazakhstan', 'Belgium', 'Togo', 'Turkey',\n",
       "       'Uzbekistan', 'Great Britain-2', 'United States-1',\n",
       "       'United States-2', 'Argentina-2', 'Trinidad and Tobago',\n",
       "       'South Korea', 'Sweden-2', 'Sweden-1', 'India', 'Italy-2',\n",
       "       'Morocco', 'Denmark', 'Canada-2', 'Canada-1', 'Austria',\n",
       "       'Yugoslavia', 'Soviet Union-2', 'Soviet Union-1', 'Monaco',\n",
       "       'Greece', 'Armenia', 'Unified Team', 'Hungary', 'Spain-1',\n",
       "       'Mongolia', 'Mexico', 'Norway-2', 'Norway-1', 'Italy-1',\n",
       "       'Puerto Rico-2', 'Puerto Rico', 'North Korea', 'China',\n",
       "       'Germany-3', 'Romania-2', 'Chile', 'Azerbaijan', 'Soviet Union-3',\n",
       "       'Andorra', 'Japan-2', 'Brazil', 'Austria-1', 'Austria-2',\n",
       "       'Bolivia', 'Canada-3', 'New Zealand', 'Lithuania', 'Latvia-2',\n",
       "       'Cyprus', 'Germany-1', 'Iceland', 'Latvia-1', 'West Germany-2',\n",
       "       'Bulgaria-1', 'Ukraine-2', 'Russia-3', 'United States-3',\n",
       "       'Slovakia', 'Bosnia and Herzegovina', 'East Germany-1',\n",
       "       'West Germany-1', 'East Germany-2', 'Moldova', 'Tonga', 'Guam',\n",
       "       'Ireland', 'Great Britain-3', 'Czechoslovakia-1',\n",
       "       'Czechoslovakia-2', 'San Marino', 'Spain-2', 'Slovenia',\n",
       "       'Unified Team-2', 'Liechtenstein', 'Israel-2', 'Algeria',\n",
       "       'Romania-1', 'Portugal', 'Italy-3', 'Monaco-1', 'Chinese Taipei',\n",
       "       'Venezuela', 'Puerto Rico-1', 'Czech Republic-2', 'Kenya',\n",
       "       'Kyrgyzstan', 'Unified Team-1', 'Bulgaria-2', 'South Africa',\n",
       "       'Belgium-1', 'Netherlands-2', 'Netherlands-1', 'Jamaica',\n",
       "       'Guatemala', 'Montenegro', 'Serbia', 'Nepal',\n",
       "       'United States Virgin Islands-2', 'United States Virgin Islands-1',\n",
       "       'Israel', 'Monaco-2', 'Costa Rica', 'Peru', 'Netherlands Antilles',\n",
       "       'Mexico-2', 'Israel-1', 'Chinese Taipei-1', 'Chinese Taipei-2',\n",
       "       'Poland-2', 'Poland-1', 'Philippines', 'British Virgin Islands',\n",
       "       'Macedonia', 'Czech Republic-1', 'Argentina-1', 'Belgium-2',\n",
       "       'France-3', 'Colombia', 'Australia-1', 'Dominica', 'Ireland-2',\n",
       "       'Serbia and Montenegro', 'Tajikistan', 'Egypt', 'Mexico-1',\n",
       "       'Hungary-1', 'Yugoslavia-1', 'Swaziland', 'Luxembourg', 'Senegal',\n",
       "       'Timor Leste', 'Unified Team-3', 'Ukraine-1', 'Hong Kong',\n",
       "       'Australia-2', 'Jamaica-2', 'New Zealand-1', 'Uruguay',\n",
       "       'Slovakia-1', 'South Korea-2', 'South Korea-1', 'Yugoslavia-2',\n",
       "       'East Germany-3', 'Individual Olympic Athletes', 'American Samoa',\n",
       "       'Luxembourg-2', 'Portugal-2', 'Paraguay', 'Ireland-1', 'Albania',\n",
       "       'Cameroon', 'Bermuda', 'Thailand', 'Hungary-2', 'Ghana',\n",
       "       'Uzbekistan-2', 'Honduras', 'China-2', 'China-1', 'Malta',\n",
       "       'New Zealand-2', 'Portugal-1', 'Madagascar', 'Uzbekistan-1',\n",
       "       'Fiji', 'China-3', 'Slovakia-2', 'Zimbabwe', 'Jamaica-1',\n",
       "       'West Germany-3', 'Ethiopia', 'Cayman Islands', 'Luxembourg-1'],\n",
       "      dtype=object)"
      ]
     },
     "execution_count": 134,
     "metadata": {},
     "output_type": "execute_result"
    }
   ],
   "source": [
    "winter.Team.unique()"
   ]
  },
  {
   "cell_type": "code",
   "execution_count": 135,
   "metadata": {},
   "outputs": [
    {
     "data": {
      "text/plain": [
       "221"
      ]
     },
     "execution_count": 135,
     "metadata": {},
     "output_type": "execute_result"
    }
   ],
   "source": [
    "winter.Team.nunique()"
   ]
  },
  {
   "cell_type": "code",
   "execution_count": 136,
   "metadata": {},
   "outputs": [
    {
     "data": {
      "text/plain": [
       "array(['1988 Winter', '1992 Winter', '1994 Winter', '2002 Winter',\n",
       "       '1980 Winter', '2014 Winter', '1998 Winter', '2006 Winter',\n",
       "       '1960 Winter', '1964 Winter', '1984 Winter', '1952 Winter',\n",
       "       '1956 Winter', '2010 Winter', '1968 Winter', '1972 Winter',\n",
       "       '1976 Winter', '1924 Winter', '1928 Winter', '1948 Winter',\n",
       "       '1932 Winter', '1936 Winter'], dtype=object)"
      ]
     },
     "execution_count": 136,
     "metadata": {},
     "output_type": "execute_result"
    }
   ],
   "source": [
    "winter.Games.unique()"
   ]
  },
  {
   "cell_type": "code",
   "execution_count": 137,
   "metadata": {},
   "outputs": [
    {
     "data": {
      "text/plain": [
       "22"
      ]
     },
     "execution_count": 137,
     "metadata": {},
     "output_type": "execute_result"
    }
   ],
   "source": [
    "winter.Games.nunique()"
   ]
  },
  {
   "cell_type": "code",
   "execution_count": 138,
   "metadata": {},
   "outputs": [
    {
     "data": {
      "text/plain": [
       "array(['Speed Skating', 'Cross Country Skiing', 'Ice Hockey', 'Biathlon',\n",
       "       'Alpine Skiing', 'Luge', 'Bobsleigh', 'Figure Skating',\n",
       "       'Nordic Combined', 'Freestyle Skiing', 'Ski Jumping', 'Curling',\n",
       "       'Snowboarding', 'Short Track Speed Skating', 'Skeleton',\n",
       "       'Military Ski Patrol', 'Alpinism'], dtype=object)"
      ]
     },
     "execution_count": 138,
     "metadata": {},
     "output_type": "execute_result"
    }
   ],
   "source": [
    "winter.Sport.unique()"
   ]
  },
  {
   "cell_type": "code",
   "execution_count": 139,
   "metadata": {},
   "outputs": [
    {
     "data": {
      "text/plain": [
       "17"
      ]
     },
     "execution_count": 139,
     "metadata": {},
     "output_type": "execute_result"
    }
   ],
   "source": [
    "winter.Sport.nunique()"
   ]
  },
  {
   "cell_type": "code",
   "execution_count": 140,
   "metadata": {},
   "outputs": [
    {
     "data": {
      "text/plain": [
       "array([1988, 1992, 1994, 2002, 1980, 2014, 1998, 2006, 1960, 1964, 1984,\n",
       "       1952, 1956, 2010, 1968, 1972, 1976, 1924, 1928, 1948, 1932, 1936],\n",
       "      dtype=int64)"
      ]
     },
     "execution_count": 140,
     "metadata": {},
     "output_type": "execute_result"
    }
   ],
   "source": [
    "winter.Year.unique()"
   ]
  },
  {
   "cell_type": "code",
   "execution_count": 141,
   "metadata": {},
   "outputs": [
    {
     "data": {
      "text/plain": [
       "22"
      ]
     },
     "execution_count": 141,
     "metadata": {},
     "output_type": "execute_result"
    }
   ],
   "source": [
    "winter.Year.nunique()"
   ]
  },
  {
   "cell_type": "code",
   "execution_count": 142,
   "metadata": {},
   "outputs": [
    {
     "data": {
      "text/plain": [
       "array(['Winter'], dtype=object)"
      ]
     },
     "execution_count": 142,
     "metadata": {},
     "output_type": "execute_result"
    }
   ],
   "source": [
    "winter.Season.unique()"
   ]
  },
  {
   "cell_type": "code",
   "execution_count": 144,
   "metadata": {},
   "outputs": [
    {
     "data": {
      "text/plain": [
       "1"
      ]
     },
     "execution_count": 144,
     "metadata": {},
     "output_type": "execute_result"
    }
   ],
   "source": [
    "winter.Season.nunique()"
   ]
  },
  {
   "cell_type": "code",
   "execution_count": 145,
   "metadata": {},
   "outputs": [
    {
     "data": {
      "text/plain": [
       "array(['Calgary', 'Albertville', 'Lillehammer', 'Salt Lake City',\n",
       "       'Lake Placid', 'Sochi', 'Nagano', 'Torino', 'Squaw Valley',\n",
       "       'Innsbruck', 'Sarajevo', 'Oslo', \"Cortina d'Ampezzo\", 'Vancouver',\n",
       "       'Grenoble', 'Sapporo', 'Chamonix', 'Sankt Moritz',\n",
       "       'Garmisch-Partenkirchen'], dtype=object)"
      ]
     },
     "execution_count": 145,
     "metadata": {},
     "output_type": "execute_result"
    }
   ],
   "source": [
    "winter.City.unique()"
   ]
  },
  {
   "cell_type": "code",
   "execution_count": 146,
   "metadata": {},
   "outputs": [
    {
     "data": {
      "text/plain": [
       "19"
      ]
     },
     "execution_count": 146,
     "metadata": {},
     "output_type": "execute_result"
    }
   ],
   "source": [
    "winter.City.nunique()"
   ]
  },
  {
   "cell_type": "code",
   "execution_count": 147,
   "metadata": {},
   "outputs": [
    {
     "data": {
      "text/plain": [
       "array([\"Speed Skating Women's 500 metres\",\n",
       "       \"Speed Skating Women's 1,000 metres\",\n",
       "       \"Cross Country Skiing Men's 10 kilometres\",\n",
       "       \"Cross Country Skiing Men's 50 kilometres\",\n",
       "       \"Cross Country Skiing Men's 10/15 kilometres Pursuit\",\n",
       "       \"Cross Country Skiing Men's 4 x 10 kilometres Relay\",\n",
       "       \"Cross Country Skiing Men's 30 kilometres\",\n",
       "       \"Ice Hockey Men's Ice Hockey\",\n",
       "       \"Biathlon Women's 7.5 kilometres Sprint\",\n",
       "       \"Alpine Skiing Men's Downhill\", \"Alpine Skiing Men's Super G\",\n",
       "       \"Alpine Skiing Men's Giant Slalom\", \"Alpine Skiing Men's Slalom\",\n",
       "       \"Alpine Skiing Men's Combined\", \"Speed Skating Men's 500 metres\",\n",
       "       \"Speed Skating Men's 1,500 metres\", \"Luge Women's Singles\",\n",
       "       \"Bobsleigh Men's Four\", \"Speed Skating Men's 5,000 metres\",\n",
       "       \"Speed Skating Men's 10,000 metres\",\n",
       "       \"Cross Country Skiing Men's 15 kilometres\",\n",
       "       \"Alpine Skiing Women's Slalom\", \"Figure Skating Men's Singles\",\n",
       "       'Figure Skating Mixed Team', \"Bobsleigh Men's Two\",\n",
       "       \"Nordic Combined Men's Team\", \"Nordic Combined Men's Individual\",\n",
       "       \"Biathlon Men's 10 kilometres Sprint\",\n",
       "       \"Biathlon Men's 20 kilometres\",\n",
       "       \"Biathlon Men's 4 x 7.5 kilometres Relay\",\n",
       "       \"Freestyle Skiing Men's Moguls\", 'Figure Skating Mixed Pairs',\n",
       "       \"Freestyle Skiing Men's Aerials\",\n",
       "       \"Alpine Skiing Women's Giant Slalom\",\n",
       "       \"Alpine Skiing Women's Super G\",\n",
       "       \"Cross Country Skiing Women's 5 kilometres\",\n",
       "       \"Cross Country Skiing Women's 10 kilometres\",\n",
       "       \"Cross Country Skiing Women's 20 kilometres\",\n",
       "       \"Biathlon Men's 12.5 kilometres Pursuit\",\n",
       "       'Biathlon Mixed 2 x 6 kilometres and 2 x 7.5 kilometres Relay',\n",
       "       \"Speed Skating Women's 1,500 metres\",\n",
       "       \"Speed Skating Women's Team Pursuit (6 laps)\",\n",
       "       \"Cross Country Skiing Men's Sprint\",\n",
       "       \"Figure Skating Women's Singles\",\n",
       "       \"Speed Skating Men's 1,000 metres\",\n",
       "       \"Cross Country Skiing Women's 3 x 5 kilometres Relay\",\n",
       "       \"Nordic Combined Men's Sprint\", \"Alpine Skiing Women's Combined\",\n",
       "       \"Ski Jumping Men's Normal Hill, Individual\",\n",
       "       \"Ice Hockey Women's Ice Hockey\", \"Curling Men's Curling\",\n",
       "       \"Biathlon Women's 15 kilometres\",\n",
       "       \"Biathlon Women's 3 x 7.5 kilometres Relay\",\n",
       "       \"Biathlon Women's 4 x 7.5 kilometres Relay\",\n",
       "       \"Curling Women's Curling\", \"Freestyle Skiing Men's Slopestyle\",\n",
       "       \"Alpine Skiing Women's Downhill\",\n",
       "       \"Freestyle Skiing Women's Halfpipe\",\n",
       "       \"Cross Country Skiing Men's 18 kilometres\",\n",
       "       'Figure Skating Mixed Ice Dancing',\n",
       "       \"Cross Country Skiing Women's 30 kilometres\",\n",
       "       \"Cross Country Skiing Women's 15 km Skiathlon\",\n",
       "       \"Snowboarding Men's Halfpipe\",\n",
       "       \"Ski Jumping Men's Large Hill, Individual\",\n",
       "       \"Ski Jumping Men's Large Hill, Team\",\n",
       "       \"Freestyle Skiing Women's Aerials\",\n",
       "       \"Short Track Speed Skating Men's 5,000 metres Relay\",\n",
       "       \"Biathlon Women's 10 kilometres Pursuit\",\n",
       "       \"Biathlon Women's 12.5 kilometres Mass Start\",\n",
       "       \"Biathlon Women's 4 x 6 kilometres Relay\",\n",
       "       \"Skeleton Men's Skeleton\", \"Luge Men's Singles\",\n",
       "       \"Luge Mixed (Men)'s Doubles\", \"Speed Skating Women's 3,000 metres\",\n",
       "       \"Cross Country Skiing Women's 5/10 kilometres Pursuit\",\n",
       "       \"Cross Country Skiing Women's 4 x 5 kilometres Relay\",\n",
       "       \"Cross Country Skiing Women's 15 kilometres\",\n",
       "       \"Cross Country Skiing Women's 5/5 kilometres Pursuit\",\n",
       "       \"Skeleton Women's Skeleton\", \"Bobsleigh Men's Four/Five\",\n",
       "       \"Short Track Speed Skating Women's 3,000 metres Relay\",\n",
       "       \"Freestyle Skiing Women's Moguls\",\n",
       "       \"Short Track Speed Skating Men's 500 metres\",\n",
       "       \"Cross Country Skiing Men's 10/10 kilometres Pursuit\",\n",
       "       \"Ski Jumping Women's Normal Hill, Individual\",\n",
       "       \"Short Track Speed Skating Men's 1,000 metres\",\n",
       "       \"Short Track Speed Skating Men's 1,500 metres\",\n",
       "       \"Cross Country Skiing Men's Team Sprint\",\n",
       "       \"Snowboarding Women's Halfpipe\",\n",
       "       \"Cross Country Skiing Women's Sprint\",\n",
       "       \"Snowboarding Women's Slopestyle\",\n",
       "       \"Snowboarding Men's Giant Slalom\",\n",
       "       \"Snowboarding Men's Parallel Giant Slalom\",\n",
       "       \"Snowboarding Men's Boardercross\",\n",
       "       \"Snowboarding Men's Parallel Slalom\",\n",
       "       \"Cross Country Skiing Women's Team Sprint\",\n",
       "       \"Biathlon Men's 15 kilometres Mass Start\",\n",
       "       \"Cross Country Skiing Men's 30 km Skiathlon\",\n",
       "       \"Speed Skating Men's Team Pursuit (8 laps)\",\n",
       "       \"Speed Skating Women's 5,000 metres\",\n",
       "       \"Snowboarding Women's Boardercross\", 'Luge Mixed Team Relay',\n",
       "       \"Bobsleigh Women's Two\",\n",
       "       \"Military Ski Patrol Men's Military Ski Patrol\",\n",
       "       \"Freestyle Skiing Women's Slopestyle\",\n",
       "       \"Short Track Speed Skating Women's 500 metres\",\n",
       "       \"Short Track Speed Skating Women's 1,000 metres\",\n",
       "       \"Freestyle Skiing Women's Ski Cross\",\n",
       "       \"Freestyle Skiing Men's Ski Cross\",\n",
       "       \"Nordic Combined Men's Normal Hill / 10 km, Individual\",\n",
       "       \"Nordic Combined Men's Large Hill / 10 km, Individual\",\n",
       "       \"Short Track Speed Skating Women's 1,500 metres\",\n",
       "       \"Snowboarding Women's Giant Slalom\",\n",
       "       \"Snowboarding Men's Slopestyle\", \"Freestyle Skiing Men's Halfpipe\",\n",
       "       \"Snowboarding Women's Parallel Giant Slalom\",\n",
       "       \"Speed Skating Men's Allround\",\n",
       "       \"Snowboarding Women's Parallel Slalom\", 'Alpinism Mixed Alpinism'],\n",
       "      dtype=object)"
      ]
     },
     "execution_count": 147,
     "metadata": {},
     "output_type": "execute_result"
    }
   ],
   "source": [
    "winter.Event.unique()"
   ]
  },
  {
   "cell_type": "code",
   "execution_count": 148,
   "metadata": {},
   "outputs": [
    {
     "data": {
      "text/plain": [
       "119"
      ]
     },
     "execution_count": 148,
     "metadata": {},
     "output_type": "execute_result"
    }
   ],
   "source": [
    "winter.Event.nunique()"
   ]
  },
  {
   "cell_type": "code",
   "execution_count": 149,
   "metadata": {},
   "outputs": [
    {
     "data": {
      "text/plain": [
       "array([nan, 'Bronze', 'Gold', 'Silver'], dtype=object)"
      ]
     },
     "execution_count": 149,
     "metadata": {},
     "output_type": "execute_result"
    }
   ],
   "source": [
    "winter.Medal.unique()"
   ]
  },
  {
   "cell_type": "code",
   "execution_count": 150,
   "metadata": {},
   "outputs": [
    {
     "data": {
      "text/plain": [
       "3"
      ]
     },
     "execution_count": 150,
     "metadata": {},
     "output_type": "execute_result"
    }
   ],
   "source": [
    "winter.Medal.nunique()"
   ]
  },
  {
   "cell_type": "code",
   "execution_count": null,
   "metadata": {},
   "outputs": [],
   "source": []
  }
 ],
 "metadata": {
  "kernelspec": {
   "display_name": "Python 3",
   "language": "python",
   "name": "python3"
  },
  "language_info": {
   "codemirror_mode": {
    "name": "ipython",
    "version": 3
   },
   "file_extension": ".py",
   "mimetype": "text/x-python",
   "name": "python",
   "nbconvert_exporter": "python",
   "pygments_lexer": "ipython3",
   "version": "3.7.0"
  }
 },
 "nbformat": 4,
 "nbformat_minor": 4
}
